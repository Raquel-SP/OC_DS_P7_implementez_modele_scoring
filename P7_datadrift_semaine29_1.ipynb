{
 "cells": [
  {
   "cell_type": "markdown",
   "id": "0df59f1b-852c-438c-810d-1da7dc4072ef",
   "metadata": {
    "id": "028f4288-e455-48c2-ab6b-8557c83c2f48"
   },
   "source": [
    "\n",
    "\n",
    "# <font size=\"+3\"><span style='color:#2994ff'> **P7 - Implémentez un modèle de scoring** </span></font>\n"
   ]
  },
  {
   "cell_type": "markdown",
   "id": "94e6ab9b-41b4-4379-afad-ef3e5d9b4644",
   "metadata": {
    "id": "66c1b2a3-ff31-42f4-8d80-8dbec803f88c"
   },
   "source": [
    "<a id='LOADING_LIBRARIES'></a>\n",
    "\n",
    "---\n",
    "\n",
    "---\n",
    "\n",
    "<font size=\"+1\"> **LOADING THE LIBRARIES** </font>\n",
    "\n",
    "---"
   ]
  },
  {
   "cell_type": "code",
   "execution_count": 1,
   "id": "5bd3bcbb-1d0b-4812-9b61-cb8e613401aa",
   "metadata": {
    "tags": []
   },
   "outputs": [],
   "source": [
    "#!pip install tensorflow"
   ]
  },
  {
   "cell_type": "code",
   "execution_count": 2,
   "id": "4aec7c05-6401-42c1-82ee-469538baacf3",
   "metadata": {
    "tags": []
   },
   "outputs": [
    {
     "name": "stderr",
     "output_type": "stream",
     "text": [
      "/home/raquelsp/anaconda3/lib/python3.9/site-packages/umap/distances.py:1063: NumbaDeprecationWarning: \u001b[1mThe 'nopython' keyword argument was not supplied to the 'numba.jit' decorator. The implicit default value for this argument is currently False, but it will be changed to True in Numba 0.59.0. See https://numba.readthedocs.io/en/stable/reference/deprecation.html#deprecation-of-object-mode-fall-back-behaviour-when-using-jit for details.\u001b[0m\n",
      "  @numba.jit()\n",
      "/home/raquelsp/anaconda3/lib/python3.9/site-packages/umap/distances.py:1071: NumbaDeprecationWarning: \u001b[1mThe 'nopython' keyword argument was not supplied to the 'numba.jit' decorator. The implicit default value for this argument is currently False, but it will be changed to True in Numba 0.59.0. See https://numba.readthedocs.io/en/stable/reference/deprecation.html#deprecation-of-object-mode-fall-back-behaviour-when-using-jit for details.\u001b[0m\n",
      "  @numba.jit()\n",
      "/home/raquelsp/anaconda3/lib/python3.9/site-packages/umap/distances.py:1086: NumbaDeprecationWarning: \u001b[1mThe 'nopython' keyword argument was not supplied to the 'numba.jit' decorator. The implicit default value for this argument is currently False, but it will be changed to True in Numba 0.59.0. See https://numba.readthedocs.io/en/stable/reference/deprecation.html#deprecation-of-object-mode-fall-back-behaviour-when-using-jit for details.\u001b[0m\n",
      "  @numba.jit()\n",
      "/home/raquelsp/anaconda3/lib/python3.9/site-packages/umap/umap_.py:660: NumbaDeprecationWarning: \u001b[1mThe 'nopython' keyword argument was not supplied to the 'numba.jit' decorator. The implicit default value for this argument is currently False, but it will be changed to True in Numba 0.59.0. See https://numba.readthedocs.io/en/stable/reference/deprecation.html#deprecation-of-object-mode-fall-back-behaviour-when-using-jit for details.\u001b[0m\n",
      "  @numba.jit()\n",
      "/home/raquelsp/anaconda3/lib/python3.9/site-packages/shap/utils/_clustering.py:35: NumbaDeprecationWarning: \u001b[1mThe 'nopython' keyword argument was not supplied to the 'numba.jit' decorator. The implicit default value for this argument is currently False, but it will be changed to True in Numba 0.59.0. See https://numba.readthedocs.io/en/stable/reference/deprecation.html#deprecation-of-object-mode-fall-back-behaviour-when-using-jit for details.\u001b[0m\n",
      "  def _pt_shuffle_rec(i, indexes, index_mask, partition_tree, M, pos):\n",
      "/home/raquelsp/anaconda3/lib/python3.9/site-packages/shap/utils/_clustering.py:54: NumbaDeprecationWarning: \u001b[1mThe 'nopython' keyword argument was not supplied to the 'numba.jit' decorator. The implicit default value for this argument is currently False, but it will be changed to True in Numba 0.59.0. See https://numba.readthedocs.io/en/stable/reference/deprecation.html#deprecation-of-object-mode-fall-back-behaviour-when-using-jit for details.\u001b[0m\n",
      "  def delta_minimization_order(all_masks, max_swap_size=100, num_passes=2):\n",
      "/home/raquelsp/anaconda3/lib/python3.9/site-packages/shap/utils/_clustering.py:63: NumbaDeprecationWarning: \u001b[1mThe 'nopython' keyword argument was not supplied to the 'numba.jit' decorator. The implicit default value for this argument is currently False, but it will be changed to True in Numba 0.59.0. See https://numba.readthedocs.io/en/stable/reference/deprecation.html#deprecation-of-object-mode-fall-back-behaviour-when-using-jit for details.\u001b[0m\n",
      "  def _reverse_window(order, start, length):\n",
      "/home/raquelsp/anaconda3/lib/python3.9/site-packages/shap/utils/_clustering.py:69: NumbaDeprecationWarning: \u001b[1mThe 'nopython' keyword argument was not supplied to the 'numba.jit' decorator. The implicit default value for this argument is currently False, but it will be changed to True in Numba 0.59.0. See https://numba.readthedocs.io/en/stable/reference/deprecation.html#deprecation-of-object-mode-fall-back-behaviour-when-using-jit for details.\u001b[0m\n",
      "  def _reverse_window_score_gain(masks, order, start, length):\n",
      "/home/raquelsp/anaconda3/lib/python3.9/site-packages/shap/utils/_clustering.py:77: NumbaDeprecationWarning: \u001b[1mThe 'nopython' keyword argument was not supplied to the 'numba.jit' decorator. The implicit default value for this argument is currently False, but it will be changed to True in Numba 0.59.0. See https://numba.readthedocs.io/en/stable/reference/deprecation.html#deprecation-of-object-mode-fall-back-behaviour-when-using-jit for details.\u001b[0m\n",
      "  def _mask_delta_score(m1, m2):\n",
      "/home/raquelsp/anaconda3/lib/python3.9/site-packages/shap/links.py:5: NumbaDeprecationWarning: \u001b[1mThe 'nopython' keyword argument was not supplied to the 'numba.jit' decorator. The implicit default value for this argument is currently False, but it will be changed to True in Numba 0.59.0. See https://numba.readthedocs.io/en/stable/reference/deprecation.html#deprecation-of-object-mode-fall-back-behaviour-when-using-jit for details.\u001b[0m\n",
      "  def identity(x):\n",
      "/home/raquelsp/anaconda3/lib/python3.9/site-packages/shap/links.py:10: NumbaDeprecationWarning: \u001b[1mThe 'nopython' keyword argument was not supplied to the 'numba.jit' decorator. The implicit default value for this argument is currently False, but it will be changed to True in Numba 0.59.0. See https://numba.readthedocs.io/en/stable/reference/deprecation.html#deprecation-of-object-mode-fall-back-behaviour-when-using-jit for details.\u001b[0m\n",
      "  def _identity_inverse(x):\n",
      "/home/raquelsp/anaconda3/lib/python3.9/site-packages/shap/links.py:15: NumbaDeprecationWarning: \u001b[1mThe 'nopython' keyword argument was not supplied to the 'numba.jit' decorator. The implicit default value for this argument is currently False, but it will be changed to True in Numba 0.59.0. See https://numba.readthedocs.io/en/stable/reference/deprecation.html#deprecation-of-object-mode-fall-back-behaviour-when-using-jit for details.\u001b[0m\n",
      "  def logit(x):\n",
      "/home/raquelsp/anaconda3/lib/python3.9/site-packages/shap/links.py:20: NumbaDeprecationWarning: \u001b[1mThe 'nopython' keyword argument was not supplied to the 'numba.jit' decorator. The implicit default value for this argument is currently False, but it will be changed to True in Numba 0.59.0. See https://numba.readthedocs.io/en/stable/reference/deprecation.html#deprecation-of-object-mode-fall-back-behaviour-when-using-jit for details.\u001b[0m\n",
      "  def _logit_inverse(x):\n",
      "/home/raquelsp/anaconda3/lib/python3.9/site-packages/shap/utils/_masked_model.py:363: NumbaDeprecationWarning: \u001b[1mThe 'nopython' keyword argument was not supplied to the 'numba.jit' decorator. The implicit default value for this argument is currently False, but it will be changed to True in Numba 0.59.0. See https://numba.readthedocs.io/en/stable/reference/deprecation.html#deprecation-of-object-mode-fall-back-behaviour-when-using-jit for details.\u001b[0m\n",
      "  def _build_fixed_single_output(averaged_outs, last_outs, outputs, batch_positions, varying_rows, num_varying_rows, link, linearizing_weights):\n",
      "/home/raquelsp/anaconda3/lib/python3.9/site-packages/shap/utils/_masked_model.py:385: NumbaDeprecationWarning: \u001b[1mThe 'nopython' keyword argument was not supplied to the 'numba.jit' decorator. The implicit default value for this argument is currently False, but it will be changed to True in Numba 0.59.0. See https://numba.readthedocs.io/en/stable/reference/deprecation.html#deprecation-of-object-mode-fall-back-behaviour-when-using-jit for details.\u001b[0m\n",
      "  def _build_fixed_multi_output(averaged_outs, last_outs, outputs, batch_positions, varying_rows, num_varying_rows, link, linearizing_weights):\n",
      "/home/raquelsp/anaconda3/lib/python3.9/site-packages/shap/utils/_masked_model.py:428: NumbaDeprecationWarning: \u001b[1mThe 'nopython' keyword argument was not supplied to the 'numba.jit' decorator. The implicit default value for this argument is currently False, but it will be changed to True in Numba 0.59.0. See https://numba.readthedocs.io/en/stable/reference/deprecation.html#deprecation-of-object-mode-fall-back-behaviour-when-using-jit for details.\u001b[0m\n",
      "  def _init_masks(cluster_matrix, M, indices_row_pos, indptr):\n",
      "/home/raquelsp/anaconda3/lib/python3.9/site-packages/shap/utils/_masked_model.py:439: NumbaDeprecationWarning: \u001b[1mThe 'nopython' keyword argument was not supplied to the 'numba.jit' decorator. The implicit default value for this argument is currently False, but it will be changed to True in Numba 0.59.0. See https://numba.readthedocs.io/en/stable/reference/deprecation.html#deprecation-of-object-mode-fall-back-behaviour-when-using-jit for details.\u001b[0m\n",
      "  def _rec_fill_masks(cluster_matrix, indices_row_pos, indptr, indices, M, ind):\n",
      "/home/raquelsp/anaconda3/lib/python3.9/site-packages/shap/maskers/_tabular.py:186: NumbaDeprecationWarning: \u001b[1mThe 'nopython' keyword argument was not supplied to the 'numba.jit' decorator. The implicit default value for this argument is currently False, but it will be changed to True in Numba 0.59.0. See https://numba.readthedocs.io/en/stable/reference/deprecation.html#deprecation-of-object-mode-fall-back-behaviour-when-using-jit for details.\u001b[0m\n",
      "  def _single_delta_mask(dind, masked_inputs, last_mask, data, x, noop_code):\n",
      "/home/raquelsp/anaconda3/lib/python3.9/site-packages/shap/maskers/_tabular.py:197: NumbaDeprecationWarning: \u001b[1mThe 'nopython' keyword argument was not supplied to the 'numba.jit' decorator. The implicit default value for this argument is currently False, but it will be changed to True in Numba 0.59.0. See https://numba.readthedocs.io/en/stable/reference/deprecation.html#deprecation-of-object-mode-fall-back-behaviour-when-using-jit for details.\u001b[0m\n",
      "  def _delta_masking(masks, x, curr_delta_inds, varying_rows_out,\n",
      "/home/raquelsp/anaconda3/lib/python3.9/site-packages/shap/maskers/_image.py:175: NumbaDeprecationWarning: \u001b[1mThe 'nopython' keyword argument was not supplied to the 'numba.jit' decorator. The implicit default value for this argument is currently False, but it will be changed to True in Numba 0.59.0. See https://numba.readthedocs.io/en/stable/reference/deprecation.html#deprecation-of-object-mode-fall-back-behaviour-when-using-jit for details.\u001b[0m\n",
      "  def _jit_build_partition_tree(xmin, xmax, ymin, ymax, zmin, zmax, total_ywidth, total_zwidth, M, clustering, q):\n",
      "/home/raquelsp/anaconda3/lib/python3.9/site-packages/shap/explainers/_partition.py:676: NumbaDeprecationWarning: \u001b[1mThe 'nopython' keyword argument was not supplied to the 'numba.jit' decorator. The implicit default value for this argument is currently False, but it will be changed to True in Numba 0.59.0. See https://numba.readthedocs.io/en/stable/reference/deprecation.html#deprecation-of-object-mode-fall-back-behaviour-when-using-jit for details.\u001b[0m\n",
      "  def lower_credit(i, value, M, values, clustering):\n",
      "\u001b[1mThe 'nopython' keyword argument was not supplied to the 'numba.jit' decorator. The implicit default value for this argument is currently False, but it will be changed to True in Numba 0.59.0. See https://numba.readthedocs.io/en/stable/reference/deprecation.html#deprecation-of-object-mode-fall-back-behaviour-when-using-jit for details.\u001b[0m\n",
      "\u001b[1mThe 'nopython' keyword argument was not supplied to the 'numba.jit' decorator. The implicit default value for this argument is currently False, but it will be changed to True in Numba 0.59.0. See https://numba.readthedocs.io/en/stable/reference/deprecation.html#deprecation-of-object-mode-fall-back-behaviour-when-using-jit for details.\u001b[0m\n"
     ]
    }
   ],
   "source": [
    "# File system management\n",
    "import sys\n",
    "import pandas as pd\n",
    "import numpy as np\n",
    "import os\n",
    "import pickle\n",
    "\n",
    "# Data drift evidently\n",
    "import evidently\n",
    "from evidently import ColumnMapping\n",
    "\n",
    "from evidently.report import Report\n",
    "from evidently.metrics.base_metric import generate_column_metrics\n",
    "from evidently.metric_preset import DataDriftPreset, TargetDriftPreset, DataQualityPreset, RegressionPreset\n",
    "from evidently.metrics import *\n",
    "\n",
    "from evidently.test_suite import TestSuite\n",
    "from evidently.tests.base_test import generate_column_tests\n",
    "from evidently.test_preset import DataStabilityTestPreset, NoTargetPerformanceTestPreset, RegressionTestPreset\n",
    "from evidently.tests import *\n",
    "\n",
    "\n",
    "# Personnal packages\n",
    "import tools_dataframe\n",
    "import tools_preprocessing\n",
    "import tools_feat_engineering\n",
    "import tools_modeling\n",
    "\n",
    "\n",
    "# Warnings\n",
    "import warnings\n",
    "warnings.filterwarnings('ignore')\n",
    "warnings.simplefilter('ignore')\n",
    "\n"
   ]
  },
  {
   "cell_type": "code",
   "execution_count": 3,
   "id": "8689809f-478f-4c5b-b8b3-5bfc767b3bfe",
   "metadata": {},
   "outputs": [
    {
     "name": "stdout",
     "output_type": "stream",
     "text": [
      "Version of used libraries :\n",
      "Python    : 3.9.13 (main, Aug 25 2022, 23:26:10) \n",
      "[GCC 11.2.0]\n",
      "NumPy     : 1.24.3\n",
      "Pandas    : 1.5.3\n",
      "Evidently : 0.3.3\n"
     ]
    }
   ],
   "source": [
    "# Versions\n",
    "print('Version of used libraries :')\n",
    "\n",
    "print('Python    : ' + sys.version)\n",
    "print('NumPy     : ' + np.version.full_version)\n",
    "print('Pandas    : ' + pd.__version__)\n",
    "print('Evidently : ' + evidently.__version__)"
   ]
  },
  {
   "cell_type": "markdown",
   "id": "22c6460c-dc92-494c-b8cb-c7c84eeff1c8",
   "metadata": {
    "id": "4a5a71aa-7ec5-4113-b843-2c3baa114bea"
   },
   "source": [
    "\n",
    "<a id='notebook_settings'></a>\n",
    "\n",
    "\n",
    "<br>\n",
    "\n",
    "\n",
    "---\n",
    "---\n",
    "\n",
    "<font size=\"+1\"> **NOTEBOOK SETTINGS** </font>\n",
    "\n",
    "---\n"
   ]
  },
  {
   "cell_type": "code",
   "execution_count": 4,
   "id": "33f889e2-8da6-48e7-a4aa-dd3b52e4a9a3",
   "metadata": {},
   "outputs": [],
   "source": [
    "#################################\n",
    "#    -- NOTEBOOK SETTINGS --    #\n",
    "#################################\n",
    "\n",
    "%matplotlib inline\n",
    "\n",
    "# Random state\n",
    "seed = 84\n",
    "\n",
    "# Define training set size\n",
    "TRAIN_SIZE = 0.8\n"
   ]
  },
  {
   "cell_type": "markdown",
   "id": "bb1d7b2b-b866-4766-9ebb-f0646c91628b",
   "metadata": {
    "id": "3636cd2d-4cca-4fd0-994f-6d2127264be4"
   },
   "source": [
    "\n",
    "<a id='USED_FUNCTIONS'></a>\n",
    "\n",
    "\n",
    "<br>\n",
    "\n",
    "\n",
    "---\n",
    "---\n",
    "\n",
    "<font size=\"+1\"> **FUNCTIONS USED IN THIS NOTEBOOK** </font>\n",
    "\n",
    "---\n"
   ]
  },
  {
   "cell_type": "code",
   "execution_count": null,
   "id": "41383694-c4b2-4426-be4a-dd51a808d290",
   "metadata": {},
   "outputs": [],
   "source": []
  },
  {
   "cell_type": "markdown",
   "id": "91c11f20-482f-473f-b262-7150b889052b",
   "metadata": {
    "id": "cb84448b-5f00-4f88-99cd-40e29f7b654c"
   },
   "source": [
    "\n",
    "\n",
    "<font size=\"+3\"><span style='color:#2994ff'> **P7 - Implémentez un modèle de scoring** </span></font>\n"
   ]
  },
  {
   "cell_type": "markdown",
   "id": "a36d9c73-3e33-4d12-93d2-67a955cb3752",
   "metadata": {
    "id": "28d87234-08f1-49cb-b5a9-66d463d5dc47",
    "jp-MarkdownHeadingCollapsed": true,
    "tags": []
   },
   "source": [
    "\n",
    "## <font color = '#0085dd'>**Table of content**</font>\n",
    "\n",
    "\n",
    "[Librairies loading](#LOADING_LIBRARIES)<br>\n",
    "\n",
    "[Functions used in this notebook](#USED_FUNCTIONS)<br>\n",
    "\n",
    "---\n",
    "\n",
    "[**Datasets**](#datasets)\n",
    " * [Description](#datasets_description)\n",
    "   * [orders_dataset](#orders_dataset)\n",
    "   * [customers_dataset](#customers_dataset)\n",
    "   * [order_items](#order_items)\n",
    "   * [products_dataset](#products_dataset)\n",
    "   * [product_category_name_translation](#product_category_name_translation)\n",
    "   * [sellers_dataset](#sellers_dataset)\n",
    "   * [order_payments](#order_payments)\n",
    "   * [order_reviews](#order_reviews)\n",
    "   * [geolocation_dataset](#geolocation_dataset)<br>\n",
    "<br>\n",
    " * [Columns preparation](#columns_preparation)\n",
    "   * [Zip codes centroids calculation](#centroid_zipCode)\n",
    "   * [Product category check and update](#cat_products)\n",
    "\n",
    "\n",
    "[**Datasets joining**](#datasets_joining)\n",
    " * [Data description](#data_description)\n",
    " * [Evaluation of missing values](#missing_values)\n",
    " * [Column filling analysis](#column_fill)\n",
    " * [Row filling analysis](#row_filling)\n",
    " * [Features pre-selection](#features_preSelection)\n",
    "\n",
    "[**Features engineering**](#features_engineering)\n",
    " * [Customers spatial distribution](#customers_spatial_distribution)\n",
    " * [RFM features](#RFM_features)\n",
    " * [Products](#products)\n",
    " * [Orders](#Orders)\n",
    " * [Dates](#dates)\n",
    " * [Joining customers information](#join_customers_datasets)\n",
    " * [Features analysis](#features_analysis)\n",
    "\n",
    "[**Dataset for segmentation**](#segmentation_dataset)\n",
    "<br>\n",
    "\n",
    "---\n"
   ]
  },
  {
   "cell_type": "markdown",
   "id": "0d5f7cad-a218-4dcf-8f8e-b529a0b5e924",
   "metadata": {
    "id": "5daf3f05-997b-42eb-9cc4-55ad1be08bf5",
    "tags": []
   },
   "source": [
    "<a id='datasets_loading'></a>\n",
    "\n",
    "---\n",
    "---\n",
    "\n",
    "# <span style='background:#2994ff'><span style='color:white'>**Loading datasets** </span></span>\n"
   ]
  },
  {
   "cell_type": "code",
   "execution_count": 5,
   "id": "f946dabd-ea06-4aa5-9b87-ad781a4df975",
   "metadata": {
    "executionInfo": {
     "elapsed": 36,
     "status": "ok",
     "timestamp": 1687284795661,
     "user": {
      "displayName": "Raquel Sanchez-Pellicer",
      "userId": "01557635450717251675"
     },
     "user_tz": -120
    },
    "id": "457583a6-6451-48c6-94a9-3d3bb9585fae"
   },
   "outputs": [],
   "source": [
    "# Define the folder containing the files with the project data\n",
    "P7_scoring_credit = \"/home/raquelsp/Documents/Openclassrooms/P7_implementez_modele_scoring/P7_travail/P7_scoring_credit/\"\n",
    "\n",
    "os.chdir(P7_scoring_credit)"
   ]
  },
  {
   "cell_type": "code",
   "execution_count": 6,
   "id": "a72490fa-44e7-4ce0-b877-c3e2166b2037",
   "metadata": {
    "executionInfo": {
     "elapsed": 5935,
     "status": "ok",
     "timestamp": 1687284801564,
     "user": {
      "displayName": "Raquel Sanchez-Pellicer",
      "userId": "01557635450717251675"
     },
     "user_tz": -120
    },
    "id": "cb925c60-1983-450e-a4bd-4c872aad3e09"
   },
   "outputs": [],
   "source": [
    "# -----------------------------\n",
    "# Files loading:\n",
    "# -----------------------------\n",
    "\n",
    "# Open final train_dataset : these will be our reference data\n",
    "path_train_data = \\\n",
    "    'preprocessing/final_train_data.pkl'\n",
    "\n",
    "with open(path_train_data, 'rb') as f:\n",
    "    train_data = pickle.load(f)\n",
    "\n",
    "\n",
    "# Open final test_dataset : these will be our current data\n",
    "path_test_data = \\\n",
    "    'preprocessing/final_test_data.pkl'\n",
    "with open(path_test_data, 'rb') as f:\n",
    "    test_data = pickle.load(f)"
   ]
  },
  {
   "cell_type": "markdown",
   "id": "6b2e5d1f-fbb2-449f-8dea-361499a95baa",
   "metadata": {
    "id": "8cb63613-8dae-458a-96d5-e0770f00f407",
    "tags": []
   },
   "source": [
    "<a id='data_preparation'></a>\n",
    "\n",
    "## <span style='background:#0085dd'><span style='color:white'>Data preparation</span></span>"
   ]
  },
  {
   "cell_type": "code",
   "execution_count": 7,
   "id": "01af32f4-920a-4f69-a091-d8c8f604322c",
   "metadata": {},
   "outputs": [
    {
     "data": {
      "text/html": [
       "<div>\n",
       "<style scoped>\n",
       "    .dataframe tbody tr th:only-of-type {\n",
       "        vertical-align: middle;\n",
       "    }\n",
       "\n",
       "    .dataframe tbody tr th {\n",
       "        vertical-align: top;\n",
       "    }\n",
       "\n",
       "    .dataframe thead th {\n",
       "        text-align: right;\n",
       "    }\n",
       "</style>\n",
       "<table border=\"1\" class=\"dataframe\">\n",
       "  <thead>\n",
       "    <tr style=\"text-align: right;\">\n",
       "      <th></th>\n",
       "      <th>Variable</th>\n",
       "      <th>Type</th>\n",
       "      <th>null</th>\n",
       "      <th>Duplicated</th>\n",
       "      <th>Filling percentage</th>\n",
       "      <th>count</th>\n",
       "      <th>mean</th>\n",
       "      <th>std</th>\n",
       "      <th>min</th>\n",
       "      <th>25%</th>\n",
       "      <th>50%</th>\n",
       "      <th>75%</th>\n",
       "      <th>max</th>\n",
       "    </tr>\n",
       "  </thead>\n",
       "  <tbody>\n",
       "    <tr>\n",
       "      <th>369</th>\n",
       "      <td>EXT_SOURCE_3_MIN_AGG_CODE_GENDER_NAME_FAMILY_S...</td>\n",
       "      <td>float16</td>\n",
       "      <td>0</td>\n",
       "      <td>307492</td>\n",
       "      <td>100.0</td>\n",
       "      <td>307511.0</td>\n",
       "      <td>0.0</td>\n",
       "      <td>0.007011</td>\n",
       "      <td>0.000527</td>\n",
       "      <td>0.000527</td>\n",
       "      <td>0.000527</td>\n",
       "      <td>0.000527</td>\n",
       "      <td>0.67041</td>\n",
       "    </tr>\n",
       "    <tr>\n",
       "      <th>94</th>\n",
       "      <td>NAME_CONTRACT_TYPE_MEAN_LAST_5</td>\n",
       "      <td>float16</td>\n",
       "      <td>0</td>\n",
       "      <td>307486</td>\n",
       "      <td>100.0</td>\n",
       "      <td>307511.0</td>\n",
       "      <td>NaN</td>\n",
       "      <td>0.0</td>\n",
       "      <td>1.0</td>\n",
       "      <td>1.0</td>\n",
       "      <td>1.599609</td>\n",
       "      <td>2.0</td>\n",
       "      <td>3.666016</td>\n",
       "    </tr>\n",
       "    <tr>\n",
       "      <th>204</th>\n",
       "      <td>CONTRACT_Signed</td>\n",
       "      <td>float16</td>\n",
       "      <td>0</td>\n",
       "      <td>307257</td>\n",
       "      <td>100.0</td>\n",
       "      <td>307511.0</td>\n",
       "      <td>0.0</td>\n",
       "      <td>0.017105</td>\n",
       "      <td>0.0</td>\n",
       "      <td>0.0</td>\n",
       "      <td>0.0</td>\n",
       "      <td>0.0</td>\n",
       "      <td>1.0</td>\n",
       "    </tr>\n",
       "    <tr>\n",
       "      <th>240</th>\n",
       "      <td>DAYS_PAYMENT_RATIO_MIN_MIN</td>\n",
       "      <td>float16</td>\n",
       "      <td>0</td>\n",
       "      <td>304673</td>\n",
       "      <td>100.0</td>\n",
       "      <td>307511.0</td>\n",
       "      <td>NaN</td>\n",
       "      <td>0.0</td>\n",
       "      <td>0.008163</td>\n",
       "      <td>0.697754</td>\n",
       "      <td>0.877441</td>\n",
       "      <td>0.952637</td>\n",
       "      <td>1.166992</td>\n",
       "    </tr>\n",
       "    <tr>\n",
       "      <th>339</th>\n",
       "      <td>APARTMENTS_SUM_AVG_MEAN_AGG_CODE_GENDER_NAME_F...</td>\n",
       "      <td>float16</td>\n",
       "      <td>0</td>\n",
       "      <td>307455</td>\n",
       "      <td>100.0</td>\n",
       "      <td>307511.0</td>\n",
       "      <td>NaN</td>\n",
       "      <td>0.0</td>\n",
       "      <td>2.0</td>\n",
       "      <td>2.640625</td>\n",
       "      <td>2.658203</td>\n",
       "      <td>2.681641</td>\n",
       "      <td>3.884766</td>\n",
       "    </tr>\n",
       "  </tbody>\n",
       "</table>\n",
       "</div>"
      ],
      "text/plain": [
       "                                              Variable     Type null  \\\n",
       "369  EXT_SOURCE_3_MIN_AGG_CODE_GENDER_NAME_FAMILY_S...  float16    0   \n",
       "94                      NAME_CONTRACT_TYPE_MEAN_LAST_5  float16    0   \n",
       "204                                    CONTRACT_Signed  float16    0   \n",
       "240                         DAYS_PAYMENT_RATIO_MIN_MIN  float16    0   \n",
       "339  APARTMENTS_SUM_AVG_MEAN_AGG_CODE_GENDER_NAME_F...  float16    0   \n",
       "\n",
       "    Duplicated Filling percentage     count mean       std       min  \\\n",
       "369     307492              100.0  307511.0  0.0  0.007011  0.000527   \n",
       "94      307486              100.0  307511.0  NaN       0.0       1.0   \n",
       "204     307257              100.0  307511.0  0.0  0.017105       0.0   \n",
       "240     304673              100.0  307511.0  NaN       0.0  0.008163   \n",
       "339     307455              100.0  307511.0  NaN       0.0       2.0   \n",
       "\n",
       "          25%       50%       75%       max  \n",
       "369  0.000527  0.000527  0.000527   0.67041  \n",
       "94        1.0  1.599609       2.0  3.666016  \n",
       "204       0.0       0.0       0.0       1.0  \n",
       "240  0.697754  0.877441  0.952637  1.166992  \n",
       "339  2.640625  2.658203  2.681641  3.884766  "
      ]
     },
     "execution_count": 7,
     "metadata": {},
     "output_type": "execute_result"
    }
   ],
   "source": [
    "# --------------------\n",
    "# Column description\n",
    "# --------------------\n",
    "info_train_data = tools_dataframe.complet_description(train_data)\n",
    "info_train_data.sample(5)"
   ]
  },
  {
   "cell_type": "code",
   "execution_count": 8,
   "id": "bfccd0de-4475-4019-8be8-c616ae2bcd04",
   "metadata": {},
   "outputs": [
    {
     "name": "stdout",
     "output_type": "stream",
     "text": [
      "There are 23 empty columns\n"
     ]
    }
   ],
   "source": [
    "# Identify empty columns\n",
    "to_remove = info_train_data.loc[info_train_data['Filling percentage']<1]\n",
    "cols_to_remove = to_remove['Variable'].tolist()\n",
    "print(f'There are {len(cols_to_remove)} empty columns')"
   ]
  },
  {
   "cell_type": "code",
   "execution_count": 9,
   "id": "7f878917-196a-419f-80e3-2f1cda59b16e",
   "metadata": {},
   "outputs": [],
   "source": [
    "# Remove empty columns\n",
    "train_data = \\\n",
    "    train_data[train_data.columns[~train_data.columns.isin(cols_to_remove)]]\n",
    "test_data = \\\n",
    "    test_data[test_data.columns[~test_data.columns.isin(cols_to_remove)]]"
   ]
  },
  {
   "cell_type": "code",
   "execution_count": 10,
   "id": "881de31e-ab9c-408c-ae68-7804ebbcce80",
   "metadata": {},
   "outputs": [
    {
     "name": "stdout",
     "output_type": "stream",
     "text": [
      "Reference(307511, 578)\n",
      "Current(48744, 578)\n"
     ]
    }
   ],
   "source": [
    "reference = train_data.drop(columns=['TARGET', 'SK_ID_CURR'])\n",
    "print('Reference' + str(reference.shape))\n",
    "reference5000 = reference.sample(n=5000, replace=False)\n",
    "\n",
    "current = test_data.drop(columns=['SK_ID_CURR'])\n",
    "print('Current' + str(current.shape))\n",
    "current5000 = current.sample(n=5000, replace=False)"
   ]
  },
  {
   "cell_type": "code",
   "execution_count": null,
   "id": "22368b60-5c5b-4839-b95a-3a7b7309ca6f",
   "metadata": {},
   "outputs": [],
   "source": [
    "report = Report(metrics=[DataDriftPreset(), ])\n",
    "\n",
    "report.run(reference_data=reference5000, current_data=current5000)"
   ]
  },
  {
   "cell_type": "code",
   "execution_count": null,
   "id": "ef2777d7-b7ff-49d0-8686-472d49029cee",
   "metadata": {
    "tags": []
   },
   "outputs": [],
   "source": [
    "#report.as_dict()"
   ]
  },
  {
   "cell_type": "code",
   "execution_count": null,
   "id": "ddc08ea3-3a0e-407b-8755-d2c17694960a",
   "metadata": {},
   "outputs": [],
   "source": [
    "report.save_html('report.html')"
   ]
  },
  {
   "cell_type": "code",
   "execution_count": null,
   "id": "9165bd37-1796-47f0-8ff6-31e929727503",
   "metadata": {},
   "outputs": [],
   "source": []
  }
 ],
 "metadata": {
  "kernelspec": {
   "display_name": "Python 3 (ipykernel)",
   "language": "python",
   "name": "python3"
  },
  "language_info": {
   "codemirror_mode": {
    "name": "ipython",
    "version": 3
   },
   "file_extension": ".py",
   "mimetype": "text/x-python",
   "name": "python",
   "nbconvert_exporter": "python",
   "pygments_lexer": "ipython3",
   "version": "3.9.13"
  }
 },
 "nbformat": 4,
 "nbformat_minor": 5
}
