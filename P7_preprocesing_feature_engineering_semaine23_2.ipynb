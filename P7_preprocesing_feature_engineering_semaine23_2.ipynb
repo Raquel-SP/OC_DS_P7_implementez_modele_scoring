{
 "cells": [
  {
   "cell_type": "markdown",
   "id": "11d2bad4-9242-42b6-a70e-6db78140bfda",
   "metadata": {
    "id": "376c512c-b7fd-49c0-b147-8c42d1be918c"
   },
   "source": [
    "\n",
    "\n",
    "# <font size=\"+3\"><span style='color:#2994ff'> **P7 - Implémentez un modèle de scoring** </span></font>\n"
   ]
  },
  {
   "cell_type": "markdown",
   "id": "5d7f999c-2feb-4950-b1d8-705b4af1f1b3",
   "metadata": {
    "id": "967cb3e2-cb54-4c6c-b5b7-411bb3559d31"
   },
   "source": [
    "<a id='LOADING_LIBRARIES'></a>\n",
    "\n",
    "---\n",
    "\n",
    "---\n",
    "\n",
    "<font size=\"+1\"> **LOADING THE LIBRARIES** </font>\n",
    "\n",
    "---"
   ]
  },
  {
   "cell_type": "code",
   "execution_count": 25,
   "id": "bc044096-53e2-496b-932a-bd32969f564a",
   "metadata": {},
   "outputs": [
    {
     "name": "stdout",
     "output_type": "stream",
     "text": [
      "Version of used libraries :\n",
      "Python                : 3.9.13 (main, Aug 25 2022, 23:26:10) \n",
      "[GCC 11.2.0]\n",
      "NumPy                 : 1.21.6\n",
      "Pandas                : 1.5.3\n",
      "Dataframe tools      : 0.0.0\n",
      "Launched on : 2023-06-09T18:33:42.280888\n"
     ]
    }
   ],
   "source": [
    "\n",
    "# ----------------\n",
    "# Packages Update\n",
    "# ----------------\n",
    "# !pip install --upgrade pip\n",
    "# !pip install pycodestyle\n",
    "# !pip install flake8 pycodestyle_magic\n",
    "\n",
    "# General libraries\n",
    "import sys\n",
    "import os\n",
    "import glob\n",
    "import pandas as pd\n",
    "import numpy as np\n",
    "import csv\n",
    "import time\n",
    "import datetime\n",
    "import tools_dataframe\n",
    "import tools_preprocessing\n",
    "import pickle\n",
    "\n",
    "\n",
    "\n",
    "# Data visualisation\n",
    "import matplotlib as mpl\n",
    "import matplotlib.pyplot as plt\n",
    "import seaborn as sns\n",
    "\n",
    "\n",
    "\n",
    "# Validation code PEP8\n",
    "# %load_ext pycodestyle_magic\n",
    "# %pycodestyle_on\n",
    "\n",
    "# Warnings\n",
    "# import warnings\n",
    "# from warnings import simplefilter\n",
    "# warnings.filterwarnings(action='once')\n",
    "# simplefilter(action='ignore', category=FutureWarning)\n",
    "# simplefilter(action='ignore', category=ValueError)\n",
    "# simplefilter(action='ignore', category=UserWarning)\n",
    "\n",
    "# Versions\n",
    "print('Version of used libraries :')\n",
    "\n",
    "print('Python                : ' + sys.version)\n",
    "print('NumPy                 : ' + np.version.full_version)\n",
    "print('Pandas                : ' + pd.__version__)\n",
    "print('Dataframe tools      : ' + tools_dataframe.__version__)\n",
    "now = datetime.datetime.now().isoformat()\n",
    "print('Launched on : ' + now)"
   ]
  },
  {
   "cell_type": "markdown",
   "id": "6dac3cfc-57de-478e-b4a4-8e1df0df0b04",
   "metadata": {
    "id": "9f040c98-873f-4cb4-9917-6cf6775b1399"
   },
   "source": [
    "\n",
    "<a id='USED_PARAMETERS'></a>\n",
    "\n",
    "\n",
    "<br>\n",
    "\n",
    "\n",
    "---\n",
    "---\n",
    "\n",
    "<font size=\"+1\"> **PARAMETERS USED IN THIS NOTEBOOK** </font>\n",
    "\n",
    "---\n"
   ]
  },
  {
   "cell_type": "code",
   "execution_count": 2,
   "id": "73572090-e10f-4dc2-83b2-fc59963648d1",
   "metadata": {},
   "outputs": [],
   "source": [
    "# Parameters used in this notebook\n",
    "\n",
    "seed = 84\n",
    "\n",
    "palette4 = [\"#253d85\", \"#618576\", \"#cba87d\", \"#faec4d\"]\n",
    "\n",
    "palette5 = [\"#253d85\", \"#618576\", \"#9595b1\", \"#cba87d\", \"#faec4d\"]\n",
    "\n",
    "palette6 = [\"#253d85\", \"#618576\", \"#9595b1\", \"#cba87d\", \"#dcd2a3\", \"#faec4d\"]"
   ]
  },
  {
   "cell_type": "code",
   "execution_count": 3,
   "id": "f5e0a4cf-3e24-41f8-85a4-cefe7c639f2c",
   "metadata": {},
   "outputs": [],
   "source": [
    "dico_pd_option = {\n",
    "    'display.max_rows': 400,\n",
    "    'display.max_column': 200,\n",
    "    'display.width': 300,\n",
    "    'display.precision': 4,\n",
    "    'display.max_colwidth': 1000,\n",
    "    'mode.chained_assignment': None\n",
    "}\n",
    "for key, value in dico_pd_option.items():\n",
    "    pd.set_option(key, value)"
   ]
  },
  {
   "cell_type": "markdown",
   "id": "ac096ecf-c949-4ca2-9df9-905aa1eb2c83",
   "metadata": {
    "id": "9f040c98-873f-4cb4-9917-6cf6775b1399"
   },
   "source": [
    "\n",
    "<a id='USED_FUNCTIONS'></a>\n",
    "\n",
    "\n",
    "<br>\n",
    "\n",
    "\n",
    "---\n",
    "---\n",
    "\n",
    "<font size=\"+1\"> **FUNCTIONS USED IN THIS NOTEBOOK** </font>\n",
    "\n",
    "---\n"
   ]
  },
  {
   "cell_type": "markdown",
   "id": "37400648-51e8-4399-b267-9a8f68203fe9",
   "metadata": {},
   "source": [
    "\n",
    "<font size=\"+3\"><span style='color:#2994ff'> **P7 - Implémentez un modèle de scoring** </span></font>"
   ]
  },
  {
   "cell_type": "markdown",
   "id": "1a3a41cb-6792-411f-a61f-5e0fcc461d85",
   "metadata": {},
   "source": [
    "\n",
    "<center><img src=\"./img/logo_projet.png\" style=\"height: 250px;\"/></center>\n",
    "\n",
    "**Prêt à dépenser** wants to implement a **credit scoring tool to calculate the probability of a customer repaying their loan**, and then **classify the application as either granted or refused credit**. It therefore wants to develop a classification algorithm based on a variety of data sources (behavioural data, data from other financial institutions, etc.)."
   ]
  },
  {
   "cell_type": "markdown",
   "id": "352125b7-b8cf-414f-9e79-78d1d780f7fc",
   "metadata": {},
   "source": [
    "This notebook includes the **pre-processing** of data sets and the **feature engineering**:\n",
    "\n",
    "\n",
    "- application_train/set.csv,\n",
    "\n",
    "- office.csv**,\n",
    "\n",
    "- office_balance.csv**,\n",
    "\n",
    "- credit_card_balance.csv**,\n",
    "\n",
    "- installments_payments.csv**,\n",
    "\n",
    "- POS_CASH_balance.csv**,\n",
    "\n",
    "- previous_application.csv\n",
    "\n",
    "\n",
    "In particular:\n",
    "\n",
    "\n",
    "- Cleaning** :\n",
    "\n",
    "    - memory optimisation** by changing the data type. \n",
    "\n",
    "    - correction of **outliers**\n",
    "    \n",
    "    - correction of duplicated data\n",
    "\n",
    "    - imputation** of missing values\n",
    "\n",
    "- Feature engineering**: in this section, we will start by using the knowledge and insights gained from exploratory data analysis to obtain good sets of variables using feature engineering. Note that most of the variables generated are based on domain knowledge and experimentation. Without good sets of variables, machine learning algorithms cannot produce effective results. We will therefore have to find ingenious ways of doing feature engineering so that the model makes better decisions. \n",
    "\n",
    "- Aggregation**: with main data from Home Crédit Group.\n",
    "\n",
    "\n",
    "***\n",
    "\n",
    "Sources\n",
    "\n",
    "***\n",
    "\n",
    "The aggregation functions have been taken from the notebook: [Source](https://www.kaggle.com/willkoehrsen/introduction-to-manual-feature-engineering/output) by adapting the signature to pass the prefix of the column names and to be able to pass a dictionary of the statistics you want to add."
   ]
  },
  {
   "cell_type": "markdown",
   "id": "7072282e-bbaa-40b5-aa74-0019fe01fdd9",
   "metadata": {
    "id": "e8622ccb-75b5-4c07-8685-4efcc75630bc",
    "tags": []
   },
   "source": [
    "\n",
    "## <font color = '#0085dd'>**Table of content**</font>\n",
    "\n",
    "\n",
    "[Librairies loading](#LOADING_LIBRARIES)<br>\n",
    "\n",
    "[Functions used in this notebook](#USED_FUNCTIONS)<br>\n",
    "\n",
    "---\n",
    "\n",
    "[**Datasets**](#datasets)\n",
    " * [Description](#datasets_description)\n",
    "   * [orders_dataset](#orders_dataset)\n",
    "   * [customers_dataset](#customers_dataset)\n",
    "   * [order_items](#order_items)\n",
    "   * [products_dataset](#products_dataset)\n",
    "   * [product_category_name_translation](#product_category_name_translation)   \n",
    "   * [sellers_dataset](#sellers_dataset)\n",
    "   * [order_payments](#order_payments)\n",
    "   * [order_reviews](#order_reviews)\n",
    "   * [geolocation_dataset](#geolocation_dataset)<br> \n",
    "<br>\n",
    " * [Columns preparation](#columns_preparation)\n",
    "   * [Zip codes centroids calculation](#centroid_zipCode)\n",
    "   * [Product category check and update](#cat_products)   \n",
    "   \n",
    "   \n",
    "[**Datasets joining**](#datasets_joining)\n",
    " * [Data description](#data_description)\n",
    " * [Evaluation of missing values](#missing_values)  \n",
    " * [Column filling analysis](#column_fill)   \n",
    " * [Row filling analysis](#row_filling)  \n",
    " * [Features pre-selection](#features_preSelection)\n",
    "\n",
    "[**Features engineering**](#features_engineering)\n",
    " * [Customers spatial distribution](#customers_spatial_distribution)\n",
    " * [RFM features](#RFM_features)  \n",
    " * [Products](#products)   \n",
    " * [Orders](#Orders)  \n",
    " * [Dates](#dates)\n",
    " * [Joining customers information](#join_customers_datasets)\n",
    " * [Features analysis](#features_analysis)  \n",
    "\n",
    "[**Dataset for segmentation**](#segmentation_dataset)\n",
    "<br>\n",
    "\n",
    "---\n"
   ]
  },
  {
   "cell_type": "markdown",
   "id": "e357622a-65fe-428e-9ed0-b3580e1f4c28",
   "metadata": {
    "id": "2f3cf119-1479-4a49-b958-bb22d513aa1f",
    "tags": []
   },
   "source": [
    "<a id='datasets_loading'></a>\n",
    "\n",
    "---\n",
    "---\n",
    "\n",
    "# <span style='background:#2994ff'><span style='color:white'>**Datasets loading** </span></span>\n"
   ]
  },
  {
   "cell_type": "code",
   "execution_count": 4,
   "id": "58429d49-d74b-476c-8061-c017451be973",
   "metadata": {
    "colab": {
     "base_uri": "https://localhost:8080/"
    },
    "id": "e70ac540-a82e-4c8e-b941-e7ed4470f315",
    "outputId": "65181089-44bf-4ba5-9bbf-196ea7d4444f"
   },
   "outputs": [],
   "source": [
    "# Define the folder containing the files with the project data\n",
    "P7_source = \"/home/raquelsp/Documents/Openclassrooms/P7_implementez_modele_scoring/P7_travail/p7_source\"\n",
    "\n",
    "os.chdir(P7_source)"
   ]
  },
  {
   "cell_type": "code",
   "execution_count": 5,
   "id": "8ad63f74-157a-4d1e-b0d6-7742b1136f77",
   "metadata": {},
   "outputs": [],
   "source": [
    "# -----------------------------\n",
    "# Files upload:\n",
    "# -----------------------------\n",
    "application_train = pd.read_csv('application_train.csv', low_memory=False,\n",
    "                            encoding='utf-8')\n",
    "application_test = pd.read_csv('application_test.csv', low_memory=False,\n",
    "                           encoding='utf-8')\n",
    "bureau = pd.read_csv('bureau.csv', low_memory=False, encoding='utf-8')\n",
    "\n",
    "bureau_balance = pd.read_csv('bureau_balance.csv', low_memory=False,\n",
    "                             encoding='utf-8')\n",
    "previous_application = pd.read_csv('previous_application.csv',\n",
    "                                   low_memory=False, encoding='utf-8')\n",
    "POS_CASH_balance = pd.read_csv('POS_CASH_balance.csv',\n",
    "                               low_memory=False, encoding='utf-8')\n",
    "installments_payments = pd.read_csv('installments_payments.csv',\n",
    "                                    low_memory=False, encoding='utf-8')\n",
    "cc_balance = pd.read_csv('credit_card_balance.csv',\n",
    "                         low_memory=False, encoding='utf-8')"
   ]
  },
  {
   "cell_type": "markdown",
   "id": "133a742e-89ff-44e0-a17f-2e650bdbc215",
   "metadata": {
    "id": "2f3cf119-1479-4a49-b958-bb22d513aa1f",
    "tags": []
   },
   "source": [
    "<a id='datasets_loading'></a>\n",
    "\n",
    "---\n",
    "---\n",
    "\n",
    "# <span style='background:#2994ff'><span style='color:white'>**Train and test datasets** </span></span>\n"
   ]
  },
  {
   "cell_type": "markdown",
   "id": "388f0261-0759-44cd-8b8d-9f5993c49e59",
   "metadata": {},
   "source": [
    "| File | Description |\n",
    "| --- | --- |\n",
    "| <p style='text-align: justify;'>**application_train.csv** <br> **application_test.csv**</p> | <ul style='text-align: justify;'><li>The main table, divided into two files for Train (with TARGET) and Test (without TARGET).</li> <li>Static data for all applications.</li><li>A line represents a loan in our data sample.</li></ul> |"
   ]
  },
  {
   "cell_type": "markdown",
   "id": "5b50c321-2ae7-4c8d-90da-733c61b6482c",
   "metadata": {
    "id": "UjzpPUhyDxT8"
   },
   "source": [
    "<a id='application_train_dataset'></a>\n",
    "\n",
    "## <span style='background:#0085dd'><span style='color:white'>Dataset application_train/test</span></span>"
   ]
  },
  {
   "cell_type": "code",
   "execution_count": 33,
   "id": "99e59c76-1861-487d-bc21-b0730d38ed3f",
   "metadata": {
    "colab": {
     "base_uri": "https://localhost:8080/",
     "height": 242
    },
    "id": "wbuxtEb26P3y",
    "outputId": "5162fba7-7db6-4eb4-f3fe-8f38f4b2bd32"
   },
   "outputs": [
    {
     "name": "stdout",
     "output_type": "stream",
     "text": [
      "The application_train dataset contains 307511 rows and 112 variables.\n",
      "\n",
      "The application_test dataset contains 48744 rows and 121 variables.\n"
     ]
    }
   ],
   "source": [
    "# --------------\n",
    "# Dataset size\n",
    "# --------------\n",
    "nRow, nVar = application_train.shape\n",
    "print(f'The application_train dataset contains {nRow} rows and {nVar} variables.')\n",
    "print()\n",
    "nRow, nVar = application_test.shape\n",
    "print(f'The application_test dataset contains {nRow} rows and {nVar} variables.')"
   ]
  },
  {
   "cell_type": "code",
   "execution_count": 35,
   "id": "3b098462-3b7c-4029-b09a-9680dbbdd6cd",
   "metadata": {
    "run_control": {
     "marked": false
    }
   },
   "outputs": [],
   "source": [
    "# Continous variables\n",
    "cols_num_train = application_train.select_dtypes(include=[np.number])\\\n",
    "                                    .columns.to_list()\n",
    "cols_num_test = application_test.select_dtypes(include=[np.number])\\\n",
    "                                    .columns.to_list()"
   ]
  },
  {
   "cell_type": "code",
   "execution_count": 36,
   "id": "f9b2b04d-b2a2-4e71-bcd7-5372824fc574",
   "metadata": {
    "run_control": {
     "marked": false
    }
   },
   "outputs": [],
   "source": [
    "# Categorical variables\n",
    "cols_cat_train = application_train.select_dtypes(exclude=[np.number])\\\n",
    "                                    .columns.to_list()\n",
    "cols_cat_test = application_test.select_dtypes(exclude=[np.number])\\\n",
    "                                    .columns.to_list()"
   ]
  },
  {
   "cell_type": "code",
   "execution_count": 39,
   "id": "4668c38a-d084-4269-9b66-5373aac1359e",
   "metadata": {},
   "outputs": [
    {
     "name": "stdout",
     "output_type": "stream",
     "text": [
      "application_train\n",
      "-------------------------------------------------------------------------------\n",
      "Memory usage of dataframe is: 82.11 MB\n",
      "Memory usage after optimization is : 82.11 MB\n",
      "Reduction of 0.0%\n",
      "-------------------------------------------------------------------------------\n"
     ]
    }
   ],
   "source": [
    "# ----------------------------------------------------\n",
    "# Memory improvement by reducing the size of objects\n",
    "# ----------------------------------------------------\n",
    "print(\"application_train\")\n",
    "application_train =\\\n",
    "    tools_preprocessing.reduce_mem_usage(application_train, verbose=True)"
   ]
  },
  {
   "cell_type": "code",
   "execution_count": 40,
   "id": "889ee588-5384-4e39-88f0-d9a788d86c10",
   "metadata": {},
   "outputs": [
    {
     "name": "stdout",
     "output_type": "stream",
     "text": [
      "application_test\n",
      "-------------------------------------------------------------------------------\n",
      "Memory usage of dataframe is: 14.60 MB\n",
      "Memory usage after optimization is : 14.60 MB\n",
      "Reduction of 0.0%\n",
      "-------------------------------------------------------------------------------\n"
     ]
    }
   ],
   "source": [
    "# ----------------------------------------------------\n",
    "# Memory improvement by reducing the size of objects\n",
    "# ----------------------------------------------------\n",
    "print(\"application_test\")\n",
    "application_test =\\\n",
    "    tools_preprocessing.reduce_mem_usage(application_test, verbose=True)"
   ]
  },
  {
   "cell_type": "code",
   "execution_count": 43,
   "id": "a66a8a32-ccdf-47be-8dfc-d983208b8f41",
   "metadata": {
    "run_control": {
     "marked": false
    }
   },
   "outputs": [],
   "source": [
    "# Manual changes : REGION_RATING_CLIENT contains 1, 2 and 3\n",
    "# ==> object\n",
    "application_train['REGION_RATING_CLIENT'] = \\\n",
    "    application_train['REGION_RATING_CLIENT'].astype('object')\n",
    "# Manual changes : : REGION_RATING_CLIENT_W_CITY contains\n",
    "# ==> 1, 2 ou 3 object\n",
    "application_train['REGION_RATING_CLIENT_W_CITY'] = \\\n",
    "    application_train['REGION_RATING_CLIENT_W_CITY'].astype('object')"
   ]
  },
  {
   "cell_type": "code",
   "execution_count": 44,
   "id": "47be2ab3-c641-4705-ad11-bf8c05ecfa81",
   "metadata": {
    "run_control": {
     "marked": false
    }
   },
   "outputs": [],
   "source": [
    "# # Manual changes : REGION_RATING_CLIENT contains 1, 2 and 3\n",
    "# ==> object\n",
    "application_test['REGION_RATING_CLIENT'] = \\\n",
    "    application_test['REGION_RATING_CLIENT'].astype('object')\n",
    "# Manual changes : : REGION_RATING_CLIENT_W_CITY contains\n",
    "# ==> 1, 2 ou 3 object\n",
    "application_test['REGION_RATING_CLIENT_W_CITY'] = \\\n",
    "    application_test['REGION_RATING_CLIENT_W_CITY'].astype('object')"
   ]
  },
  {
   "cell_type": "code",
   "execution_count": 45,
   "id": "1e0a8f48-639f-499e-9fd6-6e28e3b1bd4b",
   "metadata": {
    "run_control": {
     "marked": false
    }
   },
   "outputs": [],
   "source": [
    "# EMERGENCYSTATE_MODE contains Yes/No ==> transform to 1/0\n",
    "# %pycodestyle_off\n",
    "dico_emergency = {'Yes' : 0,\n",
    "                  'No' : 1,\n",
    "                  np.nan : 0}\n",
    "tools_preprocessing.transl_values(application_train,\n",
    "                                  'EMERGENCYSTATE_MODE', dico_emergency)\n",
    "application_train['EMERGENCYSTATE_MODE'] = \\\n",
    "    application_train['EMERGENCYSTATE_MODE'].astype('int8')\n",
    "# %pycodestyle_on"
   ]
  },
  {
   "cell_type": "code",
   "execution_count": 49,
   "id": "80a60657-122f-42d9-b5e8-594ece1b6b8d",
   "metadata": {
    "run_control": {
     "marked": false
    }
   },
   "outputs": [],
   "source": [
    "# EMERGENCYSTATE_MODE contains Y/N ==> transformer en 1/0\n",
    "# %pycodestyle_off\n",
    "dico_emergency = {'Yes' : 0,\n",
    "                  'No' : 1,\n",
    "                  np.nan : 0}\n",
    "tools_preprocessing.transl_values(application_test,\n",
    "                                      'EMERGENCYSTATE_MODE', dico_emergency)\n",
    "application_test['EMERGENCYSTATE_MODE'] = \\\n",
    "    application_test['EMERGENCYSTATE_MODE'].astype('int8')\n",
    "# %pycodestyle_on"
   ]
  },
  {
   "cell_type": "code",
   "execution_count": 47,
   "id": "0c67da2f-d213-4dfc-ab26-b6956be08c1a",
   "metadata": {
    "run_control": {
     "marked": false
    }
   },
   "outputs": [
    {
     "data": {
      "text/plain": [
       "array([1, 0], dtype=int8)"
      ]
     },
     "execution_count": 47,
     "metadata": {},
     "output_type": "execute_result"
    }
   ],
   "source": [
    "# FLAG_OWN_CAR contains Y/N ==> transformer en 1/0\n",
    "# %pycodestyle_off\n",
    "dico_owncar = {'Y' : 0,\n",
    "               'N' : 1,\n",
    "               np.nan : 0}\n",
    "tools_preprocessing.transl_values(application_train, 'FLAG_OWN_CAR',\n",
    "                                  dico_owncar)\n",
    "application_train['FLAG_OWN_CAR'] = \\\n",
    "    application_train['FLAG_OWN_CAR'].astype('int8')\n",
    "application_train['FLAG_OWN_CAR'].unique()\n",
    "# %pycodestyle_on"
   ]
  },
  {
   "cell_type": "code",
   "execution_count": 50,
   "id": "e8d0100a-b111-4033-9138-dc99a940b4c7",
   "metadata": {
    "run_control": {
     "marked": false
    }
   },
   "outputs": [],
   "source": [
    "# FLAG_OWN_CAR contains Y/N ==> transformer en 1/0\n",
    "# %pycodestyle_off\n",
    "dico_owncar = {'Y' : 0,\n",
    "               'N' : 1,\n",
    "               np.nan : 0}\n",
    "tools_preprocessing.transl_values(application_test, 'FLAG_OWN_CAR',\n",
    "                                      dico_owncar)\n",
    "application_test['FLAG_OWN_CAR'] = \\\n",
    "    application_test['FLAG_OWN_CAR'].astype('int8')\n",
    "# %pycodestyle_on"
   ]
  },
  {
   "cell_type": "code",
   "execution_count": 13,
   "id": "a819c466-6f50-47d8-b61a-79c8fb7a5a99",
   "metadata": {
    "run_control": {
     "marked": false
    }
   },
   "outputs": [
    {
     "data": {
      "text/plain": [
       "array([0, 1], dtype=int8)"
      ]
     },
     "execution_count": 13,
     "metadata": {},
     "output_type": "execute_result"
    }
   ],
   "source": [
    "# FLAG_OWN_REALTY contains Y/N ==> transformer en 1/0\n",
    "# %pycodestyle_off\n",
    "dico_ownreal = {'Y' : 0,\n",
    "                'N' : 1,\n",
    "                np.nan : 0}\n",
    "tools_preprocessing.transl_values(application_train, 'FLAG_OWN_REALTY',\n",
    "                                  dico_ownreal)\n",
    "application_train['FLAG_OWN_REALTY'] = \\\n",
    "    application_train['FLAG_OWN_REALTY'].astype('int8')\n",
    "application_train['FLAG_OWN_REALTY'].unique()\n",
    "# %pycodestyle_on"
   ]
  },
  {
   "cell_type": "code",
   "execution_count": 51,
   "id": "7d898a48-5bb1-4b07-b57e-37ea0d118764",
   "metadata": {
    "run_control": {
     "marked": false
    }
   },
   "outputs": [],
   "source": [
    "# FLAG_OWN_REALTY contains Y/N ==> transformer en 1/0\n",
    "# %pycodestyle_off\n",
    "dico_ownreal = {'Y' : 0,\n",
    "                'N' : 1,\n",
    "                np.nan : 0}\n",
    "tools_preprocessing.transl_values(application_test, 'FLAG_OWN_REALTY',\n",
    "                                      dico_ownreal)\n",
    "application_test['FLAG_OWN_REALTY'] = \\\n",
    "    application_test['FLAG_OWN_REALTY'].astype('int8')\n",
    "# %pycodestyle_on"
   ]
  },
  {
   "cell_type": "markdown",
   "id": "5003dcea-199b-4e15-beb9-b71e9006943a",
   "metadata": {},
   "source": [
    "<a id='application_train_outliers'></a>\n",
    "\n",
    "---\n",
    "### <span style='background:#0075bc'><span style='color:white'>Application_train outliers</span></span>"
   ]
  },
  {
   "cell_type": "markdown",
   "id": "2fe7168b-4f3e-48b0-97bb-060a5c3ca1f6",
   "metadata": {},
   "source": [
    "Correction of outliers detected during the EDA."
   ]
  },
  {
   "cell_type": "markdown",
   "id": "d45c595f-973c-4bd0-973a-60765faa7dfc",
   "metadata": {},
   "source": [
    "**DAYS_EMPLOYED**"
   ]
  },
  {
   "cell_type": "markdown",
   "id": "641302a4-8d7d-4de9-b3c9-251c22219620",
   "metadata": {},
   "source": [
    "From the 90th percentile, the value is 365243 days, i.e. 1000 years!"
   ]
  },
  {
   "cell_type": "code",
   "execution_count": 52,
   "id": "700d285b-42a1-4ac8-8820-54775401dbef",
   "metadata": {
    "run_control": {
     "marked": false
    }
   },
   "outputs": [
    {
     "name": "stdout",
     "output_type": "stream",
     "text": [
      "application_train\n",
      "Number of errors DAYS_EMPLOYED : 0 (0.0%)\n"
     ]
    }
   ],
   "source": [
    "# Number of rows with errors\n",
    "print(\"application_train\")\n",
    "nb_err = \\\n",
    "    application_train['DAYS_EMPLOYED'][application_train['DAYS_EMPLOYED']\n",
    "                                       == 365243].count()\n",
    "pourc_err = round((nb_err*100)/application_train.shape[0], 2)\n",
    "print(f'Number of errors DAYS_EMPLOYED : {nb_err} ({pourc_err}%)')"
   ]
  },
  {
   "cell_type": "code",
   "execution_count": 53,
   "id": "95825b50-986c-4ba0-9e29-3a83a08afb4e",
   "metadata": {
    "run_control": {
     "marked": false
    }
   },
   "outputs": [],
   "source": [
    "# Correction\n",
    "application_train['DAYS_EMPLOYED'][application_train['DAYS_EMPLOYED']\n",
    "                                   == 365243] = np.nan"
   ]
  },
  {
   "cell_type": "code",
   "execution_count": 54,
   "id": "d7780767-b75b-40b3-b94a-32416cba6a74",
   "metadata": {
    "run_control": {
     "marked": false
    }
   },
   "outputs": [
    {
     "name": "stdout",
     "output_type": "stream",
     "text": [
      "application_test\n",
      "Number of errors DAYS_EMPLOYED : 9274 (19.03%)\n"
     ]
    }
   ],
   "source": [
    "# Number of rows with errors\n",
    "print(\"application_test\")\n",
    "nb_err = \\\n",
    "    application_test['DAYS_EMPLOYED'][application_test['DAYS_EMPLOYED']\n",
    "                                       == 365243].count()\n",
    "pourc_err = round((nb_err*100)/application_test.shape[0], 2)\n",
    "print(f'Number of errors DAYS_EMPLOYED : {nb_err} ({pourc_err}%)')"
   ]
  },
  {
   "cell_type": "code",
   "execution_count": 55,
   "id": "d7bb4243-6617-4e7c-8e4c-b99a3caf224f",
   "metadata": {
    "run_control": {
     "marked": false
    }
   },
   "outputs": [],
   "source": [
    "# Correction\n",
    "application_test['DAYS_EMPLOYED'][application_test['DAYS_EMPLOYED']\n",
    "                                   == 365243] = np.nan"
   ]
  },
  {
   "cell_type": "markdown",
   "id": "37effede-b7b8-4b5c-8512-3c8503353736",
   "metadata": {},
   "source": [
    "<a id='application_train_missing_values'></a>\n",
    "\n",
    "---\n",
    "### <span style='background:#0075bc'><span style='color:white'>Application_train missing values</span></span>"
   ]
  },
  {
   "cell_type": "code",
   "execution_count": 16,
   "id": "15485067-9ea2-40e2-b3ab-85aa6385d2e7",
   "metadata": {
    "run_control": {
     "marked": false
    }
   },
   "outputs": [
    {
     "name": "stdout",
     "output_type": "stream",
     "text": [
      "Missing values : 9062084 NaN for 37516342 data (24.16 %)\n",
      "-------------------------------------------------------------\n",
      "Number and % of missing values by variable\n",
      "\n"
     ]
    },
    {
     "data": {
      "text/html": [
       "<style type=\"text/css\">\n",
       "#T_e2960_row0_col0, #T_e2960_row0_col1, #T_e2960_row1_col0, #T_e2960_row1_col1, #T_e2960_row2_col0, #T_e2960_row2_col1 {\n",
       "  background-color: #800000;\n",
       "  color: #f1f1f1;\n",
       "}\n",
       "#T_e2960_row3_col0, #T_e2960_row3_col1, #T_e2960_row4_col0, #T_e2960_row4_col1, #T_e2960_row5_col0, #T_e2960_row5_col1 {\n",
       "  background-color: #820000;\n",
       "  color: #f1f1f1;\n",
       "}\n",
       "#T_e2960_row6_col0, #T_e2960_row6_col1, #T_e2960_row7_col0, #T_e2960_row7_col1, #T_e2960_row8_col0, #T_e2960_row8_col1, #T_e2960_row9_col0, #T_e2960_row9_col1 {\n",
       "  background-color: #8a0000;\n",
       "  color: #f1f1f1;\n",
       "}\n",
       "#T_e2960_row10_col0, #T_e2960_row10_col1, #T_e2960_row11_col0, #T_e2960_row11_col1, #T_e2960_row12_col0, #T_e2960_row12_col1 {\n",
       "  background-color: #8e0000;\n",
       "  color: #f1f1f1;\n",
       "}\n",
       "#T_e2960_row13_col0, #T_e2960_row13_col1, #T_e2960_row14_col0, #T_e2960_row14_col1, #T_e2960_row15_col0, #T_e2960_row15_col1 {\n",
       "  background-color: #980000;\n",
       "  color: #f1f1f1;\n",
       "}\n",
       "#T_e2960_row16_col0, #T_e2960_row16_col1 {\n",
       "  background-color: #9c0000;\n",
       "  color: #f1f1f1;\n",
       "}\n",
       "#T_e2960_row17_col0, #T_e2960_row17_col1, #T_e2960_row18_col0, #T_e2960_row18_col1, #T_e2960_row19_col0, #T_e2960_row19_col1 {\n",
       "  background-color: #cc0000;\n",
       "  color: #f1f1f1;\n",
       "}\n",
       "#T_e2960_row20_col0, #T_e2960_row20_col1, #T_e2960_row21_col0, #T_e2960_row21_col1, #T_e2960_row22_col0, #T_e2960_row22_col1 {\n",
       "  background-color: #d20000;\n",
       "  color: #f1f1f1;\n",
       "}\n",
       "#T_e2960_row23_col0, #T_e2960_row23_col1 {\n",
       "  background-color: #e20000;\n",
       "  color: #f1f1f1;\n",
       "}\n",
       "#T_e2960_row24_col0, #T_e2960_row24_col1, #T_e2960_row25_col0, #T_e2960_row25_col1, #T_e2960_row26_col0, #T_e2960_row26_col1 {\n",
       "  background-color: #ea0000;\n",
       "  color: #f1f1f1;\n",
       "}\n",
       "#T_e2960_row27_col0, #T_e2960_row27_col1, #T_e2960_row28_col0, #T_e2960_row28_col1, #T_e2960_row29_col0, #T_e2960_row29_col1 {\n",
       "  background-color: #f80000;\n",
       "  color: #f1f1f1;\n",
       "}\n",
       "#T_e2960_row30_col0, #T_e2960_row30_col1 {\n",
       "  background-color: #ff1515;\n",
       "  color: #f1f1f1;\n",
       "}\n",
       "#T_e2960_row31_col0, #T_e2960_row31_col1, #T_e2960_row32_col0, #T_e2960_row32_col1, #T_e2960_row33_col0, #T_e2960_row33_col1 {\n",
       "  background-color: #ff1919;\n",
       "  color: #f1f1f1;\n",
       "}\n",
       "#T_e2960_row34_col0, #T_e2960_row34_col1, #T_e2960_row35_col0, #T_e2960_row35_col1, #T_e2960_row36_col0, #T_e2960_row36_col1 {\n",
       "  background-color: #ff1d1d;\n",
       "  color: #f1f1f1;\n",
       "}\n",
       "#T_e2960_row37_col0, #T_e2960_row37_col1, #T_e2960_row38_col0, #T_e2960_row38_col1, #T_e2960_row39_col0, #T_e2960_row39_col1, #T_e2960_row40_col0, #T_e2960_row40_col1 {\n",
       "  background-color: #ff2121;\n",
       "  color: #f1f1f1;\n",
       "}\n",
       "#T_e2960_row41_col0, #T_e2960_row41_col1, #T_e2960_row42_col0, #T_e2960_row42_col1, #T_e2960_row43_col0, #T_e2960_row43_col1 {\n",
       "  background-color: #ff2525;\n",
       "  color: #f1f1f1;\n",
       "}\n",
       "#T_e2960_row44_col0, #T_e2960_row44_col1, #T_e2960_row45_col0, #T_e2960_row45_col1, #T_e2960_row46_col0, #T_e2960_row46_col1 {\n",
       "  background-color: #ff3535;\n",
       "  color: #f1f1f1;\n",
       "}\n",
       "#T_e2960_row47_col0, #T_e2960_row47_col1 {\n",
       "  background-color: #ff3d3d;\n",
       "  color: #f1f1f1;\n",
       "}\n",
       "#T_e2960_row48_col0, #T_e2960_row48_col1 {\n",
       "  background-color: #c9c9ff;\n",
       "  color: #000000;\n",
       "}\n",
       "#T_e2960_row49_col0, #T_e2960_row49_col1 {\n",
       "  background-color: #2121ff;\n",
       "  color: #f1f1f1;\n",
       "}\n",
       "#T_e2960_row50_col0, #T_e2960_row50_col1 {\n",
       "  background-color: #0505ff;\n",
       "  color: #f1f1f1;\n",
       "}\n",
       "#T_e2960_row51_col0, #T_e2960_row51_col1, #T_e2960_row52_col0, #T_e2960_row52_col1, #T_e2960_row53_col0, #T_e2960_row53_col1, #T_e2960_row54_col0, #T_e2960_row54_col1, #T_e2960_row55_col0, #T_e2960_row55_col1, #T_e2960_row56_col0, #T_e2960_row56_col1 {\n",
       "  background-color: #0000d6;\n",
       "  color: #f1f1f1;\n",
       "}\n",
       "#T_e2960_row57_col0, #T_e2960_row57_col1, #T_e2960_row58_col0, #T_e2960_row58_col1, #T_e2960_row59_col0, #T_e2960_row59_col1, #T_e2960_row60_col0, #T_e2960_row60_col1, #T_e2960_row61_col0, #T_e2960_row61_col1 {\n",
       "  background-color: #00004f;\n",
       "  color: #f1f1f1;\n",
       "}\n",
       "#T_e2960_row62_col0, #T_e2960_row62_col1, #T_e2960_row63_col0, #T_e2960_row63_col1, #T_e2960_row64_col0, #T_e2960_row64_col1, #T_e2960_row65_col0, #T_e2960_row65_col1, #T_e2960_row66_col0, #T_e2960_row66_col1 {\n",
       "  background-color: #00004c;\n",
       "  color: #f1f1f1;\n",
       "}\n",
       "</style>\n",
       "<table id=\"T_e2960\">\n",
       "  <thead>\n",
       "    <tr>\n",
       "      <th class=\"blank level0\" >&nbsp;</th>\n",
       "      <th id=\"T_e2960_level0_col0\" class=\"col_heading level0 col0\" >Number of missing values</th>\n",
       "      <th id=\"T_e2960_level0_col1\" class=\"col_heading level0 col1\" >% of missing values</th>\n",
       "    </tr>\n",
       "  </thead>\n",
       "  <tbody>\n",
       "    <tr>\n",
       "      <th id=\"T_e2960_level0_row0\" class=\"row_heading level0 row0\" >COMMONAREA_MODE</th>\n",
       "      <td id=\"T_e2960_row0_col0\" class=\"data row0 col0\" >214865</td>\n",
       "      <td id=\"T_e2960_row0_col1\" class=\"data row0 col1\" >69.870000</td>\n",
       "    </tr>\n",
       "    <tr>\n",
       "      <th id=\"T_e2960_level0_row1\" class=\"row_heading level0 row1\" >COMMONAREA_AVG</th>\n",
       "      <td id=\"T_e2960_row1_col0\" class=\"data row1 col0\" >214865</td>\n",
       "      <td id=\"T_e2960_row1_col1\" class=\"data row1 col1\" >69.870000</td>\n",
       "    </tr>\n",
       "    <tr>\n",
       "      <th id=\"T_e2960_level0_row2\" class=\"row_heading level0 row2\" >COMMONAREA_MEDI</th>\n",
       "      <td id=\"T_e2960_row2_col0\" class=\"data row2 col0\" >214865</td>\n",
       "      <td id=\"T_e2960_row2_col1\" class=\"data row2 col1\" >69.870000</td>\n",
       "    </tr>\n",
       "    <tr>\n",
       "      <th id=\"T_e2960_level0_row3\" class=\"row_heading level0 row3\" >NONLIVINGAPARTMENTS_MEDI</th>\n",
       "      <td id=\"T_e2960_row3_col0\" class=\"data row3 col0\" >213514</td>\n",
       "      <td id=\"T_e2960_row3_col1\" class=\"data row3 col1\" >69.430000</td>\n",
       "    </tr>\n",
       "    <tr>\n",
       "      <th id=\"T_e2960_level0_row4\" class=\"row_heading level0 row4\" >NONLIVINGAPARTMENTS_AVG</th>\n",
       "      <td id=\"T_e2960_row4_col0\" class=\"data row4 col0\" >213514</td>\n",
       "      <td id=\"T_e2960_row4_col1\" class=\"data row4 col1\" >69.430000</td>\n",
       "    </tr>\n",
       "    <tr>\n",
       "      <th id=\"T_e2960_level0_row5\" class=\"row_heading level0 row5\" >NONLIVINGAPARTMENTS_MODE</th>\n",
       "      <td id=\"T_e2960_row5_col0\" class=\"data row5 col0\" >213514</td>\n",
       "      <td id=\"T_e2960_row5_col1\" class=\"data row5 col1\" >69.430000</td>\n",
       "    </tr>\n",
       "    <tr>\n",
       "      <th id=\"T_e2960_level0_row6\" class=\"row_heading level0 row6\" >FONDKAPREMONT_MODE</th>\n",
       "      <td id=\"T_e2960_row6_col0\" class=\"data row6 col0\" >210295</td>\n",
       "      <td id=\"T_e2960_row6_col1\" class=\"data row6 col1\" >68.390000</td>\n",
       "    </tr>\n",
       "    <tr>\n",
       "      <th id=\"T_e2960_level0_row7\" class=\"row_heading level0 row7\" >LIVINGAPARTMENTS_MODE</th>\n",
       "      <td id=\"T_e2960_row7_col0\" class=\"data row7 col0\" >210199</td>\n",
       "      <td id=\"T_e2960_row7_col1\" class=\"data row7 col1\" >68.350000</td>\n",
       "    </tr>\n",
       "    <tr>\n",
       "      <th id=\"T_e2960_level0_row8\" class=\"row_heading level0 row8\" >LIVINGAPARTMENTS_AVG</th>\n",
       "      <td id=\"T_e2960_row8_col0\" class=\"data row8 col0\" >210199</td>\n",
       "      <td id=\"T_e2960_row8_col1\" class=\"data row8 col1\" >68.350000</td>\n",
       "    </tr>\n",
       "    <tr>\n",
       "      <th id=\"T_e2960_level0_row9\" class=\"row_heading level0 row9\" >LIVINGAPARTMENTS_MEDI</th>\n",
       "      <td id=\"T_e2960_row9_col0\" class=\"data row9 col0\" >210199</td>\n",
       "      <td id=\"T_e2960_row9_col1\" class=\"data row9 col1\" >68.350000</td>\n",
       "    </tr>\n",
       "    <tr>\n",
       "      <th id=\"T_e2960_level0_row10\" class=\"row_heading level0 row10\" >FLOORSMIN_MODE</th>\n",
       "      <td id=\"T_e2960_row10_col0\" class=\"data row10 col0\" >208642</td>\n",
       "      <td id=\"T_e2960_row10_col1\" class=\"data row10 col1\" >67.850000</td>\n",
       "    </tr>\n",
       "    <tr>\n",
       "      <th id=\"T_e2960_level0_row11\" class=\"row_heading level0 row11\" >FLOORSMIN_AVG</th>\n",
       "      <td id=\"T_e2960_row11_col0\" class=\"data row11 col0\" >208642</td>\n",
       "      <td id=\"T_e2960_row11_col1\" class=\"data row11 col1\" >67.850000</td>\n",
       "    </tr>\n",
       "    <tr>\n",
       "      <th id=\"T_e2960_level0_row12\" class=\"row_heading level0 row12\" >FLOORSMIN_MEDI</th>\n",
       "      <td id=\"T_e2960_row12_col0\" class=\"data row12 col0\" >208642</td>\n",
       "      <td id=\"T_e2960_row12_col1\" class=\"data row12 col1\" >67.850000</td>\n",
       "    </tr>\n",
       "    <tr>\n",
       "      <th id=\"T_e2960_level0_row13\" class=\"row_heading level0 row13\" >YEARS_BUILD_AVG</th>\n",
       "      <td id=\"T_e2960_row13_col0\" class=\"data row13 col0\" >204488</td>\n",
       "      <td id=\"T_e2960_row13_col1\" class=\"data row13 col1\" >66.500000</td>\n",
       "    </tr>\n",
       "    <tr>\n",
       "      <th id=\"T_e2960_level0_row14\" class=\"row_heading level0 row14\" >YEARS_BUILD_MODE</th>\n",
       "      <td id=\"T_e2960_row14_col0\" class=\"data row14 col0\" >204488</td>\n",
       "      <td id=\"T_e2960_row14_col1\" class=\"data row14 col1\" >66.500000</td>\n",
       "    </tr>\n",
       "    <tr>\n",
       "      <th id=\"T_e2960_level0_row15\" class=\"row_heading level0 row15\" >YEARS_BUILD_MEDI</th>\n",
       "      <td id=\"T_e2960_row15_col0\" class=\"data row15 col0\" >204488</td>\n",
       "      <td id=\"T_e2960_row15_col1\" class=\"data row15 col1\" >66.500000</td>\n",
       "    </tr>\n",
       "    <tr>\n",
       "      <th id=\"T_e2960_level0_row16\" class=\"row_heading level0 row16\" >OWN_CAR_AGE</th>\n",
       "      <td id=\"T_e2960_row16_col0\" class=\"data row16 col0\" >202929</td>\n",
       "      <td id=\"T_e2960_row16_col1\" class=\"data row16 col1\" >65.990000</td>\n",
       "    </tr>\n",
       "    <tr>\n",
       "      <th id=\"T_e2960_level0_row17\" class=\"row_heading level0 row17\" >LANDAREA_AVG</th>\n",
       "      <td id=\"T_e2960_row17_col0\" class=\"data row17 col0\" >182590</td>\n",
       "      <td id=\"T_e2960_row17_col1\" class=\"data row17 col1\" >59.380000</td>\n",
       "    </tr>\n",
       "    <tr>\n",
       "      <th id=\"T_e2960_level0_row18\" class=\"row_heading level0 row18\" >LANDAREA_MEDI</th>\n",
       "      <td id=\"T_e2960_row18_col0\" class=\"data row18 col0\" >182590</td>\n",
       "      <td id=\"T_e2960_row18_col1\" class=\"data row18 col1\" >59.380000</td>\n",
       "    </tr>\n",
       "    <tr>\n",
       "      <th id=\"T_e2960_level0_row19\" class=\"row_heading level0 row19\" >LANDAREA_MODE</th>\n",
       "      <td id=\"T_e2960_row19_col0\" class=\"data row19 col0\" >182590</td>\n",
       "      <td id=\"T_e2960_row19_col1\" class=\"data row19 col1\" >59.380000</td>\n",
       "    </tr>\n",
       "    <tr>\n",
       "      <th id=\"T_e2960_level0_row20\" class=\"row_heading level0 row20\" >BASEMENTAREA_AVG</th>\n",
       "      <td id=\"T_e2960_row20_col0\" class=\"data row20 col0\" >179943</td>\n",
       "      <td id=\"T_e2960_row20_col1\" class=\"data row20 col1\" >58.520000</td>\n",
       "    </tr>\n",
       "    <tr>\n",
       "      <th id=\"T_e2960_level0_row21\" class=\"row_heading level0 row21\" >BASEMENTAREA_MODE</th>\n",
       "      <td id=\"T_e2960_row21_col0\" class=\"data row21 col0\" >179943</td>\n",
       "      <td id=\"T_e2960_row21_col1\" class=\"data row21 col1\" >58.520000</td>\n",
       "    </tr>\n",
       "    <tr>\n",
       "      <th id=\"T_e2960_level0_row22\" class=\"row_heading level0 row22\" >BASEMENTAREA_MEDI</th>\n",
       "      <td id=\"T_e2960_row22_col0\" class=\"data row22 col0\" >179943</td>\n",
       "      <td id=\"T_e2960_row22_col1\" class=\"data row22 col1\" >58.520000</td>\n",
       "    </tr>\n",
       "    <tr>\n",
       "      <th id=\"T_e2960_level0_row23\" class=\"row_heading level0 row23\" >EXT_SOURCE_1</th>\n",
       "      <td id=\"T_e2960_row23_col0\" class=\"data row23 col0\" >173378</td>\n",
       "      <td id=\"T_e2960_row23_col1\" class=\"data row23 col1\" >56.380000</td>\n",
       "    </tr>\n",
       "    <tr>\n",
       "      <th id=\"T_e2960_level0_row24\" class=\"row_heading level0 row24\" >NONLIVINGAREA_MEDI</th>\n",
       "      <td id=\"T_e2960_row24_col0\" class=\"data row24 col0\" >169682</td>\n",
       "      <td id=\"T_e2960_row24_col1\" class=\"data row24 col1\" >55.180000</td>\n",
       "    </tr>\n",
       "    <tr>\n",
       "      <th id=\"T_e2960_level0_row25\" class=\"row_heading level0 row25\" >NONLIVINGAREA_AVG</th>\n",
       "      <td id=\"T_e2960_row25_col0\" class=\"data row25 col0\" >169682</td>\n",
       "      <td id=\"T_e2960_row25_col1\" class=\"data row25 col1\" >55.180000</td>\n",
       "    </tr>\n",
       "    <tr>\n",
       "      <th id=\"T_e2960_level0_row26\" class=\"row_heading level0 row26\" >NONLIVINGAREA_MODE</th>\n",
       "      <td id=\"T_e2960_row26_col0\" class=\"data row26 col0\" >169682</td>\n",
       "      <td id=\"T_e2960_row26_col1\" class=\"data row26 col1\" >55.180000</td>\n",
       "    </tr>\n",
       "    <tr>\n",
       "      <th id=\"T_e2960_level0_row27\" class=\"row_heading level0 row27\" >ELEVATORS_MEDI</th>\n",
       "      <td id=\"T_e2960_row27_col0\" class=\"data row27 col0\" >163891</td>\n",
       "      <td id=\"T_e2960_row27_col1\" class=\"data row27 col1\" >53.300000</td>\n",
       "    </tr>\n",
       "    <tr>\n",
       "      <th id=\"T_e2960_level0_row28\" class=\"row_heading level0 row28\" >ELEVATORS_AVG</th>\n",
       "      <td id=\"T_e2960_row28_col0\" class=\"data row28 col0\" >163891</td>\n",
       "      <td id=\"T_e2960_row28_col1\" class=\"data row28 col1\" >53.300000</td>\n",
       "    </tr>\n",
       "    <tr>\n",
       "      <th id=\"T_e2960_level0_row29\" class=\"row_heading level0 row29\" >ELEVATORS_MODE</th>\n",
       "      <td id=\"T_e2960_row29_col0\" class=\"data row29 col0\" >163891</td>\n",
       "      <td id=\"T_e2960_row29_col1\" class=\"data row29 col1\" >53.300000</td>\n",
       "    </tr>\n",
       "    <tr>\n",
       "      <th id=\"T_e2960_level0_row30\" class=\"row_heading level0 row30\" >WALLSMATERIAL_MODE</th>\n",
       "      <td id=\"T_e2960_row30_col0\" class=\"data row30 col0\" >156341</td>\n",
       "      <td id=\"T_e2960_row30_col1\" class=\"data row30 col1\" >50.840000</td>\n",
       "    </tr>\n",
       "    <tr>\n",
       "      <th id=\"T_e2960_level0_row31\" class=\"row_heading level0 row31\" >APARTMENTS_AVG</th>\n",
       "      <td id=\"T_e2960_row31_col0\" class=\"data row31 col0\" >156061</td>\n",
       "      <td id=\"T_e2960_row31_col1\" class=\"data row31 col1\" >50.750000</td>\n",
       "    </tr>\n",
       "    <tr>\n",
       "      <th id=\"T_e2960_level0_row32\" class=\"row_heading level0 row32\" >APARTMENTS_MEDI</th>\n",
       "      <td id=\"T_e2960_row32_col0\" class=\"data row32 col0\" >156061</td>\n",
       "      <td id=\"T_e2960_row32_col1\" class=\"data row32 col1\" >50.750000</td>\n",
       "    </tr>\n",
       "    <tr>\n",
       "      <th id=\"T_e2960_level0_row33\" class=\"row_heading level0 row33\" >APARTMENTS_MODE</th>\n",
       "      <td id=\"T_e2960_row33_col0\" class=\"data row33 col0\" >156061</td>\n",
       "      <td id=\"T_e2960_row33_col1\" class=\"data row33 col1\" >50.750000</td>\n",
       "    </tr>\n",
       "    <tr>\n",
       "      <th id=\"T_e2960_level0_row34\" class=\"row_heading level0 row34\" >ENTRANCES_MEDI</th>\n",
       "      <td id=\"T_e2960_row34_col0\" class=\"data row34 col0\" >154828</td>\n",
       "      <td id=\"T_e2960_row34_col1\" class=\"data row34 col1\" >50.350000</td>\n",
       "    </tr>\n",
       "    <tr>\n",
       "      <th id=\"T_e2960_level0_row35\" class=\"row_heading level0 row35\" >ENTRANCES_MODE</th>\n",
       "      <td id=\"T_e2960_row35_col0\" class=\"data row35 col0\" >154828</td>\n",
       "      <td id=\"T_e2960_row35_col1\" class=\"data row35 col1\" >50.350000</td>\n",
       "    </tr>\n",
       "    <tr>\n",
       "      <th id=\"T_e2960_level0_row36\" class=\"row_heading level0 row36\" >ENTRANCES_AVG</th>\n",
       "      <td id=\"T_e2960_row36_col0\" class=\"data row36 col0\" >154828</td>\n",
       "      <td id=\"T_e2960_row36_col1\" class=\"data row36 col1\" >50.350000</td>\n",
       "    </tr>\n",
       "    <tr>\n",
       "      <th id=\"T_e2960_level0_row37\" class=\"row_heading level0 row37\" >LIVINGAREA_MODE</th>\n",
       "      <td id=\"T_e2960_row37_col0\" class=\"data row37 col0\" >154350</td>\n",
       "      <td id=\"T_e2960_row37_col1\" class=\"data row37 col1\" >50.190000</td>\n",
       "    </tr>\n",
       "    <tr>\n",
       "      <th id=\"T_e2960_level0_row38\" class=\"row_heading level0 row38\" >LIVINGAREA_AVG</th>\n",
       "      <td id=\"T_e2960_row38_col0\" class=\"data row38 col0\" >154350</td>\n",
       "      <td id=\"T_e2960_row38_col1\" class=\"data row38 col1\" >50.190000</td>\n",
       "    </tr>\n",
       "    <tr>\n",
       "      <th id=\"T_e2960_level0_row39\" class=\"row_heading level0 row39\" >LIVINGAREA_MEDI</th>\n",
       "      <td id=\"T_e2960_row39_col0\" class=\"data row39 col0\" >154350</td>\n",
       "      <td id=\"T_e2960_row39_col1\" class=\"data row39 col1\" >50.190000</td>\n",
       "    </tr>\n",
       "    <tr>\n",
       "      <th id=\"T_e2960_level0_row40\" class=\"row_heading level0 row40\" >HOUSETYPE_MODE</th>\n",
       "      <td id=\"T_e2960_row40_col0\" class=\"data row40 col0\" >154297</td>\n",
       "      <td id=\"T_e2960_row40_col1\" class=\"data row40 col1\" >50.180000</td>\n",
       "    </tr>\n",
       "    <tr>\n",
       "      <th id=\"T_e2960_level0_row41\" class=\"row_heading level0 row41\" >FLOORSMAX_MEDI</th>\n",
       "      <td id=\"T_e2960_row41_col0\" class=\"data row41 col0\" >153020</td>\n",
       "      <td id=\"T_e2960_row41_col1\" class=\"data row41 col1\" >49.760000</td>\n",
       "    </tr>\n",
       "    <tr>\n",
       "      <th id=\"T_e2960_level0_row42\" class=\"row_heading level0 row42\" >FLOORSMAX_AVG</th>\n",
       "      <td id=\"T_e2960_row42_col0\" class=\"data row42 col0\" >153020</td>\n",
       "      <td id=\"T_e2960_row42_col1\" class=\"data row42 col1\" >49.760000</td>\n",
       "    </tr>\n",
       "    <tr>\n",
       "      <th id=\"T_e2960_level0_row43\" class=\"row_heading level0 row43\" >FLOORSMAX_MODE</th>\n",
       "      <td id=\"T_e2960_row43_col0\" class=\"data row43 col0\" >153020</td>\n",
       "      <td id=\"T_e2960_row43_col1\" class=\"data row43 col1\" >49.760000</td>\n",
       "    </tr>\n",
       "    <tr>\n",
       "      <th id=\"T_e2960_level0_row44\" class=\"row_heading level0 row44\" >YEARS_BEGINEXPLUATATION_MODE</th>\n",
       "      <td id=\"T_e2960_row44_col0\" class=\"data row44 col0\" >150007</td>\n",
       "      <td id=\"T_e2960_row44_col1\" class=\"data row44 col1\" >48.780000</td>\n",
       "    </tr>\n",
       "    <tr>\n",
       "      <th id=\"T_e2960_level0_row45\" class=\"row_heading level0 row45\" >YEARS_BEGINEXPLUATATION_AVG</th>\n",
       "      <td id=\"T_e2960_row45_col0\" class=\"data row45 col0\" >150007</td>\n",
       "      <td id=\"T_e2960_row45_col1\" class=\"data row45 col1\" >48.780000</td>\n",
       "    </tr>\n",
       "    <tr>\n",
       "      <th id=\"T_e2960_level0_row46\" class=\"row_heading level0 row46\" >YEARS_BEGINEXPLUATATION_MEDI</th>\n",
       "      <td id=\"T_e2960_row46_col0\" class=\"data row46 col0\" >150007</td>\n",
       "      <td id=\"T_e2960_row46_col1\" class=\"data row46 col1\" >48.780000</td>\n",
       "    </tr>\n",
       "    <tr>\n",
       "      <th id=\"T_e2960_level0_row47\" class=\"row_heading level0 row47\" >TOTALAREA_MODE</th>\n",
       "      <td id=\"T_e2960_row47_col0\" class=\"data row47 col0\" >148431</td>\n",
       "      <td id=\"T_e2960_row47_col1\" class=\"data row47 col1\" >48.270000</td>\n",
       "    </tr>\n",
       "    <tr>\n",
       "      <th id=\"T_e2960_level0_row48\" class=\"row_heading level0 row48\" >OCCUPATION_TYPE</th>\n",
       "      <td id=\"T_e2960_row48_col0\" class=\"data row48 col0\" >96391</td>\n",
       "      <td id=\"T_e2960_row48_col1\" class=\"data row48 col1\" >31.350000</td>\n",
       "    </tr>\n",
       "    <tr>\n",
       "      <th id=\"T_e2960_level0_row49\" class=\"row_heading level0 row49\" >EXT_SOURCE_3</th>\n",
       "      <td id=\"T_e2960_row49_col0\" class=\"data row49 col0\" >60965</td>\n",
       "      <td id=\"T_e2960_row49_col1\" class=\"data row49 col1\" >19.830000</td>\n",
       "    </tr>\n",
       "    <tr>\n",
       "      <th id=\"T_e2960_level0_row50\" class=\"row_heading level0 row50\" >DAYS_EMPLOYED</th>\n",
       "      <td id=\"T_e2960_row50_col0\" class=\"data row50 col0\" >55374</td>\n",
       "      <td id=\"T_e2960_row50_col1\" class=\"data row50 col1\" >18.010000</td>\n",
       "    </tr>\n",
       "    <tr>\n",
       "      <th id=\"T_e2960_level0_row51\" class=\"row_heading level0 row51\" >AMT_REQ_CREDIT_BUREAU_WEEK</th>\n",
       "      <td id=\"T_e2960_row51_col0\" class=\"data row51 col0\" >41519</td>\n",
       "      <td id=\"T_e2960_row51_col1\" class=\"data row51 col1\" >13.500000</td>\n",
       "    </tr>\n",
       "    <tr>\n",
       "      <th id=\"T_e2960_level0_row52\" class=\"row_heading level0 row52\" >AMT_REQ_CREDIT_BUREAU_MON</th>\n",
       "      <td id=\"T_e2960_row52_col0\" class=\"data row52 col0\" >41519</td>\n",
       "      <td id=\"T_e2960_row52_col1\" class=\"data row52 col1\" >13.500000</td>\n",
       "    </tr>\n",
       "    <tr>\n",
       "      <th id=\"T_e2960_level0_row53\" class=\"row_heading level0 row53\" >AMT_REQ_CREDIT_BUREAU_HOUR</th>\n",
       "      <td id=\"T_e2960_row53_col0\" class=\"data row53 col0\" >41519</td>\n",
       "      <td id=\"T_e2960_row53_col1\" class=\"data row53 col1\" >13.500000</td>\n",
       "    </tr>\n",
       "    <tr>\n",
       "      <th id=\"T_e2960_level0_row54\" class=\"row_heading level0 row54\" >AMT_REQ_CREDIT_BUREAU_QRT</th>\n",
       "      <td id=\"T_e2960_row54_col0\" class=\"data row54 col0\" >41519</td>\n",
       "      <td id=\"T_e2960_row54_col1\" class=\"data row54 col1\" >13.500000</td>\n",
       "    </tr>\n",
       "    <tr>\n",
       "      <th id=\"T_e2960_level0_row55\" class=\"row_heading level0 row55\" >AMT_REQ_CREDIT_BUREAU_DAY</th>\n",
       "      <td id=\"T_e2960_row55_col0\" class=\"data row55 col0\" >41519</td>\n",
       "      <td id=\"T_e2960_row55_col1\" class=\"data row55 col1\" >13.500000</td>\n",
       "    </tr>\n",
       "    <tr>\n",
       "      <th id=\"T_e2960_level0_row56\" class=\"row_heading level0 row56\" >AMT_REQ_CREDIT_BUREAU_YEAR</th>\n",
       "      <td id=\"T_e2960_row56_col0\" class=\"data row56 col0\" >41519</td>\n",
       "      <td id=\"T_e2960_row56_col1\" class=\"data row56 col1\" >13.500000</td>\n",
       "    </tr>\n",
       "    <tr>\n",
       "      <th id=\"T_e2960_level0_row57\" class=\"row_heading level0 row57\" >NAME_TYPE_SUITE</th>\n",
       "      <td id=\"T_e2960_row57_col0\" class=\"data row57 col0\" >1292</td>\n",
       "      <td id=\"T_e2960_row57_col1\" class=\"data row57 col1\" >0.420000</td>\n",
       "    </tr>\n",
       "    <tr>\n",
       "      <th id=\"T_e2960_level0_row58\" class=\"row_heading level0 row58\" >DEF_30_CNT_SOCIAL_CIRCLE</th>\n",
       "      <td id=\"T_e2960_row58_col0\" class=\"data row58 col0\" >1021</td>\n",
       "      <td id=\"T_e2960_row58_col1\" class=\"data row58 col1\" >0.330000</td>\n",
       "    </tr>\n",
       "    <tr>\n",
       "      <th id=\"T_e2960_level0_row59\" class=\"row_heading level0 row59\" >OBS_60_CNT_SOCIAL_CIRCLE</th>\n",
       "      <td id=\"T_e2960_row59_col0\" class=\"data row59 col0\" >1021</td>\n",
       "      <td id=\"T_e2960_row59_col1\" class=\"data row59 col1\" >0.330000</td>\n",
       "    </tr>\n",
       "    <tr>\n",
       "      <th id=\"T_e2960_level0_row60\" class=\"row_heading level0 row60\" >DEF_60_CNT_SOCIAL_CIRCLE</th>\n",
       "      <td id=\"T_e2960_row60_col0\" class=\"data row60 col0\" >1021</td>\n",
       "      <td id=\"T_e2960_row60_col1\" class=\"data row60 col1\" >0.330000</td>\n",
       "    </tr>\n",
       "    <tr>\n",
       "      <th id=\"T_e2960_level0_row61\" class=\"row_heading level0 row61\" >OBS_30_CNT_SOCIAL_CIRCLE</th>\n",
       "      <td id=\"T_e2960_row61_col0\" class=\"data row61 col0\" >1021</td>\n",
       "      <td id=\"T_e2960_row61_col1\" class=\"data row61 col1\" >0.330000</td>\n",
       "    </tr>\n",
       "    <tr>\n",
       "      <th id=\"T_e2960_level0_row62\" class=\"row_heading level0 row62\" >EXT_SOURCE_2</th>\n",
       "      <td id=\"T_e2960_row62_col0\" class=\"data row62 col0\" >660</td>\n",
       "      <td id=\"T_e2960_row62_col1\" class=\"data row62 col1\" >0.210000</td>\n",
       "    </tr>\n",
       "    <tr>\n",
       "      <th id=\"T_e2960_level0_row63\" class=\"row_heading level0 row63\" >AMT_GOODS_PRICE</th>\n",
       "      <td id=\"T_e2960_row63_col0\" class=\"data row63 col0\" >278</td>\n",
       "      <td id=\"T_e2960_row63_col1\" class=\"data row63 col1\" >0.090000</td>\n",
       "    </tr>\n",
       "    <tr>\n",
       "      <th id=\"T_e2960_level0_row64\" class=\"row_heading level0 row64\" >DAYS_LAST_PHONE_CHANGE</th>\n",
       "      <td id=\"T_e2960_row64_col0\" class=\"data row64 col0\" >1</td>\n",
       "      <td id=\"T_e2960_row64_col1\" class=\"data row64 col1\" >0.000000</td>\n",
       "    </tr>\n",
       "    <tr>\n",
       "      <th id=\"T_e2960_level0_row65\" class=\"row_heading level0 row65\" >CNT_FAM_MEMBERS</th>\n",
       "      <td id=\"T_e2960_row65_col0\" class=\"data row65 col0\" >2</td>\n",
       "      <td id=\"T_e2960_row65_col1\" class=\"data row65 col1\" >0.000000</td>\n",
       "    </tr>\n",
       "    <tr>\n",
       "      <th id=\"T_e2960_level0_row66\" class=\"row_heading level0 row66\" >AMT_ANNUITY</th>\n",
       "      <td id=\"T_e2960_row66_col0\" class=\"data row66 col0\" >12</td>\n",
       "      <td id=\"T_e2960_row66_col1\" class=\"data row66 col1\" >0.000000</td>\n",
       "    </tr>\n",
       "  </tbody>\n",
       "</table>\n"
      ],
      "text/plain": [
       "<pandas.io.formats.style.Styler at 0x7f136ffffaf0>"
      ]
     },
     "metadata": {},
     "output_type": "display_data"
    }
   ],
   "source": [
    "# Valeurs manquantes du dataframe\n",
    "df_nan_applitrain = tools_dataframe.get_missing_values(application_train,\n",
    "                                                       True, False, True)"
   ]
  },
  {
   "cell_type": "markdown",
   "id": "120f8e1a-92bc-4efb-9b0c-0c61f07a55fb",
   "metadata": {},
   "source": [
    "\n",
    "* From the important variables identified during the exploratory analysis to distinguish non-defaulters from defaulters, the FLOORSMIN_AVG variable has the highest number of missing values (67.85%).\n",
    "* We set the threshold for deleting variables with many missing values at 68%."
   ]
  },
  {
   "cell_type": "code",
   "execution_count": 56,
   "id": "c36a4256-94de-43e4-81d7-d6530e39beef",
   "metadata": {
    "run_control": {
     "marked": false
    }
   },
   "outputs": [
    {
     "name": "stdout",
     "output_type": "stream",
     "text": [
      "Missing values : 1391484 NaN for 5898024 data (23.59 %)\n",
      "-------------------------------------------------------------\n",
      "Number and % of missing values by variable\n",
      "\n"
     ]
    },
    {
     "data": {
      "text/html": [
       "<style type=\"text/css\">\n",
       "#T_d4251_row0_col0, #T_d4251_row0_col1, #T_d4251_row1_col0, #T_d4251_row1_col1, #T_d4251_row2_col0, #T_d4251_row2_col1 {\n",
       "  background-color: #800000;\n",
       "  color: #f1f1f1;\n",
       "}\n",
       "#T_d4251_row3_col0, #T_d4251_row3_col1, #T_d4251_row4_col0, #T_d4251_row4_col1, #T_d4251_row5_col0, #T_d4251_row5_col1 {\n",
       "  background-color: #820000;\n",
       "  color: #f1f1f1;\n",
       "}\n",
       "#T_d4251_row6_col0, #T_d4251_row6_col1, #T_d4251_row7_col0, #T_d4251_row7_col1, #T_d4251_row8_col0, #T_d4251_row8_col1, #T_d4251_row9_col0, #T_d4251_row9_col1 {\n",
       "  background-color: #8a0000;\n",
       "  color: #f1f1f1;\n",
       "}\n",
       "#T_d4251_row10_col0, #T_d4251_row10_col1, #T_d4251_row11_col0, #T_d4251_row11_col1, #T_d4251_row12_col0, #T_d4251_row12_col1 {\n",
       "  background-color: #8e0000;\n",
       "  color: #f1f1f1;\n",
       "}\n",
       "#T_d4251_row13_col0, #T_d4251_row13_col1 {\n",
       "  background-color: #920000;\n",
       "  color: #f1f1f1;\n",
       "}\n",
       "#T_d4251_row14_col0, #T_d4251_row14_col1, #T_d4251_row15_col0, #T_d4251_row15_col1, #T_d4251_row16_col0, #T_d4251_row16_col1 {\n",
       "  background-color: #980000;\n",
       "  color: #f1f1f1;\n",
       "}\n",
       "#T_d4251_row17_col0, #T_d4251_row17_col1, #T_d4251_row18_col0, #T_d4251_row18_col1, #T_d4251_row19_col0, #T_d4251_row19_col1 {\n",
       "  background-color: #d00000;\n",
       "  color: #f1f1f1;\n",
       "}\n",
       "#T_d4251_row20_col0, #T_d4251_row20_col1, #T_d4251_row21_col0, #T_d4251_row21_col1, #T_d4251_row22_col0, #T_d4251_row22_col1 {\n",
       "  background-color: #d80000;\n",
       "  color: #f1f1f1;\n",
       "}\n",
       "#T_d4251_row23_col0, #T_d4251_row23_col1, #T_d4251_row24_col0, #T_d4251_row24_col1, #T_d4251_row25_col0, #T_d4251_row25_col1 {\n",
       "  background-color: #f00000;\n",
       "  color: #f1f1f1;\n",
       "}\n",
       "#T_d4251_row26_col0, #T_d4251_row26_col1, #T_d4251_row27_col0, #T_d4251_row27_col1, #T_d4251_row28_col0, #T_d4251_row28_col1 {\n",
       "  background-color: #fe0000;\n",
       "  color: #f1f1f1;\n",
       "}\n",
       "#T_d4251_row29_col0, #T_d4251_row29_col1, #T_d4251_row30_col0, #T_d4251_row30_col1, #T_d4251_row31_col0, #T_d4251_row31_col1, #T_d4251_row32_col0, #T_d4251_row32_col1 {\n",
       "  background-color: #ff2525;\n",
       "  color: #f1f1f1;\n",
       "}\n",
       "#T_d4251_row33_col0, #T_d4251_row33_col1, #T_d4251_row34_col0, #T_d4251_row34_col1, #T_d4251_row35_col0, #T_d4251_row35_col1, #T_d4251_row36_col0, #T_d4251_row36_col1 {\n",
       "  background-color: #ff2d2d;\n",
       "  color: #f1f1f1;\n",
       "}\n",
       "#T_d4251_row37_col0, #T_d4251_row37_col1, #T_d4251_row38_col0, #T_d4251_row38_col1, #T_d4251_row39_col0, #T_d4251_row39_col1 {\n",
       "  background-color: #ff3131;\n",
       "  color: #f1f1f1;\n",
       "}\n",
       "#T_d4251_row40_col0, #T_d4251_row40_col1, #T_d4251_row41_col0, #T_d4251_row41_col1, #T_d4251_row42_col0, #T_d4251_row42_col1 {\n",
       "  background-color: #ff3535;\n",
       "  color: #f1f1f1;\n",
       "}\n",
       "#T_d4251_row43_col0, #T_d4251_row43_col1, #T_d4251_row44_col0, #T_d4251_row44_col1, #T_d4251_row45_col0, #T_d4251_row45_col1 {\n",
       "  background-color: #ff4545;\n",
       "  color: #f1f1f1;\n",
       "}\n",
       "#T_d4251_row46_col0, #T_d4251_row46_col1 {\n",
       "  background-color: #ff4d4d;\n",
       "  color: #f1f1f1;\n",
       "}\n",
       "#T_d4251_row47_col0, #T_d4251_row47_col1 {\n",
       "  background-color: #ff8d8d;\n",
       "  color: #000000;\n",
       "}\n",
       "#T_d4251_row48_col0, #T_d4251_row48_col1 {\n",
       "  background-color: #ddddff;\n",
       "  color: #000000;\n",
       "}\n",
       "#T_d4251_row49_col0, #T_d4251_row49_col1 {\n",
       "  background-color: #1919ff;\n",
       "  color: #f1f1f1;\n",
       "}\n",
       "#T_d4251_row50_col0, #T_d4251_row50_col1 {\n",
       "  background-color: #0909ff;\n",
       "  color: #f1f1f1;\n",
       "}\n",
       "#T_d4251_row51_col0, #T_d4251_row51_col1, #T_d4251_row52_col0, #T_d4251_row52_col1, #T_d4251_row53_col0, #T_d4251_row53_col1, #T_d4251_row54_col0, #T_d4251_row54_col1, #T_d4251_row55_col0, #T_d4251_row55_col1, #T_d4251_row56_col0, #T_d4251_row56_col1 {\n",
       "  background-color: #0000cd;\n",
       "  color: #f1f1f1;\n",
       "}\n",
       "#T_d4251_row57_col0, #T_d4251_row57_col1 {\n",
       "  background-color: #00005d;\n",
       "  color: #f1f1f1;\n",
       "}\n",
       "#T_d4251_row58_col0, #T_d4251_row58_col1, #T_d4251_row59_col0, #T_d4251_row59_col1, #T_d4251_row60_col0, #T_d4251_row60_col1, #T_d4251_row61_col0, #T_d4251_row61_col1, #T_d4251_row62_col0, #T_d4251_row62_col1, #T_d4251_row63_col0, #T_d4251_row63_col1 {\n",
       "  background-color: #00004c;\n",
       "  color: #f1f1f1;\n",
       "}\n",
       "</style>\n",
       "<table id=\"T_d4251\">\n",
       "  <thead>\n",
       "    <tr>\n",
       "      <th class=\"blank level0\" >&nbsp;</th>\n",
       "      <th id=\"T_d4251_level0_col0\" class=\"col_heading level0 col0\" >Number of missing values</th>\n",
       "      <th id=\"T_d4251_level0_col1\" class=\"col_heading level0 col1\" >% of missing values</th>\n",
       "    </tr>\n",
       "  </thead>\n",
       "  <tbody>\n",
       "    <tr>\n",
       "      <th id=\"T_d4251_level0_row0\" class=\"row_heading level0 row0\" >COMMONAREA_MEDI</th>\n",
       "      <td id=\"T_d4251_row0_col0\" class=\"data row0 col0\" >33495</td>\n",
       "      <td id=\"T_d4251_row0_col1\" class=\"data row0 col1\" >68.720000</td>\n",
       "    </tr>\n",
       "    <tr>\n",
       "      <th id=\"T_d4251_level0_row1\" class=\"row_heading level0 row1\" >COMMONAREA_MODE</th>\n",
       "      <td id=\"T_d4251_row1_col0\" class=\"data row1 col0\" >33495</td>\n",
       "      <td id=\"T_d4251_row1_col1\" class=\"data row1 col1\" >68.720000</td>\n",
       "    </tr>\n",
       "    <tr>\n",
       "      <th id=\"T_d4251_level0_row2\" class=\"row_heading level0 row2\" >COMMONAREA_AVG</th>\n",
       "      <td id=\"T_d4251_row2_col0\" class=\"data row2 col0\" >33495</td>\n",
       "      <td id=\"T_d4251_row2_col1\" class=\"data row2 col1\" >68.720000</td>\n",
       "    </tr>\n",
       "    <tr>\n",
       "      <th id=\"T_d4251_level0_row3\" class=\"row_heading level0 row3\" >NONLIVINGAPARTMENTS_MODE</th>\n",
       "      <td id=\"T_d4251_row3_col0\" class=\"data row3 col0\" >33347</td>\n",
       "      <td id=\"T_d4251_row3_col1\" class=\"data row3 col1\" >68.410000</td>\n",
       "    </tr>\n",
       "    <tr>\n",
       "      <th id=\"T_d4251_level0_row4\" class=\"row_heading level0 row4\" >NONLIVINGAPARTMENTS_AVG</th>\n",
       "      <td id=\"T_d4251_row4_col0\" class=\"data row4 col0\" >33347</td>\n",
       "      <td id=\"T_d4251_row4_col1\" class=\"data row4 col1\" >68.410000</td>\n",
       "    </tr>\n",
       "    <tr>\n",
       "      <th id=\"T_d4251_level0_row5\" class=\"row_heading level0 row5\" >NONLIVINGAPARTMENTS_MEDI</th>\n",
       "      <td id=\"T_d4251_row5_col0\" class=\"data row5 col0\" >33347</td>\n",
       "      <td id=\"T_d4251_row5_col1\" class=\"data row5 col1\" >68.410000</td>\n",
       "    </tr>\n",
       "    <tr>\n",
       "      <th id=\"T_d4251_level0_row6\" class=\"row_heading level0 row6\" >FONDKAPREMONT_MODE</th>\n",
       "      <td id=\"T_d4251_row6_col0\" class=\"data row6 col0\" >32797</td>\n",
       "      <td id=\"T_d4251_row6_col1\" class=\"data row6 col1\" >67.280000</td>\n",
       "    </tr>\n",
       "    <tr>\n",
       "      <th id=\"T_d4251_level0_row7\" class=\"row_heading level0 row7\" >LIVINGAPARTMENTS_MEDI</th>\n",
       "      <td id=\"T_d4251_row7_col0\" class=\"data row7 col0\" >32780</td>\n",
       "      <td id=\"T_d4251_row7_col1\" class=\"data row7 col1\" >67.250000</td>\n",
       "    </tr>\n",
       "    <tr>\n",
       "      <th id=\"T_d4251_level0_row8\" class=\"row_heading level0 row8\" >LIVINGAPARTMENTS_AVG</th>\n",
       "      <td id=\"T_d4251_row8_col0\" class=\"data row8 col0\" >32780</td>\n",
       "      <td id=\"T_d4251_row8_col1\" class=\"data row8 col1\" >67.250000</td>\n",
       "    </tr>\n",
       "    <tr>\n",
       "      <th id=\"T_d4251_level0_row9\" class=\"row_heading level0 row9\" >LIVINGAPARTMENTS_MODE</th>\n",
       "      <td id=\"T_d4251_row9_col0\" class=\"data row9 col0\" >32780</td>\n",
       "      <td id=\"T_d4251_row9_col1\" class=\"data row9 col1\" >67.250000</td>\n",
       "    </tr>\n",
       "    <tr>\n",
       "      <th id=\"T_d4251_level0_row10\" class=\"row_heading level0 row10\" >FLOORSMIN_MEDI</th>\n",
       "      <td id=\"T_d4251_row10_col0\" class=\"data row10 col0\" >32466</td>\n",
       "      <td id=\"T_d4251_row10_col1\" class=\"data row10 col1\" >66.610000</td>\n",
       "    </tr>\n",
       "    <tr>\n",
       "      <th id=\"T_d4251_level0_row11\" class=\"row_heading level0 row11\" >FLOORSMIN_AVG</th>\n",
       "      <td id=\"T_d4251_row11_col0\" class=\"data row11 col0\" >32466</td>\n",
       "      <td id=\"T_d4251_row11_col1\" class=\"data row11 col1\" >66.610000</td>\n",
       "    </tr>\n",
       "    <tr>\n",
       "      <th id=\"T_d4251_level0_row12\" class=\"row_heading level0 row12\" >FLOORSMIN_MODE</th>\n",
       "      <td id=\"T_d4251_row12_col0\" class=\"data row12 col0\" >32466</td>\n",
       "      <td id=\"T_d4251_row12_col1\" class=\"data row12 col1\" >66.610000</td>\n",
       "    </tr>\n",
       "    <tr>\n",
       "      <th id=\"T_d4251_level0_row13\" class=\"row_heading level0 row13\" >OWN_CAR_AGE</th>\n",
       "      <td id=\"T_d4251_row13_col0\" class=\"data row13 col0\" >32312</td>\n",
       "      <td id=\"T_d4251_row13_col1\" class=\"data row13 col1\" >66.290000</td>\n",
       "    </tr>\n",
       "    <tr>\n",
       "      <th id=\"T_d4251_level0_row14\" class=\"row_heading level0 row14\" >YEARS_BUILD_AVG</th>\n",
       "      <td id=\"T_d4251_row14_col0\" class=\"data row14 col0\" >31818</td>\n",
       "      <td id=\"T_d4251_row14_col1\" class=\"data row14 col1\" >65.280000</td>\n",
       "    </tr>\n",
       "    <tr>\n",
       "      <th id=\"T_d4251_level0_row15\" class=\"row_heading level0 row15\" >YEARS_BUILD_MEDI</th>\n",
       "      <td id=\"T_d4251_row15_col0\" class=\"data row15 col0\" >31818</td>\n",
       "      <td id=\"T_d4251_row15_col1\" class=\"data row15 col1\" >65.280000</td>\n",
       "    </tr>\n",
       "    <tr>\n",
       "      <th id=\"T_d4251_level0_row16\" class=\"row_heading level0 row16\" >YEARS_BUILD_MODE</th>\n",
       "      <td id=\"T_d4251_row16_col0\" class=\"data row16 col0\" >31818</td>\n",
       "      <td id=\"T_d4251_row16_col1\" class=\"data row16 col1\" >65.280000</td>\n",
       "    </tr>\n",
       "    <tr>\n",
       "      <th id=\"T_d4251_level0_row17\" class=\"row_heading level0 row17\" >LANDAREA_AVG</th>\n",
       "      <td id=\"T_d4251_row17_col0\" class=\"data row17 col0\" >28254</td>\n",
       "      <td id=\"T_d4251_row17_col1\" class=\"data row17 col1\" >57.960000</td>\n",
       "    </tr>\n",
       "    <tr>\n",
       "      <th id=\"T_d4251_level0_row18\" class=\"row_heading level0 row18\" >LANDAREA_MODE</th>\n",
       "      <td id=\"T_d4251_row18_col0\" class=\"data row18 col0\" >28254</td>\n",
       "      <td id=\"T_d4251_row18_col1\" class=\"data row18 col1\" >57.960000</td>\n",
       "    </tr>\n",
       "    <tr>\n",
       "      <th id=\"T_d4251_level0_row19\" class=\"row_heading level0 row19\" >LANDAREA_MEDI</th>\n",
       "      <td id=\"T_d4251_row19_col0\" class=\"data row19 col0\" >28254</td>\n",
       "      <td id=\"T_d4251_row19_col1\" class=\"data row19 col1\" >57.960000</td>\n",
       "    </tr>\n",
       "    <tr>\n",
       "      <th id=\"T_d4251_level0_row20\" class=\"row_heading level0 row20\" >BASEMENTAREA_MEDI</th>\n",
       "      <td id=\"T_d4251_row20_col0\" class=\"data row20 col0\" >27641</td>\n",
       "      <td id=\"T_d4251_row20_col1\" class=\"data row20 col1\" >56.710000</td>\n",
       "    </tr>\n",
       "    <tr>\n",
       "      <th id=\"T_d4251_level0_row21\" class=\"row_heading level0 row21\" >BASEMENTAREA_MODE</th>\n",
       "      <td id=\"T_d4251_row21_col0\" class=\"data row21 col0\" >27641</td>\n",
       "      <td id=\"T_d4251_row21_col1\" class=\"data row21 col1\" >56.710000</td>\n",
       "    </tr>\n",
       "    <tr>\n",
       "      <th id=\"T_d4251_level0_row22\" class=\"row_heading level0 row22\" >BASEMENTAREA_AVG</th>\n",
       "      <td id=\"T_d4251_row22_col0\" class=\"data row22 col0\" >27641</td>\n",
       "      <td id=\"T_d4251_row22_col1\" class=\"data row22 col1\" >56.710000</td>\n",
       "    </tr>\n",
       "    <tr>\n",
       "      <th id=\"T_d4251_level0_row23\" class=\"row_heading level0 row23\" >NONLIVINGAREA_AVG</th>\n",
       "      <td id=\"T_d4251_row23_col0\" class=\"data row23 col0\" >26084</td>\n",
       "      <td id=\"T_d4251_row23_col1\" class=\"data row23 col1\" >53.510000</td>\n",
       "    </tr>\n",
       "    <tr>\n",
       "      <th id=\"T_d4251_level0_row24\" class=\"row_heading level0 row24\" >NONLIVINGAREA_MEDI</th>\n",
       "      <td id=\"T_d4251_row24_col0\" class=\"data row24 col0\" >26084</td>\n",
       "      <td id=\"T_d4251_row24_col1\" class=\"data row24 col1\" >53.510000</td>\n",
       "    </tr>\n",
       "    <tr>\n",
       "      <th id=\"T_d4251_level0_row25\" class=\"row_heading level0 row25\" >NONLIVINGAREA_MODE</th>\n",
       "      <td id=\"T_d4251_row25_col0\" class=\"data row25 col0\" >26084</td>\n",
       "      <td id=\"T_d4251_row25_col1\" class=\"data row25 col1\" >53.510000</td>\n",
       "    </tr>\n",
       "    <tr>\n",
       "      <th id=\"T_d4251_level0_row26\" class=\"row_heading level0 row26\" >ELEVATORS_MEDI</th>\n",
       "      <td id=\"T_d4251_row26_col0\" class=\"data row26 col0\" >25189</td>\n",
       "      <td id=\"T_d4251_row26_col1\" class=\"data row26 col1\" >51.680000</td>\n",
       "    </tr>\n",
       "    <tr>\n",
       "      <th id=\"T_d4251_level0_row27\" class=\"row_heading level0 row27\" >ELEVATORS_MODE</th>\n",
       "      <td id=\"T_d4251_row27_col0\" class=\"data row27 col0\" >25189</td>\n",
       "      <td id=\"T_d4251_row27_col1\" class=\"data row27 col1\" >51.680000</td>\n",
       "    </tr>\n",
       "    <tr>\n",
       "      <th id=\"T_d4251_level0_row28\" class=\"row_heading level0 row28\" >ELEVATORS_AVG</th>\n",
       "      <td id=\"T_d4251_row28_col0\" class=\"data row28 col0\" >25189</td>\n",
       "      <td id=\"T_d4251_row28_col1\" class=\"data row28 col1\" >51.680000</td>\n",
       "    </tr>\n",
       "    <tr>\n",
       "      <th id=\"T_d4251_level0_row29\" class=\"row_heading level0 row29\" >WALLSMATERIAL_MODE</th>\n",
       "      <td id=\"T_d4251_row29_col0\" class=\"data row29 col0\" >23893</td>\n",
       "      <td id=\"T_d4251_row29_col1\" class=\"data row29 col1\" >49.020000</td>\n",
       "    </tr>\n",
       "    <tr>\n",
       "      <th id=\"T_d4251_level0_row30\" class=\"row_heading level0 row30\" >APARTMENTS_AVG</th>\n",
       "      <td id=\"T_d4251_row30_col0\" class=\"data row30 col0\" >23887</td>\n",
       "      <td id=\"T_d4251_row30_col1\" class=\"data row30 col1\" >49.010000</td>\n",
       "    </tr>\n",
       "    <tr>\n",
       "      <th id=\"T_d4251_level0_row31\" class=\"row_heading level0 row31\" >APARTMENTS_MEDI</th>\n",
       "      <td id=\"T_d4251_row31_col0\" class=\"data row31 col0\" >23887</td>\n",
       "      <td id=\"T_d4251_row31_col1\" class=\"data row31 col1\" >49.010000</td>\n",
       "    </tr>\n",
       "    <tr>\n",
       "      <th id=\"T_d4251_level0_row32\" class=\"row_heading level0 row32\" >APARTMENTS_MODE</th>\n",
       "      <td id=\"T_d4251_row32_col0\" class=\"data row32 col0\" >23887</td>\n",
       "      <td id=\"T_d4251_row32_col1\" class=\"data row32 col1\" >49.010000</td>\n",
       "    </tr>\n",
       "    <tr>\n",
       "      <th id=\"T_d4251_level0_row33\" class=\"row_heading level0 row33\" >HOUSETYPE_MODE</th>\n",
       "      <td id=\"T_d4251_row33_col0\" class=\"data row33 col0\" >23619</td>\n",
       "      <td id=\"T_d4251_row33_col1\" class=\"data row33 col1\" >48.460000</td>\n",
       "    </tr>\n",
       "    <tr>\n",
       "      <th id=\"T_d4251_level0_row34\" class=\"row_heading level0 row34\" >ENTRANCES_MEDI</th>\n",
       "      <td id=\"T_d4251_row34_col0\" class=\"data row34 col0\" >23579</td>\n",
       "      <td id=\"T_d4251_row34_col1\" class=\"data row34 col1\" >48.370000</td>\n",
       "    </tr>\n",
       "    <tr>\n",
       "      <th id=\"T_d4251_level0_row35\" class=\"row_heading level0 row35\" >ENTRANCES_MODE</th>\n",
       "      <td id=\"T_d4251_row35_col0\" class=\"data row35 col0\" >23579</td>\n",
       "      <td id=\"T_d4251_row35_col1\" class=\"data row35 col1\" >48.370000</td>\n",
       "    </tr>\n",
       "    <tr>\n",
       "      <th id=\"T_d4251_level0_row36\" class=\"row_heading level0 row36\" >ENTRANCES_AVG</th>\n",
       "      <td id=\"T_d4251_row36_col0\" class=\"data row36 col0\" >23579</td>\n",
       "      <td id=\"T_d4251_row36_col1\" class=\"data row36 col1\" >48.370000</td>\n",
       "    </tr>\n",
       "    <tr>\n",
       "      <th id=\"T_d4251_level0_row37\" class=\"row_heading level0 row37\" >LIVINGAREA_MODE</th>\n",
       "      <td id=\"T_d4251_row37_col0\" class=\"data row37 col0\" >23552</td>\n",
       "      <td id=\"T_d4251_row37_col1\" class=\"data row37 col1\" >48.320000</td>\n",
       "    </tr>\n",
       "    <tr>\n",
       "      <th id=\"T_d4251_level0_row38\" class=\"row_heading level0 row38\" >LIVINGAREA_MEDI</th>\n",
       "      <td id=\"T_d4251_row38_col0\" class=\"data row38 col0\" >23552</td>\n",
       "      <td id=\"T_d4251_row38_col1\" class=\"data row38 col1\" >48.320000</td>\n",
       "    </tr>\n",
       "    <tr>\n",
       "      <th id=\"T_d4251_level0_row39\" class=\"row_heading level0 row39\" >LIVINGAREA_AVG</th>\n",
       "      <td id=\"T_d4251_row39_col0\" class=\"data row39 col0\" >23552</td>\n",
       "      <td id=\"T_d4251_row39_col1\" class=\"data row39 col1\" >48.320000</td>\n",
       "    </tr>\n",
       "    <tr>\n",
       "      <th id=\"T_d4251_level0_row40\" class=\"row_heading level0 row40\" >FLOORSMAX_MEDI</th>\n",
       "      <td id=\"T_d4251_row40_col0\" class=\"data row40 col0\" >23321</td>\n",
       "      <td id=\"T_d4251_row40_col1\" class=\"data row40 col1\" >47.840000</td>\n",
       "    </tr>\n",
       "    <tr>\n",
       "      <th id=\"T_d4251_level0_row41\" class=\"row_heading level0 row41\" >FLOORSMAX_MODE</th>\n",
       "      <td id=\"T_d4251_row41_col0\" class=\"data row41 col0\" >23321</td>\n",
       "      <td id=\"T_d4251_row41_col1\" class=\"data row41 col1\" >47.840000</td>\n",
       "    </tr>\n",
       "    <tr>\n",
       "      <th id=\"T_d4251_level0_row42\" class=\"row_heading level0 row42\" >FLOORSMAX_AVG</th>\n",
       "      <td id=\"T_d4251_row42_col0\" class=\"data row42 col0\" >23321</td>\n",
       "      <td id=\"T_d4251_row42_col1\" class=\"data row42 col1\" >47.840000</td>\n",
       "    </tr>\n",
       "    <tr>\n",
       "      <th id=\"T_d4251_level0_row43\" class=\"row_heading level0 row43\" >YEARS_BEGINEXPLUATATION_AVG</th>\n",
       "      <td id=\"T_d4251_row43_col0\" class=\"data row43 col0\" >22856</td>\n",
       "      <td id=\"T_d4251_row43_col1\" class=\"data row43 col1\" >46.890000</td>\n",
       "    </tr>\n",
       "    <tr>\n",
       "      <th id=\"T_d4251_level0_row44\" class=\"row_heading level0 row44\" >YEARS_BEGINEXPLUATATION_MODE</th>\n",
       "      <td id=\"T_d4251_row44_col0\" class=\"data row44 col0\" >22856</td>\n",
       "      <td id=\"T_d4251_row44_col1\" class=\"data row44 col1\" >46.890000</td>\n",
       "    </tr>\n",
       "    <tr>\n",
       "      <th id=\"T_d4251_level0_row45\" class=\"row_heading level0 row45\" >YEARS_BEGINEXPLUATATION_MEDI</th>\n",
       "      <td id=\"T_d4251_row45_col0\" class=\"data row45 col0\" >22856</td>\n",
       "      <td id=\"T_d4251_row45_col1\" class=\"data row45 col1\" >46.890000</td>\n",
       "    </tr>\n",
       "    <tr>\n",
       "      <th id=\"T_d4251_level0_row46\" class=\"row_heading level0 row46\" >TOTALAREA_MODE</th>\n",
       "      <td id=\"T_d4251_row46_col0\" class=\"data row46 col0\" >22624</td>\n",
       "      <td id=\"T_d4251_row46_col1\" class=\"data row46 col1\" >46.410000</td>\n",
       "    </tr>\n",
       "    <tr>\n",
       "      <th id=\"T_d4251_level0_row47\" class=\"row_heading level0 row47\" >EXT_SOURCE_1</th>\n",
       "      <td id=\"T_d4251_row47_col0\" class=\"data row47 col0\" >20532</td>\n",
       "      <td id=\"T_d4251_row47_col1\" class=\"data row47 col1\" >42.120000</td>\n",
       "    </tr>\n",
       "    <tr>\n",
       "      <th id=\"T_d4251_level0_row48\" class=\"row_heading level0 row48\" >OCCUPATION_TYPE</th>\n",
       "      <td id=\"T_d4251_row48_col0\" class=\"data row48 col0\" >15605</td>\n",
       "      <td id=\"T_d4251_row48_col1\" class=\"data row48 col1\" >32.010000</td>\n",
       "    </tr>\n",
       "    <tr>\n",
       "      <th id=\"T_d4251_level0_row49\" class=\"row_heading level0 row49\" >DAYS_EMPLOYED</th>\n",
       "      <td id=\"T_d4251_row49_col0\" class=\"data row49 col0\" >9274</td>\n",
       "      <td id=\"T_d4251_row49_col1\" class=\"data row49 col1\" >19.030000</td>\n",
       "    </tr>\n",
       "    <tr>\n",
       "      <th id=\"T_d4251_level0_row50\" class=\"row_heading level0 row50\" >EXT_SOURCE_3</th>\n",
       "      <td id=\"T_d4251_row50_col0\" class=\"data row50 col0\" >8668</td>\n",
       "      <td id=\"T_d4251_row50_col1\" class=\"data row50 col1\" >17.780000</td>\n",
       "    </tr>\n",
       "    <tr>\n",
       "      <th id=\"T_d4251_level0_row51\" class=\"row_heading level0 row51\" >AMT_REQ_CREDIT_BUREAU_HOUR</th>\n",
       "      <td id=\"T_d4251_row51_col0\" class=\"data row51 col0\" >6049</td>\n",
       "      <td id=\"T_d4251_row51_col1\" class=\"data row51 col1\" >12.410000</td>\n",
       "    </tr>\n",
       "    <tr>\n",
       "      <th id=\"T_d4251_level0_row52\" class=\"row_heading level0 row52\" >AMT_REQ_CREDIT_BUREAU_MON</th>\n",
       "      <td id=\"T_d4251_row52_col0\" class=\"data row52 col0\" >6049</td>\n",
       "      <td id=\"T_d4251_row52_col1\" class=\"data row52 col1\" >12.410000</td>\n",
       "    </tr>\n",
       "    <tr>\n",
       "      <th id=\"T_d4251_level0_row53\" class=\"row_heading level0 row53\" >AMT_REQ_CREDIT_BUREAU_QRT</th>\n",
       "      <td id=\"T_d4251_row53_col0\" class=\"data row53 col0\" >6049</td>\n",
       "      <td id=\"T_d4251_row53_col1\" class=\"data row53 col1\" >12.410000</td>\n",
       "    </tr>\n",
       "    <tr>\n",
       "      <th id=\"T_d4251_level0_row54\" class=\"row_heading level0 row54\" >AMT_REQ_CREDIT_BUREAU_WEEK</th>\n",
       "      <td id=\"T_d4251_row54_col0\" class=\"data row54 col0\" >6049</td>\n",
       "      <td id=\"T_d4251_row54_col1\" class=\"data row54 col1\" >12.410000</td>\n",
       "    </tr>\n",
       "    <tr>\n",
       "      <th id=\"T_d4251_level0_row55\" class=\"row_heading level0 row55\" >AMT_REQ_CREDIT_BUREAU_DAY</th>\n",
       "      <td id=\"T_d4251_row55_col0\" class=\"data row55 col0\" >6049</td>\n",
       "      <td id=\"T_d4251_row55_col1\" class=\"data row55 col1\" >12.410000</td>\n",
       "    </tr>\n",
       "    <tr>\n",
       "      <th id=\"T_d4251_level0_row56\" class=\"row_heading level0 row56\" >AMT_REQ_CREDIT_BUREAU_YEAR</th>\n",
       "      <td id=\"T_d4251_row56_col0\" class=\"data row56 col0\" >6049</td>\n",
       "      <td id=\"T_d4251_row56_col1\" class=\"data row56 col1\" >12.410000</td>\n",
       "    </tr>\n",
       "    <tr>\n",
       "      <th id=\"T_d4251_level0_row57\" class=\"row_heading level0 row57\" >NAME_TYPE_SUITE</th>\n",
       "      <td id=\"T_d4251_row57_col0\" class=\"data row57 col0\" >911</td>\n",
       "      <td id=\"T_d4251_row57_col1\" class=\"data row57 col1\" >1.870000</td>\n",
       "    </tr>\n",
       "    <tr>\n",
       "      <th id=\"T_d4251_level0_row58\" class=\"row_heading level0 row58\" >DEF_60_CNT_SOCIAL_CIRCLE</th>\n",
       "      <td id=\"T_d4251_row58_col0\" class=\"data row58 col0\" >29</td>\n",
       "      <td id=\"T_d4251_row58_col1\" class=\"data row58 col1\" >0.060000</td>\n",
       "    </tr>\n",
       "    <tr>\n",
       "      <th id=\"T_d4251_level0_row59\" class=\"row_heading level0 row59\" >OBS_60_CNT_SOCIAL_CIRCLE</th>\n",
       "      <td id=\"T_d4251_row59_col0\" class=\"data row59 col0\" >29</td>\n",
       "      <td id=\"T_d4251_row59_col1\" class=\"data row59 col1\" >0.060000</td>\n",
       "    </tr>\n",
       "    <tr>\n",
       "      <th id=\"T_d4251_level0_row60\" class=\"row_heading level0 row60\" >DEF_30_CNT_SOCIAL_CIRCLE</th>\n",
       "      <td id=\"T_d4251_row60_col0\" class=\"data row60 col0\" >29</td>\n",
       "      <td id=\"T_d4251_row60_col1\" class=\"data row60 col1\" >0.060000</td>\n",
       "    </tr>\n",
       "    <tr>\n",
       "      <th id=\"T_d4251_level0_row61\" class=\"row_heading level0 row61\" >OBS_30_CNT_SOCIAL_CIRCLE</th>\n",
       "      <td id=\"T_d4251_row61_col0\" class=\"data row61 col0\" >29</td>\n",
       "      <td id=\"T_d4251_row61_col1\" class=\"data row61 col1\" >0.060000</td>\n",
       "    </tr>\n",
       "    <tr>\n",
       "      <th id=\"T_d4251_level0_row62\" class=\"row_heading level0 row62\" >AMT_ANNUITY</th>\n",
       "      <td id=\"T_d4251_row62_col0\" class=\"data row62 col0\" >24</td>\n",
       "      <td id=\"T_d4251_row62_col1\" class=\"data row62 col1\" >0.050000</td>\n",
       "    </tr>\n",
       "    <tr>\n",
       "      <th id=\"T_d4251_level0_row63\" class=\"row_heading level0 row63\" >EXT_SOURCE_2</th>\n",
       "      <td id=\"T_d4251_row63_col0\" class=\"data row63 col0\" >8</td>\n",
       "      <td id=\"T_d4251_row63_col1\" class=\"data row63 col1\" >0.020000</td>\n",
       "    </tr>\n",
       "  </tbody>\n",
       "</table>\n"
      ],
      "text/plain": [
       "<pandas.io.formats.style.Styler at 0x7f136fd672b0>"
      ]
     },
     "metadata": {},
     "output_type": "display_data"
    }
   ],
   "source": [
    "# Valeurs manquantes du dataframe\n",
    "df_nan_applitest = tools_dataframe.get_missing_values(application_test,\n",
    "                                                       True, False, True)"
   ]
  },
  {
   "cell_type": "markdown",
   "id": "130c47d0-29f4-4a31-b8e0-36a6fd932dd8",
   "metadata": {},
   "source": [
    "\n",
    "* From the important variables identified during the exploratory analysis to distinguish non-defaulters from defaulters, the FLOORSMIN_AVG variable has the highest number of missing values (66.61%).\n",
    "* We set the threshold for deleting variables with many missing values at 67%."
   ]
  },
  {
   "cell_type": "code",
   "execution_count": 17,
   "id": "18c23d24-4ac3-4c6d-9612-f05fa2a423cf",
   "metadata": {
    "run_control": {
     "marked": false
    }
   },
   "outputs": [
    {
     "name": "stdout",
     "output_type": "stream",
     "text": [
      "Number of variables to remove : 10\n"
     ]
    },
    {
     "data": {
      "text/plain": [
       "['COMMONAREA_AVG',\n",
       " 'LIVINGAPARTMENTS_AVG',\n",
       " 'NONLIVINGAPARTMENTS_AVG',\n",
       " 'COMMONAREA_MODE',\n",
       " 'LIVINGAPARTMENTS_MODE',\n",
       " 'NONLIVINGAPARTMENTS_MODE',\n",
       " 'COMMONAREA_MEDI',\n",
       " 'LIVINGAPARTMENTS_MEDI',\n",
       " 'NONLIVINGAPARTMENTS_MEDI',\n",
       " 'FONDKAPREMONT_MODE']"
      ]
     },
     "execution_count": 17,
     "metadata": {},
     "output_type": "execute_result"
    }
   ],
   "source": [
    "# List of variables with more than 68% of missing values\n",
    "cols_nan_remov_train = \\\n",
    "    df_nan_applitrain[df_nan_applitrain['% of missing values'] > 68] \\\n",
    "    .index.to_list()\n",
    "print(f'Number of variables to remove : {len(cols_nan_remov_train)}')\n",
    "cols_nan_remov_train"
   ]
  },
  {
   "cell_type": "code",
   "execution_count": 57,
   "id": "24bc6648-6e28-456c-a9a5-40a46e3bcea6",
   "metadata": {
    "run_control": {
     "marked": false
    }
   },
   "outputs": [
    {
     "name": "stdout",
     "output_type": "stream",
     "text": [
      "Number of variables to remove : 10\n"
     ]
    },
    {
     "data": {
      "text/plain": [
       "['COMMONAREA_AVG',\n",
       " 'LIVINGAPARTMENTS_AVG',\n",
       " 'NONLIVINGAPARTMENTS_AVG',\n",
       " 'COMMONAREA_MODE',\n",
       " 'LIVINGAPARTMENTS_MODE',\n",
       " 'NONLIVINGAPARTMENTS_MODE',\n",
       " 'COMMONAREA_MEDI',\n",
       " 'LIVINGAPARTMENTS_MEDI',\n",
       " 'NONLIVINGAPARTMENTS_MEDI',\n",
       " 'FONDKAPREMONT_MODE']"
      ]
     },
     "execution_count": 57,
     "metadata": {},
     "output_type": "execute_result"
    }
   ],
   "source": [
    "# List of variables with more than 67% of missing values\n",
    "cols_nan_remov_test = \\\n",
    "    df_nan_applitest[df_nan_applitest['% of missing values'] > 67] \\\n",
    "    .index.to_list()\n",
    "print(f'Number of variables to remove : {len(cols_nan_remov_test)}')\n",
    "cols_nan_remov_test"
   ]
  },
  {
   "cell_type": "code",
   "execution_count": 18,
   "id": "dfcd00e3-08d9-40ac-93a1-47b715f44374",
   "metadata": {
    "run_control": {
     "marked": false
    },
    "scrolled": true
   },
   "outputs": [
    {
     "name": "stdout",
     "output_type": "stream",
     "text": [
      "The dataset contains 307511 rows and 112 variables.\n"
     ]
    }
   ],
   "source": [
    "# Remove with % of nan over the threshold > 68%\n",
    "application_train.drop(columns=cols_nan_remov, inplace=True)\n",
    "\n",
    "# Categorical variables\n",
    "cols_cat = application_train.select_dtypes(exclude=[np.number]).columns \\\n",
    "    .to_list()\n",
    "# Continuous variables\n",
    "cols_num_train = application_train.select_dtypes(include=[np.number]).columns \\\n",
    "    .to_list()\n",
    "\n",
    "# Size : number of rows/columns\n",
    "nRow, nVar = application_train.shape\n",
    "print(f'The dataset application_train contains {nRow} rows and {nVar} variables.')"
   ]
  },
  {
   "cell_type": "code",
   "execution_count": 58,
   "id": "86467bdd-b761-4bc6-9ee7-bf63a8791ba3",
   "metadata": {
    "run_control": {
     "marked": false
    },
    "scrolled": true
   },
   "outputs": [
    {
     "name": "stdout",
     "output_type": "stream",
     "text": [
      "The dataset application_test contains 48744 rows and 111 variables.\n"
     ]
    }
   ],
   "source": [
    "# Remove with % of nan over the threshold > 67%\n",
    "application_test.drop(columns=cols_nan_remov_test, inplace=True)\n",
    "\n",
    "# Categorical variables\n",
    "cols_cat_test = application_test.select_dtypes(exclude=[np.number]).columns \\\n",
    "    .to_list()\n",
    "# Continuous variables\n",
    "cols_num_train = application_test.select_dtypes(include=[np.number]).columns \\\n",
    "    .to_list()\n",
    "\n",
    "# Size : number of rows/columns\n",
    "nRow, nVar = application_test.shape\n",
    "print(f'The dataset application_test contains {nRow} rows and {nVar} variables.')"
   ]
  },
  {
   "cell_type": "markdown",
   "id": "4ad3b6e1-9cf7-453e-9b32-04b49b8fc6a3",
   "metadata": {},
   "source": [
    "<a id='application_train_assign_missing_values'></a>\n",
    "\n",
    "---\n",
    "<span style='background:#0075bc'><span style='color:white'>Application_train assignment missing values</span></span>"
   ]
  },
  {
   "cell_type": "markdown",
   "id": "34157c08-ac75-4229-8f08-bbb1a52336f7",
   "metadata": {},
   "source": [
    "* During the exploratory analysis, it was observed that values that were not provided could give indications. The applicant may have withheld information to avoid having his application refused.\n",
    "* The EDA also revealed the existence of many outliers.\n",
    "* The **missing values** of the **continuous variables** will be therefore imputed by the **median** of each of these variables.\n",
    "* The **missing values** of the **categorical variables** will be therefore imputed by the **mode** of each of these variables."
   ]
  },
  {
   "cell_type": "markdown",
   "id": "a6903b08-3117-4b0e-bf19-10b7ac90b2ff",
   "metadata": {},
   "source": [
    "**Continuous variables**"
   ]
  },
  {
   "cell_type": "code",
   "execution_count": 19,
   "id": "4bce1b80-841f-4524-bd64-44dee0abed7c",
   "metadata": {
    "run_control": {
     "marked": false
    }
   },
   "outputs": [
    {
     "name": "stdout",
     "output_type": "stream",
     "text": [
      "Number of nan before median assignment : 6527734\n",
      "Number of nan after median assignment : 0\n"
     ]
    }
   ],
   "source": [
    "nb_nan_median = application_train[cols_num_train].isna().sum().sum()\n",
    "print(f'Number of nan before median assignment : {nb_nan_median}')\n",
    "application_train.fillna(application_train[cols_num_train].median(), inplace=True)\n",
    "# Validation\n",
    "nb_nan_median = application_train[cols_num_train].isna().sum().sum()\n",
    "print(f'Number of nan after median assignment : {nb_nan_median}')"
   ]
  },
  {
   "cell_type": "markdown",
   "id": "9d52674e-0283-46b6-8c21-503d20c33602",
   "metadata": {},
   "source": [
    "**Categorical variables**"
   ]
  },
  {
   "cell_type": "code",
   "execution_count": 20,
   "id": "60ea4db9-3645-474b-94bc-c1cbde7078ea",
   "metadata": {
    "run_control": {
     "marked": false
    }
   },
   "outputs": [
    {
     "name": "stdout",
     "output_type": "stream",
     "text": [
      "Number of nan before mode assignment : 408321\n",
      "Number of nan after mode assignment  : 0\n"
     ]
    }
   ],
   "source": [
    "nb_nan_cat = application_train[cols_cat].isna().sum().sum()\n",
    "print(f'Number of nan before mode assignment : {nb_nan_cat}')\n",
    "for var in cols_cat:\n",
    "    mode = application_train[var].mode()[0]\n",
    "    application_train[var].fillna(mode, inplace=True)\n",
    "nb_nan_cat = application_train[cols_cat].isna().sum().sum()\n",
    "print(f'Number of nan after mode assignment  : {nb_nan_cat}')"
   ]
  },
  {
   "cell_type": "code",
   "execution_count": 26,
   "id": "07da3904-0681-435a-b1f1-4490bc2801eb",
   "metadata": {},
   "outputs": [
    {
     "name": "stdout",
     "output_type": "stream",
     "text": [
      "Number of nan in application_train : 0\n"
     ]
    }
   ],
   "source": [
    "# Validation\n",
    "print(f'Number of nan in application_train : {application_train.isna().sum().sum()}')\n",
    "# Saving application_train\n",
    "path_sav_appltrain_wonan = \\\n",
    "    '/home/raquelsp/Documents/Openclassrooms/P7_implementez_modele_scoring/P7_travail/P7_scoring_credit/preprocessing/application_train_wo_nan.pickle'\n",
    "with open(path_sav_appltrain_wonan, 'wb') as f:\n",
    "    pickle.dump(application_train, f, pickle.HIGHEST_PROTOCOL)"
   ]
  },
  {
   "cell_type": "markdown",
   "id": "3303117c-0719-48a3-9cf5-74c850d33d57",
   "metadata": {},
   "source": [
    "<a id='application_train_duplicated_data'></a>\n",
    "\n",
    "---\n",
    "### <span style='background:#0075bc'><span style='color:white'>Application_train duplicated data</span></span>"
   ]
  },
  {
   "cell_type": "code",
   "execution_count": 32,
   "id": "cf8f161d-3a92-4619-927c-d19b2e3c227d",
   "metadata": {},
   "outputs": [
    {
     "name": "stdout",
     "output_type": "stream",
     "text": [
      "Duplicated data in application_train:  0\n"
     ]
    }
   ],
   "source": [
    "print(\"Duplicated data in application_train: \",\\\n",
    "      application_train.loc[application_train.duplicated()].shape[0])"
   ]
  },
  {
   "cell_type": "code",
   "execution_count": null,
   "id": "e835adcc-9455-4be2-9fcb-b596bb72da33",
   "metadata": {},
   "outputs": [],
   "source": []
  },
  {
   "cell_type": "code",
   "execution_count": null,
   "id": "63415790-f8dc-444e-bdaa-eee091fbcab1",
   "metadata": {},
   "outputs": [],
   "source": []
  },
  {
   "cell_type": "code",
   "execution_count": null,
   "id": "6a3aea6a-c568-4434-80c2-f22f3b8740b0",
   "metadata": {},
   "outputs": [],
   "source": []
  },
  {
   "cell_type": "code",
   "execution_count": null,
   "id": "c9765953-0d8f-482b-bb57-fa0ecca3d586",
   "metadata": {},
   "outputs": [],
   "source": []
  },
  {
   "cell_type": "code",
   "execution_count": null,
   "id": "6f382444-c29e-4f6f-9b67-0bbd8da20b07",
   "metadata": {},
   "outputs": [],
   "source": []
  },
  {
   "cell_type": "code",
   "execution_count": null,
   "id": "82e18e4d-99c6-4e34-af70-c3a9cb9a0d30",
   "metadata": {},
   "outputs": [],
   "source": []
  },
  {
   "cell_type": "code",
   "execution_count": null,
   "id": "f3937cfb-7407-4f2a-8453-90146716c3f7",
   "metadata": {},
   "outputs": [],
   "source": []
  },
  {
   "cell_type": "markdown",
   "id": "7b3bef17-12c9-4179-921a-934dfb4e902c",
   "metadata": {},
   "source": [
    "# END"
   ]
  },
  {
   "cell_type": "code",
   "execution_count": null,
   "id": "021c848a-e799-4ebe-9185-6a84dc5b6f0e",
   "metadata": {},
   "outputs": [],
   "source": []
  }
 ],
 "metadata": {
  "kernelspec": {
   "display_name": "Python 3 (ipykernel)",
   "language": "python",
   "name": "python3"
  },
  "language_info": {
   "codemirror_mode": {
    "name": "ipython",
    "version": 3
   },
   "file_extension": ".py",
   "mimetype": "text/x-python",
   "name": "python",
   "nbconvert_exporter": "python",
   "pygments_lexer": "ipython3",
   "version": "3.9.13"
  },
  "toc-autonumbering": true
 },
 "nbformat": 4,
 "nbformat_minor": 5
}
