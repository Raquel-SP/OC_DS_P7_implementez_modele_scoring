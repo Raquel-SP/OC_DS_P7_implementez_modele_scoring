{
 "cells": [
  {
   "cell_type": "markdown",
   "id": "3c733360-4a2e-4cfd-9fea-51929b5466d8",
   "metadata": {
    "id": "376c512c-b7fd-49c0-b147-8c42d1be918c"
   },
   "source": [
    "\n",
    "\n",
    "# <font size=\"+3\"><span style='color:#2994ff'> **P7 - Implémentez un modèle de scoring** </span></font>\n"
   ]
  },
  {
   "cell_type": "markdown",
   "id": "742ba8b5-b1d6-4058-aa51-22754007fb8e",
   "metadata": {
    "id": "967cb3e2-cb54-4c6c-b5b7-411bb3559d31"
   },
   "source": [
    "<a id='LOADING_LIBRARIES'></a>\n",
    "\n",
    "---\n",
    "\n",
    "---\n",
    "\n",
    "<font size=\"+1\"> **LOADING THE LIBRARIES** </font>\n",
    "\n",
    "---"
   ]
  },
  {
   "cell_type": "code",
   "execution_count": 6,
   "id": "5bab68da-fe5e-4f99-b107-63e8d81897c8",
   "metadata": {
    "tags": []
   },
   "outputs": [],
   "source": [
    "# Import required librairies\n",
    "import sys\n",
    "import os\n",
    "import pandas as pd\n",
    "import numpy as np\n",
    "import datetime\n",
    "import pickle\n",
    "\n",
    "import json\n",
    "import matplotlib.pyplot as plt\n",
    "import matplotlib.lines as mlines\n",
    "import seaborn as sns\n",
    "import shap\n",
    "from sklearn.compose import ColumnTransformer\n",
    "from sklearn.preprocessing import MinMaxScaler"
   ]
  },
  {
   "cell_type": "markdown",
   "id": "2bb6e2cb-4099-4161-86c0-01fd8055a61d",
   "metadata": {
    "id": "4a5a71aa-7ec5-4113-b843-2c3baa114bea"
   },
   "source": [
    "\n",
    "<a id='notebook_settings'></a>\n",
    "\n",
    "\n",
    "<br>\n",
    "\n",
    "\n",
    "---\n",
    "---\n",
    "\n",
    "<font size=\"+1\"> **NOTEBOOK SETTINGS** </font>\n",
    "\n",
    "---\n"
   ]
  },
  {
   "cell_type": "code",
   "execution_count": 7,
   "id": "13591619-5b64-4f6b-a655-e75186d3b193",
   "metadata": {
    "executionInfo": {
     "elapsed": 40,
     "status": "ok",
     "timestamp": 1687284795659,
     "user": {
      "displayName": "Raquel Sanchez-Pellicer",
      "userId": "01557635450717251675"
     },
     "user_tz": -120
    },
    "id": "566a7bda-7d63-4b82-8f07-ac9ca78a33c4",
    "tags": []
   },
   "outputs": [],
   "source": [
    "#################################\n",
    "#    -- NOTEBOOK SETTINGS --    #\n",
    "#################################\n",
    "\n",
    "%matplotlib inline\n",
    "sns.set_theme(palette=\"Set1\")\n",
    "\n",
    "# Random state\n",
    "seed = 84\n",
    "\n",
    "# Define training set size\n",
    "TRAIN_SIZE = 0.8"
   ]
  },
  {
   "cell_type": "markdown",
   "id": "09caa285-9bb7-43b3-b3d5-ee8c78e9781c",
   "metadata": {
    "id": "9f040c98-873f-4cb4-9917-6cf6775b1399"
   },
   "source": [
    "\n",
    "<a id='USED_FUNCTIONS'></a>\n",
    "\n",
    "\n",
    "<br>\n",
    "\n",
    "\n",
    "---\n",
    "---\n",
    "\n",
    "<font size=\"+1\"> **FUNCTIONS USED IN THIS NOTEBOOK** </font>\n",
    "\n",
    "---\n"
   ]
  },
  {
   "cell_type": "markdown",
   "id": "e5f81450-93bc-41a8-bcb5-5a0be236eb8b",
   "metadata": {
    "id": "e8622ccb-75b5-4c07-8685-4efcc75630bc",
    "tags": []
   },
   "source": [
    "\n",
    "## <font color = '#0085dd'>**Table of content**</font>\n",
    "\n",
    "\n",
    "[Librairies loading](#LOADING_LIBRARIES)<br>\n",
    "\n",
    "[Functions used in this notebook](#USED_FUNCTIONS)<br>\n",
    "\n",
    "---\n",
    "\n",
    "[**Datasets**](#datasets)\n",
    " * [Description](#datasets_description)\n",
    "   * [orders_dataset](#orders_dataset)\n",
    "   * [customers_dataset](#customers_dataset)\n",
    "   * [order_items](#order_items)\n",
    "   * [products_dataset](#products_dataset)\n",
    "   * [product_category_name_translation](#product_category_name_translation)   \n",
    "   * [sellers_dataset](#sellers_dataset)\n",
    "   * [order_payments](#order_payments)\n",
    "   * [order_reviews](#order_reviews)\n",
    "   * [geolocation_dataset](#geolocation_dataset)<br> \n",
    "<br>\n",
    " * [Columns preparation](#columns_preparation)\n",
    "   * [Zip codes centroids calculation](#centroid_zipCode)\n",
    "   * [Product category check and update](#cat_products)   \n",
    "   \n",
    "   \n",
    "[**Datasets joining**](#datasets_joining)\n",
    " * [Data description](#data_description)\n",
    " * [Evaluation of missing values](#missing_values)  \n",
    " * [Column filling analysis](#column_fill)   \n",
    " * [Row filling analysis](#row_filling)  \n",
    " * [Features pre-selection](#features_preSelection)\n",
    "\n",
    "[**Features engineering**](#features_engineering)\n",
    " * [Customers spatial distribution](#customers_spatial_distribution)\n",
    " * [RFM features](#RFM_features)  \n",
    " * [Products](#products)   \n",
    " * [Orders](#Orders)  \n",
    " * [Dates](#dates)\n",
    " * [Joining customers information](#join_customers_datasets)\n",
    " * [Features analysis](#features_analysis)  \n",
    "\n",
    "[**Dataset for segmentation**](#segmentation_dataset)\n",
    "<br>\n",
    "\n",
    "---\n"
   ]
  },
  {
   "cell_type": "markdown",
   "id": "e645cb04-e3cc-4fad-af9a-612eeaee3c51",
   "metadata": {
    "id": "2f3cf119-1479-4a49-b958-bb22d513aa1f",
    "tags": []
   },
   "source": [
    "<a id='introduciton'></a>\n",
    "\n",
    "---\n",
    "---\n",
    "\n",
    "# <span style='background:#2994ff'><span style='color:white'>**Introduction** </span></span>\n"
   ]
  },
  {
   "cell_type": "markdown",
   "id": "d6d4507a-845b-4c25-a5a7-d076a078cf97",
   "metadata": {},
   "source": [
    "This notebook deals with the preparation of the various fields and graphs for API development and display in the dashboard.\n",
    "\n",
    "In particular:\n",
    "- **subsample**: recovery of the fields to be used by the API and displayed in the dashboard in an understandable form (e.g. age in years rather than number of days, gender in Female/Male rather than 0/1).\n",
    "- **interpretability/transparency** :\n",
    "    - recovery of the 10 most important variables to create graphs for each of these variables by comparing the results for defaulters/non-defaulters and the overall average for all customers to determine the position of the customer to whom the loan will or will not be granted.\n",
    "    - recovery of the 10 closest neighbours on these 10 variables to determine which of these 10 neighbours have defaulted or not.\n",
    "    - situate the patient among the defaulters or non-defaulters on the variables age, sex, socio-professional category, income, amount of credit, duration of credit, etc."
   ]
  },
  {
   "cell_type": "markdown",
   "id": "e4ceebed-cd9c-412b-b744-1610666831d9",
   "metadata": {
    "id": "2f3cf119-1479-4a49-b958-bb22d513aa1f",
    "tags": []
   },
   "source": [
    "<a id='upload_files'></a>\n",
    "\n",
    "---\n",
    "---\n",
    "\n",
    "# <span style='background:#2994ff'><span style='color:white'>**Upload files** </span></span>\n"
   ]
  },
  {
   "cell_type": "markdown",
   "id": "bac44073-b296-4182-b735-c29fa6f0e040",
   "metadata": {
    "id": "2f3cf119-1479-4a49-b958-bb22d513aa1f",
    "tags": []
   },
   "source": [
    "<a id='info_api'></a>\n",
    "\n",
    "---\n",
    "---\n",
    "\n",
    "# <span style='background:#2994ff'><span style='color:white'>**Information for API** </span></span>\n"
   ]
  },
  {
   "cell_type": "markdown",
   "id": "f10cb1d0-c391-4db7-8010-b366d5553d75",
   "metadata": {},
   "source": [
    "**Create a list of selected features for the API**"
   ]
  },
  {
   "cell_type": "code",
   "execution_count": 21,
   "id": "72dbd842-d4eb-48c9-bfbc-a5b3252b01a9",
   "metadata": {
    "executionInfo": {
     "elapsed": 5935,
     "status": "ok",
     "timestamp": 1687284801564,
     "user": {
      "displayName": "Raquel Sanchez-Pellicer",
      "userId": "01557635450717251675"
     },
     "user_tz": -120
    },
    "id": "cb925c60-1983-450e-a4bd-4c872aad3e09"
   },
   "outputs": [],
   "source": [
    "# -----------------------------\n",
    "# Data used for modeling\n",
    "# -----------------------------\n",
    "\n",
    "# Open final train_dataset\n",
    "path_train_data = \\\n",
    "    'preprocessing/train_data_fs_t25_combi_ML.pkl'\n",
    "\n",
    "with open(path_train_data, 'rb') as f:\n",
    "    train_data_modeling = pickle.load(f)\n",
    "\n",
    "\n",
    "# Open final test_dataset\n",
    "path_test_data = \\\n",
    "    'preprocessing/test_data_fs_t25_combi_ML.pkl'\n",
    "os.makedirs(os.path.dirname(path_test_data), exist_ok=True)"
   ]
  },
  {
   "cell_type": "code",
   "execution_count": 24,
   "id": "4eb53a96-202a-4cf9-b61c-c40a5cbb484f",
   "metadata": {},
   "outputs": [
    {
     "data": {
      "text/plain": [
       "['AMT_CREDIT',\n",
       " 'REGION_POPULATION_RELATIVE',\n",
       " 'DAYS_BIRTH',\n",
       " 'DAYS_EMPLOYED',\n",
       " 'DAYS_REGISTRATION',\n",
       " 'DAYS_ID_PUBLISH',\n",
       " 'EXT_SOURCE_1',\n",
       " 'EXT_SOURCE_2',\n",
       " 'EXT_SOURCE_3',\n",
       " 'DAYS_LAST_PHONE_CHANGE',\n",
       " 'CREDIT_INCOME_RATIO',\n",
       " 'CREDIT_ANNUITY_RATIO',\n",
       " 'CREDIT_GOODS_RATIO',\n",
       " 'INCOME_EXT_RATIO',\n",
       " 'CAR_EMPLOYED_RATIO',\n",
       " 'EXT_SOURCE_MEAN',\n",
       " 'OBS_30_CREDIT_RATIO',\n",
       " 'ENQ_CREDIT_RATIO',\n",
       " 'REGIONS_RATING_INCOME_MUL_0',\n",
       " 'DAYS_CREDIT_MEAN_OVERALL',\n",
       " 'AMT_CREDIT_SUM_MEAN_OVERALL',\n",
       " 'CURRENT_DEBT_TO_CREDIT_RATIO_MEAN_OVERALL',\n",
       " 'DAYS_CREDIT_MEAN_CREDITACTIVE_ACTIVE',\n",
       " 'CURRENT_DEBT_TO_CREDIT_RATIO_MEAN_CREDITACTIVE_ACTIVE',\n",
       " 'CURRENT_CREDIT_DEBT_DIFF_MEAN_CREDITACTIVE_ACTIVE',\n",
       " 'HOUR_APPR_PROCESS_START_MEAN_LAST_5',\n",
       " 'DAYS_DECISION_MEAN_LAST_5',\n",
       " 'SELLERPLACE_AREA_MEAN_LAST_5',\n",
       " 'INTEREST_SHARE_MEAN_LAST_5',\n",
       " 'INTEREST_SHARE_MEAN_FIRST_2',\n",
       " 'DAYS_PAYMENT_DIFF_MEAN_MEAN',\n",
       " 'DAYS_PAYMENT_DIFF_MIN_MEAN',\n",
       " 'DAYS_PAYMENT_DIFF_MAX_MEAN',\n",
       " 'TARGET',\n",
       " 'SK_ID_CURR']"
      ]
     },
     "execution_count": 24,
     "metadata": {},
     "output_type": "execute_result"
    }
   ],
   "source": [
    "selected_feautes = train_data_modeling.columns.tolist()\n",
    "selected_feautes"
   ]
  },
  {
   "cell_type": "markdown",
   "id": "9ec903e3-2b09-4f1f-9924-d9b8b386fb4a",
   "metadata": {
    "id": "2f3cf119-1479-4a49-b958-bb22d513aa1f",
    "tags": []
   },
   "source": [
    "<a id='subsample_api_dashboard'></a>\n",
    "\n",
    "---\n",
    "---\n",
    "\n",
    "# <span style='background:#2994ff'><span style='color:white'>**Create a data sample for the API and dashboard** </span></span>\n"
   ]
  },
  {
   "cell_type": "code",
   "execution_count": 10,
   "id": "47436021-f8ee-48ac-aa35-a8299e3acbe4",
   "metadata": {},
   "outputs": [],
   "source": [
    "# -------------------------------------------\n",
    "# Load de datasets after feature engineering\n",
    "# -------------------------------------------\n",
    "\n",
    "# Train data\n",
    "path_train_dataset_after_feat_eng =  '/home/raquelsp/Documents/Openclassrooms/P7_implementez_modele_scoring/P7_travail/P7_scoring_credit/preprocessing/final_train_data.pkl'\n",
    "\n",
    "with open(path_train_dataset_after_feat_eng, 'rb') as f:\n",
    "    final_train_data = pickle.load(f)"
   ]
  },
  {
   "cell_type": "raw",
   "id": "23657e55-7e9b-45a0-bb0f-200747424932",
   "metadata": {},
   "source": [
    "# Load de datasets after feature engineering\n",
    "path_test_dataset_after_feat_eng =  '../P7_scoring_credit/preprocessing/final_test_data.pkl'\n",
    "\n",
    "with open(path_test_dataset_after_feat_eng, 'rb') as f:\n",
    "    final_test_data = pickle.load(f)"
   ]
  },
  {
   "cell_type": "markdown",
   "id": "8af4ff3c-8623-4499-bd55-8a295ff3db8c",
   "metadata": {},
   "source": [
    "**Add columns useful for clients description and general comprenhension**"
   ]
  },
  {
   "cell_type": "code",
   "execution_count": 12,
   "id": "20d8f566-4eed-47cc-b16f-6df0f655d87f",
   "metadata": {
    "colab": {
     "base_uri": "https://localhost:8080/",
     "height": 242
    },
    "id": "wbuxtEb26P3y",
    "outputId": "5162fba7-7db6-4eb4-f3fe-8f38f4b2bd32"
   },
   "outputs": [],
   "source": [
    "# -----------------------------\n",
    "# Upload: application_train\n",
    "# -----------------------------\n",
    "application_train = pd.read_csv('/home/raquelsp/Documents/Openclassrooms/P7_implementez_modele_scoring/P7_travail/p7_source/application_train.csv',\n",
    "                                low_memory=False,\n",
    "                                encoding='utf-8')"
   ]
  },
  {
   "cell_type": "code",
   "execution_count": 13,
   "id": "fef46d99-3f03-4cd7-a798-8b833d2528fa",
   "metadata": {},
   "outputs": [],
   "source": [
    "# General client information\n",
    "client_info_columns = ['SK_ID_CURR',\n",
    "                       'DAYS_BIRTH', 'CODE_GENDER',\n",
    "                       'NAME_FAMILY_STATUS',\n",
    "                        'CNT_CHILDREN', 'NAME_EDUCATION_TYPE',\n",
    "                        'NAME_INCOME_TYPE', 'DAYS_EMPLOYED',\n",
    "                        'AMT_INCOME_TOTAL', \n",
    "                        'NAME_CONTRACT_TYPE',\n",
    "                        'AMT_GOODS_PRICE', \n",
    "                        'NAME_HOUSING_TYPE', ]"
   ]
  },
  {
   "cell_type": "code",
   "execution_count": 14,
   "id": "42b6fc54-ea32-488c-8624-ca3df68eb150",
   "metadata": {},
   "outputs": [],
   "source": [
    "general_info = application_train[client_info_columns]"
   ]
  },
  {
   "cell_type": "code",
   "execution_count": 15,
   "id": "711877cf-62b8-4ef5-94d0-200b76dd063d",
   "metadata": {},
   "outputs": [
    {
     "name": "stderr",
     "output_type": "stream",
     "text": [
      "\n",
      "A value is trying to be set on a copy of a slice from a DataFrame.\n",
      "Try using .loc[row_indexer,col_indexer] = value instead\n",
      "\n",
      "See the caveats in the documentation: https://pandas.pydata.org/pandas-docs/stable/user_guide/indexing.html#returning-a-view-versus-a-copy\n",
      "\n",
      "A value is trying to be set on a copy of a slice from a DataFrame.\n",
      "Try using .loc[row_indexer,col_indexer] = value instead\n",
      "\n",
      "See the caveats in the documentation: https://pandas.pydata.org/pandas-docs/stable/user_guide/indexing.html#returning-a-view-versus-a-copy\n",
      "\n",
      "A value is trying to be set on a copy of a slice from a DataFrame.\n",
      "Try using .loc[row_indexer,col_indexer] = value instead\n",
      "\n",
      "See the caveats in the documentation: https://pandas.pydata.org/pandas-docs/stable/user_guide/indexing.html#returning-a-view-versus-a-copy\n"
     ]
    }
   ],
   "source": [
    "# Change age features to years (instead of days)\n",
    "# Transform DAYS_BIRTH to years\n",
    "general_info['AGE'] = np.trunc(np.abs(general_info['DAYS_BIRTH'] / 365)).astype('int8')\n",
    "# Transform DAYS_EMPLOYED to years\n",
    "general_info['YEARS_WORKING'] = np.trunc(np.abs(general_info['DAYS_EMPLOYED'] / 365)).astype('int8')\n",
    "# Transform gender : 0 = Féminin et 1 = Masculin\n",
    "general_info['GENDER'] = ['Woman' if row == 0 else 'Man'\n",
    "                        for row in general_info['CODE_GENDER']]\n",
    "\n",
    "general_info = general_info.drop(columns=['DAYS_BIRTH', 'DAYS_EMPLOYED',\n",
    "                                          'CODE_GENDER'])"
   ]
  },
  {
   "cell_type": "code",
   "execution_count": 16,
   "id": "7a7f6b67-94a0-4f58-adf4-701289036d98",
   "metadata": {
    "run_control": {
     "marked": false
    }
   },
   "outputs": [
    {
     "data": {
      "text/html": [
       "<div>\n",
       "<style scoped>\n",
       "    .dataframe tbody tr th:only-of-type {\n",
       "        vertical-align: middle;\n",
       "    }\n",
       "\n",
       "    .dataframe tbody tr th {\n",
       "        vertical-align: top;\n",
       "    }\n",
       "\n",
       "    .dataframe thead th {\n",
       "        text-align: right;\n",
       "    }\n",
       "</style>\n",
       "<table border=\"1\" class=\"dataframe\">\n",
       "  <thead>\n",
       "    <tr style=\"text-align: right;\">\n",
       "      <th></th>\n",
       "      <th>AMT_CREDIT</th>\n",
       "      <th>REGION_POPULATION_RELATIVE</th>\n",
       "      <th>DAYS_BIRTH</th>\n",
       "      <th>DAYS_EMPLOYED</th>\n",
       "      <th>DAYS_REGISTRATION</th>\n",
       "      <th>DAYS_ID_PUBLISH</th>\n",
       "      <th>EXT_SOURCE_1</th>\n",
       "      <th>EXT_SOURCE_2</th>\n",
       "      <th>EXT_SOURCE_3</th>\n",
       "      <th>DAYS_LAST_PHONE_CHANGE</th>\n",
       "      <th>...</th>\n",
       "      <th>CNT_CHILDREN</th>\n",
       "      <th>NAME_EDUCATION_TYPE</th>\n",
       "      <th>NAME_INCOME_TYPE</th>\n",
       "      <th>AMT_INCOME_TOTAL</th>\n",
       "      <th>NAME_CONTRACT_TYPE</th>\n",
       "      <th>AMT_GOODS_PRICE</th>\n",
       "      <th>NAME_HOUSING_TYPE</th>\n",
       "      <th>AGE</th>\n",
       "      <th>YEARS_WORKING</th>\n",
       "      <th>GENDER</th>\n",
       "    </tr>\n",
       "  </thead>\n",
       "  <tbody>\n",
       "    <tr>\n",
       "      <th>0</th>\n",
       "      <td>-0.478095</td>\n",
       "      <td>-0.149689</td>\n",
       "      <td>-1.506769</td>\n",
       "      <td>0.755834</td>\n",
       "      <td>0.379837</td>\n",
       "      <td>0.579154</td>\n",
       "      <td>-3.021547</td>\n",
       "      <td>-1.317986</td>\n",
       "      <td>-2.153361</td>\n",
       "      <td>-0.206991</td>\n",
       "      <td>...</td>\n",
       "      <td>0</td>\n",
       "      <td>Secondary / secondary special</td>\n",
       "      <td>Working</td>\n",
       "      <td>202500.0</td>\n",
       "      <td>Cash loans</td>\n",
       "      <td>351000.0</td>\n",
       "      <td>House / apartment</td>\n",
       "      <td>25</td>\n",
       "      <td>1</td>\n",
       "      <td>Man</td>\n",
       "    </tr>\n",
       "    <tr>\n",
       "      <th>1</th>\n",
       "      <td>1.725450</td>\n",
       "      <td>-1.252595</td>\n",
       "      <td>0.167322</td>\n",
       "      <td>0.497899</td>\n",
       "      <td>1.078697</td>\n",
       "      <td>1.790855</td>\n",
       "      <td>-1.384100</td>\n",
       "      <td>0.563563</td>\n",
       "      <td>0.111516</td>\n",
       "      <td>0.163108</td>\n",
       "      <td>...</td>\n",
       "      <td>0</td>\n",
       "      <td>Higher education</td>\n",
       "      <td>State servant</td>\n",
       "      <td>270000.0</td>\n",
       "      <td>Cash loans</td>\n",
       "      <td>1129500.0</td>\n",
       "      <td>House / apartment</td>\n",
       "      <td>45</td>\n",
       "      <td>3</td>\n",
       "      <td>Man</td>\n",
       "    </tr>\n",
       "    <tr>\n",
       "      <th>2</th>\n",
       "      <td>-1.152888</td>\n",
       "      <td>-0.783388</td>\n",
       "      <td>0.690067</td>\n",
       "      <td>0.948700</td>\n",
       "      <td>0.206115</td>\n",
       "      <td>0.306869</td>\n",
       "      <td>0.011671</td>\n",
       "      <td>0.218208</td>\n",
       "      <td>1.223695</td>\n",
       "      <td>0.178831</td>\n",
       "      <td>...</td>\n",
       "      <td>0</td>\n",
       "      <td>Secondary / secondary special</td>\n",
       "      <td>Working</td>\n",
       "      <td>67500.0</td>\n",
       "      <td>Revolving loans</td>\n",
       "      <td>135000.0</td>\n",
       "      <td>House / apartment</td>\n",
       "      <td>52</td>\n",
       "      <td>0</td>\n",
       "      <td>Man</td>\n",
       "    </tr>\n",
       "  </tbody>\n",
       "</table>\n",
       "<p>3 rows × 46 columns</p>\n",
       "</div>"
      ],
      "text/plain": [
       "   AMT_CREDIT  REGION_POPULATION_RELATIVE  DAYS_BIRTH  DAYS_EMPLOYED  \\\n",
       "0   -0.478095                   -0.149689   -1.506769       0.755834   \n",
       "1    1.725450                   -1.252595    0.167322       0.497899   \n",
       "2   -1.152888                   -0.783388    0.690067       0.948700   \n",
       "\n",
       "   DAYS_REGISTRATION  DAYS_ID_PUBLISH  EXT_SOURCE_1  EXT_SOURCE_2  \\\n",
       "0           0.379837         0.579154     -3.021547     -1.317986   \n",
       "1           1.078697         1.790855     -1.384100      0.563563   \n",
       "2           0.206115         0.306869      0.011671      0.218208   \n",
       "\n",
       "   EXT_SOURCE_3  DAYS_LAST_PHONE_CHANGE  ...  CNT_CHILDREN  \\\n",
       "0     -2.153361               -0.206991  ...             0   \n",
       "1      0.111516                0.163108  ...             0   \n",
       "2      1.223695                0.178831  ...             0   \n",
       "\n",
       "             NAME_EDUCATION_TYPE  NAME_INCOME_TYPE  AMT_INCOME_TOTAL  \\\n",
       "0  Secondary / secondary special           Working          202500.0   \n",
       "1               Higher education     State servant          270000.0   \n",
       "2  Secondary / secondary special           Working           67500.0   \n",
       "\n",
       "   NAME_CONTRACT_TYPE  AMT_GOODS_PRICE  NAME_HOUSING_TYPE  AGE  YEARS_WORKING  \\\n",
       "0          Cash loans         351000.0  House / apartment   25              1   \n",
       "1          Cash loans        1129500.0  House / apartment   45              3   \n",
       "2     Revolving loans         135000.0  House / apartment   52              0   \n",
       "\n",
       "   GENDER  \n",
       "0     Man  \n",
       "1     Man  \n",
       "2     Man  \n",
       "\n",
       "[3 rows x 46 columns]"
      ]
     },
     "execution_count": 16,
     "metadata": {},
     "output_type": "execute_result"
    }
   ],
   "source": [
    "# Ajout des varaibles manquantes au dataframe du dashboard\n",
    "all_data = train_data.merge(general_info, on='SK_ID_CURR',\n",
    "                                      how='left')\n",
    "all_data.head(3)"
   ]
  },
  {
   "cell_type": "code",
   "execution_count": 17,
   "id": "ed8683fb-c2fe-4f43-9d0a-83c0a9475d45",
   "metadata": {},
   "outputs": [],
   "source": [
    "# Create a data sample for the dashboard\n",
    "data_0 = all_data[all_data[\"TARGET\"] == 0].sample(100, random_state=seed)\n",
    "data_1 = all_data[all_data[\"TARGET\"] == 1].sample(100, random_state=seed)\n",
    "data_dashboard = pd.concat([data_0, data_1]).reset_index(drop=True)"
   ]
  },
  {
   "cell_type": "code",
   "execution_count": 18,
   "id": "0feab4e4-c719-4699-96fd-8b9dadec71c3",
   "metadata": {},
   "outputs": [
    {
     "data": {
      "text/plain": [
       "(200, 46)"
      ]
     },
     "execution_count": 18,
     "metadata": {},
     "output_type": "execute_result"
    }
   ],
   "source": [
    "data_dashboard.shape"
   ]
  },
  {
   "cell_type": "markdown",
   "id": "65117e04-9e8d-406f-b39b-78186de39c8f",
   "metadata": {},
   "source": [
    "**Export data to csv**"
   ]
  },
  {
   "cell_type": "code",
   "execution_count": 19,
   "id": "14b51447-2577-424f-8522-189755d63aff",
   "metadata": {},
   "outputs": [],
   "source": [
    "# Export this data sample in a csv file\n",
    "pd.DataFrame(data_dashboard).to_csv(\"data_dashboard.csv\", index=False)"
   ]
  },
  {
   "cell_type": "code",
   "execution_count": null,
   "id": "7a9dabbf-104c-44a5-a0f1-4093227ee4a8",
   "metadata": {},
   "outputs": [],
   "source": []
  }
 ],
 "metadata": {
  "kernelspec": {
   "display_name": "Python 3 (ipykernel)",
   "language": "python",
   "name": "python3"
  },
  "language_info": {
   "codemirror_mode": {
    "name": "ipython",
    "version": 3
   },
   "file_extension": ".py",
   "mimetype": "text/x-python",
   "name": "python",
   "nbconvert_exporter": "python",
   "pygments_lexer": "ipython3",
   "version": "3.9.13"
  },
  "toc-autonumbering": true
 },
 "nbformat": 4,
 "nbformat_minor": 5
}
