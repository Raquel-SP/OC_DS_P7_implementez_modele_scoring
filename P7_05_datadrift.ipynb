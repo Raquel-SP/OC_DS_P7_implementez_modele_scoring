{
 "cells": [
  {
   "cell_type": "markdown",
   "id": "0df59f1b-852c-438c-810d-1da7dc4072ef",
   "metadata": {
    "id": "028f4288-e455-48c2-ab6b-8557c83c2f48"
   },
   "source": [
    "\n",
    "\n",
    "# <font size=\"+3\"><span style='color:#2994ff'> **P7 - Implémentez un modèle de scoring** </span></font>\n"
   ]
  },
  {
   "cell_type": "markdown",
   "id": "94e6ab9b-41b4-4379-afad-ef3e5d9b4644",
   "metadata": {
    "id": "66c1b2a3-ff31-42f4-8d80-8dbec803f88c"
   },
   "source": [
    "<a id='LOADING_LIBRARIES'></a>\n",
    "\n",
    "---\n",
    "\n",
    "---\n",
    "\n",
    "<font size=\"+1\"> **LOADING THE LIBRARIES** </font>\n",
    "\n",
    "---"
   ]
  },
  {
   "cell_type": "code",
   "execution_count": 12,
   "id": "4aec7c05-6401-42c1-82ee-469538baacf3",
   "metadata": {
    "tags": []
   },
   "outputs": [],
   "source": [
    "# File system management\n",
    "import sys\n",
    "import pandas as pd\n",
    "import numpy as np\n",
    "import os\n",
    "import pickle\n",
    "\n",
    "# Data drift evidently\n",
    "import evidently\n",
    "from evidently import ColumnMapping\n",
    "\n",
    "from evidently.report import Report\n",
    "from evidently.metrics.base_metric import generate_column_metrics\n",
    "from evidently.metric_preset import DataDriftPreset, TargetDriftPreset, DataQualityPreset, RegressionPreset\n",
    "from evidently.metrics import *\n",
    "\n",
    "from evidently.test_suite import TestSuite\n",
    "from evidently.tests.base_test import generate_column_tests\n",
    "from evidently.test_preset import DataStabilityTestPreset, NoTargetPerformanceTestPreset, RegressionTestPreset\n",
    "from evidently.tests import *\n",
    "\n",
    "\n",
    "# Personnal packages\n",
    "import tools_dataframe\n",
    "import tools_preprocessing\n",
    "import tools_feat_engineering\n",
    "import tools_modeling\n",
    "\n",
    "\n",
    "# Warnings\n",
    "import warnings\n",
    "warnings.filterwarnings('ignore')\n",
    "warnings.simplefilter('ignore')\n",
    "\n"
   ]
  },
  {
   "cell_type": "code",
   "execution_count": 13,
   "id": "8689809f-478f-4c5b-b8b3-5bfc767b3bfe",
   "metadata": {},
   "outputs": [
    {
     "name": "stdout",
     "output_type": "stream",
     "text": [
      "Version of used libraries :\n",
      "Python    : 3.9.13 (main, Aug 25 2022, 23:26:10) \n",
      "[GCC 11.2.0]\n",
      "NumPy     : 1.24.3\n",
      "Pandas    : 1.5.3\n",
      "Evidently : 0.3.3\n"
     ]
    }
   ],
   "source": [
    "# Versions\n",
    "print('Version of used libraries :')\n",
    "\n",
    "print('Python    : ' + sys.version)\n",
    "print('NumPy     : ' + np.version.full_version)\n",
    "print('Pandas    : ' + pd.__version__)\n",
    "print('Evidently : ' + evidently.__version__)"
   ]
  },
  {
   "cell_type": "markdown",
   "id": "22c6460c-dc92-494c-b8cb-c7c84eeff1c8",
   "metadata": {
    "id": "4a5a71aa-7ec5-4113-b843-2c3baa114bea"
   },
   "source": [
    "\n",
    "<a id='notebook_settings'></a>\n",
    "\n",
    "\n",
    "<br>\n",
    "\n",
    "\n",
    "---\n",
    "---\n",
    "\n",
    "<font size=\"+1\"> **NOTEBOOK SETTINGS** </font>\n",
    "\n",
    "---\n"
   ]
  },
  {
   "cell_type": "code",
   "execution_count": 14,
   "id": "33f889e2-8da6-48e7-a4aa-dd3b52e4a9a3",
   "metadata": {},
   "outputs": [],
   "source": [
    "#################################\n",
    "#    -- NOTEBOOK SETTINGS --    #\n",
    "#################################\n",
    "\n",
    "%matplotlib inline\n",
    "\n",
    "# Random state\n",
    "seed = 84\n",
    "\n",
    "# Define training set size\n",
    "TRAIN_SIZE = 0.8\n"
   ]
  },
  {
   "cell_type": "markdown",
   "id": "bb1d7b2b-b866-4766-9ebb-f0646c91628b",
   "metadata": {
    "id": "3636cd2d-4cca-4fd0-994f-6d2127264be4"
   },
   "source": [
    "\n",
    "<a id='USED_FUNCTIONS'></a>\n",
    "\n",
    "\n",
    "<br>\n",
    "\n",
    "\n",
    "---\n",
    "---\n",
    "\n",
    "<font size=\"+1\"> **FUNCTIONS USED IN THIS NOTEBOOK** </font>\n",
    "\n",
    "---\n"
   ]
  },
  {
   "cell_type": "code",
   "execution_count": null,
   "id": "41383694-c4b2-4426-be4a-dd51a808d290",
   "metadata": {},
   "outputs": [],
   "source": []
  },
  {
   "cell_type": "markdown",
   "id": "91c11f20-482f-473f-b262-7150b889052b",
   "metadata": {
    "id": "cb84448b-5f00-4f88-99cd-40e29f7b654c"
   },
   "source": [
    "\n",
    "\n",
    "<font size=\"+3\"><span style='color:#2994ff'> **P7 - Implémentez un modèle de scoring** </span></font>\n"
   ]
  },
  {
   "cell_type": "markdown",
   "id": "a36d9c73-3e33-4d12-93d2-67a955cb3752",
   "metadata": {
    "id": "28d87234-08f1-49cb-b5a9-66d463d5dc47",
    "jp-MarkdownHeadingCollapsed": true,
    "tags": []
   },
   "source": [
    "\n",
    "## <font color = '#0085dd'>**Table of content**</font>\n",
    "\n",
    "\n",
    "[Librairies loading](#LOADING_LIBRARIES)<br>\n",
    "\n",
    "[Functions used in this notebook](#USED_FUNCTIONS)<br>\n",
    "\n",
    "---\n",
    "\n",
    "[**Datasets**](#datasets)\n",
    " * [Description](#datasets_description)\n",
    "   * [orders_dataset](#orders_dataset)\n",
    "   * [customers_dataset](#customers_dataset)\n",
    "   * [order_items](#order_items)\n",
    "   * [products_dataset](#products_dataset)\n",
    "   * [product_category_name_translation](#product_category_name_translation)\n",
    "   * [sellers_dataset](#sellers_dataset)\n",
    "   * [order_payments](#order_payments)\n",
    "   * [order_reviews](#order_reviews)\n",
    "   * [geolocation_dataset](#geolocation_dataset)<br>\n",
    "<br>\n",
    " * [Columns preparation](#columns_preparation)\n",
    "   * [Zip codes centroids calculation](#centroid_zipCode)\n",
    "   * [Product category check and update](#cat_products)\n",
    "\n",
    "\n",
    "[**Datasets joining**](#datasets_joining)\n",
    " * [Data description](#data_description)\n",
    " * [Evaluation of missing values](#missing_values)\n",
    " * [Column filling analysis](#column_fill)\n",
    " * [Row filling analysis](#row_filling)\n",
    " * [Features pre-selection](#features_preSelection)\n",
    "\n",
    "[**Features engineering**](#features_engineering)\n",
    " * [Customers spatial distribution](#customers_spatial_distribution)\n",
    " * [RFM features](#RFM_features)\n",
    " * [Products](#products)\n",
    " * [Orders](#Orders)\n",
    " * [Dates](#dates)\n",
    " * [Joining customers information](#join_customers_datasets)\n",
    " * [Features analysis](#features_analysis)\n",
    "\n",
    "[**Dataset for segmentation**](#segmentation_dataset)\n",
    "<br>\n",
    "\n",
    "---\n"
   ]
  },
  {
   "cell_type": "markdown",
   "id": "0d5f7cad-a218-4dcf-8f8e-b529a0b5e924",
   "metadata": {
    "id": "5daf3f05-997b-42eb-9cc4-55ad1be08bf5",
    "tags": []
   },
   "source": [
    "<a id='datasets_loading'></a>\n",
    "\n",
    "---\n",
    "---\n",
    "\n",
    "# <span style='background:#2994ff'><span style='color:white'>**Loading datasets** </span></span>\n"
   ]
  },
  {
   "cell_type": "code",
   "execution_count": 15,
   "id": "f946dabd-ea06-4aa5-9b87-ad781a4df975",
   "metadata": {
    "executionInfo": {
     "elapsed": 36,
     "status": "ok",
     "timestamp": 1687284795661,
     "user": {
      "displayName": "Raquel Sanchez-Pellicer",
      "userId": "01557635450717251675"
     },
     "user_tz": -120
    },
    "id": "457583a6-6451-48c6-94a9-3d3bb9585fae"
   },
   "outputs": [],
   "source": [
    "# Define the folder containing the files with the project data\n",
    "P7_scoring_credit = \"/home/raquelsp/Documents/Openclassrooms/P7_implementez_modele_scoring/P7_travail/\"\n",
    "\n",
    "os.chdir(P7_scoring_credit)"
   ]
  },
  {
   "cell_type": "code",
   "execution_count": 16,
   "id": "c0c121fc-cfbf-4f6a-a2f9-3508db059b4b",
   "metadata": {
    "executionInfo": {
     "elapsed": 5935,
     "status": "ok",
     "timestamp": 1687284801564,
     "user": {
      "displayName": "Raquel Sanchez-Pellicer",
      "userId": "01557635450717251675"
     },
     "user_tz": -120
    },
    "id": "cb925c60-1983-450e-a4bd-4c872aad3e09"
   },
   "outputs": [],
   "source": [
    "# --------------------------------\n",
    "# Files after feature engineering\n",
    "# --------------------------------\n",
    "# Open final train_dataset : these will be our reference data\n",
    "path_train_data = \\\n",
    "    'P7_scoring_credit/preprocessing/train_data_fs_t25_combi_ML.pkl'\n",
    "with open(path_train_data, 'rb') as f:\n",
    "    train_data_fe = pickle.load(f)\n",
    "\n",
    "# Open final test_dataset : these will be our current data\n",
    "path_test_data = \\\n",
    "    'P7_scoring_credit/preprocessing/test_data_fs_t25_combi_ML.pkl'\n",
    "with open(path_test_data, 'rb') as f:\n",
    "    test_data_fe = pickle.load(f)"
   ]
  },
  {
   "cell_type": "markdown",
   "id": "6b2e5d1f-fbb2-449f-8dea-361499a95baa",
   "metadata": {
    "id": "8cb63613-8dae-458a-96d5-e0770f00f407",
    "tags": []
   },
   "source": [
    "<a id='data_preparation'></a>\n",
    "\n",
    "## <span style='background:#0085dd'><span style='color:white'>Data preparation</span></span>"
   ]
  },
  {
   "cell_type": "markdown",
   "id": "26a5d592-0f46-4b69-a523-ca63e62772a8",
   "metadata": {},
   "source": [
    "**Data after feature engineering**"
   ]
  },
  {
   "cell_type": "code",
   "execution_count": 17,
   "id": "7541f00b-d9f8-4927-a89c-12d0c34d630e",
   "metadata": {},
   "outputs": [
    {
     "data": {
      "text/html": [
       "<div>\n",
       "<style scoped>\n",
       "    .dataframe tbody tr th:only-of-type {\n",
       "        vertical-align: middle;\n",
       "    }\n",
       "\n",
       "    .dataframe tbody tr th {\n",
       "        vertical-align: top;\n",
       "    }\n",
       "\n",
       "    .dataframe thead th {\n",
       "        text-align: right;\n",
       "    }\n",
       "</style>\n",
       "<table border=\"1\" class=\"dataframe\">\n",
       "  <thead>\n",
       "    <tr style=\"text-align: right;\">\n",
       "      <th></th>\n",
       "      <th>Variable</th>\n",
       "      <th>Type</th>\n",
       "      <th>null</th>\n",
       "      <th>Duplicated</th>\n",
       "      <th>Filling percentage</th>\n",
       "      <th>count</th>\n",
       "      <th>mean</th>\n",
       "      <th>std</th>\n",
       "      <th>min</th>\n",
       "      <th>25%</th>\n",
       "      <th>50%</th>\n",
       "      <th>75%</th>\n",
       "      <th>max</th>\n",
       "    </tr>\n",
       "  </thead>\n",
       "  <tbody>\n",
       "    <tr>\n",
       "      <th>34</th>\n",
       "      <td>SK_ID_CURR</td>\n",
       "      <td>int32</td>\n",
       "      <td>0</td>\n",
       "      <td>0</td>\n",
       "      <td>100.0</td>\n",
       "      <td>307511.0</td>\n",
       "      <td>278180.518577</td>\n",
       "      <td>102790.175348</td>\n",
       "      <td>100002.0</td>\n",
       "      <td>189145.5</td>\n",
       "      <td>278202.0</td>\n",
       "      <td>367142.5</td>\n",
       "      <td>456255.0</td>\n",
       "    </tr>\n",
       "    <tr>\n",
       "      <th>11</th>\n",
       "      <td>INTEREST_SHARE_MEAN_FIRST_2</td>\n",
       "      <td>float32</td>\n",
       "      <td>0</td>\n",
       "      <td>301202</td>\n",
       "      <td>100.0</td>\n",
       "      <td>307511.0</td>\n",
       "      <td>-0.0</td>\n",
       "      <td>0.999843</td>\n",
       "      <td>-4.486805</td>\n",
       "      <td>-0.258287</td>\n",
       "      <td>0.06835</td>\n",
       "      <td>0.440544</td>\n",
       "      <td>5.295004</td>\n",
       "    </tr>\n",
       "    <tr>\n",
       "      <th>18</th>\n",
       "      <td>EXT_SOURCE_MEAN</td>\n",
       "      <td>float32</td>\n",
       "      <td>0</td>\n",
       "      <td>305131</td>\n",
       "      <td>100.0</td>\n",
       "      <td>307511.0</td>\n",
       "      <td>0.0</td>\n",
       "      <td>0.999934</td>\n",
       "      <td>-4.511773</td>\n",
       "      <td>-0.648111</td>\n",
       "      <td>0.092637</td>\n",
       "      <td>0.706916</td>\n",
       "      <td>3.164031</td>\n",
       "    </tr>\n",
       "    <tr>\n",
       "      <th>10</th>\n",
       "      <td>INTEREST_SHARE_MEAN_LAST_5</td>\n",
       "      <td>float32</td>\n",
       "      <td>0</td>\n",
       "      <td>293183</td>\n",
       "      <td>100.0</td>\n",
       "      <td>307511.0</td>\n",
       "      <td>-0.0</td>\n",
       "      <td>0.999778</td>\n",
       "      <td>-3.572714</td>\n",
       "      <td>-0.270322</td>\n",
       "      <td>0.085896</td>\n",
       "      <td>0.466777</td>\n",
       "      <td>5.512062</td>\n",
       "    </tr>\n",
       "    <tr>\n",
       "      <th>23</th>\n",
       "      <td>DAYS_ID_PUBLISH</td>\n",
       "      <td>float32</td>\n",
       "      <td>0</td>\n",
       "      <td>301343</td>\n",
       "      <td>100.0</td>\n",
       "      <td>307511.0</td>\n",
       "      <td>0.0</td>\n",
       "      <td>0.999971</td>\n",
       "      <td>-2.784328</td>\n",
       "      <td>-0.86442</td>\n",
       "      <td>-0.172114</td>\n",
       "      <td>0.844151</td>\n",
       "      <td>1.983641</td>\n",
       "    </tr>\n",
       "  </tbody>\n",
       "</table>\n",
       "</div>"
      ],
      "text/plain": [
       "                       Variable     Type null Duplicated Filling percentage  \\\n",
       "34                   SK_ID_CURR    int32    0          0              100.0   \n",
       "11  INTEREST_SHARE_MEAN_FIRST_2  float32    0     301202              100.0   \n",
       "18              EXT_SOURCE_MEAN  float32    0     305131              100.0   \n",
       "10   INTEREST_SHARE_MEAN_LAST_5  float32    0     293183              100.0   \n",
       "23              DAYS_ID_PUBLISH  float32    0     301343              100.0   \n",
       "\n",
       "       count           mean            std       min       25%       50%  \\\n",
       "34  307511.0  278180.518577  102790.175348  100002.0  189145.5  278202.0   \n",
       "11  307511.0           -0.0       0.999843 -4.486805 -0.258287   0.06835   \n",
       "18  307511.0            0.0       0.999934 -4.511773 -0.648111  0.092637   \n",
       "10  307511.0           -0.0       0.999778 -3.572714 -0.270322  0.085896   \n",
       "23  307511.0            0.0       0.999971 -2.784328  -0.86442 -0.172114   \n",
       "\n",
       "         75%       max  \n",
       "34  367142.5  456255.0  \n",
       "11  0.440544  5.295004  \n",
       "18  0.706916  3.164031  \n",
       "10  0.466777  5.512062  \n",
       "23  0.844151  1.983641  "
      ]
     },
     "execution_count": 17,
     "metadata": {},
     "output_type": "execute_result"
    }
   ],
   "source": [
    "# --------------------\n",
    "# Column description\n",
    "# --------------------\n",
    "info_train_data_fe = tools_dataframe.complet_description(train_data_fe)\n",
    "info_train_data_fe.sample(5)"
   ]
  },
  {
   "cell_type": "code",
   "execution_count": 18,
   "id": "d26eec4c-109e-4c4f-84a4-0de701e089c2",
   "metadata": {},
   "outputs": [
    {
     "name": "stdout",
     "output_type": "stream",
     "text": [
      "There are 0 empty columns\n"
     ]
    }
   ],
   "source": [
    "# Identify empty columns\n",
    "to_remove = info_train_data_fe.loc[info_train_data_fe['Filling percentage']<1]\n",
    "cols_to_remove = to_remove['Variable'].tolist()\n",
    "print(f'There are {len(cols_to_remove)} empty columns')"
   ]
  },
  {
   "cell_type": "code",
   "execution_count": 19,
   "id": "1f34cfca-5d4f-4c02-967d-21704a98bd9d",
   "metadata": {},
   "outputs": [],
   "source": [
    "# Remove empty columns\n",
    "train_data_fe = train_data_fe[train_data_fe\\\n",
    "                    .columns[~train_data_fe.columns.isin(cols_to_remove)]]\n",
    "test_data_fe = test_data_fe[test_data_fe\\\n",
    "                    .columns[~test_data_fe.columns.isin(cols_to_remove)]]"
   ]
  },
  {
   "cell_type": "code",
   "execution_count": 20,
   "id": "6d00c91f-5d2b-4195-a530-41d4d9de9014",
   "metadata": {},
   "outputs": [
    {
     "name": "stdout",
     "output_type": "stream",
     "text": [
      "Reference(307511, 33)\n",
      "Current(48744, 33)\n"
     ]
    }
   ],
   "source": [
    "reference_fe = train_data_fe.drop(columns=['TARGET', 'SK_ID_CURR'])\n",
    "print('Reference' + str(reference_fe.shape))\n",
    "reference_fe_10000 = reference_fe.sample(n=10000, replace=False)\n",
    "\n",
    "current_fe = test_data_fe.drop(columns=['SK_ID_CURR'])\n",
    "print('Current' + str(current_fe.shape))\n",
    "current_fe_10000 = current_fe.sample(n=10000, replace=False)"
   ]
  },
  {
   "cell_type": "markdown",
   "id": "afa19608-8c7a-4c96-8f94-d38a65bb1f0c",
   "metadata": {
    "id": "8cb63613-8dae-458a-96d5-e0770f00f407",
    "tags": []
   },
   "source": [
    "<a id='data_drift_analysis'></a>\n",
    "\n",
    "## <span style='background:#0085dd'><span style='color:white'>Datadrift analysis</span></span>"
   ]
  },
  {
   "cell_type": "code",
   "execution_count": 21,
   "id": "603e52b3-a2e7-42f3-82a9-9244c03055d5",
   "metadata": {},
   "outputs": [],
   "source": [
    "# Data after feature engineering\n",
    "feng_report = Report(metrics=[DataDriftPreset(), ])\n",
    "\n",
    "feng_report.run(reference_data=reference_fe_10000,\n",
    "                current_data=current_fe_10000)\n",
    "\n",
    "feng_report.save_html('feng_report10000.html')"
   ]
  },
  {
   "cell_type": "code",
   "execution_count": null,
   "id": "3dc0ca76-34a3-429c-bf2a-5ece74cb11e9",
   "metadata": {},
   "outputs": [],
   "source": []
  },
  {
   "cell_type": "code",
   "execution_count": null,
   "id": "66e23a24-dcfb-4fcf-8c3e-f5c0895ee2d4",
   "metadata": {},
   "outputs": [],
   "source": []
  }
 ],
 "metadata": {
  "kernelspec": {
   "display_name": "Python 3 (ipykernel)",
   "language": "python",
   "name": "python3"
  },
  "language_info": {
   "codemirror_mode": {
    "name": "ipython",
    "version": 3
   },
   "file_extension": ".py",
   "mimetype": "text/x-python",
   "name": "python",
   "nbconvert_exporter": "python",
   "pygments_lexer": "ipython3",
   "version": "3.9.13"
  },
  "toc-autonumbering": true
 },
 "nbformat": 4,
 "nbformat_minor": 5
}
