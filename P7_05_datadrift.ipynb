{
 "cells": [
  {
   "cell_type": "markdown",
   "id": "0df59f1b-852c-438c-810d-1da7dc4072ef",
   "metadata": {
    "id": "028f4288-e455-48c2-ab6b-8557c83c2f48"
   },
   "source": [
    "\n",
    "\n",
    "# <font size=\"+3\"><span style='color:#2994ff'> **P7 - Implémentez un modèle de scoring** </span></font>\n"
   ]
  },
  {
   "cell_type": "markdown",
   "id": "94e6ab9b-41b4-4379-afad-ef3e5d9b4644",
   "metadata": {
    "id": "66c1b2a3-ff31-42f4-8d80-8dbec803f88c"
   },
   "source": [
    "<a id='LOADING_LIBRARIES'></a>\n",
    "\n",
    "---\n",
    "\n",
    "---\n",
    "\n",
    "<font size=\"+1\"> **LOADING THE LIBRARIES** </font>\n",
    "\n",
    "---"
   ]
  },
  {
   "cell_type": "code",
   "execution_count": 3,
   "id": "4aec7c05-6401-42c1-82ee-469538baacf3",
   "metadata": {
    "tags": []
   },
   "outputs": [
    {
     "name": "stderr",
     "output_type": "stream",
     "text": [
      "/home/raquelsp/anaconda3/lib/python3.11/site-packages/umap/distances.py:1063: NumbaDeprecationWarning: \u001b[1mThe 'nopython' keyword argument was not supplied to the 'numba.jit' decorator. The implicit default value for this argument is currently False, but it will be changed to True in Numba 0.59.0. See https://numba.readthedocs.io/en/stable/reference/deprecation.html#deprecation-of-object-mode-fall-back-behaviour-when-using-jit for details.\u001b[0m\n",
      "  @numba.jit()\n",
      "/home/raquelsp/anaconda3/lib/python3.11/site-packages/umap/distances.py:1071: NumbaDeprecationWarning: \u001b[1mThe 'nopython' keyword argument was not supplied to the 'numba.jit' decorator. The implicit default value for this argument is currently False, but it will be changed to True in Numba 0.59.0. See https://numba.readthedocs.io/en/stable/reference/deprecation.html#deprecation-of-object-mode-fall-back-behaviour-when-using-jit for details.\u001b[0m\n",
      "  @numba.jit()\n",
      "/home/raquelsp/anaconda3/lib/python3.11/site-packages/umap/distances.py:1086: NumbaDeprecationWarning: \u001b[1mThe 'nopython' keyword argument was not supplied to the 'numba.jit' decorator. The implicit default value for this argument is currently False, but it will be changed to True in Numba 0.59.0. See https://numba.readthedocs.io/en/stable/reference/deprecation.html#deprecation-of-object-mode-fall-back-behaviour-when-using-jit for details.\u001b[0m\n",
      "  @numba.jit()\n",
      "/home/raquelsp/anaconda3/lib/python3.11/site-packages/umap/umap_.py:660: NumbaDeprecationWarning: \u001b[1mThe 'nopython' keyword argument was not supplied to the 'numba.jit' decorator. The implicit default value for this argument is currently False, but it will be changed to True in Numba 0.59.0. See https://numba.readthedocs.io/en/stable/reference/deprecation.html#deprecation-of-object-mode-fall-back-behaviour-when-using-jit for details.\u001b[0m\n",
      "  @numba.jit()\n"
     ]
    }
   ],
   "source": [
    "# File system management\n",
    "import sys\n",
    "import pandas as pd\n",
    "import numpy as np\n",
    "import os\n",
    "import pickle\n",
    "\n",
    "# Data drift evidently\n",
    "import evidently\n",
    "from evidently import ColumnMapping\n",
    "\n",
    "from evidently.report import Report\n",
    "from evidently.metrics.base_metric import generate_column_metrics\n",
    "from evidently.metric_preset import DataDriftPreset, TargetDriftPreset, DataQualityPreset, RegressionPreset\n",
    "from evidently.metrics import *\n",
    "\n",
    "from evidently.test_suite import TestSuite\n",
    "from evidently.tests.base_test import generate_column_tests\n",
    "from evidently.test_preset import DataStabilityTestPreset, NoTargetPerformanceTestPreset, RegressionTestPreset\n",
    "from evidently.tests import *\n",
    "\n",
    "\n",
    "# Personnal packages\n",
    "import tools_dataframe\n",
    "import tools_preprocessing\n",
    "import tools_feat_engineering\n",
    "import tools_modeling\n",
    "\n",
    "\n",
    "# Warnings\n",
    "import warnings\n",
    "warnings.filterwarnings('ignore')\n",
    "warnings.simplefilter('ignore')\n",
    "\n"
   ]
  },
  {
   "cell_type": "code",
   "execution_count": 4,
   "id": "8689809f-478f-4c5b-b8b3-5bfc767b3bfe",
   "metadata": {},
   "outputs": [
    {
     "name": "stdout",
     "output_type": "stream",
     "text": [
      "Version of used libraries :\n",
      "Python    : 3.11.3 (main, Apr 19 2023, 23:54:32) [GCC 11.2.0]\n",
      "NumPy     : 1.24.3\n",
      "Pandas    : 1.5.3\n",
      "Evidently : 0.4.0\n"
     ]
    }
   ],
   "source": [
    "# Versions\n",
    "print('Version of used libraries :')\n",
    "\n",
    "print('Python    : ' + sys.version)\n",
    "print('NumPy     : ' + np.version.full_version)\n",
    "print('Pandas    : ' + pd.__version__)\n",
    "print('Evidently : ' + evidently.__version__)"
   ]
  },
  {
   "cell_type": "markdown",
   "id": "22c6460c-dc92-494c-b8cb-c7c84eeff1c8",
   "metadata": {
    "id": "4a5a71aa-7ec5-4113-b843-2c3baa114bea"
   },
   "source": [
    "\n",
    "<a id='notebook_settings'></a>\n",
    "\n",
    "\n",
    "<br>\n",
    "\n",
    "\n",
    "---\n",
    "---\n",
    "\n",
    "<font size=\"+1\"> **NOTEBOOK SETTINGS** </font>\n",
    "\n",
    "---\n"
   ]
  },
  {
   "cell_type": "code",
   "execution_count": 5,
   "id": "33f889e2-8da6-48e7-a4aa-dd3b52e4a9a3",
   "metadata": {},
   "outputs": [],
   "source": [
    "#################################\n",
    "#    -- NOTEBOOK SETTINGS --    #\n",
    "#################################\n",
    "\n",
    "%matplotlib inline\n",
    "\n",
    "# Random state\n",
    "seed = 84\n",
    "\n",
    "# Define training set size\n",
    "TRAIN_SIZE = 0.8\n"
   ]
  },
  {
   "cell_type": "markdown",
   "id": "91c11f20-482f-473f-b262-7150b889052b",
   "metadata": {
    "id": "cb84448b-5f00-4f88-99cd-40e29f7b654c"
   },
   "source": [
    "\n",
    "\n",
    "<font size=\"+3\"><span style='color:#2994ff'> **P7 - Implémentez un modèle de scoring** </span></font>\n"
   ]
  },
  {
   "cell_type": "markdown",
   "id": "a36d9c73-3e33-4d12-93d2-67a955cb3752",
   "metadata": {
    "id": "28d87234-08f1-49cb-b5a9-66d463d5dc47",
    "jp-MarkdownHeadingCollapsed": true,
    "tags": []
   },
   "source": [
    "\n",
    "## <font color = '#0085dd'>**Table of content**</font>\n",
    "\n",
    "---\n",
    "\n",
    "\n",
    "[**Loading datasets**](#datasets_loading)\n",
    " * [Data preparation](#data_preparation)\n",
    " * [Datadrift analysis](#data_drift_analysis)\n",
    "\n",
    "---\n"
   ]
  },
  {
   "cell_type": "markdown",
   "id": "0d5f7cad-a218-4dcf-8f8e-b529a0b5e924",
   "metadata": {
    "id": "5daf3f05-997b-42eb-9cc4-55ad1be08bf5",
    "tags": []
   },
   "source": [
    "<a id='datasets_loading'></a>\n",
    "\n",
    "---\n",
    "---\n",
    "\n",
    "# <span style='background:#2994ff'><span style='color:white'>**Loading datasets** </span></span>\n"
   ]
  },
  {
   "cell_type": "code",
   "execution_count": 6,
   "id": "f946dabd-ea06-4aa5-9b87-ad781a4df975",
   "metadata": {
    "executionInfo": {
     "elapsed": 36,
     "status": "ok",
     "timestamp": 1687284795661,
     "user": {
      "displayName": "Raquel Sanchez-Pellicer",
      "userId": "01557635450717251675"
     },
     "user_tz": -120
    },
    "id": "457583a6-6451-48c6-94a9-3d3bb9585fae"
   },
   "outputs": [],
   "source": [
    "# Define the folder containing the files with the project data\n",
    "P7_scoring_credit = \"/home/raquelsp/Documents/Openclassrooms/P7_implementez_modele_scoring/P7_travail/\"\n",
    "\n",
    "os.chdir(P7_scoring_credit)"
   ]
  },
  {
   "cell_type": "code",
   "execution_count": 7,
   "id": "c0c121fc-cfbf-4f6a-a2f9-3508db059b4b",
   "metadata": {
    "executionInfo": {
     "elapsed": 5935,
     "status": "ok",
     "timestamp": 1687284801564,
     "user": {
      "displayName": "Raquel Sanchez-Pellicer",
      "userId": "01557635450717251675"
     },
     "user_tz": -120
    },
    "id": "cb925c60-1983-450e-a4bd-4c872aad3e09"
   },
   "outputs": [],
   "source": [
    "# --------------------------------\n",
    "# Files after feature engineering\n",
    "# --------------------------------\n",
    "# Open final train_dataset : these will be our reference data\n",
    "path_train_data = \\\n",
    "    'P7_scoring_credit/preprocessing/train_data_fs_t25_combi_ML.pkl'\n",
    "with open(path_train_data, 'rb') as f:\n",
    "    train_data_fe = pickle.load(f)\n",
    "\n",
    "# Open final test_dataset : these will be our current data\n",
    "path_test_data = \\\n",
    "    'P7_scoring_credit/preprocessing/test_data_fs_t25_combi_ML.pkl'\n",
    "with open(path_test_data, 'rb') as f:\n",
    "    test_data_fe = pickle.load(f)"
   ]
  },
  {
   "cell_type": "markdown",
   "id": "6b2e5d1f-fbb2-449f-8dea-361499a95baa",
   "metadata": {
    "id": "8cb63613-8dae-458a-96d5-e0770f00f407",
    "tags": []
   },
   "source": [
    "<a id='data_preparation'></a>\n",
    "\n",
    "## <span style='background:#0085dd'><span style='color:white'>Data preparation</span></span>"
   ]
  },
  {
   "cell_type": "markdown",
   "id": "26a5d592-0f46-4b69-a523-ca63e62772a8",
   "metadata": {},
   "source": [
    "**Data after feature engineering**"
   ]
  },
  {
   "cell_type": "code",
   "execution_count": 8,
   "id": "7541f00b-d9f8-4927-a89c-12d0c34d630e",
   "metadata": {},
   "outputs": [
    {
     "data": {
      "text/html": [
       "<div>\n",
       "<style scoped>\n",
       "    .dataframe tbody tr th:only-of-type {\n",
       "        vertical-align: middle;\n",
       "    }\n",
       "\n",
       "    .dataframe tbody tr th {\n",
       "        vertical-align: top;\n",
       "    }\n",
       "\n",
       "    .dataframe thead th {\n",
       "        text-align: right;\n",
       "    }\n",
       "</style>\n",
       "<table border=\"1\" class=\"dataframe\">\n",
       "  <thead>\n",
       "    <tr style=\"text-align: right;\">\n",
       "      <th></th>\n",
       "      <th>Variable</th>\n",
       "      <th>Type</th>\n",
       "      <th>null</th>\n",
       "      <th>Duplicated</th>\n",
       "      <th>Filling percentage</th>\n",
       "      <th>count</th>\n",
       "      <th>mean</th>\n",
       "      <th>std</th>\n",
       "      <th>min</th>\n",
       "      <th>25%</th>\n",
       "      <th>50%</th>\n",
       "      <th>75%</th>\n",
       "      <th>max</th>\n",
       "    </tr>\n",
       "  </thead>\n",
       "  <tbody>\n",
       "    <tr>\n",
       "      <th>0</th>\n",
       "      <td>AMT_CREDIT</td>\n",
       "      <td>float32</td>\n",
       "      <td>0</td>\n",
       "      <td>301908</td>\n",
       "      <td>100.0</td>\n",
       "      <td>307511.0</td>\n",
       "      <td>0.0</td>\n",
       "      <td>1.00001</td>\n",
       "      <td>-1.376496</td>\n",
       "      <td>-0.817476</td>\n",
       "      <td>-0.212415</td>\n",
       "      <td>0.520818</td>\n",
       "      <td>8.574059</td>\n",
       "    </tr>\n",
       "    <tr>\n",
       "      <th>24</th>\n",
       "      <td>EXT_SOURCE_1</td>\n",
       "      <td>float32</td>\n",
       "      <td>0</td>\n",
       "      <td>192927</td>\n",
       "      <td>100.0</td>\n",
       "      <td>307511.0</td>\n",
       "      <td>0.0</td>\n",
       "      <td>0.99995</td>\n",
       "      <td>-3.513017</td>\n",
       "      <td>0.012103</td>\n",
       "      <td>0.012103</td>\n",
       "      <td>0.012103</td>\n",
       "      <td>3.288063</td>\n",
       "    </tr>\n",
       "    <tr>\n",
       "      <th>29</th>\n",
       "      <td>CREDIT_ANNUITY_RATIO</td>\n",
       "      <td>float32</td>\n",
       "      <td>0</td>\n",
       "      <td>268417</td>\n",
       "      <td>100.0</td>\n",
       "      <td>307511.0</td>\n",
       "      <td>0.0</td>\n",
       "      <td>1.000057</td>\n",
       "      <td>-1.953928</td>\n",
       "      <td>-0.766587</td>\n",
       "      <td>-0.206075</td>\n",
       "      <td>0.701369</td>\n",
       "      <td>4.850109</td>\n",
       "    </tr>\n",
       "    <tr>\n",
       "      <th>19</th>\n",
       "      <td>REGION_POPULATION_RELATIVE</td>\n",
       "      <td>float32</td>\n",
       "      <td>0</td>\n",
       "      <td>307430</td>\n",
       "      <td>100.0</td>\n",
       "      <td>307511.0</td>\n",
       "      <td>0.0</td>\n",
       "      <td>0.999912</td>\n",
       "      <td>-1.487798</td>\n",
       "      <td>-0.785331</td>\n",
       "      <td>-0.145909</td>\n",
       "      <td>0.56357</td>\n",
       "      <td>3.733564</td>\n",
       "    </tr>\n",
       "    <tr>\n",
       "      <th>5</th>\n",
       "      <td>CURRENT_DEBT_TO_CREDIT_RATIO_MEAN_CREDITACTIVE...</td>\n",
       "      <td>float32</td>\n",
       "      <td>0</td>\n",
       "      <td>303514</td>\n",
       "      <td>100.0</td>\n",
       "      <td>307511.0</td>\n",
       "      <td>0.0</td>\n",
       "      <td>0.999875</td>\n",
       "      <td>-268.487915</td>\n",
       "      <td>-0.016791</td>\n",
       "      <td>-0.016791</td>\n",
       "      <td>-0.016791</td>\n",
       "      <td>207.717712</td>\n",
       "    </tr>\n",
       "  </tbody>\n",
       "</table>\n",
       "</div>"
      ],
      "text/plain": [
       "                                             Variable     Type null  \\\n",
       "0                                          AMT_CREDIT  float32    0   \n",
       "24                                       EXT_SOURCE_1  float32    0   \n",
       "29                               CREDIT_ANNUITY_RATIO  float32    0   \n",
       "19                         REGION_POPULATION_RELATIVE  float32    0   \n",
       "5   CURRENT_DEBT_TO_CREDIT_RATIO_MEAN_CREDITACTIVE...  float32    0   \n",
       "\n",
       "   Duplicated Filling percentage     count mean       std         min  \\\n",
       "0      301908              100.0  307511.0  0.0   1.00001   -1.376496   \n",
       "24     192927              100.0  307511.0  0.0   0.99995   -3.513017   \n",
       "29     268417              100.0  307511.0  0.0  1.000057   -1.953928   \n",
       "19     307430              100.0  307511.0  0.0  0.999912   -1.487798   \n",
       "5      303514              100.0  307511.0  0.0  0.999875 -268.487915   \n",
       "\n",
       "         25%       50%       75%         max  \n",
       "0  -0.817476 -0.212415  0.520818    8.574059  \n",
       "24  0.012103  0.012103  0.012103    3.288063  \n",
       "29 -0.766587 -0.206075  0.701369    4.850109  \n",
       "19 -0.785331 -0.145909   0.56357    3.733564  \n",
       "5  -0.016791 -0.016791 -0.016791  207.717712  "
      ]
     },
     "execution_count": 8,
     "metadata": {},
     "output_type": "execute_result"
    }
   ],
   "source": [
    "# --------------------\n",
    "# Column description\n",
    "# --------------------\n",
    "info_train_data_fe = tools_dataframe.complet_description(train_data_fe)\n",
    "info_train_data_fe.sample(5)"
   ]
  },
  {
   "cell_type": "code",
   "execution_count": 9,
   "id": "d26eec4c-109e-4c4f-84a4-0de701e089c2",
   "metadata": {},
   "outputs": [
    {
     "name": "stdout",
     "output_type": "stream",
     "text": [
      "There are 0 empty columns\n"
     ]
    }
   ],
   "source": [
    "# Identify empty columns\n",
    "to_remove = info_train_data_fe.loc[info_train_data_fe['Filling percentage']<1]\n",
    "cols_to_remove = to_remove['Variable'].tolist()\n",
    "print(f'There are {len(cols_to_remove)} empty columns')"
   ]
  },
  {
   "cell_type": "code",
   "execution_count": 10,
   "id": "1f34cfca-5d4f-4c02-967d-21704a98bd9d",
   "metadata": {},
   "outputs": [],
   "source": [
    "# Remove empty columns\n",
    "train_data_fe = train_data_fe[train_data_fe\\\n",
    "                    .columns[~train_data_fe.columns.isin(cols_to_remove)]]\n",
    "test_data_fe = test_data_fe[test_data_fe\\\n",
    "                    .columns[~test_data_fe.columns.isin(cols_to_remove)]]"
   ]
  },
  {
   "cell_type": "code",
   "execution_count": 11,
   "id": "6d00c91f-5d2b-4195-a530-41d4d9de9014",
   "metadata": {},
   "outputs": [
    {
     "name": "stdout",
     "output_type": "stream",
     "text": [
      "Reference(307511, 34)\n",
      "Current(48744, 34)\n"
     ]
    }
   ],
   "source": [
    "reference_fe = train_data_fe.drop(columns=['TARGET', 'SK_ID_CURR'])\n",
    "print('Reference' + str(reference_fe.shape))\n",
    "reference_fe_10000 = reference_fe.sample(n=10000, replace=False)\n",
    "\n",
    "current_fe = test_data_fe.drop(columns=['SK_ID_CURR'])\n",
    "print('Current' + str(current_fe.shape))\n",
    "current_fe_10000 = current_fe.sample(n=10000, replace=False)"
   ]
  },
  {
   "cell_type": "markdown",
   "id": "afa19608-8c7a-4c96-8f94-d38a65bb1f0c",
   "metadata": {
    "id": "8cb63613-8dae-458a-96d5-e0770f00f407",
    "tags": []
   },
   "source": [
    "<a id='data_drift_analysis'></a>\n",
    "\n",
    "## <span style='background:#0085dd'><span style='color:white'>Datadrift analysis</span></span>"
   ]
  },
  {
   "cell_type": "code",
   "execution_count": 12,
   "id": "603e52b3-a2e7-42f3-82a9-9244c03055d5",
   "metadata": {},
   "outputs": [],
   "source": [
    "# Data after feature engineering\n",
    "feng_report = Report(metrics=[DataDriftPreset(), ])\n",
    "\n",
    "feng_report.run(reference_data=reference_fe_10000,\n",
    "                current_data=current_fe_10000)\n",
    "\n",
    "feng_report.save_html('feng_report10001.html')"
   ]
  }
 ],
 "metadata": {
  "kernelspec": {
   "display_name": "Python 3 (ipykernel)",
   "language": "python",
   "name": "python3"
  },
  "language_info": {
   "codemirror_mode": {
    "name": "ipython",
    "version": 3
   },
   "file_extension": ".py",
   "mimetype": "text/x-python",
   "name": "python",
   "nbconvert_exporter": "python",
   "pygments_lexer": "ipython3",
   "version": "3.11.3"
  },
  "toc-autonumbering": true
 },
 "nbformat": 4,
 "nbformat_minor": 5
}
