{
 "cells": [
  {
   "cell_type": "markdown",
   "id": "11d2bad4-9242-42b6-a70e-6db78140bfda",
   "metadata": {
    "id": "376c512c-b7fd-49c0-b147-8c42d1be918c"
   },
   "source": [
    "\n",
    "\n",
    "# <font size=\"+3\"><span style='color:#2994ff'> **P7 - Implémentez un modèle de scoring** </span></font>\n"
   ]
  },
  {
   "cell_type": "markdown",
   "id": "5d7f999c-2feb-4950-b1d8-705b4af1f1b3",
   "metadata": {
    "id": "967cb3e2-cb54-4c6c-b5b7-411bb3559d31"
   },
   "source": [
    "<a id='LOADING_LIBRARIES'></a>\n",
    "\n",
    "---\n",
    "\n",
    "---\n",
    "\n",
    "<font size=\"+1\"> **LOADING THE LIBRARIES** </font>\n",
    "\n",
    "---"
   ]
  },
  {
   "cell_type": "code",
   "execution_count": 1,
   "id": "bc044096-53e2-496b-932a-bd32969f564a",
   "metadata": {},
   "outputs": [
    {
     "name": "stdout",
     "output_type": "stream",
     "text": [
      "Version of used libraries :\n",
      "Python                : 3.11.3 | packaged by Anaconda, Inc. | (main, Apr 19 2023, 23:46:34) [MSC v.1916 64 bit (AMD64)]\n",
      "NumPy                 : 1.24.3\n",
      "Pandas                : 1.5.3\n",
      "Dataframe tools      : 0.0.0\n",
      "\n",
      "Launched on : 2023-08-08T15:16:54.952802\n"
     ]
    }
   ],
   "source": [
    "\n",
    "# ----------------\n",
    "# Packages Update\n",
    "# ----------------\n",
    "\n",
    "# General libraries\n",
    "import sys\n",
    "import os\n",
    "import glob\n",
    "import pandas as pd\n",
    "import numpy as np\n",
    "import csv\n",
    "import time\n",
    "from datetime import datetime\n",
    "import pickle\n",
    "\n",
    "from xgboost import XGBRegressor\n",
    "\n",
    "from sklearn.neighbors import KNeighborsClassifier\n",
    "from sklearn.model_selection import StratifiedKFold\n",
    "from sklearn.preprocessing import StandardScaler\n",
    "from sklearn.metrics import roc_auc_score\n",
    "\n",
    "from lightgbm import LGBMClassifier\n",
    "from lightgbm import LGBMRegressor\n",
    "\n",
    "import tools_dataframe\n",
    "import tools_preprocessing\n",
    "import tools_feat_engineering\n",
    "\n",
    "\n",
    "# Data visualisation\n",
    "import matplotlib as mpl\n",
    "import matplotlib.pyplot as plt\n",
    "import seaborn as sns\n",
    "\n",
    "\n",
    "# Validation code PEP8\n",
    "%load_ext pycodestyle_magic\n",
    "%pycodestyle_on\n",
    "\n",
    "# Warnings\n",
    "import warnings\n",
    "from warnings import simplefilter\n",
    "warnings.filterwarnings(action='once')\n",
    "simplefilter(action='ignore', category=FutureWarning)\n",
    "simplefilter(action='ignore', category=ValueError)\n",
    "simplefilter(action='ignore', category=UserWarning)\n",
    "simplefilter(action='ignore', category=pd.errors.PerformanceWarning)\n",
    "\n",
    "\n",
    "# Versions\n",
    "print('Version of used libraries :')\n",
    "\n",
    "print('Python                : ' + sys.version)\n",
    "print('NumPy                 : ' + np.version.full_version)\n",
    "print('Pandas                : ' + pd.__version__)\n",
    "print('Dataframe tools      : ' + tools_dataframe.__version__)\n",
    "now = datetime.now().isoformat()\n",
    "print('\\nLaunched on : ' + now)"
   ]
  },
  {
   "cell_type": "markdown",
   "id": "6dac3cfc-57de-478e-b4a4-8e1df0df0b04",
   "metadata": {
    "id": "9f040c98-873f-4cb4-9917-6cf6775b1399"
   },
   "source": [
    "\n",
    "<a id='USED_PARAMETERS'></a>\n",
    "\n",
    "\n",
    "<br>\n",
    "\n",
    "\n",
    "---\n",
    "---\n",
    "\n",
    "<font size=\"+1\"> **PARAMETERS USED IN THIS NOTEBOOK** </font>\n",
    "\n",
    "---\n"
   ]
  },
  {
   "cell_type": "code",
   "execution_count": 2,
   "id": "73572090-e10f-4dc2-83b2-fc59963648d1",
   "metadata": {},
   "outputs": [],
   "source": [
    "# Random state\n",
    "seed = 84"
   ]
  },
  {
   "cell_type": "code",
   "execution_count": 3,
   "id": "f5e0a4cf-3e24-41f8-85a4-cefe7c639f2c",
   "metadata": {},
   "outputs": [],
   "source": [
    "dico_pd_option = {\n",
    "    'display.max_rows': 400,\n",
    "    'display.max_column': 200,\n",
    "    'display.width': 300,\n",
    "    'display.precision': 4,\n",
    "    'display.max_colwidth': 1000,\n",
    "    'mode.chained_assignment': None\n",
    "}\n",
    "for key, value in dico_pd_option.items():\n",
    "    pd.set_option(key, value)"
   ]
  },
  {
   "cell_type": "code",
   "execution_count": 4,
   "id": "9d5a0017-c15c-42b2-b8f7-698874cb4abd",
   "metadata": {
    "colab": {
     "base_uri": "https://localhost:8080/"
    },
    "id": "e70ac540-a82e-4c8e-b941-e7ed4470f315",
    "outputId": "65181089-44bf-4ba5-9bbf-196ea7d4444f"
   },
   "outputs": [
    {
     "name": "stderr",
     "output_type": "stream",
     "text": [
      "2:80: E501 line too long (86 > 79 characters)\n"
     ]
    }
   ],
   "source": [
    "# Define the folder containing the files with the project data\n",
    "P7_source = \"/home/raquelsp/Documents/Openclassrooms/P7_implementez_modele_scoring/P7_travail/p7_source/\"\n",
    "\n",
    "os.chdir(P7_source)"
   ]
  },
  {
   "cell_type": "markdown",
   "id": "37400648-51e8-4399-b267-9a8f68203fe9",
   "metadata": {},
   "source": [
    "<br>\n",
    "<br>\n",
    "\n",
    "<font size=\"+3\"><span style='color:#2994ff'> **P7 - Implémentez un modèle de scoring** </span></font>"
   ]
  },
  {
   "cell_type": "markdown",
   "id": "1a3a41cb-6792-411f-a61f-5e0fcc461d85",
   "metadata": {
    "tags": []
   },
   "source": [
    "\n",
    "<center><img src=\"./img/logo_projet.png\" style=\"height: 250px;\"/></center>\n",
    "\n",
    "**Prêt à dépenser** wants to implement a **credit scoring tool to calculate the probability of a customer repaying their loan**, and then **classify the application as either granted or refused credit**. It therefore wants to develop a classification algorithm based on a variety of data sources (behavioural data, data from other financial institutions, etc.)."
   ]
  },
  {
   "cell_type": "markdown",
   "id": "352125b7-b8cf-414f-9e79-78d1d780f7fc",
   "metadata": {},
   "source": [
    "This notebook includes the *pre-processing* of data sets and the *feature engineering*:\n",
    "\n",
    "\n",
    "- application_train/set.csv,\n",
    "\n",
    "- bureau.csv,\n",
    "\n",
    "- bureau_balance.csv,\n",
    "\n",
    "- credit_card_balance.csv,\n",
    "\n",
    "- installments_payments.csv,\n",
    "\n",
    "- POS_CASH_balance.csv,\n",
    "\n",
    "- previous_application.csv\n",
    "\n",
    "\n",
    "In particular:\n",
    "\n",
    "\n",
    "- **Cleaning** :\n",
    "\n",
    "    - **memory optimisation** by changing the data type. \n",
    "\n",
    "    - correction of **outliers**\n",
    "\n",
    "    - correction of **duplicated data**\n",
    "\n",
    "    - imputation of **missing values**\n",
    "\n",
    "- **Feature engineering**: in this section, we will start by using the knowledge and insights gained from exploratory data analysis to obtain good sets of variables using feature engineering. Note that most of the variables generated are based on domain knowledge and experimentation. Without good sets of variables, machine learning algorithms cannot produce effective results. We will therefore have to find ingenious ways of doing feature engineering so that the model makes better decisions.\n",
    "\n",
    "- Aggregation: with main data from Home Crédit Group.\n",
    "\n",
    "\n",
    "***\n",
    "\n",
    "Sources\n",
    "\n",
    "***\n",
    "\n",
    "The aggregation functions have been taken from the notebook: [Source](https://www.kaggle.com/willkoehrsen/introduction-to-manual-feature-engineering/output) by adapting the signature to pass the prefix of the column names and to be able to pass a dictionary of the statistics I want to add."
   ]
  },
  {
   "cell_type": "markdown",
   "id": "7072282e-bbaa-40b5-aa74-0019fe01fdd9",
   "metadata": {
    "id": "e8622ccb-75b5-4c07-8685-4efcc75630bc",
    "jp-MarkdownHeadingCollapsed": true,
    "tags": []
   },
   "source": [
    "\n",
    "## <font color = '#0085dd'>**Table of content**</font>\n",
    "\n",
    "---\n",
    "\n",
    "\n",
    "[**Train and test datasets**](#train_test)\n",
    " * [Application_train/test preprocessing](#application_traintest_preprocessing)\n",
    "    * [Application_train/test outliers](#application_traintest_outliers)\n",
    "    * [Application_train/test duplicated data](#application__traintest_duplicated_data)\n",
    "    * [Application_train/test missing values](#application_traintest_missing_values)\n",
    "      * [Application_train assignment missing values](#application_train_assign_missing_values)\n",
    " * [Application_train/test feat engineering](#application_traintest_feat_engi)\n",
    " * [Application_train/test Managing strong correlations](#application_traintest_manag_strong_correl)<br>\n",
    "<br>\n",
    "\n",
    "[**Data from previous loans at Home Crédit**](#previous_loans_Home_Credit)\n",
    " * [previous_application](#previous_application_preprocessing)\n",
    "    * [previous_application preprocessing](#previous_application_preproc)\n",
    "      * [previous_application outliers](#previous_application_outliers)\n",
    "    * [previous_application feature engineering](#previous_application_feat_eng)\n",
    "    * [previous_application assignment missing values](#previous_application_missing_values)\n",
    "    * [previous_application remove strong correlations](#previous_application_strong_correl)\n",
    " * [POS_CASH_balance](#POS_CASH_balance_preprocessing)\n",
    "    * [POS_CASH_balance feature engineering](#POS_CASH_balance_feat_eng)\n",
    "    * [POS_CASH_balance assignment missing values](#POS_CASH_balance_missing_values)\n",
    "    * [previous_application remove strong correlations](#previous_application_strong_correl)\n",
    " * [installments_payments](#installments_payments_preprocessing)\n",
    "    * [installments_payments feature engineering](#installments_payments_feat_eng)\n",
    "    * [installments_payments assignment missing values](#installments_payments_missing_values)\n",
    "    * [installments_payments remove strong correlations](#installments_payments_strong_correl)\n",
    "  * [credit_card_balance](#cc_balance_preproc)\n",
    "    * [credit_card_balance preprocessing](#cc_balance_preproc)\n",
    "    * [credit_card_balance feature engineering](#cc_balance_feat_eng)\n",
    "    * [credit_card_balance assignment missing values](#cc_balance_missing_values)\n",
    "    * [credit_card_balance remove strong correlations](#cc_balance_strong_correl)<br>\n",
    "<br>\n",
    "\n",
    "[**Data from previous loans in financial organisations other than Home Credit Group**](#previous_loans_other_than_Home_Credit)\n",
    " * [bureau_balance](#bureau_balance_preprocessing)\n",
    "   * [bureau_balance preprocessing](#bureau_balance_preproc)\n",
    "   * [bureau_balance feature engineering](#bureau_balance_feat_eng)\n",
    "   * [bureau_balance assignment missing values](#bureau_balance_assing_missing_values)\n",
    " * [bureau](#bureau_preprocessing_feat_eng)\n",
    "   * [bureau preprocessing](#bureau)\n",
    "     * [bureau outliers](#bureau_outliers)\n",
    "   * [bureau feature engineering](#bureau_feat_eng)\n",
    "   * [bureau_merged assignment missing values](#bureau_merged_assing_missing_values)\n",
    " * [bureau merged strong correlations](#bureau_balance_bureau_strong_correl)<br>\n",
    "<br>\n",
    "\n",
    "[**Merging All Tables**](#merging_tables)\n",
    " * [Features Based on Interaction Among Different Tables](#feat_interaction_diff_tables)\n",
    "   * [Merged tables assignment missing values](#dataset_merged_assing_missing_values)\n",
    "\n",
    "\n",
    "---\n",
    "\n"
   ]
  },
  {
   "cell_type": "markdown",
   "id": "133a742e-89ff-44e0-a17f-2e650bdbc215",
   "metadata": {
    "id": "2f3cf119-1479-4a49-b958-bb22d513aa1f",
    "tags": []
   },
   "source": [
    "<a id='train_test'></a>\n",
    "\n",
    "---\n",
    "---\n",
    "\n",
    "# <span style='background:#2994ff'><span style='color:white'>**Train and test datasets** </span></span>\n"
   ]
  },
  {
   "cell_type": "markdown",
   "id": "388f0261-0759-44cd-8b8d-9f5993c49e59",
   "metadata": {},
   "source": [
    "| File | Description |\n",
    "| --- | --- |\n",
    "| <p style='text-align: justify;'>**application_train.csv** <br> **application_test.csv**</p> | <ul style='text-align: justify;'><li>The main table, divided into two files for Train (with TARGET) and Test (without TARGET).</li> <li>Static data for all applications.</li><li>A line represents a loan in our data sample.</li></ul> |"
   ]
  },
  {
   "cell_type": "code",
   "execution_count": 5,
   "id": "345b3e75-7d5b-4029-bfbb-d4ff0993bb8c",
   "metadata": {},
   "outputs": [],
   "source": [
    "# -----------------------------\n",
    "# Files upload:\n",
    "# -----------------------------\n",
    "\n",
    "# Train and Test datasets\n",
    "application_train = pd.read_csv('application_train.csv', low_memory=False,\n",
    "                                encoding='utf-8')\n",
    "application_test = pd.read_csv('application_test.csv', low_memory=False,\n",
    "                               encoding='utf-8')"
   ]
  },
  {
   "cell_type": "code",
   "execution_count": 6,
   "id": "99e59c76-1861-487d-bc21-b0730d38ed3f",
   "metadata": {
    "colab": {
     "base_uri": "https://localhost:8080/",
     "height": 242
    },
    "id": "wbuxtEb26P3y",
    "outputId": "5162fba7-7db6-4eb4-f3fe-8f38f4b2bd32"
   },
   "outputs": [
    {
     "name": "stdout",
     "output_type": "stream",
     "text": [
      "The application_train dataset contains 307511 rowsand {nVar} variables.\n",
      "\n",
      "The application_test dataset contains 48744 rowsand {nVar} variables.\n"
     ]
    }
   ],
   "source": [
    "# --------------\n",
    "# Dataset size\n",
    "# --------------\n",
    "nRow, nVar = application_train.shape\n",
    "print(f'The application_train dataset contains {nRow} rows'\n",
    "      'and {nVar} variables.')\n",
    "print()\n",
    "nRow, nVar = application_test.shape\n",
    "print(f'The application_test dataset contains {nRow} rows'\n",
    "      'and {nVar} variables.')"
   ]
  },
  {
   "cell_type": "code",
   "execution_count": 7,
   "id": "ee89d158-7f0d-4371-bfe4-5574efe2c3b0",
   "metadata": {
    "colab": {
     "base_uri": "https://localhost:8080/",
     "height": 300
    },
    "id": "HRTp5goApIcW",
    "outputId": "87a80077-c5b1-43e0-9fa3-7dd2eb67dc3c",
    "tags": []
   },
   "outputs": [
    {
     "name": "stdout",
     "output_type": "stream",
     "text": [
      "train_dataset\n"
     ]
    },
    {
     "data": {
      "image/png": "[encoded data removed]",
      "text/plain": [
       "<Figure size 640x480 with 1 Axes>"
      ]
     },
     "metadata": {},
     "output_type": "display_data"
    }
   ],
   "source": [
    "# --------------------\n",
    "# Variable types\n",
    "# --------------------\n",
    "info_train = tools_dataframe.complet_description(application_train)\n",
    "print(\"train_dataset\")\n",
    "tools_dataframe.visu_dataTypes(info_train)"
   ]
  },
  {
   "cell_type": "code",
   "execution_count": 8,
   "id": "a03867be-aced-4081-aa1f-565aa6553581",
   "metadata": {},
   "outputs": [
    {
     "name": "stdout",
     "output_type": "stream",
     "text": [
      "test_dataset\n"
     ]
    },
    {
     "data": {
      "image/png": "[encoded data removed]",
      "text/plain": [
       "<Figure size 640x480 with 1 Axes>"
      ]
     },
     "metadata": {},
     "output_type": "display_data"
    }
   ],
   "source": [
    "# --------------------\n",
    "# Variable types\n",
    "# --------------------\n",
    "info_test = tools_dataframe.complet_description(application_test)\n",
    "print(\"test_dataset\")\n",
    "tools_dataframe.visu_dataTypes(info_test)"
   ]
  },
  {
   "cell_type": "code",
   "execution_count": 9,
   "id": "3b098462-3b7c-4029-b09a-9680dbbdd6cd",
   "metadata": {
    "run_control": {
     "marked": false
    }
   },
   "outputs": [],
   "source": [
    "# Continous variables\n",
    "cols_num_train = application_train.select_dtypes(include=[np.number])\\\n",
    "                                    .columns.to_list()\n",
    "cols_num_test = application_test.select_dtypes(include=[np.number])\\\n",
    "                                    .columns.to_list()"
   ]
  },
  {
   "cell_type": "code",
   "execution_count": 10,
   "id": "f9b2b04d-b2a2-4e71-bcd7-5372824fc574",
   "metadata": {
    "run_control": {
     "marked": false
    }
   },
   "outputs": [],
   "source": [
    "# Categorical variables\n",
    "cols_cat_train = application_train.select_dtypes(exclude=[np.number])\\\n",
    "                                    .columns.to_list()\n",
    "cols_cat_test = application_test.select_dtypes(exclude=[np.number])\\\n",
    "                                    .columns.to_list()"
   ]
  },
  {
   "cell_type": "code",
   "execution_count": 11,
   "id": "4668c38a-d084-4269-9b66-5373aac1359e",
   "metadata": {},
   "outputs": [
    {
     "name": "stdout",
     "output_type": "stream",
     "text": [
      "application_train\n",
      "-------------------------------------------------------------------------------\n",
      "Memory usage of dataframe is: 286.23 MB\n",
      "Memory usage after optimization is : 128.16 MB\n",
      "Reduction of 55.2%\n",
      "-------------------------------------------------------------------------------\n"
     ]
    }
   ],
   "source": [
    "# ----------------------------------------------------\n",
    "# Memory improvement by reducing the size of objects\n",
    "# ----------------------------------------------------\n",
    "print(\"application_train\")\n",
    "application_train =\\\n",
    "    tools_preprocessing.reduce_mem_usage(application_train, verbose=True)"
   ]
  },
  {
   "cell_type": "code",
   "execution_count": 12,
   "id": "889ee588-5384-4e39-88f0-d9a788d86c10",
   "metadata": {},
   "outputs": [
    {
     "name": "stdout",
     "output_type": "stream",
     "text": [
      "application_test\n",
      "-------------------------------------------------------------------------------\n",
      "Memory usage of dataframe is: 45.00 MB\n",
      "Memory usage after optimization is : 20.27 MB\n",
      "Reduction of 55.0%\n",
      "-------------------------------------------------------------------------------\n"
     ]
    }
   ],
   "source": [
    "# ----------------------------------------------------\n",
    "# Memory improvement by reducing the size of objects\n",
    "# ----------------------------------------------------\n",
    "print(\"application_test\")\n",
    "application_test =\\\n",
    "    tools_preprocessing.reduce_mem_usage(application_test, verbose=True)"
   ]
  },
  {
   "cell_type": "code",
   "execution_count": 13,
   "id": "a66a8a32-ccdf-47be-8dfc-d983208b8f41",
   "metadata": {
    "run_control": {
     "marked": false
    }
   },
   "outputs": [],
   "source": [
    "# Manual changes : REGION_RATING_CLIENT contains 1, 2 and 3\n",
    "# ==> object\n",
    "application_train['REGION_RATING_CLIENT'] = \\\n",
    "    application_train['REGION_RATING_CLIENT'].astype('object')\n",
    "# Manual changes : : REGION_RATING_CLIENT_W_CITY contains\n",
    "# ==> 1, 2 ou 3 object\n",
    "application_train['REGION_RATING_CLIENT_W_CITY'] = \\\n",
    "    application_train['REGION_RATING_CLIENT_W_CITY'].astype('object')"
   ]
  },
  {
   "cell_type": "code",
   "execution_count": 14,
   "id": "47be2ab3-c641-4705-ad11-bf8c05ecfa81",
   "metadata": {
    "run_control": {
     "marked": false
    }
   },
   "outputs": [],
   "source": [
    "# # Manual changes : REGION_RATING_CLIENT contains 1, 2 and 3\n",
    "# ==> object\n",
    "application_test['REGION_RATING_CLIENT'] = \\\n",
    "    application_test['REGION_RATING_CLIENT'].astype('object')\n",
    "# Manual changes : : REGION_RATING_CLIENT_W_CITY contains\n",
    "# ==> 1, 2 ou 3 object\n",
    "application_test['REGION_RATING_CLIENT_W_CITY'] = \\\n",
    "    application_test['REGION_RATING_CLIENT_W_CITY'].astype('object')"
   ]
  },
  {
   "cell_type": "code",
   "execution_count": 15,
   "id": "1e0a8f48-639f-499e-9fd6-6e28e3b1bd4b",
   "metadata": {
    "run_control": {
     "marked": false
    }
   },
   "outputs": [],
   "source": [
    "# EMERGENCYSTATE_MODE contains Yes/No ==> transform to 1/0\n",
    "%pycodestyle_off\n",
    "dico_emergency = {'Yes' : 0,\n",
    "                  'No' : 1,\n",
    "                  np.nan : 0}\n",
    "tools_preprocessing.transl_values(application_train,\n",
    "                                  'EMERGENCYSTATE_MODE', dico_emergency)\n",
    "application_train['EMERGENCYSTATE_MODE'] = \\\n",
    "    application_train['EMERGENCYSTATE_MODE'].astype('int8')\n",
    "%pycodestyle_on"
   ]
  },
  {
   "cell_type": "code",
   "execution_count": 16,
   "id": "80a60657-122f-42d9-b5e8-594ece1b6b8d",
   "metadata": {
    "run_control": {
     "marked": false
    }
   },
   "outputs": [],
   "source": [
    "# EMERGENCYSTATE_MODE contains Y/N ==> transformer en 1/0\n",
    "%pycodestyle_off\n",
    "dico_emergency = {'Yes' : 0,\n",
    "                  'No' : 1,\n",
    "                  np.nan : 0}\n",
    "tools_preprocessing.transl_values(application_test,\n",
    "                                      'EMERGENCYSTATE_MODE', dico_emergency)\n",
    "application_test['EMERGENCYSTATE_MODE'] = \\\n",
    "    application_test['EMERGENCYSTATE_MODE'].astype('int8')\n",
    "%pycodestyle_on"
   ]
  },
  {
   "cell_type": "code",
   "execution_count": 17,
   "id": "0c67da2f-d213-4dfc-ab26-b6956be08c1a",
   "metadata": {
    "run_control": {
     "marked": false
    }
   },
   "outputs": [],
   "source": [
    "# FLAG_OWN_CAR contains Y/N ==> transformer en 1/0\n",
    "%pycodestyle_off\n",
    "dico_owncar = {'Y' : 0,\n",
    "               'N' : 1,\n",
    "               np.nan : 0}\n",
    "tools_preprocessing.transl_values(application_train, 'FLAG_OWN_CAR',\n",
    "                                  dico_owncar)\n",
    "application_train['FLAG_OWN_CAR'] = \\\n",
    "    application_train['FLAG_OWN_CAR'].astype('int8')\n",
    "application_train['FLAG_OWN_CAR'].unique()\n",
    "%pycodestyle_on"
   ]
  },
  {
   "cell_type": "code",
   "execution_count": 18,
   "id": "e8d0100a-b111-4033-9138-dc99a940b4c7",
   "metadata": {
    "run_control": {
     "marked": false
    }
   },
   "outputs": [],
   "source": [
    "# FLAG_OWN_CAR contains Y/N ==> transformer en 1/0\n",
    "%pycodestyle_off\n",
    "dico_owncar = {'Y' : 0,\n",
    "               'N' : 1,\n",
    "               np.nan : 0}\n",
    "tools_preprocessing.transl_values(application_test, 'FLAG_OWN_CAR',\n",
    "                                      dico_owncar)\n",
    "application_test['FLAG_OWN_CAR'] = \\\n",
    "    application_test['FLAG_OWN_CAR'].astype('int8')\n",
    "%pycodestyle_on"
   ]
  },
  {
   "cell_type": "code",
   "execution_count": 19,
   "id": "a819c466-6f50-47d8-b61a-79c8fb7a5a99",
   "metadata": {
    "run_control": {
     "marked": false
    }
   },
   "outputs": [],
   "source": [
    "# FLAG_OWN_REALTY contains Y/N ==> transformer en 1/0\n",
    "%pycodestyle_off\n",
    "dico_ownreal = {'Y' : 0,\n",
    "                'N' : 1,\n",
    "                np.nan : 0}\n",
    "tools_preprocessing.transl_values(application_train, 'FLAG_OWN_REALTY',\n",
    "                                  dico_ownreal)\n",
    "application_train['FLAG_OWN_REALTY'] = \\\n",
    "    application_train['FLAG_OWN_REALTY'].astype('int8')\n",
    "application_train['FLAG_OWN_REALTY'].unique()\n",
    "%pycodestyle_on"
   ]
  },
  {
   "cell_type": "code",
   "execution_count": 20,
   "id": "7d898a48-5bb1-4b07-b57e-37ea0d118764",
   "metadata": {
    "run_control": {
     "marked": false
    }
   },
   "outputs": [],
   "source": [
    "# FLAG_OWN_REALTY contains Y/N ==> transformer en 1/0\n",
    "%pycodestyle_off\n",
    "dico_ownreal = {'Y' : 0,\n",
    "                'N' : 1,\n",
    "                np.nan : 0}\n",
    "tools_preprocessing.transl_values(application_test, 'FLAG_OWN_REALTY',\n",
    "                                      dico_ownreal)\n",
    "application_test['FLAG_OWN_REALTY'] = \\\n",
    "    application_test['FLAG_OWN_REALTY'].astype('int8')\n",
    "%pycodestyle_on"
   ]
  },
  {
   "cell_type": "code",
   "execution_count": 21,
   "id": "986a89c6-f150-4bf2-8bb2-e86ece8c8650",
   "metadata": {},
   "outputs": [],
   "source": [
    "# REMOVE UNINFORMATIVE VARIABLES\n",
    "\n",
    "# there are some FLAG_DOCUMENT features having just one category\n",
    "# for almost all data, we will remove those\n",
    "flag_cols_to_drop = ['FLAG_DOCUMENT_2', 'FLAG_DOCUMENT_4',\n",
    "                     'FLAG_DOCUMENT_10', 'FLAG_DOCUMENT_12',\n",
    "                     'FLAG_DOCUMENT_20']\n",
    "application_train = application_train.drop(flag_cols_to_drop, axis=1)\n",
    "application_test = application_test.drop(flag_cols_to_drop,  axis=1)"
   ]
  },
  {
   "cell_type": "code",
   "execution_count": 22,
   "id": "1d926c37-f445-4935-89dd-74c2622d0073",
   "metadata": {},
   "outputs": [
    {
     "name": "stderr",
     "output_type": "stream",
     "text": [
      "8:35: E211 whitespace before '['\n",
      "10:34: E211 whitespace before '['\n"
     ]
    }
   ],
   "source": [
    "# CORRECT TIME VARIABLES\n",
    "\n",
    "# converting age from days to years\n",
    "application_train['DAYS_BIRTH'] = application_train['DAYS_BIRTH'] * -1 / 365\n",
    "application_test['DAYS_BIRTH'] = application_test['DAYS_BIRTH'] * -1 / 365\n",
    "\n",
    "# From the EDA we saw some erroneous values in DAYS_EMPLOYED field\n",
    "application_train['DAYS_EMPLOYED']\\\n",
    "    [application_train['DAYS_EMPLOYED'] == 365243] = np.nan\n",
    "application_test['DAYS_EMPLOYED']\\\n",
    "    [application_test['DAYS_EMPLOYED'] == 365243] = np.nan"
   ]
  },
  {
   "cell_type": "code",
   "execution_count": 23,
   "id": "76444b36-78cd-41f6-9ecf-9678b0543948",
   "metadata": {},
   "outputs": [
    {
     "data": {
      "text/plain": [
       "37465    False\n",
       "38869    False\n",
       "39671    False\n",
       "Name: OBS_60_CNT_SOCIAL_CIRCLE, dtype: bool"
      ]
     },
     "execution_count": 23,
     "metadata": {},
     "output_type": "execute_result"
    },
    {
     "name": "stderr",
     "output_type": "stream",
     "text": [
      "3:46: E211 whitespace before '['\n",
      "5:46: E211 whitespace before '['\n",
      "7:45: E211 whitespace before '['\n",
      "9:45: E211 whitespace before '['\n"
     ]
    }
   ],
   "source": [
    "# REMOVE ERRONEUS VALUES IN OBS COLUMNS\n",
    "\n",
    "application_train['OBS_30_CNT_SOCIAL_CIRCLE']\\\n",
    "    [application_train['OBS_30_CNT_SOCIAL_CIRCLE'] > 30] == np.nan\n",
    "application_train['OBS_60_CNT_SOCIAL_CIRCLE']\\\n",
    "    [application_train['OBS_60_CNT_SOCIAL_CIRCLE'] > 30] == np.nan\n",
    "application_test['OBS_30_CNT_SOCIAL_CIRCLE']\\\n",
    "    [application_test['OBS_30_CNT_SOCIAL_CIRCLE'] > 30] == np.nan\n",
    "application_test['OBS_60_CNT_SOCIAL_CIRCLE']\\\n",
    "    [application_test['OBS_60_CNT_SOCIAL_CIRCLE'] > 30] == np.nan"
   ]
  },
  {
   "cell_type": "markdown",
   "id": "d56f132e-795c-48a2-87e4-bcee0390ca83",
   "metadata": {
    "id": "UjzpPUhyDxT8"
   },
   "source": [
    "<a id='application_traintest_preprocessing'></a>\n",
    "\n",
    "## <span style='background:#0085dd'><span style='color:white'>Application_train/test preprocessing</span></span>"
   ]
  },
  {
   "cell_type": "markdown",
   "id": "0ab734ae-7229-4bbf-b6cb-4b9e7899d59b",
   "metadata": {
    "id": "UjzpPUhyDxT8"
   },
   "source": [
    "<a id='application_traintest_outliers'></a>\n",
    "\n",
    "### <span style='background:#0075bc'><span style='color:white'>Application_train/test outliers</span></span>"
   ]
  },
  {
   "cell_type": "markdown",
   "id": "2fe7168b-4f3e-48b0-97bb-060a5c3ca1f6",
   "metadata": {},
   "source": [
    "Correction of outliers detected during the EDA."
   ]
  },
  {
   "cell_type": "markdown",
   "id": "d45c595f-973c-4bd0-973a-60765faa7dfc",
   "metadata": {},
   "source": [
    "**DAYS_EMPLOYED**"
   ]
  },
  {
   "cell_type": "markdown",
   "id": "641302a4-8d7d-4de9-b3c9-251c22219620",
   "metadata": {},
   "source": [
    "From the 90th percentile, the value is 365243 days, i.e. 1000 years!"
   ]
  },
  {
   "cell_type": "code",
   "execution_count": 24,
   "id": "700d285b-42a1-4ac8-8820-54775401dbef",
   "metadata": {
    "run_control": {
     "marked": false
    }
   },
   "outputs": [
    {
     "name": "stdout",
     "output_type": "stream",
     "text": [
      "application_train\n",
      "Number of errors DAYS_EMPLOYED : 0 (0.0%)\n"
     ]
    }
   ],
   "source": [
    "# Number of rows with errors\n",
    "print(\"application_train\")\n",
    "nb_err = \\\n",
    "    application_train['DAYS_EMPLOYED'][application_train['DAYS_EMPLOYED']\n",
    "                                       == 365243].count()\n",
    "pourc_err = round((nb_err*100)/application_train.shape[0], 2)\n",
    "print(f'Number of errors DAYS_EMPLOYED : {nb_err} ({pourc_err}%)')"
   ]
  },
  {
   "cell_type": "code",
   "execution_count": 25,
   "id": "95825b50-986c-4ba0-9e29-3a83a08afb4e",
   "metadata": {
    "run_control": {
     "marked": false
    }
   },
   "outputs": [],
   "source": [
    "# Correction\n",
    "application_train['DAYS_EMPLOYED'][application_train['DAYS_EMPLOYED']\n",
    "                                   == 365243] = np.nan"
   ]
  },
  {
   "cell_type": "code",
   "execution_count": 26,
   "id": "d7780767-b75b-40b3-b94a-32416cba6a74",
   "metadata": {
    "run_control": {
     "marked": false
    }
   },
   "outputs": [
    {
     "name": "stdout",
     "output_type": "stream",
     "text": [
      "application_test\n",
      "Number of errors DAYS_EMPLOYED : 0 (0.0%)\n"
     ]
    }
   ],
   "source": [
    "# Number of rows with errors\n",
    "print(\"application_test\")\n",
    "nb_err = \\\n",
    "    application_test['DAYS_EMPLOYED'][application_test['DAYS_EMPLOYED']\n",
    "                                      == 365243].count()\n",
    "pourc_err = round((nb_err*100)/application_test.shape[0], 2)\n",
    "print(f'Number of errors DAYS_EMPLOYED : {nb_err} ({pourc_err}%)')"
   ]
  },
  {
   "cell_type": "code",
   "execution_count": 27,
   "id": "d7bb4243-6617-4e7c-8e4c-b99a3caf224f",
   "metadata": {
    "run_control": {
     "marked": false
    }
   },
   "outputs": [],
   "source": [
    "# Correction\n",
    "application_test['DAYS_EMPLOYED'][application_test['DAYS_EMPLOYED']\n",
    "                                  == 365243] = np.nan"
   ]
  },
  {
   "cell_type": "markdown",
   "id": "614d4ee8-266d-4c37-82bb-f8520fdc5bdf",
   "metadata": {
    "id": "UjzpPUhyDxT8"
   },
   "source": [
    "<a id='application__traintest_duplicated_data'></a>\n",
    "\n",
    "### <span style='background:#0075bc'><span style='color:white'>Application_train/test duplicated data</span></span>"
   ]
  },
  {
   "cell_type": "code",
   "execution_count": 28,
   "id": "cf8f161d-3a92-4619-927c-d19b2e3c227d",
   "metadata": {},
   "outputs": [
    {
     "name": "stdout",
     "output_type": "stream",
     "text": [
      "Duplicated data in application_train:  0\n"
     ]
    }
   ],
   "source": [
    "print(\"Duplicated data in application_train: \",\n",
    "      application_train.loc[application_train.duplicated()].shape[0])"
   ]
  },
  {
   "cell_type": "code",
   "execution_count": 29,
   "id": "10d1a640-4fad-457e-883f-25409d94c7b0",
   "metadata": {},
   "outputs": [
    {
     "name": "stdout",
     "output_type": "stream",
     "text": [
      "Duplicated data in application_test:  0\n"
     ]
    }
   ],
   "source": [
    "print(\"Duplicated data in application_test: \",\n",
    "      application_test.loc[application_test.duplicated()].shape[0])"
   ]
  },
  {
   "cell_type": "markdown",
   "id": "d39d8a54-e433-4af6-9113-c314072392c8",
   "metadata": {
    "id": "UjzpPUhyDxT8"
   },
   "source": [
    "<a id='application_traintest_missing_values'></a>\n",
    "\n",
    "### <span style='background:#0075bc'><span style='color:white'>Application_train/test missing values</span></span>"
   ]
  },
  {
   "cell_type": "code",
   "execution_count": 30,
   "id": "15485067-9ea2-40e2-b3ab-85aa6385d2e7",
   "metadata": {
    "run_control": {
     "marked": false
    },
    "tags": []
   },
   "outputs": [
    {
     "name": "stdout",
     "output_type": "stream",
     "text": [
      "Missing values : 9062084 NaN for 35978787 data (25.19 %)\n",
      "-------------------------------------------------------------\n",
      "Number and % of missing values by variable\n",
      "\n"
     ]
    },
    {
     "data": {
      "text/html": [
       "<style type=\"text/css\">\n",
       "#T_65226_row0_col0, #T_65226_row0_col1, #T_65226_row1_col0, #T_65226_row1_col1, #T_65226_row2_col0, #T_65226_row2_col1 {\n",
       "  background-color: #800000;\n",
       "  color: #f1f1f1;\n",
       "}\n",
       "#T_65226_row3_col0, #T_65226_row3_col1, #T_65226_row4_col0, #T_65226_row4_col1, #T_65226_row5_col0, #T_65226_row5_col1 {\n",
       "  background-color: #820000;\n",
       "  color: #f1f1f1;\n",
       "}\n",
       "#T_65226_row6_col0, #T_65226_row6_col1, #T_65226_row7_col0, #T_65226_row7_col1, #T_65226_row8_col0, #T_65226_row8_col1, #T_65226_row9_col0, #T_65226_row9_col1 {\n",
       "  background-color: #8a0000;\n",
       "  color: #f1f1f1;\n",
       "}\n",
       "#T_65226_row10_col0, #T_65226_row10_col1, #T_65226_row11_col0, #T_65226_row11_col1, #T_65226_row12_col0, #T_65226_row12_col1 {\n",
       "  background-color: #8e0000;\n",
       "  color: #f1f1f1;\n",
       "}\n",
       "#T_65226_row13_col0, #T_65226_row13_col1, #T_65226_row14_col0, #T_65226_row14_col1, #T_65226_row15_col0, #T_65226_row15_col1 {\n",
       "  background-color: #980000;\n",
       "  color: #f1f1f1;\n",
       "}\n",
       "#T_65226_row16_col0, #T_65226_row16_col1 {\n",
       "  background-color: #9c0000;\n",
       "  color: #f1f1f1;\n",
       "}\n",
       "#T_65226_row17_col0, #T_65226_row17_col1, #T_65226_row18_col0, #T_65226_row18_col1, #T_65226_row19_col0, #T_65226_row19_col1 {\n",
       "  background-color: #cc0000;\n",
       "  color: #f1f1f1;\n",
       "}\n",
       "#T_65226_row20_col0, #T_65226_row20_col1, #T_65226_row21_col0, #T_65226_row21_col1, #T_65226_row22_col0, #T_65226_row22_col1 {\n",
       "  background-color: #d20000;\n",
       "  color: #f1f1f1;\n",
       "}\n",
       "#T_65226_row23_col0, #T_65226_row23_col1 {\n",
       "  background-color: #e20000;\n",
       "  color: #f1f1f1;\n",
       "}\n",
       "#T_65226_row24_col0, #T_65226_row24_col1, #T_65226_row25_col0, #T_65226_row25_col1, #T_65226_row26_col0, #T_65226_row26_col1 {\n",
       "  background-color: #ea0000;\n",
       "  color: #f1f1f1;\n",
       "}\n",
       "#T_65226_row27_col0, #T_65226_row27_col1, #T_65226_row28_col0, #T_65226_row28_col1, #T_65226_row29_col0, #T_65226_row29_col1 {\n",
       "  background-color: #f80000;\n",
       "  color: #f1f1f1;\n",
       "}\n",
       "#T_65226_row30_col0, #T_65226_row30_col1 {\n",
       "  background-color: #ff1515;\n",
       "  color: #f1f1f1;\n",
       "}\n",
       "#T_65226_row31_col0, #T_65226_row31_col1, #T_65226_row32_col0, #T_65226_row32_col1, #T_65226_row33_col0, #T_65226_row33_col1 {\n",
       "  background-color: #ff1919;\n",
       "  color: #f1f1f1;\n",
       "}\n",
       "#T_65226_row34_col0, #T_65226_row34_col1, #T_65226_row35_col0, #T_65226_row35_col1, #T_65226_row36_col0, #T_65226_row36_col1 {\n",
       "  background-color: #ff1d1d;\n",
       "  color: #f1f1f1;\n",
       "}\n",
       "#T_65226_row37_col0, #T_65226_row37_col1, #T_65226_row38_col0, #T_65226_row38_col1, #T_65226_row39_col0, #T_65226_row39_col1, #T_65226_row40_col0, #T_65226_row40_col1 {\n",
       "  background-color: #ff2121;\n",
       "  color: #f1f1f1;\n",
       "}\n",
       "#T_65226_row41_col0, #T_65226_row41_col1, #T_65226_row42_col0, #T_65226_row42_col1, #T_65226_row43_col0, #T_65226_row43_col1 {\n",
       "  background-color: #ff2525;\n",
       "  color: #f1f1f1;\n",
       "}\n",
       "#T_65226_row44_col0, #T_65226_row44_col1, #T_65226_row45_col0, #T_65226_row45_col1, #T_65226_row46_col0, #T_65226_row46_col1 {\n",
       "  background-color: #ff3535;\n",
       "  color: #f1f1f1;\n",
       "}\n",
       "#T_65226_row47_col0, #T_65226_row47_col1 {\n",
       "  background-color: #ff3d3d;\n",
       "  color: #f1f1f1;\n",
       "}\n",
       "#T_65226_row48_col0, #T_65226_row48_col1 {\n",
       "  background-color: #c9c9ff;\n",
       "  color: #000000;\n",
       "}\n",
       "#T_65226_row49_col0, #T_65226_row49_col1 {\n",
       "  background-color: #2121ff;\n",
       "  color: #f1f1f1;\n",
       "}\n",
       "#T_65226_row50_col0, #T_65226_row50_col1 {\n",
       "  background-color: #0505ff;\n",
       "  color: #f1f1f1;\n",
       "}\n",
       "#T_65226_row51_col0, #T_65226_row51_col1, #T_65226_row52_col0, #T_65226_row52_col1, #T_65226_row53_col0, #T_65226_row53_col1, #T_65226_row54_col0, #T_65226_row54_col1, #T_65226_row55_col0, #T_65226_row55_col1, #T_65226_row56_col0, #T_65226_row56_col1 {\n",
       "  background-color: #0000d6;\n",
       "  color: #f1f1f1;\n",
       "}\n",
       "#T_65226_row57_col0, #T_65226_row57_col1, #T_65226_row58_col0, #T_65226_row58_col1, #T_65226_row59_col0, #T_65226_row59_col1, #T_65226_row60_col0, #T_65226_row60_col1, #T_65226_row61_col0, #T_65226_row61_col1 {\n",
       "  background-color: #00004f;\n",
       "  color: #f1f1f1;\n",
       "}\n",
       "#T_65226_row62_col0, #T_65226_row62_col1, #T_65226_row63_col0, #T_65226_row63_col1, #T_65226_row64_col0, #T_65226_row64_col1, #T_65226_row65_col0, #T_65226_row65_col1, #T_65226_row66_col0, #T_65226_row66_col1 {\n",
       "  background-color: #00004c;\n",
       "  color: #f1f1f1;\n",
       "}\n",
       "</style>\n",
       "<table id=\"T_65226\">\n",
       "  <thead>\n",
       "    <tr>\n",
       "      <th class=\"blank level0\" >&nbsp;</th>\n",
       "      <th id=\"T_65226_level0_col0\" class=\"col_heading level0 col0\" >Number of missing values</th>\n",
       "      <th id=\"T_65226_level0_col1\" class=\"col_heading level0 col1\" >% of missing values</th>\n",
       "    </tr>\n",
       "  </thead>\n",
       "  <tbody>\n",
       "    <tr>\n",
       "      <th id=\"T_65226_level0_row0\" class=\"row_heading level0 row0\" >COMMONAREA_MODE</th>\n",
       "      <td id=\"T_65226_row0_col0\" class=\"data row0 col0\" >214865</td>\n",
       "      <td id=\"T_65226_row0_col1\" class=\"data row0 col1\" >69.870000</td>\n",
       "    </tr>\n",
       "    <tr>\n",
       "      <th id=\"T_65226_level0_row1\" class=\"row_heading level0 row1\" >COMMONAREA_AVG</th>\n",
       "      <td id=\"T_65226_row1_col0\" class=\"data row1 col0\" >214865</td>\n",
       "      <td id=\"T_65226_row1_col1\" class=\"data row1 col1\" >69.870000</td>\n",
       "    </tr>\n",
       "    <tr>\n",
       "      <th id=\"T_65226_level0_row2\" class=\"row_heading level0 row2\" >COMMONAREA_MEDI</th>\n",
       "      <td id=\"T_65226_row2_col0\" class=\"data row2 col0\" >214865</td>\n",
       "      <td id=\"T_65226_row2_col1\" class=\"data row2 col1\" >69.870000</td>\n",
       "    </tr>\n",
       "    <tr>\n",
       "      <th id=\"T_65226_level0_row3\" class=\"row_heading level0 row3\" >NONLIVINGAPARTMENTS_MEDI</th>\n",
       "      <td id=\"T_65226_row3_col0\" class=\"data row3 col0\" >213514</td>\n",
       "      <td id=\"T_65226_row3_col1\" class=\"data row3 col1\" >69.430000</td>\n",
       "    </tr>\n",
       "    <tr>\n",
       "      <th id=\"T_65226_level0_row4\" class=\"row_heading level0 row4\" >NONLIVINGAPARTMENTS_AVG</th>\n",
       "      <td id=\"T_65226_row4_col0\" class=\"data row4 col0\" >213514</td>\n",
       "      <td id=\"T_65226_row4_col1\" class=\"data row4 col1\" >69.430000</td>\n",
       "    </tr>\n",
       "    <tr>\n",
       "      <th id=\"T_65226_level0_row5\" class=\"row_heading level0 row5\" >NONLIVINGAPARTMENTS_MODE</th>\n",
       "      <td id=\"T_65226_row5_col0\" class=\"data row5 col0\" >213514</td>\n",
       "      <td id=\"T_65226_row5_col1\" class=\"data row5 col1\" >69.430000</td>\n",
       "    </tr>\n",
       "    <tr>\n",
       "      <th id=\"T_65226_level0_row6\" class=\"row_heading level0 row6\" >FONDKAPREMONT_MODE</th>\n",
       "      <td id=\"T_65226_row6_col0\" class=\"data row6 col0\" >210295</td>\n",
       "      <td id=\"T_65226_row6_col1\" class=\"data row6 col1\" >68.390000</td>\n",
       "    </tr>\n",
       "    <tr>\n",
       "      <th id=\"T_65226_level0_row7\" class=\"row_heading level0 row7\" >LIVINGAPARTMENTS_MODE</th>\n",
       "      <td id=\"T_65226_row7_col0\" class=\"data row7 col0\" >210199</td>\n",
       "      <td id=\"T_65226_row7_col1\" class=\"data row7 col1\" >68.350000</td>\n",
       "    </tr>\n",
       "    <tr>\n",
       "      <th id=\"T_65226_level0_row8\" class=\"row_heading level0 row8\" >LIVINGAPARTMENTS_AVG</th>\n",
       "      <td id=\"T_65226_row8_col0\" class=\"data row8 col0\" >210199</td>\n",
       "      <td id=\"T_65226_row8_col1\" class=\"data row8 col1\" >68.350000</td>\n",
       "    </tr>\n",
       "    <tr>\n",
       "      <th id=\"T_65226_level0_row9\" class=\"row_heading level0 row9\" >LIVINGAPARTMENTS_MEDI</th>\n",
       "      <td id=\"T_65226_row9_col0\" class=\"data row9 col0\" >210199</td>\n",
       "      <td id=\"T_65226_row9_col1\" class=\"data row9 col1\" >68.350000</td>\n",
       "    </tr>\n",
       "    <tr>\n",
       "      <th id=\"T_65226_level0_row10\" class=\"row_heading level0 row10\" >FLOORSMIN_MODE</th>\n",
       "      <td id=\"T_65226_row10_col0\" class=\"data row10 col0\" >208642</td>\n",
       "      <td id=\"T_65226_row10_col1\" class=\"data row10 col1\" >67.850000</td>\n",
       "    </tr>\n",
       "    <tr>\n",
       "      <th id=\"T_65226_level0_row11\" class=\"row_heading level0 row11\" >FLOORSMIN_AVG</th>\n",
       "      <td id=\"T_65226_row11_col0\" class=\"data row11 col0\" >208642</td>\n",
       "      <td id=\"T_65226_row11_col1\" class=\"data row11 col1\" >67.850000</td>\n",
       "    </tr>\n",
       "    <tr>\n",
       "      <th id=\"T_65226_level0_row12\" class=\"row_heading level0 row12\" >FLOORSMIN_MEDI</th>\n",
       "      <td id=\"T_65226_row12_col0\" class=\"data row12 col0\" >208642</td>\n",
       "      <td id=\"T_65226_row12_col1\" class=\"data row12 col1\" >67.850000</td>\n",
       "    </tr>\n",
       "    <tr>\n",
       "      <th id=\"T_65226_level0_row13\" class=\"row_heading level0 row13\" >YEARS_BUILD_AVG</th>\n",
       "      <td id=\"T_65226_row13_col0\" class=\"data row13 col0\" >204488</td>\n",
       "      <td id=\"T_65226_row13_col1\" class=\"data row13 col1\" >66.500000</td>\n",
       "    </tr>\n",
       "    <tr>\n",
       "      <th id=\"T_65226_level0_row14\" class=\"row_heading level0 row14\" >YEARS_BUILD_MODE</th>\n",
       "      <td id=\"T_65226_row14_col0\" class=\"data row14 col0\" >204488</td>\n",
       "      <td id=\"T_65226_row14_col1\" class=\"data row14 col1\" >66.500000</td>\n",
       "    </tr>\n",
       "    <tr>\n",
       "      <th id=\"T_65226_level0_row15\" class=\"row_heading level0 row15\" >YEARS_BUILD_MEDI</th>\n",
       "      <td id=\"T_65226_row15_col0\" class=\"data row15 col0\" >204488</td>\n",
       "      <td id=\"T_65226_row15_col1\" class=\"data row15 col1\" >66.500000</td>\n",
       "    </tr>\n",
       "    <tr>\n",
       "      <th id=\"T_65226_level0_row16\" class=\"row_heading level0 row16\" >OWN_CAR_AGE</th>\n",
       "      <td id=\"T_65226_row16_col0\" class=\"data row16 col0\" >202929</td>\n",
       "      <td id=\"T_65226_row16_col1\" class=\"data row16 col1\" >65.990000</td>\n",
       "    </tr>\n",
       "    <tr>\n",
       "      <th id=\"T_65226_level0_row17\" class=\"row_heading level0 row17\" >LANDAREA_AVG</th>\n",
       "      <td id=\"T_65226_row17_col0\" class=\"data row17 col0\" >182590</td>\n",
       "      <td id=\"T_65226_row17_col1\" class=\"data row17 col1\" >59.380000</td>\n",
       "    </tr>\n",
       "    <tr>\n",
       "      <th id=\"T_65226_level0_row18\" class=\"row_heading level0 row18\" >LANDAREA_MEDI</th>\n",
       "      <td id=\"T_65226_row18_col0\" class=\"data row18 col0\" >182590</td>\n",
       "      <td id=\"T_65226_row18_col1\" class=\"data row18 col1\" >59.380000</td>\n",
       "    </tr>\n",
       "    <tr>\n",
       "      <th id=\"T_65226_level0_row19\" class=\"row_heading level0 row19\" >LANDAREA_MODE</th>\n",
       "      <td id=\"T_65226_row19_col0\" class=\"data row19 col0\" >182590</td>\n",
       "      <td id=\"T_65226_row19_col1\" class=\"data row19 col1\" >59.380000</td>\n",
       "    </tr>\n",
       "    <tr>\n",
       "      <th id=\"T_65226_level0_row20\" class=\"row_heading level0 row20\" >BASEMENTAREA_AVG</th>\n",
       "      <td id=\"T_65226_row20_col0\" class=\"data row20 col0\" >179943</td>\n",
       "      <td id=\"T_65226_row20_col1\" class=\"data row20 col1\" >58.520000</td>\n",
       "    </tr>\n",
       "    <tr>\n",
       "      <th id=\"T_65226_level0_row21\" class=\"row_heading level0 row21\" >BASEMENTAREA_MODE</th>\n",
       "      <td id=\"T_65226_row21_col0\" class=\"data row21 col0\" >179943</td>\n",
       "      <td id=\"T_65226_row21_col1\" class=\"data row21 col1\" >58.520000</td>\n",
       "    </tr>\n",
       "    <tr>\n",
       "      <th id=\"T_65226_level0_row22\" class=\"row_heading level0 row22\" >BASEMENTAREA_MEDI</th>\n",
       "      <td id=\"T_65226_row22_col0\" class=\"data row22 col0\" >179943</td>\n",
       "      <td id=\"T_65226_row22_col1\" class=\"data row22 col1\" >58.520000</td>\n",
       "    </tr>\n",
       "    <tr>\n",
       "      <th id=\"T_65226_level0_row23\" class=\"row_heading level0 row23\" >EXT_SOURCE_1</th>\n",
       "      <td id=\"T_65226_row23_col0\" class=\"data row23 col0\" >173378</td>\n",
       "      <td id=\"T_65226_row23_col1\" class=\"data row23 col1\" >56.380000</td>\n",
       "    </tr>\n",
       "    <tr>\n",
       "      <th id=\"T_65226_level0_row24\" class=\"row_heading level0 row24\" >NONLIVINGAREA_MEDI</th>\n",
       "      <td id=\"T_65226_row24_col0\" class=\"data row24 col0\" >169682</td>\n",
       "      <td id=\"T_65226_row24_col1\" class=\"data row24 col1\" >55.180000</td>\n",
       "    </tr>\n",
       "    <tr>\n",
       "      <th id=\"T_65226_level0_row25\" class=\"row_heading level0 row25\" >NONLIVINGAREA_AVG</th>\n",
       "      <td id=\"T_65226_row25_col0\" class=\"data row25 col0\" >169682</td>\n",
       "      <td id=\"T_65226_row25_col1\" class=\"data row25 col1\" >55.180000</td>\n",
       "    </tr>\n",
       "    <tr>\n",
       "      <th id=\"T_65226_level0_row26\" class=\"row_heading level0 row26\" >NONLIVINGAREA_MODE</th>\n",
       "      <td id=\"T_65226_row26_col0\" class=\"data row26 col0\" >169682</td>\n",
       "      <td id=\"T_65226_row26_col1\" class=\"data row26 col1\" >55.180000</td>\n",
       "    </tr>\n",
       "    <tr>\n",
       "      <th id=\"T_65226_level0_row27\" class=\"row_heading level0 row27\" >ELEVATORS_MEDI</th>\n",
       "      <td id=\"T_65226_row27_col0\" class=\"data row27 col0\" >163891</td>\n",
       "      <td id=\"T_65226_row27_col1\" class=\"data row27 col1\" >53.300000</td>\n",
       "    </tr>\n",
       "    <tr>\n",
       "      <th id=\"T_65226_level0_row28\" class=\"row_heading level0 row28\" >ELEVATORS_AVG</th>\n",
       "      <td id=\"T_65226_row28_col0\" class=\"data row28 col0\" >163891</td>\n",
       "      <td id=\"T_65226_row28_col1\" class=\"data row28 col1\" >53.300000</td>\n",
       "    </tr>\n",
       "    <tr>\n",
       "      <th id=\"T_65226_level0_row29\" class=\"row_heading level0 row29\" >ELEVATORS_MODE</th>\n",
       "      <td id=\"T_65226_row29_col0\" class=\"data row29 col0\" >163891</td>\n",
       "      <td id=\"T_65226_row29_col1\" class=\"data row29 col1\" >53.300000</td>\n",
       "    </tr>\n",
       "    <tr>\n",
       "      <th id=\"T_65226_level0_row30\" class=\"row_heading level0 row30\" >WALLSMATERIAL_MODE</th>\n",
       "      <td id=\"T_65226_row30_col0\" class=\"data row30 col0\" >156341</td>\n",
       "      <td id=\"T_65226_row30_col1\" class=\"data row30 col1\" >50.840000</td>\n",
       "    </tr>\n",
       "    <tr>\n",
       "      <th id=\"T_65226_level0_row31\" class=\"row_heading level0 row31\" >APARTMENTS_AVG</th>\n",
       "      <td id=\"T_65226_row31_col0\" class=\"data row31 col0\" >156061</td>\n",
       "      <td id=\"T_65226_row31_col1\" class=\"data row31 col1\" >50.750000</td>\n",
       "    </tr>\n",
       "    <tr>\n",
       "      <th id=\"T_65226_level0_row32\" class=\"row_heading level0 row32\" >APARTMENTS_MEDI</th>\n",
       "      <td id=\"T_65226_row32_col0\" class=\"data row32 col0\" >156061</td>\n",
       "      <td id=\"T_65226_row32_col1\" class=\"data row32 col1\" >50.750000</td>\n",
       "    </tr>\n",
       "    <tr>\n",
       "      <th id=\"T_65226_level0_row33\" class=\"row_heading level0 row33\" >APARTMENTS_MODE</th>\n",
       "      <td id=\"T_65226_row33_col0\" class=\"data row33 col0\" >156061</td>\n",
       "      <td id=\"T_65226_row33_col1\" class=\"data row33 col1\" >50.750000</td>\n",
       "    </tr>\n",
       "    <tr>\n",
       "      <th id=\"T_65226_level0_row34\" class=\"row_heading level0 row34\" >ENTRANCES_MEDI</th>\n",
       "      <td id=\"T_65226_row34_col0\" class=\"data row34 col0\" >154828</td>\n",
       "      <td id=\"T_65226_row34_col1\" class=\"data row34 col1\" >50.350000</td>\n",
       "    </tr>\n",
       "    <tr>\n",
       "      <th id=\"T_65226_level0_row35\" class=\"row_heading level0 row35\" >ENTRANCES_MODE</th>\n",
       "      <td id=\"T_65226_row35_col0\" class=\"data row35 col0\" >154828</td>\n",
       "      <td id=\"T_65226_row35_col1\" class=\"data row35 col1\" >50.350000</td>\n",
       "    </tr>\n",
       "    <tr>\n",
       "      <th id=\"T_65226_level0_row36\" class=\"row_heading level0 row36\" >ENTRANCES_AVG</th>\n",
       "      <td id=\"T_65226_row36_col0\" class=\"data row36 col0\" >154828</td>\n",
       "      <td id=\"T_65226_row36_col1\" class=\"data row36 col1\" >50.350000</td>\n",
       "    </tr>\n",
       "    <tr>\n",
       "      <th id=\"T_65226_level0_row37\" class=\"row_heading level0 row37\" >LIVINGAREA_MODE</th>\n",
       "      <td id=\"T_65226_row37_col0\" class=\"data row37 col0\" >154350</td>\n",
       "      <td id=\"T_65226_row37_col1\" class=\"data row37 col1\" >50.190000</td>\n",
       "    </tr>\n",
       "    <tr>\n",
       "      <th id=\"T_65226_level0_row38\" class=\"row_heading level0 row38\" >LIVINGAREA_AVG</th>\n",
       "      <td id=\"T_65226_row38_col0\" class=\"data row38 col0\" >154350</td>\n",
       "      <td id=\"T_65226_row38_col1\" class=\"data row38 col1\" >50.190000</td>\n",
       "    </tr>\n",
       "    <tr>\n",
       "      <th id=\"T_65226_level0_row39\" class=\"row_heading level0 row39\" >LIVINGAREA_MEDI</th>\n",
       "      <td id=\"T_65226_row39_col0\" class=\"data row39 col0\" >154350</td>\n",
       "      <td id=\"T_65226_row39_col1\" class=\"data row39 col1\" >50.190000</td>\n",
       "    </tr>\n",
       "    <tr>\n",
       "      <th id=\"T_65226_level0_row40\" class=\"row_heading level0 row40\" >HOUSETYPE_MODE</th>\n",
       "      <td id=\"T_65226_row40_col0\" class=\"data row40 col0\" >154297</td>\n",
       "      <td id=\"T_65226_row40_col1\" class=\"data row40 col1\" >50.180000</td>\n",
       "    </tr>\n",
       "    <tr>\n",
       "      <th id=\"T_65226_level0_row41\" class=\"row_heading level0 row41\" >FLOORSMAX_MEDI</th>\n",
       "      <td id=\"T_65226_row41_col0\" class=\"data row41 col0\" >153020</td>\n",
       "      <td id=\"T_65226_row41_col1\" class=\"data row41 col1\" >49.760000</td>\n",
       "    </tr>\n",
       "    <tr>\n",
       "      <th id=\"T_65226_level0_row42\" class=\"row_heading level0 row42\" >FLOORSMAX_AVG</th>\n",
       "      <td id=\"T_65226_row42_col0\" class=\"data row42 col0\" >153020</td>\n",
       "      <td id=\"T_65226_row42_col1\" class=\"data row42 col1\" >49.760000</td>\n",
       "    </tr>\n",
       "    <tr>\n",
       "      <th id=\"T_65226_level0_row43\" class=\"row_heading level0 row43\" >FLOORSMAX_MODE</th>\n",
       "      <td id=\"T_65226_row43_col0\" class=\"data row43 col0\" >153020</td>\n",
       "      <td id=\"T_65226_row43_col1\" class=\"data row43 col1\" >49.760000</td>\n",
       "    </tr>\n",
       "    <tr>\n",
       "      <th id=\"T_65226_level0_row44\" class=\"row_heading level0 row44\" >YEARS_BEGINEXPLUATATION_MODE</th>\n",
       "      <td id=\"T_65226_row44_col0\" class=\"data row44 col0\" >150007</td>\n",
       "      <td id=\"T_65226_row44_col1\" class=\"data row44 col1\" >48.780000</td>\n",
       "    </tr>\n",
       "    <tr>\n",
       "      <th id=\"T_65226_level0_row45\" class=\"row_heading level0 row45\" >YEARS_BEGINEXPLUATATION_AVG</th>\n",
       "      <td id=\"T_65226_row45_col0\" class=\"data row45 col0\" >150007</td>\n",
       "      <td id=\"T_65226_row45_col1\" class=\"data row45 col1\" >48.780000</td>\n",
       "    </tr>\n",
       "    <tr>\n",
       "      <th id=\"T_65226_level0_row46\" class=\"row_heading level0 row46\" >YEARS_BEGINEXPLUATATION_MEDI</th>\n",
       "      <td id=\"T_65226_row46_col0\" class=\"data row46 col0\" >150007</td>\n",
       "      <td id=\"T_65226_row46_col1\" class=\"data row46 col1\" >48.780000</td>\n",
       "    </tr>\n",
       "    <tr>\n",
       "      <th id=\"T_65226_level0_row47\" class=\"row_heading level0 row47\" >TOTALAREA_MODE</th>\n",
       "      <td id=\"T_65226_row47_col0\" class=\"data row47 col0\" >148431</td>\n",
       "      <td id=\"T_65226_row47_col1\" class=\"data row47 col1\" >48.270000</td>\n",
       "    </tr>\n",
       "    <tr>\n",
       "      <th id=\"T_65226_level0_row48\" class=\"row_heading level0 row48\" >OCCUPATION_TYPE</th>\n",
       "      <td id=\"T_65226_row48_col0\" class=\"data row48 col0\" >96391</td>\n",
       "      <td id=\"T_65226_row48_col1\" class=\"data row48 col1\" >31.350000</td>\n",
       "    </tr>\n",
       "    <tr>\n",
       "      <th id=\"T_65226_level0_row49\" class=\"row_heading level0 row49\" >EXT_SOURCE_3</th>\n",
       "      <td id=\"T_65226_row49_col0\" class=\"data row49 col0\" >60965</td>\n",
       "      <td id=\"T_65226_row49_col1\" class=\"data row49 col1\" >19.830000</td>\n",
       "    </tr>\n",
       "    <tr>\n",
       "      <th id=\"T_65226_level0_row50\" class=\"row_heading level0 row50\" >DAYS_EMPLOYED</th>\n",
       "      <td id=\"T_65226_row50_col0\" class=\"data row50 col0\" >55374</td>\n",
       "      <td id=\"T_65226_row50_col1\" class=\"data row50 col1\" >18.010000</td>\n",
       "    </tr>\n",
       "    <tr>\n",
       "      <th id=\"T_65226_level0_row51\" class=\"row_heading level0 row51\" >AMT_REQ_CREDIT_BUREAU_WEEK</th>\n",
       "      <td id=\"T_65226_row51_col0\" class=\"data row51 col0\" >41519</td>\n",
       "      <td id=\"T_65226_row51_col1\" class=\"data row51 col1\" >13.500000</td>\n",
       "    </tr>\n",
       "    <tr>\n",
       "      <th id=\"T_65226_level0_row52\" class=\"row_heading level0 row52\" >AMT_REQ_CREDIT_BUREAU_MON</th>\n",
       "      <td id=\"T_65226_row52_col0\" class=\"data row52 col0\" >41519</td>\n",
       "      <td id=\"T_65226_row52_col1\" class=\"data row52 col1\" >13.500000</td>\n",
       "    </tr>\n",
       "    <tr>\n",
       "      <th id=\"T_65226_level0_row53\" class=\"row_heading level0 row53\" >AMT_REQ_CREDIT_BUREAU_HOUR</th>\n",
       "      <td id=\"T_65226_row53_col0\" class=\"data row53 col0\" >41519</td>\n",
       "      <td id=\"T_65226_row53_col1\" class=\"data row53 col1\" >13.500000</td>\n",
       "    </tr>\n",
       "    <tr>\n",
       "      <th id=\"T_65226_level0_row54\" class=\"row_heading level0 row54\" >AMT_REQ_CREDIT_BUREAU_QRT</th>\n",
       "      <td id=\"T_65226_row54_col0\" class=\"data row54 col0\" >41519</td>\n",
       "      <td id=\"T_65226_row54_col1\" class=\"data row54 col1\" >13.500000</td>\n",
       "    </tr>\n",
       "    <tr>\n",
       "      <th id=\"T_65226_level0_row55\" class=\"row_heading level0 row55\" >AMT_REQ_CREDIT_BUREAU_DAY</th>\n",
       "      <td id=\"T_65226_row55_col0\" class=\"data row55 col0\" >41519</td>\n",
       "      <td id=\"T_65226_row55_col1\" class=\"data row55 col1\" >13.500000</td>\n",
       "    </tr>\n",
       "    <tr>\n",
       "      <th id=\"T_65226_level0_row56\" class=\"row_heading level0 row56\" >AMT_REQ_CREDIT_BUREAU_YEAR</th>\n",
       "      <td id=\"T_65226_row56_col0\" class=\"data row56 col0\" >41519</td>\n",
       "      <td id=\"T_65226_row56_col1\" class=\"data row56 col1\" >13.500000</td>\n",
       "    </tr>\n",
       "    <tr>\n",
       "      <th id=\"T_65226_level0_row57\" class=\"row_heading level0 row57\" >NAME_TYPE_SUITE</th>\n",
       "      <td id=\"T_65226_row57_col0\" class=\"data row57 col0\" >1292</td>\n",
       "      <td id=\"T_65226_row57_col1\" class=\"data row57 col1\" >0.420000</td>\n",
       "    </tr>\n",
       "    <tr>\n",
       "      <th id=\"T_65226_level0_row58\" class=\"row_heading level0 row58\" >DEF_30_CNT_SOCIAL_CIRCLE</th>\n",
       "      <td id=\"T_65226_row58_col0\" class=\"data row58 col0\" >1021</td>\n",
       "      <td id=\"T_65226_row58_col1\" class=\"data row58 col1\" >0.330000</td>\n",
       "    </tr>\n",
       "    <tr>\n",
       "      <th id=\"T_65226_level0_row59\" class=\"row_heading level0 row59\" >OBS_60_CNT_SOCIAL_CIRCLE</th>\n",
       "      <td id=\"T_65226_row59_col0\" class=\"data row59 col0\" >1021</td>\n",
       "      <td id=\"T_65226_row59_col1\" class=\"data row59 col1\" >0.330000</td>\n",
       "    </tr>\n",
       "    <tr>\n",
       "      <th id=\"T_65226_level0_row60\" class=\"row_heading level0 row60\" >DEF_60_CNT_SOCIAL_CIRCLE</th>\n",
       "      <td id=\"T_65226_row60_col0\" class=\"data row60 col0\" >1021</td>\n",
       "      <td id=\"T_65226_row60_col1\" class=\"data row60 col1\" >0.330000</td>\n",
       "    </tr>\n",
       "    <tr>\n",
       "      <th id=\"T_65226_level0_row61\" class=\"row_heading level0 row61\" >OBS_30_CNT_SOCIAL_CIRCLE</th>\n",
       "      <td id=\"T_65226_row61_col0\" class=\"data row61 col0\" >1021</td>\n",
       "      <td id=\"T_65226_row61_col1\" class=\"data row61 col1\" >0.330000</td>\n",
       "    </tr>\n",
       "    <tr>\n",
       "      <th id=\"T_65226_level0_row62\" class=\"row_heading level0 row62\" >EXT_SOURCE_2</th>\n",
       "      <td id=\"T_65226_row62_col0\" class=\"data row62 col0\" >660</td>\n",
       "      <td id=\"T_65226_row62_col1\" class=\"data row62 col1\" >0.210000</td>\n",
       "    </tr>\n",
       "    <tr>\n",
       "      <th id=\"T_65226_level0_row63\" class=\"row_heading level0 row63\" >AMT_GOODS_PRICE</th>\n",
       "      <td id=\"T_65226_row63_col0\" class=\"data row63 col0\" >278</td>\n",
       "      <td id=\"T_65226_row63_col1\" class=\"data row63 col1\" >0.090000</td>\n",
       "    </tr>\n",
       "    <tr>\n",
       "      <th id=\"T_65226_level0_row64\" class=\"row_heading level0 row64\" >DAYS_LAST_PHONE_CHANGE</th>\n",
       "      <td id=\"T_65226_row64_col0\" class=\"data row64 col0\" >1</td>\n",
       "      <td id=\"T_65226_row64_col1\" class=\"data row64 col1\" >0.000000</td>\n",
       "    </tr>\n",
       "    <tr>\n",
       "      <th id=\"T_65226_level0_row65\" class=\"row_heading level0 row65\" >CNT_FAM_MEMBERS</th>\n",
       "      <td id=\"T_65226_row65_col0\" class=\"data row65 col0\" >2</td>\n",
       "      <td id=\"T_65226_row65_col1\" class=\"data row65 col1\" >0.000000</td>\n",
       "    </tr>\n",
       "    <tr>\n",
       "      <th id=\"T_65226_level0_row66\" class=\"row_heading level0 row66\" >AMT_ANNUITY</th>\n",
       "      <td id=\"T_65226_row66_col0\" class=\"data row66 col0\" >12</td>\n",
       "      <td id=\"T_65226_row66_col1\" class=\"data row66 col1\" >0.000000</td>\n",
       "    </tr>\n",
       "  </tbody>\n",
       "</table>\n"
      ],
      "text/plain": [
       "<pandas.io.formats.style.Styler at 0x22f44265550>"
      ]
     },
     "metadata": {},
     "output_type": "display_data"
    }
   ],
   "source": [
    "# Valeurs manquantes du dataframe\n",
    "df_nan_applitrain = tools_dataframe.get_missing_values(application_train,\n",
    "                                                       True, False, True)"
   ]
  },
  {
   "cell_type": "markdown",
   "id": "120f8e1a-92bc-4efb-9b0c-0c61f07a55fb",
   "metadata": {},
   "source": [
    "\n",
    "* From the important variables identified during the exploratory analysis to distinguish non-defaulters from defaulters, the FLOORSMIN_AVG variable has the highest number of missing values (67.85%).\n",
    "* We set the threshold for deleting variables with many missing values at 68%."
   ]
  },
  {
   "cell_type": "code",
   "execution_count": 31,
   "id": "18c23d24-4ac3-4c6d-9612-f05fa2a423cf",
   "metadata": {
    "run_control": {
     "marked": false
    }
   },
   "outputs": [
    {
     "name": "stdout",
     "output_type": "stream",
     "text": [
      "Number of variables to remove : 10\n"
     ]
    },
    {
     "data": {
      "text/plain": [
       "['COMMONAREA_AVG',\n",
       " 'LIVINGAPARTMENTS_AVG',\n",
       " 'NONLIVINGAPARTMENTS_AVG',\n",
       " 'COMMONAREA_MODE',\n",
       " 'LIVINGAPARTMENTS_MODE',\n",
       " 'NONLIVINGAPARTMENTS_MODE',\n",
       " 'COMMONAREA_MEDI',\n",
       " 'LIVINGAPARTMENTS_MEDI',\n",
       " 'NONLIVINGAPARTMENTS_MEDI',\n",
       " 'FONDKAPREMONT_MODE']"
      ]
     },
     "execution_count": 31,
     "metadata": {},
     "output_type": "execute_result"
    }
   ],
   "source": [
    "# List of variables with more than 68% of missing values\n",
    "cols_nan_remov_train = \\\n",
    "    df_nan_applitrain[df_nan_applitrain['% of missing values'] > 68] \\\n",
    "    .index.to_list()\n",
    "print(f'Number of variables to remove : {len(cols_nan_remov_train)}')\n",
    "cols_nan_remov_train"
   ]
  },
  {
   "cell_type": "code",
   "execution_count": 32,
   "id": "dfcd00e3-08d9-40ac-93a1-47b715f44374",
   "metadata": {
    "run_control": {
     "marked": false
    },
    "scrolled": true
   },
   "outputs": [
    {
     "name": "stdout",
     "output_type": "stream",
     "text": [
      "The dataset application_train contains 307511 rowsand {nVar} variables.\n"
     ]
    }
   ],
   "source": [
    "# Remove with % of nan over the threshold > 68%\n",
    "application_train.drop(columns=cols_nan_remov_train, inplace=True)\n",
    "\n",
    "# Categorical variables\n",
    "cols_cat_train = application_train.select_dtypes(exclude=[np.number])\\\n",
    "                                    .columns.to_list()\n",
    "# Continuous variables\n",
    "cols_num_train = application_train.select_dtypes(include=[np.number])\\\n",
    "                                    .columns.to_list()\n",
    "\n",
    "# Size : number of rows/columns\n",
    "nRow, nVar = application_train.shape\n",
    "print(f'The dataset application_train contains {nRow} rows'\n",
    "      'and {nVar} variables.')"
   ]
  },
  {
   "cell_type": "code",
   "execution_count": 33,
   "id": "c36a4256-94de-43e4-81d7-d6530e39beef",
   "metadata": {
    "run_control": {
     "marked": false
    },
    "tags": []
   },
   "outputs": [
    {
     "name": "stdout",
     "output_type": "stream",
     "text": [
      "Missing values : 1391484 NaN for 5654304 data (24.61 %)\n",
      "-------------------------------------------------------------\n",
      "Number and % of missing values by variable\n",
      "\n"
     ]
    },
    {
     "data": {
      "text/html": [
       "<style type=\"text/css\">\n",
       "#T_b65a7_row0_col0, #T_b65a7_row0_col1, #T_b65a7_row1_col0, #T_b65a7_row1_col1, #T_b65a7_row2_col0, #T_b65a7_row2_col1 {\n",
       "  background-color: #800000;\n",
       "  color: #f1f1f1;\n",
       "}\n",
       "#T_b65a7_row3_col0, #T_b65a7_row3_col1, #T_b65a7_row4_col0, #T_b65a7_row4_col1, #T_b65a7_row5_col0, #T_b65a7_row5_col1 {\n",
       "  background-color: #820000;\n",
       "  color: #f1f1f1;\n",
       "}\n",
       "#T_b65a7_row6_col0, #T_b65a7_row6_col1, #T_b65a7_row7_col0, #T_b65a7_row7_col1, #T_b65a7_row8_col0, #T_b65a7_row8_col1, #T_b65a7_row9_col0, #T_b65a7_row9_col1 {\n",
       "  background-color: #8a0000;\n",
       "  color: #f1f1f1;\n",
       "}\n",
       "#T_b65a7_row10_col0, #T_b65a7_row10_col1, #T_b65a7_row11_col0, #T_b65a7_row11_col1, #T_b65a7_row12_col0, #T_b65a7_row12_col1 {\n",
       "  background-color: #8e0000;\n",
       "  color: #f1f1f1;\n",
       "}\n",
       "#T_b65a7_row13_col0, #T_b65a7_row13_col1 {\n",
       "  background-color: #920000;\n",
       "  color: #f1f1f1;\n",
       "}\n",
       "#T_b65a7_row14_col0, #T_b65a7_row14_col1, #T_b65a7_row15_col0, #T_b65a7_row15_col1, #T_b65a7_row16_col0, #T_b65a7_row16_col1 {\n",
       "  background-color: #980000;\n",
       "  color: #f1f1f1;\n",
       "}\n",
       "#T_b65a7_row17_col0, #T_b65a7_row17_col1, #T_b65a7_row18_col0, #T_b65a7_row18_col1, #T_b65a7_row19_col0, #T_b65a7_row19_col1 {\n",
       "  background-color: #d00000;\n",
       "  color: #f1f1f1;\n",
       "}\n",
       "#T_b65a7_row20_col0, #T_b65a7_row20_col1, #T_b65a7_row21_col0, #T_b65a7_row21_col1, #T_b65a7_row22_col0, #T_b65a7_row22_col1 {\n",
       "  background-color: #d80000;\n",
       "  color: #f1f1f1;\n",
       "}\n",
       "#T_b65a7_row23_col0, #T_b65a7_row23_col1, #T_b65a7_row24_col0, #T_b65a7_row24_col1, #T_b65a7_row25_col0, #T_b65a7_row25_col1 {\n",
       "  background-color: #f00000;\n",
       "  color: #f1f1f1;\n",
       "}\n",
       "#T_b65a7_row26_col0, #T_b65a7_row26_col1, #T_b65a7_row27_col0, #T_b65a7_row27_col1, #T_b65a7_row28_col0, #T_b65a7_row28_col1 {\n",
       "  background-color: #fe0000;\n",
       "  color: #f1f1f1;\n",
       "}\n",
       "#T_b65a7_row29_col0, #T_b65a7_row29_col1, #T_b65a7_row30_col0, #T_b65a7_row30_col1, #T_b65a7_row31_col0, #T_b65a7_row31_col1, #T_b65a7_row32_col0, #T_b65a7_row32_col1 {\n",
       "  background-color: #ff2525;\n",
       "  color: #f1f1f1;\n",
       "}\n",
       "#T_b65a7_row33_col0, #T_b65a7_row33_col1, #T_b65a7_row34_col0, #T_b65a7_row34_col1, #T_b65a7_row35_col0, #T_b65a7_row35_col1, #T_b65a7_row36_col0, #T_b65a7_row36_col1 {\n",
       "  background-color: #ff2d2d;\n",
       "  color: #f1f1f1;\n",
       "}\n",
       "#T_b65a7_row37_col0, #T_b65a7_row37_col1, #T_b65a7_row38_col0, #T_b65a7_row38_col1, #T_b65a7_row39_col0, #T_b65a7_row39_col1 {\n",
       "  background-color: #ff3131;\n",
       "  color: #f1f1f1;\n",
       "}\n",
       "#T_b65a7_row40_col0, #T_b65a7_row40_col1, #T_b65a7_row41_col0, #T_b65a7_row41_col1, #T_b65a7_row42_col0, #T_b65a7_row42_col1 {\n",
       "  background-color: #ff3535;\n",
       "  color: #f1f1f1;\n",
       "}\n",
       "#T_b65a7_row43_col0, #T_b65a7_row43_col1, #T_b65a7_row44_col0, #T_b65a7_row44_col1, #T_b65a7_row45_col0, #T_b65a7_row45_col1 {\n",
       "  background-color: #ff4545;\n",
       "  color: #f1f1f1;\n",
       "}\n",
       "#T_b65a7_row46_col0, #T_b65a7_row46_col1 {\n",
       "  background-color: #ff4d4d;\n",
       "  color: #f1f1f1;\n",
       "}\n",
       "#T_b65a7_row47_col0, #T_b65a7_row47_col1 {\n",
       "  background-color: #ff8d8d;\n",
       "  color: #000000;\n",
       "}\n",
       "#T_b65a7_row48_col0, #T_b65a7_row48_col1 {\n",
       "  background-color: #ddddff;\n",
       "  color: #000000;\n",
       "}\n",
       "#T_b65a7_row49_col0, #T_b65a7_row49_col1 {\n",
       "  background-color: #1919ff;\n",
       "  color: #f1f1f1;\n",
       "}\n",
       "#T_b65a7_row50_col0, #T_b65a7_row50_col1 {\n",
       "  background-color: #0909ff;\n",
       "  color: #f1f1f1;\n",
       "}\n",
       "#T_b65a7_row51_col0, #T_b65a7_row51_col1, #T_b65a7_row52_col0, #T_b65a7_row52_col1, #T_b65a7_row53_col0, #T_b65a7_row53_col1, #T_b65a7_row54_col0, #T_b65a7_row54_col1, #T_b65a7_row55_col0, #T_b65a7_row55_col1, #T_b65a7_row56_col0, #T_b65a7_row56_col1 {\n",
       "  background-color: #0000cd;\n",
       "  color: #f1f1f1;\n",
       "}\n",
       "#T_b65a7_row57_col0, #T_b65a7_row57_col1 {\n",
       "  background-color: #00005d;\n",
       "  color: #f1f1f1;\n",
       "}\n",
       "#T_b65a7_row58_col0, #T_b65a7_row58_col1, #T_b65a7_row59_col0, #T_b65a7_row59_col1, #T_b65a7_row60_col0, #T_b65a7_row60_col1, #T_b65a7_row61_col0, #T_b65a7_row61_col1, #T_b65a7_row62_col0, #T_b65a7_row62_col1, #T_b65a7_row63_col0, #T_b65a7_row63_col1 {\n",
       "  background-color: #00004c;\n",
       "  color: #f1f1f1;\n",
       "}\n",
       "</style>\n",
       "<table id=\"T_b65a7\">\n",
       "  <thead>\n",
       "    <tr>\n",
       "      <th class=\"blank level0\" >&nbsp;</th>\n",
       "      <th id=\"T_b65a7_level0_col0\" class=\"col_heading level0 col0\" >Number of missing values</th>\n",
       "      <th id=\"T_b65a7_level0_col1\" class=\"col_heading level0 col1\" >% of missing values</th>\n",
       "    </tr>\n",
       "  </thead>\n",
       "  <tbody>\n",
       "    <tr>\n",
       "      <th id=\"T_b65a7_level0_row0\" class=\"row_heading level0 row0\" >COMMONAREA_MEDI</th>\n",
       "      <td id=\"T_b65a7_row0_col0\" class=\"data row0 col0\" >33495</td>\n",
       "      <td id=\"T_b65a7_row0_col1\" class=\"data row0 col1\" >68.720000</td>\n",
       "    </tr>\n",
       "    <tr>\n",
       "      <th id=\"T_b65a7_level0_row1\" class=\"row_heading level0 row1\" >COMMONAREA_MODE</th>\n",
       "      <td id=\"T_b65a7_row1_col0\" class=\"data row1 col0\" >33495</td>\n",
       "      <td id=\"T_b65a7_row1_col1\" class=\"data row1 col1\" >68.720000</td>\n",
       "    </tr>\n",
       "    <tr>\n",
       "      <th id=\"T_b65a7_level0_row2\" class=\"row_heading level0 row2\" >COMMONAREA_AVG</th>\n",
       "      <td id=\"T_b65a7_row2_col0\" class=\"data row2 col0\" >33495</td>\n",
       "      <td id=\"T_b65a7_row2_col1\" class=\"data row2 col1\" >68.720000</td>\n",
       "    </tr>\n",
       "    <tr>\n",
       "      <th id=\"T_b65a7_level0_row3\" class=\"row_heading level0 row3\" >NONLIVINGAPARTMENTS_MODE</th>\n",
       "      <td id=\"T_b65a7_row3_col0\" class=\"data row3 col0\" >33347</td>\n",
       "      <td id=\"T_b65a7_row3_col1\" class=\"data row3 col1\" >68.410000</td>\n",
       "    </tr>\n",
       "    <tr>\n",
       "      <th id=\"T_b65a7_level0_row4\" class=\"row_heading level0 row4\" >NONLIVINGAPARTMENTS_AVG</th>\n",
       "      <td id=\"T_b65a7_row4_col0\" class=\"data row4 col0\" >33347</td>\n",
       "      <td id=\"T_b65a7_row4_col1\" class=\"data row4 col1\" >68.410000</td>\n",
       "    </tr>\n",
       "    <tr>\n",
       "      <th id=\"T_b65a7_level0_row5\" class=\"row_heading level0 row5\" >NONLIVINGAPARTMENTS_MEDI</th>\n",
       "      <td id=\"T_b65a7_row5_col0\" class=\"data row5 col0\" >33347</td>\n",
       "      <td id=\"T_b65a7_row5_col1\" class=\"data row5 col1\" >68.410000</td>\n",
       "    </tr>\n",
       "    <tr>\n",
       "      <th id=\"T_b65a7_level0_row6\" class=\"row_heading level0 row6\" >FONDKAPREMONT_MODE</th>\n",
       "      <td id=\"T_b65a7_row6_col0\" class=\"data row6 col0\" >32797</td>\n",
       "      <td id=\"T_b65a7_row6_col1\" class=\"data row6 col1\" >67.280000</td>\n",
       "    </tr>\n",
       "    <tr>\n",
       "      <th id=\"T_b65a7_level0_row7\" class=\"row_heading level0 row7\" >LIVINGAPARTMENTS_MEDI</th>\n",
       "      <td id=\"T_b65a7_row7_col0\" class=\"data row7 col0\" >32780</td>\n",
       "      <td id=\"T_b65a7_row7_col1\" class=\"data row7 col1\" >67.250000</td>\n",
       "    </tr>\n",
       "    <tr>\n",
       "      <th id=\"T_b65a7_level0_row8\" class=\"row_heading level0 row8\" >LIVINGAPARTMENTS_AVG</th>\n",
       "      <td id=\"T_b65a7_row8_col0\" class=\"data row8 col0\" >32780</td>\n",
       "      <td id=\"T_b65a7_row8_col1\" class=\"data row8 col1\" >67.250000</td>\n",
       "    </tr>\n",
       "    <tr>\n",
       "      <th id=\"T_b65a7_level0_row9\" class=\"row_heading level0 row9\" >LIVINGAPARTMENTS_MODE</th>\n",
       "      <td id=\"T_b65a7_row9_col0\" class=\"data row9 col0\" >32780</td>\n",
       "      <td id=\"T_b65a7_row9_col1\" class=\"data row9 col1\" >67.250000</td>\n",
       "    </tr>\n",
       "    <tr>\n",
       "      <th id=\"T_b65a7_level0_row10\" class=\"row_heading level0 row10\" >FLOORSMIN_MEDI</th>\n",
       "      <td id=\"T_b65a7_row10_col0\" class=\"data row10 col0\" >32466</td>\n",
       "      <td id=\"T_b65a7_row10_col1\" class=\"data row10 col1\" >66.610000</td>\n",
       "    </tr>\n",
       "    <tr>\n",
       "      <th id=\"T_b65a7_level0_row11\" class=\"row_heading level0 row11\" >FLOORSMIN_AVG</th>\n",
       "      <td id=\"T_b65a7_row11_col0\" class=\"data row11 col0\" >32466</td>\n",
       "      <td id=\"T_b65a7_row11_col1\" class=\"data row11 col1\" >66.610000</td>\n",
       "    </tr>\n",
       "    <tr>\n",
       "      <th id=\"T_b65a7_level0_row12\" class=\"row_heading level0 row12\" >FLOORSMIN_MODE</th>\n",
       "      <td id=\"T_b65a7_row12_col0\" class=\"data row12 col0\" >32466</td>\n",
       "      <td id=\"T_b65a7_row12_col1\" class=\"data row12 col1\" >66.610000</td>\n",
       "    </tr>\n",
       "    <tr>\n",
       "      <th id=\"T_b65a7_level0_row13\" class=\"row_heading level0 row13\" >OWN_CAR_AGE</th>\n",
       "      <td id=\"T_b65a7_row13_col0\" class=\"data row13 col0\" >32312</td>\n",
       "      <td id=\"T_b65a7_row13_col1\" class=\"data row13 col1\" >66.290000</td>\n",
       "    </tr>\n",
       "    <tr>\n",
       "      <th id=\"T_b65a7_level0_row14\" class=\"row_heading level0 row14\" >YEARS_BUILD_AVG</th>\n",
       "      <td id=\"T_b65a7_row14_col0\" class=\"data row14 col0\" >31818</td>\n",
       "      <td id=\"T_b65a7_row14_col1\" class=\"data row14 col1\" >65.280000</td>\n",
       "    </tr>\n",
       "    <tr>\n",
       "      <th id=\"T_b65a7_level0_row15\" class=\"row_heading level0 row15\" >YEARS_BUILD_MEDI</th>\n",
       "      <td id=\"T_b65a7_row15_col0\" class=\"data row15 col0\" >31818</td>\n",
       "      <td id=\"T_b65a7_row15_col1\" class=\"data row15 col1\" >65.280000</td>\n",
       "    </tr>\n",
       "    <tr>\n",
       "      <th id=\"T_b65a7_level0_row16\" class=\"row_heading level0 row16\" >YEARS_BUILD_MODE</th>\n",
       "      <td id=\"T_b65a7_row16_col0\" class=\"data row16 col0\" >31818</td>\n",
       "      <td id=\"T_b65a7_row16_col1\" class=\"data row16 col1\" >65.280000</td>\n",
       "    </tr>\n",
       "    <tr>\n",
       "      <th id=\"T_b65a7_level0_row17\" class=\"row_heading level0 row17\" >LANDAREA_AVG</th>\n",
       "      <td id=\"T_b65a7_row17_col0\" class=\"data row17 col0\" >28254</td>\n",
       "      <td id=\"T_b65a7_row17_col1\" class=\"data row17 col1\" >57.960000</td>\n",
       "    </tr>\n",
       "    <tr>\n",
       "      <th id=\"T_b65a7_level0_row18\" class=\"row_heading level0 row18\" >LANDAREA_MODE</th>\n",
       "      <td id=\"T_b65a7_row18_col0\" class=\"data row18 col0\" >28254</td>\n",
       "      <td id=\"T_b65a7_row18_col1\" class=\"data row18 col1\" >57.960000</td>\n",
       "    </tr>\n",
       "    <tr>\n",
       "      <th id=\"T_b65a7_level0_row19\" class=\"row_heading level0 row19\" >LANDAREA_MEDI</th>\n",
       "      <td id=\"T_b65a7_row19_col0\" class=\"data row19 col0\" >28254</td>\n",
       "      <td id=\"T_b65a7_row19_col1\" class=\"data row19 col1\" >57.960000</td>\n",
       "    </tr>\n",
       "    <tr>\n",
       "      <th id=\"T_b65a7_level0_row20\" class=\"row_heading level0 row20\" >BASEMENTAREA_MEDI</th>\n",
       "      <td id=\"T_b65a7_row20_col0\" class=\"data row20 col0\" >27641</td>\n",
       "      <td id=\"T_b65a7_row20_col1\" class=\"data row20 col1\" >56.710000</td>\n",
       "    </tr>\n",
       "    <tr>\n",
       "      <th id=\"T_b65a7_level0_row21\" class=\"row_heading level0 row21\" >BASEMENTAREA_MODE</th>\n",
       "      <td id=\"T_b65a7_row21_col0\" class=\"data row21 col0\" >27641</td>\n",
       "      <td id=\"T_b65a7_row21_col1\" class=\"data row21 col1\" >56.710000</td>\n",
       "    </tr>\n",
       "    <tr>\n",
       "      <th id=\"T_b65a7_level0_row22\" class=\"row_heading level0 row22\" >BASEMENTAREA_AVG</th>\n",
       "      <td id=\"T_b65a7_row22_col0\" class=\"data row22 col0\" >27641</td>\n",
       "      <td id=\"T_b65a7_row22_col1\" class=\"data row22 col1\" >56.710000</td>\n",
       "    </tr>\n",
       "    <tr>\n",
       "      <th id=\"T_b65a7_level0_row23\" class=\"row_heading level0 row23\" >NONLIVINGAREA_AVG</th>\n",
       "      <td id=\"T_b65a7_row23_col0\" class=\"data row23 col0\" >26084</td>\n",
       "      <td id=\"T_b65a7_row23_col1\" class=\"data row23 col1\" >53.510000</td>\n",
       "    </tr>\n",
       "    <tr>\n",
       "      <th id=\"T_b65a7_level0_row24\" class=\"row_heading level0 row24\" >NONLIVINGAREA_MEDI</th>\n",
       "      <td id=\"T_b65a7_row24_col0\" class=\"data row24 col0\" >26084</td>\n",
       "      <td id=\"T_b65a7_row24_col1\" class=\"data row24 col1\" >53.510000</td>\n",
       "    </tr>\n",
       "    <tr>\n",
       "      <th id=\"T_b65a7_level0_row25\" class=\"row_heading level0 row25\" >NONLIVINGAREA_MODE</th>\n",
       "      <td id=\"T_b65a7_row25_col0\" class=\"data row25 col0\" >26084</td>\n",
       "      <td id=\"T_b65a7_row25_col1\" class=\"data row25 col1\" >53.510000</td>\n",
       "    </tr>\n",
       "    <tr>\n",
       "      <th id=\"T_b65a7_level0_row26\" class=\"row_heading level0 row26\" >ELEVATORS_MEDI</th>\n",
       "      <td id=\"T_b65a7_row26_col0\" class=\"data row26 col0\" >25189</td>\n",
       "      <td id=\"T_b65a7_row26_col1\" class=\"data row26 col1\" >51.680000</td>\n",
       "    </tr>\n",
       "    <tr>\n",
       "      <th id=\"T_b65a7_level0_row27\" class=\"row_heading level0 row27\" >ELEVATORS_MODE</th>\n",
       "      <td id=\"T_b65a7_row27_col0\" class=\"data row27 col0\" >25189</td>\n",
       "      <td id=\"T_b65a7_row27_col1\" class=\"data row27 col1\" >51.680000</td>\n",
       "    </tr>\n",
       "    <tr>\n",
       "      <th id=\"T_b65a7_level0_row28\" class=\"row_heading level0 row28\" >ELEVATORS_AVG</th>\n",
       "      <td id=\"T_b65a7_row28_col0\" class=\"data row28 col0\" >25189</td>\n",
       "      <td id=\"T_b65a7_row28_col1\" class=\"data row28 col1\" >51.680000</td>\n",
       "    </tr>\n",
       "    <tr>\n",
       "      <th id=\"T_b65a7_level0_row29\" class=\"row_heading level0 row29\" >WALLSMATERIAL_MODE</th>\n",
       "      <td id=\"T_b65a7_row29_col0\" class=\"data row29 col0\" >23893</td>\n",
       "      <td id=\"T_b65a7_row29_col1\" class=\"data row29 col1\" >49.020000</td>\n",
       "    </tr>\n",
       "    <tr>\n",
       "      <th id=\"T_b65a7_level0_row30\" class=\"row_heading level0 row30\" >APARTMENTS_AVG</th>\n",
       "      <td id=\"T_b65a7_row30_col0\" class=\"data row30 col0\" >23887</td>\n",
       "      <td id=\"T_b65a7_row30_col1\" class=\"data row30 col1\" >49.010000</td>\n",
       "    </tr>\n",
       "    <tr>\n",
       "      <th id=\"T_b65a7_level0_row31\" class=\"row_heading level0 row31\" >APARTMENTS_MEDI</th>\n",
       "      <td id=\"T_b65a7_row31_col0\" class=\"data row31 col0\" >23887</td>\n",
       "      <td id=\"T_b65a7_row31_col1\" class=\"data row31 col1\" >49.010000</td>\n",
       "    </tr>\n",
       "    <tr>\n",
       "      <th id=\"T_b65a7_level0_row32\" class=\"row_heading level0 row32\" >APARTMENTS_MODE</th>\n",
       "      <td id=\"T_b65a7_row32_col0\" class=\"data row32 col0\" >23887</td>\n",
       "      <td id=\"T_b65a7_row32_col1\" class=\"data row32 col1\" >49.010000</td>\n",
       "    </tr>\n",
       "    <tr>\n",
       "      <th id=\"T_b65a7_level0_row33\" class=\"row_heading level0 row33\" >HOUSETYPE_MODE</th>\n",
       "      <td id=\"T_b65a7_row33_col0\" class=\"data row33 col0\" >23619</td>\n",
       "      <td id=\"T_b65a7_row33_col1\" class=\"data row33 col1\" >48.460000</td>\n",
       "    </tr>\n",
       "    <tr>\n",
       "      <th id=\"T_b65a7_level0_row34\" class=\"row_heading level0 row34\" >ENTRANCES_MEDI</th>\n",
       "      <td id=\"T_b65a7_row34_col0\" class=\"data row34 col0\" >23579</td>\n",
       "      <td id=\"T_b65a7_row34_col1\" class=\"data row34 col1\" >48.370000</td>\n",
       "    </tr>\n",
       "    <tr>\n",
       "      <th id=\"T_b65a7_level0_row35\" class=\"row_heading level0 row35\" >ENTRANCES_MODE</th>\n",
       "      <td id=\"T_b65a7_row35_col0\" class=\"data row35 col0\" >23579</td>\n",
       "      <td id=\"T_b65a7_row35_col1\" class=\"data row35 col1\" >48.370000</td>\n",
       "    </tr>\n",
       "    <tr>\n",
       "      <th id=\"T_b65a7_level0_row36\" class=\"row_heading level0 row36\" >ENTRANCES_AVG</th>\n",
       "      <td id=\"T_b65a7_row36_col0\" class=\"data row36 col0\" >23579</td>\n",
       "      <td id=\"T_b65a7_row36_col1\" class=\"data row36 col1\" >48.370000</td>\n",
       "    </tr>\n",
       "    <tr>\n",
       "      <th id=\"T_b65a7_level0_row37\" class=\"row_heading level0 row37\" >LIVINGAREA_MODE</th>\n",
       "      <td id=\"T_b65a7_row37_col0\" class=\"data row37 col0\" >23552</td>\n",
       "      <td id=\"T_b65a7_row37_col1\" class=\"data row37 col1\" >48.320000</td>\n",
       "    </tr>\n",
       "    <tr>\n",
       "      <th id=\"T_b65a7_level0_row38\" class=\"row_heading level0 row38\" >LIVINGAREA_MEDI</th>\n",
       "      <td id=\"T_b65a7_row38_col0\" class=\"data row38 col0\" >23552</td>\n",
       "      <td id=\"T_b65a7_row38_col1\" class=\"data row38 col1\" >48.320000</td>\n",
       "    </tr>\n",
       "    <tr>\n",
       "      <th id=\"T_b65a7_level0_row39\" class=\"row_heading level0 row39\" >LIVINGAREA_AVG</th>\n",
       "      <td id=\"T_b65a7_row39_col0\" class=\"data row39 col0\" >23552</td>\n",
       "      <td id=\"T_b65a7_row39_col1\" class=\"data row39 col1\" >48.320000</td>\n",
       "    </tr>\n",
       "    <tr>\n",
       "      <th id=\"T_b65a7_level0_row40\" class=\"row_heading level0 row40\" >FLOORSMAX_MEDI</th>\n",
       "      <td id=\"T_b65a7_row40_col0\" class=\"data row40 col0\" >23321</td>\n",
       "      <td id=\"T_b65a7_row40_col1\" class=\"data row40 col1\" >47.840000</td>\n",
       "    </tr>\n",
       "    <tr>\n",
       "      <th id=\"T_b65a7_level0_row41\" class=\"row_heading level0 row41\" >FLOORSMAX_MODE</th>\n",
       "      <td id=\"T_b65a7_row41_col0\" class=\"data row41 col0\" >23321</td>\n",
       "      <td id=\"T_b65a7_row41_col1\" class=\"data row41 col1\" >47.840000</td>\n",
       "    </tr>\n",
       "    <tr>\n",
       "      <th id=\"T_b65a7_level0_row42\" class=\"row_heading level0 row42\" >FLOORSMAX_AVG</th>\n",
       "      <td id=\"T_b65a7_row42_col0\" class=\"data row42 col0\" >23321</td>\n",
       "      <td id=\"T_b65a7_row42_col1\" class=\"data row42 col1\" >47.840000</td>\n",
       "    </tr>\n",
       "    <tr>\n",
       "      <th id=\"T_b65a7_level0_row43\" class=\"row_heading level0 row43\" >YEARS_BEGINEXPLUATATION_AVG</th>\n",
       "      <td id=\"T_b65a7_row43_col0\" class=\"data row43 col0\" >22856</td>\n",
       "      <td id=\"T_b65a7_row43_col1\" class=\"data row43 col1\" >46.890000</td>\n",
       "    </tr>\n",
       "    <tr>\n",
       "      <th id=\"T_b65a7_level0_row44\" class=\"row_heading level0 row44\" >YEARS_BEGINEXPLUATATION_MODE</th>\n",
       "      <td id=\"T_b65a7_row44_col0\" class=\"data row44 col0\" >22856</td>\n",
       "      <td id=\"T_b65a7_row44_col1\" class=\"data row44 col1\" >46.890000</td>\n",
       "    </tr>\n",
       "    <tr>\n",
       "      <th id=\"T_b65a7_level0_row45\" class=\"row_heading level0 row45\" >YEARS_BEGINEXPLUATATION_MEDI</th>\n",
       "      <td id=\"T_b65a7_row45_col0\" class=\"data row45 col0\" >22856</td>\n",
       "      <td id=\"T_b65a7_row45_col1\" class=\"data row45 col1\" >46.890000</td>\n",
       "    </tr>\n",
       "    <tr>\n",
       "      <th id=\"T_b65a7_level0_row46\" class=\"row_heading level0 row46\" >TOTALAREA_MODE</th>\n",
       "      <td id=\"T_b65a7_row46_col0\" class=\"data row46 col0\" >22624</td>\n",
       "      <td id=\"T_b65a7_row46_col1\" class=\"data row46 col1\" >46.410000</td>\n",
       "    </tr>\n",
       "    <tr>\n",
       "      <th id=\"T_b65a7_level0_row47\" class=\"row_heading level0 row47\" >EXT_SOURCE_1</th>\n",
       "      <td id=\"T_b65a7_row47_col0\" class=\"data row47 col0\" >20532</td>\n",
       "      <td id=\"T_b65a7_row47_col1\" class=\"data row47 col1\" >42.120000</td>\n",
       "    </tr>\n",
       "    <tr>\n",
       "      <th id=\"T_b65a7_level0_row48\" class=\"row_heading level0 row48\" >OCCUPATION_TYPE</th>\n",
       "      <td id=\"T_b65a7_row48_col0\" class=\"data row48 col0\" >15605</td>\n",
       "      <td id=\"T_b65a7_row48_col1\" class=\"data row48 col1\" >32.010000</td>\n",
       "    </tr>\n",
       "    <tr>\n",
       "      <th id=\"T_b65a7_level0_row49\" class=\"row_heading level0 row49\" >DAYS_EMPLOYED</th>\n",
       "      <td id=\"T_b65a7_row49_col0\" class=\"data row49 col0\" >9274</td>\n",
       "      <td id=\"T_b65a7_row49_col1\" class=\"data row49 col1\" >19.030000</td>\n",
       "    </tr>\n",
       "    <tr>\n",
       "      <th id=\"T_b65a7_level0_row50\" class=\"row_heading level0 row50\" >EXT_SOURCE_3</th>\n",
       "      <td id=\"T_b65a7_row50_col0\" class=\"data row50 col0\" >8668</td>\n",
       "      <td id=\"T_b65a7_row50_col1\" class=\"data row50 col1\" >17.780000</td>\n",
       "    </tr>\n",
       "    <tr>\n",
       "      <th id=\"T_b65a7_level0_row51\" class=\"row_heading level0 row51\" >AMT_REQ_CREDIT_BUREAU_HOUR</th>\n",
       "      <td id=\"T_b65a7_row51_col0\" class=\"data row51 col0\" >6049</td>\n",
       "      <td id=\"T_b65a7_row51_col1\" class=\"data row51 col1\" >12.410000</td>\n",
       "    </tr>\n",
       "    <tr>\n",
       "      <th id=\"T_b65a7_level0_row52\" class=\"row_heading level0 row52\" >AMT_REQ_CREDIT_BUREAU_MON</th>\n",
       "      <td id=\"T_b65a7_row52_col0\" class=\"data row52 col0\" >6049</td>\n",
       "      <td id=\"T_b65a7_row52_col1\" class=\"data row52 col1\" >12.410000</td>\n",
       "    </tr>\n",
       "    <tr>\n",
       "      <th id=\"T_b65a7_level0_row53\" class=\"row_heading level0 row53\" >AMT_REQ_CREDIT_BUREAU_QRT</th>\n",
       "      <td id=\"T_b65a7_row53_col0\" class=\"data row53 col0\" >6049</td>\n",
       "      <td id=\"T_b65a7_row53_col1\" class=\"data row53 col1\" >12.410000</td>\n",
       "    </tr>\n",
       "    <tr>\n",
       "      <th id=\"T_b65a7_level0_row54\" class=\"row_heading level0 row54\" >AMT_REQ_CREDIT_BUREAU_WEEK</th>\n",
       "      <td id=\"T_b65a7_row54_col0\" class=\"data row54 col0\" >6049</td>\n",
       "      <td id=\"T_b65a7_row54_col1\" class=\"data row54 col1\" >12.410000</td>\n",
       "    </tr>\n",
       "    <tr>\n",
       "      <th id=\"T_b65a7_level0_row55\" class=\"row_heading level0 row55\" >AMT_REQ_CREDIT_BUREAU_DAY</th>\n",
       "      <td id=\"T_b65a7_row55_col0\" class=\"data row55 col0\" >6049</td>\n",
       "      <td id=\"T_b65a7_row55_col1\" class=\"data row55 col1\" >12.410000</td>\n",
       "    </tr>\n",
       "    <tr>\n",
       "      <th id=\"T_b65a7_level0_row56\" class=\"row_heading level0 row56\" >AMT_REQ_CREDIT_BUREAU_YEAR</th>\n",
       "      <td id=\"T_b65a7_row56_col0\" class=\"data row56 col0\" >6049</td>\n",
       "      <td id=\"T_b65a7_row56_col1\" class=\"data row56 col1\" >12.410000</td>\n",
       "    </tr>\n",
       "    <tr>\n",
       "      <th id=\"T_b65a7_level0_row57\" class=\"row_heading level0 row57\" >NAME_TYPE_SUITE</th>\n",
       "      <td id=\"T_b65a7_row57_col0\" class=\"data row57 col0\" >911</td>\n",
       "      <td id=\"T_b65a7_row57_col1\" class=\"data row57 col1\" >1.870000</td>\n",
       "    </tr>\n",
       "    <tr>\n",
       "      <th id=\"T_b65a7_level0_row58\" class=\"row_heading level0 row58\" >DEF_60_CNT_SOCIAL_CIRCLE</th>\n",
       "      <td id=\"T_b65a7_row58_col0\" class=\"data row58 col0\" >29</td>\n",
       "      <td id=\"T_b65a7_row58_col1\" class=\"data row58 col1\" >0.060000</td>\n",
       "    </tr>\n",
       "    <tr>\n",
       "      <th id=\"T_b65a7_level0_row59\" class=\"row_heading level0 row59\" >OBS_60_CNT_SOCIAL_CIRCLE</th>\n",
       "      <td id=\"T_b65a7_row59_col0\" class=\"data row59 col0\" >29</td>\n",
       "      <td id=\"T_b65a7_row59_col1\" class=\"data row59 col1\" >0.060000</td>\n",
       "    </tr>\n",
       "    <tr>\n",
       "      <th id=\"T_b65a7_level0_row60\" class=\"row_heading level0 row60\" >DEF_30_CNT_SOCIAL_CIRCLE</th>\n",
       "      <td id=\"T_b65a7_row60_col0\" class=\"data row60 col0\" >29</td>\n",
       "      <td id=\"T_b65a7_row60_col1\" class=\"data row60 col1\" >0.060000</td>\n",
       "    </tr>\n",
       "    <tr>\n",
       "      <th id=\"T_b65a7_level0_row61\" class=\"row_heading level0 row61\" >OBS_30_CNT_SOCIAL_CIRCLE</th>\n",
       "      <td id=\"T_b65a7_row61_col0\" class=\"data row61 col0\" >29</td>\n",
       "      <td id=\"T_b65a7_row61_col1\" class=\"data row61 col1\" >0.060000</td>\n",
       "    </tr>\n",
       "    <tr>\n",
       "      <th id=\"T_b65a7_level0_row62\" class=\"row_heading level0 row62\" >AMT_ANNUITY</th>\n",
       "      <td id=\"T_b65a7_row62_col0\" class=\"data row62 col0\" >24</td>\n",
       "      <td id=\"T_b65a7_row62_col1\" class=\"data row62 col1\" >0.050000</td>\n",
       "    </tr>\n",
       "    <tr>\n",
       "      <th id=\"T_b65a7_level0_row63\" class=\"row_heading level0 row63\" >EXT_SOURCE_2</th>\n",
       "      <td id=\"T_b65a7_row63_col0\" class=\"data row63 col0\" >8</td>\n",
       "      <td id=\"T_b65a7_row63_col1\" class=\"data row63 col1\" >0.020000</td>\n",
       "    </tr>\n",
       "  </tbody>\n",
       "</table>\n"
      ],
      "text/plain": [
       "<pandas.io.formats.style.Styler at 0x22f443f7890>"
      ]
     },
     "metadata": {},
     "output_type": "display_data"
    }
   ],
   "source": [
    "# Valeurs manquantes du dataframe\n",
    "df_nan_applitest = tools_dataframe.get_missing_values(application_test,\n",
    "                                                      True, False, True)"
   ]
  },
  {
   "cell_type": "markdown",
   "id": "130c47d0-29f4-4a31-b8e0-36a6fd932dd8",
   "metadata": {},
   "source": [
    "\n",
    "* From the important variables identified during the exploratory analysis to distinguish non-defaulters from defaulters, the FLOORSMIN_AVG variable has the highest number of missing values (66.61%).\n",
    "* We set the threshold for deleting variables with many missing values at 67%."
   ]
  },
  {
   "cell_type": "code",
   "execution_count": 34,
   "id": "24bc6648-6e28-456c-a9a5-40a46e3bcea6",
   "metadata": {
    "run_control": {
     "marked": false
    }
   },
   "outputs": [
    {
     "name": "stdout",
     "output_type": "stream",
     "text": [
      "Number of variables to remove : 10\n"
     ]
    },
    {
     "data": {
      "text/plain": [
       "['COMMONAREA_AVG',\n",
       " 'LIVINGAPARTMENTS_AVG',\n",
       " 'NONLIVINGAPARTMENTS_AVG',\n",
       " 'COMMONAREA_MODE',\n",
       " 'LIVINGAPARTMENTS_MODE',\n",
       " 'NONLIVINGAPARTMENTS_MODE',\n",
       " 'COMMONAREA_MEDI',\n",
       " 'LIVINGAPARTMENTS_MEDI',\n",
       " 'NONLIVINGAPARTMENTS_MEDI',\n",
       " 'FONDKAPREMONT_MODE']"
      ]
     },
     "execution_count": 34,
     "metadata": {},
     "output_type": "execute_result"
    }
   ],
   "source": [
    "# List of variables with more than 67% of missing values\n",
    "cols_nan_remov_test = \\\n",
    "    df_nan_applitest[df_nan_applitest['% of missing values'] > 67] \\\n",
    "    .index.to_list()\n",
    "print(f'Number of variables to remove : {len(cols_nan_remov_test)}')\n",
    "cols_nan_remov_test"
   ]
  },
  {
   "cell_type": "code",
   "execution_count": 35,
   "id": "86467bdd-b761-4bc6-9ee7-bf63a8791ba3",
   "metadata": {
    "run_control": {
     "marked": false
    },
    "scrolled": true
   },
   "outputs": [
    {
     "name": "stdout",
     "output_type": "stream",
     "text": [
      "The dataset application_test contains 48744 rowsand {nVar} variables.\n"
     ]
    }
   ],
   "source": [
    "# Remove with % of nan over the threshold > 67%\n",
    "application_test.drop(columns=cols_nan_remov_test, inplace=True)\n",
    "\n",
    "# Categorical variables\n",
    "cols_cat_test = application_test.select_dtypes(exclude=[np.number])\\\n",
    "                                    .columns.to_list()\n",
    "# Continuous variables\n",
    "cols_num_test = application_test.select_dtypes(include=[np.number])\\\n",
    "                                    .columns.to_list()\n",
    "\n",
    "# Size : number of rows/columns\n",
    "nRow, nVar = application_test.shape\n",
    "print(f'The dataset application_test contains {nRow} rows'\n",
    "      'and {nVar} variables.')"
   ]
  },
  {
   "cell_type": "markdown",
   "id": "e6b807f0-c6f6-4a79-9239-9dfe4aa856e3",
   "metadata": {},
   "source": [
    "<a id='application_train_assign_missing_values'></a>\n",
    "\n",
    "---\n",
    "#### <span style='background:#0075bc'><span style='color:white'>Application_train assignment missing values</span></span>"
   ]
  },
  {
   "cell_type": "markdown",
   "id": "34157c08-ac75-4229-8f08-bbb1a52336f7",
   "metadata": {},
   "source": [
    "* During the exploratory analysis, it was observed that values that were not provided could give indications. The applicant may have withheld information to avoid having his application refused.\n",
    "* The EDA also revealed the existence of many outliers.\n",
    "* The **missing values** of the **continuous variables** will be therefore imputed by the **median** of each of these variables.\n",
    "* The **missing values** of the **categorical variables** will be therefore imputed by the **mode** of each of these variables."
   ]
  },
  {
   "cell_type": "markdown",
   "id": "a6903b08-3117-4b0e-bf19-10b7ac90b2ff",
   "metadata": {},
   "source": [
    "**Continuous variables**"
   ]
  },
  {
   "cell_type": "code",
   "execution_count": 36,
   "id": "4bce1b80-841f-4524-bd64-44dee0abed7c",
   "metadata": {
    "run_control": {
     "marked": false
    }
   },
   "outputs": [
    {
     "name": "stdout",
     "output_type": "stream",
     "text": [
      "Number of nan in application_train before median assignment : {nb_nan_median}\n",
      "Number of nan in application_train after median assignment : {nb_nan_median}\n"
     ]
    }
   ],
   "source": [
    "# application_train\n",
    "nb_nan_median = application_train[cols_num_train].isna().sum().sum()\n",
    "print(f'Number of nan in application_train before median assignment :'\n",
    "      ' {nb_nan_median}')\n",
    "application_train.fillna(application_train[cols_num_train].median(),\n",
    "                         inplace=True)\n",
    "# Validation\n",
    "nb_nan_median = application_train[cols_num_train].isna().sum().sum()\n",
    "print(f'Number of nan in application_train after median assignment :'\n",
    "      ' {nb_nan_median}')"
   ]
  },
  {
   "cell_type": "code",
   "execution_count": 37,
   "id": "c1aefc57-b822-46ee-bcf3-2ac6354bc327",
   "metadata": {
    "run_control": {
     "marked": false
    }
   },
   "outputs": [
    {
     "name": "stdout",
     "output_type": "stream",
     "text": [
      "Number of nan in application_test before median assignment : {nb_nan_median}\n",
      "Number of nan in application_test after median assignment : {nb_nan_median}\n"
     ]
    }
   ],
   "source": [
    "# application_test\n",
    "nb_nan_median = application_test[cols_num_test].isna().sum().sum()\n",
    "print(f'Number of nan in application_test before median assignment :'\n",
    "      ' {nb_nan_median}')\n",
    "application_test.fillna(application_test[cols_num_test].median(),\n",
    "                        inplace=True)\n",
    "# Validation\n",
    "nb_nan_median = application_test[cols_num_test].isna().sum().sum()\n",
    "print(f'Number of nan in application_test after median assignment :'\n",
    "      ' {nb_nan_median}')"
   ]
  },
  {
   "cell_type": "markdown",
   "id": "9d52674e-0283-46b6-8c21-503d20c33602",
   "metadata": {},
   "source": [
    "**Categorical variables**"
   ]
  },
  {
   "cell_type": "code",
   "execution_count": 38,
   "id": "60ea4db9-3645-474b-94bc-c1cbde7078ea",
   "metadata": {
    "run_control": {
     "marked": false
    }
   },
   "outputs": [
    {
     "name": "stdout",
     "output_type": "stream",
     "text": [
      "Number of nan in application_train before mode assignment : {nb_nan_cat}\n",
      "Number of nan in application_train after mode assignment  : {nb_nan_cat}\n"
     ]
    }
   ],
   "source": [
    "# application_train\n",
    "nb_nan_cat = application_train[cols_cat_train].isna().sum().sum()\n",
    "print(f'Number of nan in application_train before mode assignment :'\n",
    "      ' {nb_nan_cat}')\n",
    "for var in cols_cat_train:\n",
    "    mode = application_train[var].mode()[0]\n",
    "    application_train[var].fillna(mode, inplace=True)\n",
    "nb_nan_cat = application_train[cols_cat_train].isna().sum().sum()\n",
    "print(f'Number of nan in application_train after mode assignment  :'\n",
    "      ' {nb_nan_cat}')"
   ]
  },
  {
   "cell_type": "code",
   "execution_count": 39,
   "id": "5c19d882-8be5-4111-a09a-3f447bf75b2f",
   "metadata": {
    "run_control": {
     "marked": false
    }
   },
   "outputs": [
    {
     "name": "stdout",
     "output_type": "stream",
     "text": [
      "Number of nan in application_test before mode assignment : {nb_nan_cat}\n",
      "Number of nan in application_test after mode assignment  : {nb_nan_cat}\n"
     ]
    }
   ],
   "source": [
    "# application_test\n",
    "nb_nan_cat = application_test[cols_cat_test].isna().sum().sum()\n",
    "print(f'Number of nan in application_test before mode assignment :'\n",
    "      ' {nb_nan_cat}')\n",
    "for var in cols_cat_test:\n",
    "    mode = application_test[var].mode()[0]\n",
    "    application_test[var].fillna(mode, inplace=True)\n",
    "nb_nan_cat = application_test[cols_cat_test].isna().sum().sum()\n",
    "print(f'Number of nan in application_test after mode assignment  :'\n",
    "      ' {nb_nan_cat}')"
   ]
  },
  {
   "cell_type": "code",
   "execution_count": 40,
   "id": "07da3904-0681-435a-b1f1-4490bc2801eb",
   "metadata": {},
   "outputs": [
    {
     "name": "stdout",
     "output_type": "stream",
     "text": [
      "Number of nan in application_train : {application_train.isna().sum().sum()}\n"
     ]
    },
    {
     "name": "stderr",
     "output_type": "stream",
     "text": [
      "6:80: E501 line too long (128 > 79 characters)\n"
     ]
    }
   ],
   "source": [
    "# Validation\n",
    "print(f'Number of nan in application_train :'\n",
    "      ' {application_train.isna().sum().sum()}')\n",
    "# Saving application_train\n",
    "path_sav_appltrain_wonan = \\\n",
    "    '/home/raquelsp/Documents/Openclassrooms/P7_implementez_modele_scoring/P7_travail/P7_scoring_credit/preprocessing/application_train_wo_nan.pkl'\n",
    "with open(path_sav_appltrain_wonan, 'wb') as f:\n",
    "    pickle.dump(application_train, f, pickle.HIGHEST_PROTOCOL)"
   ]
  },
  {
   "cell_type": "code",
   "execution_count": 41,
   "id": "f53b18c6-c5a0-4251-950c-0a0b8aa52bc5",
   "metadata": {},
   "outputs": [
    {
     "name": "stderr",
     "output_type": "stream",
     "text": [
      "6:80: E501 line too long (127 > 79 characters)\n"
     ]
    },
    {
     "name": "stdout",
     "output_type": "stream",
     "text": [
      "Number of nan in application_test : {application_test.isna().sum().sum()}\n"
     ]
    }
   ],
   "source": [
    "# Validation\n",
    "print(f'Number of nan in application_test :'\n",
    "      ' {application_test.isna().sum().sum()}')\n",
    "# Saving application_train\n",
    "path_sav_appltest_wonan = \\\n",
    "    '/home/raquelsp/Documents/Openclassrooms/P7_implementez_modele_scoring/P7_travail/P7_scoring_credit/preprocessing/application_test_wo_nan.pkl'\n",
    "with open(path_sav_appltest_wonan, 'wb') as f:\n",
    "    pickle.dump(application_test, f, pickle.HIGHEST_PROTOCOL)"
   ]
  },
  {
   "cell_type": "markdown",
   "id": "36d70e81-77fe-41a7-a9b2-a8055fb2984b",
   "metadata": {
    "id": "UjzpPUhyDxT8"
   },
   "source": [
    "<a id='application_traintest_feat_engi'></a>\n",
    "\n",
    "## <span style='background:#0085dd'><span style='color:white'>Application_train/test feat engineering</span></span>"
   ]
  },
  {
   "cell_type": "markdown",
   "id": "bb744fe7-a316-47b3-8ca8-693a91cf16e0",
   "metadata": {},
   "source": [
    "These tables consists of static data relating to the Borrowers. Each row represents one loan application.\n",
    "\n",
    "<ol><li>First we do feature engineering on the numeric features, and generate features based on Domain Knoweldge, such as INCOME TO ANNUITY ratio, EXT_SOURCE means, etc.</li>\n",
    "    <li>We also try to predict the interest rates by using the data from the previous applications features, and predicting using the data from application_train features. We also create a feature based on the Target values from application_train where we compute the mean of targets of 500 nearest neighbors of each row.</li>\n",
    "    <li>Next we create some features based on the categorical interactions by grouping the data on several categorical combinations and imputing the aggregates for each group as features.</li>\n",
    "    <li>We encode the categorical features by response coding, as we didn't want to increase dimensionality by many-folds using OHE. </li>"
   ]
  },
  {
   "cell_type": "code",
   "execution_count": 42,
   "id": "87d7208c-9481-4c2f-aa21-f2d46ed62064",
   "metadata": {
    "tags": []
   },
   "outputs": [
    {
     "name": "stdout",
     "output_type": "stream",
     "text": [
      "###################################################\n",
      "#        Pre-processing application_train         #\n",
      "#        Pre-processing application_test          #\n",
      "###################################################\n",
      "\n",
      "Loading the DataFrames into memory...\n",
      "Loaded application_train and application_test\n",
      "Time Taken to load = 0:00:00.256101\n",
      "\n",
      "Predicting the missing values of EXT_SOURCE columns...\n",
      "Done.\n",
      "Time elapsed = 0:06:53.339438\n",
      "\n",
      "Starting Feature Engineering...\n",
      "\n",
      "Creating Domain Based Features on Numeric Data\n",
      "Done.\n",
      "Time Taken = 0:03:09.163699\n",
      "Creating features based on Categorical Interactions on some Numeric Features\n",
      "Done.\n",
      "Time taken = 0:00:02.131211\n",
      "Done preprocessing appplication_train and application_test.\n",
      "\n",
      "Initial Size of application_train: (307511, 107)\n",
      "Size of application_train after Pre-Processing and Feature Engineering: (307511, 353)\n",
      "\n",
      "Total Time Taken = 0:10:06.509089\n",
      "\n",
      "Pickling application_train and application_test after feature engineering to application_train_aft_feat_eng.pkl and application_test_aft_feat_eng, respectively.\n"
     ]
    },
    {
     "name": "stderr",
     "output_type": "stream",
     "text": [
      "2:52: E251 unexpected spaces around keyword / parameter equals\n",
      "2:54: E251 unexpected spaces around keyword / parameter equals\n"
     ]
    },
    {
     "name": "stdout",
     "output_type": "stream",
     "text": [
      "Done.\n",
      "----------------------------------------------------------------------------------------------------\n"
     ]
    }
   ],
   "source": [
    "application_train, application_test = tools_feat_engineering\\\n",
    "    .feat_eng_application_train_test(dump_to_pickle = True).main()"
   ]
  },
  {
   "cell_type": "markdown",
   "id": "5779822f-d01a-4424-a159-e00898079d5b",
   "metadata": {},
   "source": [
    "**Freeing up the memory**"
   ]
  },
  {
   "cell_type": "code",
   "execution_count": 43,
   "id": "093062ff-5235-4274-a82c-11f9dfd1f1ce",
   "metadata": {
    "tags": []
   },
   "outputs": [],
   "source": [
    "path_temp = '../P7_scoring_credit/preprocessing/temp/'\n",
    "\n",
    "filelist = [f for f in os.listdir(path_temp) if f.endswith(\".pkl\")]\n",
    "for f in filelist:\n",
    "    os.remove(os.path.join(path_temp, f))"
   ]
  },
  {
   "cell_type": "markdown",
   "id": "bdb29431-dc6a-43c4-a916-75d5afa67b88",
   "metadata": {
    "id": "UjzpPUhyDxT8"
   },
   "source": [
    "<a id='application_traintest_manag_strong_correl'></a>\n",
    "\n",
    "## <span style='background:#0085dd'><span style='color:white'>Application_train/test Managing strong correlations</span></span>"
   ]
  },
  {
   "cell_type": "markdown",
   "id": "30248e27-4edd-4537-bfa4-48923889c562",
   "metadata": {},
   "source": [
    "In this section:\n",
    " * The correlation between the numerical variables, Pearson's coefficient, is calculated.\n",
    " * The maximum accepted correlation threshold is set at 0.8.\n",
    " * The variables whose correlation exceeds the maximum threshold are suppressed."
   ]
  },
  {
   "cell_type": "code",
   "execution_count": 44,
   "id": "9f29cdd1-ed44-451b-aca2-8e8e018d3e2f",
   "metadata": {},
   "outputs": [
    {
     "name": "stderr",
     "output_type": "stream",
     "text": [
      "2:80: E501 line too long (107 > 79 characters)\n"
     ]
    }
   ],
   "source": [
    "# Load de dataset after feature engineering\n",
    "path_sav_application_train_afteng = '../P7_scoring_credit/preprocessing/application_train_aft_feat_eng.pkl'\n",
    "\n",
    "with open(path_sav_application_train_afteng, 'rb') as f:\n",
    "    application_train = pickle.load(f)"
   ]
  },
  {
   "cell_type": "code",
   "execution_count": 45,
   "id": "79cf694c-723f-4dc3-a809-d31ad2a25d3f",
   "metadata": {},
   "outputs": [
    {
     "name": "stderr",
     "output_type": "stream",
     "text": [
      "2:80: E501 line too long (105 > 79 characters)\n"
     ]
    }
   ],
   "source": [
    "# Load de dataset after feature engineering\n",
    "path_sav_application_test_afteng = '../P7_scoring_credit/preprocessing/application_test_aft_feat_eng.pkl'\n",
    "\n",
    "with open(path_sav_application_test_afteng, 'rb') as f:\n",
    "    application_test = pickle.load(f)"
   ]
  },
  {
   "cell_type": "code",
   "execution_count": 46,
   "id": "301eca5a-6b2d-439c-bae0-bfff6dbd1832",
   "metadata": {},
   "outputs": [
    {
     "name": "stdout",
     "output_type": "stream",
     "text": [
      "application_train\n",
      "-------------------------------------------------------------------------------\n",
      "Memory usage of dataframe is: 455.73 MB\n",
      "Memory usage after optimization is : 380.95 MB\n",
      "Reduction of 16.4%\n",
      "-------------------------------------------------------------------------------\n",
      "\n",
      "application_test\n",
      "-------------------------------------------------------------------------------\n",
      "Memory usage of dataframe is: 72.19 MB\n",
      "Memory usage after optimization is : 60.34 MB\n",
      "Reduction of 16.4%\n",
      "-------------------------------------------------------------------------------\n"
     ]
    }
   ],
   "source": [
    "# ----------------------------------------------------\n",
    "# Memory improvement by reducing the size of objects\n",
    "# ----------------------------------------------------\n",
    "print(\"application_train\")\n",
    "application_train =\\\n",
    "    tools_preprocessing.reduce_mem_usage(application_train, verbose=True)\n",
    "\n",
    "print(\"\\napplication_test\")\n",
    "application_test =\\\n",
    "    tools_preprocessing.reduce_mem_usage(application_test, verbose=True)"
   ]
  },
  {
   "cell_type": "code",
   "execution_count": 47,
   "id": "0603ecdc-ecc6-411f-bec9-f8e68c8b9abc",
   "metadata": {
    "tags": []
   },
   "outputs": [
    {
     "name": "stderr",
     "output_type": "stream",
     "text": [
      "2:17: E225 missing whitespace around operator\n"
     ]
    },
    {
     "name": "stdout",
     "output_type": "stream",
     "text": [
      "There are 208 variables with strong correlation to be removed.\n",
      "\n",
      "Original shape : (307511, 353)\n",
      "Post correlation managing shape : (307511, 145)\n"
     ]
    }
   ],
   "source": [
    "# Managing strong correlations in train dataset\n",
    "cols_corr_a_supp=[]\n",
    "application_train, cols_corr_a_supp = tools_dataframe\\\n",
    "    .managing_correlations(application_train)"
   ]
  },
  {
   "cell_type": "code",
   "execution_count": 48,
   "id": "a3d96fca-9efe-4b8e-839d-f343f806dc38",
   "metadata": {
    "run_control": {
     "marked": false
    },
    "tags": []
   },
   "outputs": [
    {
     "name": "stdout",
     "output_type": "stream",
     "text": [
      "application_test : (48744, 352)\n",
      "application_test : (48744, 144)\n"
     ]
    }
   ],
   "source": [
    "# Drop vairables with strong correlation from test dataset\n",
    "print(f'application_test : {application_test.shape}')\n",
    "application_test.drop(columns=cols_corr_a_supp,  inplace=True)\n",
    "print(f'application_test : {application_test.shape}')"
   ]
  },
  {
   "cell_type": "code",
   "execution_count": 49,
   "id": "c72bc8e0-1e49-4593-bce4-8f509963bf84",
   "metadata": {},
   "outputs": [],
   "source": [
    "# Saving application_train ready for ML\n",
    "path_sav_appltrain_ML = \\\n",
    "    '../P7_scoring_credit/preprocessing/application_train_ML.pkl'\n",
    "with open(path_sav_appltrain_ML, 'wb') as f:\n",
    "    pickle.dump(application_train, f, pickle.HIGHEST_PROTOCOL)"
   ]
  },
  {
   "cell_type": "code",
   "execution_count": 50,
   "id": "d14c054c-d8b2-4831-8da8-4d227f9e5699",
   "metadata": {},
   "outputs": [],
   "source": [
    "# Saving application_test ready for ML\n",
    "path_sav_appltest_ML = \\\n",
    "    '../P7_scoring_credit/preprocessing/application_test_ML.pkl'\n",
    "with open(path_sav_appltest_ML, 'wb') as f:\n",
    "    pickle.dump(application_test, f, pickle.HIGHEST_PROTOCOL)"
   ]
  },
  {
   "cell_type": "markdown",
   "id": "e37c616b-6e81-4331-94ac-d071057fff4b",
   "metadata": {},
   "source": [
    "**Chargement des dataframes nettoyés**"
   ]
  },
  {
   "cell_type": "code",
   "execution_count": 51,
   "id": "27f6640f-3187-446a-a3ce-98da19851cb4",
   "metadata": {},
   "outputs": [
    {
     "data": {
      "text/plain": [
       "(307511, 145)"
      ]
     },
     "execution_count": 51,
     "metadata": {},
     "output_type": "execute_result"
    }
   ],
   "source": [
    "# Loading application_train\n",
    "with open(path_sav_appltrain_ML, 'rb') as df_appli_train_clean:\n",
    "    application_train_ML = pickle.load(df_appli_train_clean)\n",
    "application_train_ML.shape"
   ]
  },
  {
   "cell_type": "code",
   "execution_count": 52,
   "id": "464a61fb-b807-4df6-8c99-c4a8d014525f",
   "metadata": {
    "tags": []
   },
   "outputs": [
    {
     "data": {
      "text/plain": [
       "(48744, 144)"
      ]
     },
     "execution_count": 52,
     "metadata": {},
     "output_type": "execute_result"
    }
   ],
   "source": [
    "# Loading application_test\n",
    "with open(path_sav_appltest_ML, 'rb') as df_appli_test_clean:\n",
    "    application_test_ML = pickle.load(df_appli_test_clean)\n",
    "application_test_ML.shape"
   ]
  },
  {
   "cell_type": "markdown",
   "id": "a1b29058-ce2c-4fba-bc0f-17600a7bf83c",
   "metadata": {},
   "source": [
    "**Freeing up the memory**"
   ]
  },
  {
   "cell_type": "code",
   "execution_count": 53,
   "id": "2ecfc57a-c14a-4952-bb20-5efedec7a3cc",
   "metadata": {
    "tags": []
   },
   "outputs": [],
   "source": [
    "path_processing = '../P7_scoring_credit/preprocessing/'\n",
    "files_to_remove = ['application_train_wo_nan.pkl',\n",
    "                   'application_test_wo_nan.pkl',\n",
    "                   'application_train_aft_feat_eng.pkl',\n",
    "                   'application_test_aft_feat_eng.pkl']\n",
    "\n",
    "for file in files_to_remove:\n",
    "    os.remove(path_processing+file)"
   ]
  },
  {
   "cell_type": "code",
   "execution_count": 54,
   "id": "47808625-5aa3-4167-9012-b63c68ad1eaa",
   "metadata": {},
   "outputs": [],
   "source": [
    "del application_train, application_test"
   ]
  },
  {
   "cell_type": "markdown",
   "id": "4531819c-bece-4ca7-a397-bd754c6e6914",
   "metadata": {
    "id": "2f3cf119-1479-4a49-b958-bb22d513aa1f",
    "tags": []
   },
   "source": [
    "<a id='previous_loans_Home_Credit'></a>\n",
    "\n",
    "---\n",
    "---\n",
    "\n",
    "# <span style='background:#2994ff'><span style='color:white'>**Data from previous loans at Home Crédit:** </span></span>\n"
   ]
  },
  {
   "cell_type": "markdown",
   "id": "83c91c82-de43-4b01-8a67-90cb23044b58",
   "metadata": {},
   "source": [
    "4 files contain information on previous loans at Home Crédit:\n",
    "* The main file for previous loans :\n",
    "    * **previous_application**\n",
    "* Details of these previous loans :\n",
    "    * **POS_CASH_balance**\n",
    "    * **installments_payments**\n",
    "    * **credit_card_balance**"
   ]
  },
  {
   "cell_type": "markdown",
   "id": "4a1d2f0f-d4b5-404b-87b7-6eeb092da566",
   "metadata": {
    "id": "UjzpPUhyDxT8",
    "tags": []
   },
   "source": [
    "<a id='previous_application_preprocessing'></a>\n",
    "\n",
    "## <span style='background:#0085dd'><span style='color:white'>previous_application</span></span>"
   ]
  },
  {
   "cell_type": "markdown",
   "id": "8e05259f-843f-4412-a6e0-09158b09d7e8",
   "metadata": {},
   "source": [
    "This table contains the static data related to clients and their previous credits with Home Credit Group.\n",
    "<ol><li>First we start by cleaning the erroneous values. From the EDA we saw some DAYS fields with a value equal to 365243.0, they look erroneous, and so we will be replacing them with NaN values. </li>\n",
    "    <li>We replace the NaN values for categories with an 'XNA' category.</li>\n",
    "    <li>Next, we proceed to feature engineering, where we create some domain based features, such as Credit-Downpayment Ratio, Amount not approved, Credit to Goods ratio, etc.</li>\n",
    "    <li>We also try to predict the interest rate, inspired by one of the writeups of winners. </li>\n",
    "    <li>To be able to merge it with main table, we need to aggregate the rows of previous_application over SK_ID_CURR. We perform domain based aggregations, over all the previous credits for each customer, such as mean, max, min, etc. Here again we aggregate in three ways. First we perform overall aggregation, next we aggregate for first 2 applications and latest 5 applications. The First and Last are decided by the DAYS_FIRST_DUE of applications. In the end, we merge all these aggregations together.</li>\n",
    "    </ol>"
   ]
  },
  {
   "cell_type": "code",
   "execution_count": 55,
   "id": "bfe2d969-ac57-4539-aff5-8b406f1b5758",
   "metadata": {},
   "outputs": [],
   "source": [
    "# -----------------------------\n",
    "# Files upload:\n",
    "# -----------------------------\n",
    "# Data from previous loans at Home Credit\n",
    "previous_application = pd.read_csv('previous_application.csv',\n",
    "                                   low_memory=False, encoding='utf-8')"
   ]
  },
  {
   "cell_type": "code",
   "execution_count": 56,
   "id": "8e8e0d8a-b57b-46d3-98ed-1c10c23325d2",
   "metadata": {},
   "outputs": [
    {
     "name": "stdout",
     "output_type": "stream",
     "text": [
      "previous_application\n",
      "-------------------------------------------------------------------------------\n",
      "Memory usage of dataframe is: 471.48 MB\n",
      "Memory usage after optimization is : 324.94 MB\n",
      "Reduction of 31.1%\n",
      "-------------------------------------------------------------------------------\n"
     ]
    }
   ],
   "source": [
    "# ----------------------------------------------------\n",
    "# Memory improvement by reducing the size of objects\n",
    "# ----------------------------------------------------\n",
    "print(\"previous_application\")\n",
    "previous_application =\\\n",
    "    tools_preprocessing.reduce_mem_usage(previous_application, verbose=True)"
   ]
  },
  {
   "cell_type": "code",
   "execution_count": 57,
   "id": "969f0d71-dd50-481a-906a-7d09062ac9e1",
   "metadata": {
    "colab": {
     "base_uri": "https://localhost:8080/",
     "height": 300
    },
    "id": "HRTp5goApIcW",
    "outputId": "87a80077-c5b1-43e0-9fa3-7dd2eb67dc3c",
    "tags": []
   },
   "outputs": [
    {
     "name": "stdout",
     "output_type": "stream",
     "text": [
      "previous_application\n"
     ]
    },
    {
     "data": {
      "image/png": "[encoded data removed]",
      "text/plain": [
       "<Figure size 640x480 with 1 Axes>"
      ]
     },
     "metadata": {},
     "output_type": "display_data"
    }
   ],
   "source": [
    "# --------------------\n",
    "# Variable types\n",
    "# --------------------\n",
    "info_previous_application =\\\n",
    "    tools_dataframe.complet_description(previous_application)\n",
    "print(\"previous_application\")\n",
    "tools_dataframe.visu_dataTypes(info_previous_application)"
   ]
  },
  {
   "cell_type": "markdown",
   "id": "0cd35558-4b54-414b-8512-d0d6e0d49ace",
   "metadata": {
    "id": "UjzpPUhyDxT8"
   },
   "source": [
    "<a id='previous_application_preproc'></a>\n",
    "\n",
    "### <span style='background:#0075bc'><span style='color:white'>previous_application preprocessing</span></span>"
   ]
  },
  {
   "cell_type": "markdown",
   "id": "e19e7985-cb75-40ac-9df1-95b061b35d71",
   "metadata": {},
   "source": [
    "<a id='previous_application_outliers'></a>\n",
    "\n",
    "---\n",
    "#### <span style='background:#0075bc'><span style='color:white'>previous_application outliers</span></span>"
   ]
  },
  {
   "cell_type": "markdown",
   "id": "07bfdea1-8e2e-4e11-99e5-a793d6119e27",
   "metadata": {},
   "source": [
    "In the EDA we found some erroneous values in DAYS columns, so we will replace them with NaN values"
   ]
  },
  {
   "cell_type": "markdown",
   "id": "c8294267-c4e8-49d2-9278-06d7483fda88",
   "metadata": {},
   "source": [
    "**DAYS_FIRST_DRAWING**"
   ]
  },
  {
   "cell_type": "code",
   "execution_count": 58,
   "id": "47a21166-2420-484a-b43f-f71fcc9f3ad4",
   "metadata": {},
   "outputs": [
    {
     "name": "stderr",
     "output_type": "stream",
     "text": [
      "1:43: E211 whitespace before '['\n"
     ]
    }
   ],
   "source": [
    "previous_application['DAYS_FIRST_DRAWING']\\\n",
    "    [previous_application['DAYS_FIRST_DRAWING'] == 365243.0] = np.nan"
   ]
  },
  {
   "cell_type": "markdown",
   "id": "f0eedc8d-2441-42e2-84cc-2518065a2a27",
   "metadata": {},
   "source": [
    "**DAYS_FIRST_DUE**"
   ]
  },
  {
   "cell_type": "code",
   "execution_count": 59,
   "id": "ac2cbfb1-3945-456b-87ac-532e0f9f1131",
   "metadata": {},
   "outputs": [
    {
     "name": "stderr",
     "output_type": "stream",
     "text": [
      "1:39: E211 whitespace before '['\n"
     ]
    }
   ],
   "source": [
    "previous_application['DAYS_FIRST_DUE']\\\n",
    "    [previous_application['DAYS_FIRST_DUE'] == 365243.0] = np.nan"
   ]
  },
  {
   "cell_type": "markdown",
   "id": "b73db97e-7cc4-44c6-9642-eaa60762097f",
   "metadata": {},
   "source": [
    "**DAYS_LAST_DUE_1ST_VERSION**"
   ]
  },
  {
   "cell_type": "code",
   "execution_count": 60,
   "id": "de768835-139f-408c-be72-8867b14ea115",
   "metadata": {},
   "outputs": [
    {
     "name": "stderr",
     "output_type": "stream",
     "text": [
      "1:50: E211 whitespace before '['\n"
     ]
    }
   ],
   "source": [
    "previous_application['DAYS_LAST_DUE_1ST_VERSION']\\\n",
    "    [previous_application['DAYS_LAST_DUE_1ST_VERSION'] == 365243.0] = np.nan"
   ]
  },
  {
   "cell_type": "markdown",
   "id": "2d6eae03-ea97-41c9-8861-58eaa5c2b95b",
   "metadata": {},
   "source": [
    "**DAYS_LAST_DUE**"
   ]
  },
  {
   "cell_type": "code",
   "execution_count": 61,
   "id": "b952b0c3-a349-4a6c-9e44-b66b1c010bf8",
   "metadata": {},
   "outputs": [
    {
     "name": "stderr",
     "output_type": "stream",
     "text": [
      "1:38: E211 whitespace before '['\n"
     ]
    }
   ],
   "source": [
    "previous_application['DAYS_LAST_DUE']\\\n",
    "    [previous_application['DAYS_LAST_DUE'] == 365243.0] = np.nan"
   ]
  },
  {
   "cell_type": "markdown",
   "id": "eff05035-c1c2-4db6-b465-53946d99b1b4",
   "metadata": {},
   "source": [
    "**DAYS_TERMINATION**"
   ]
  },
  {
   "cell_type": "code",
   "execution_count": 62,
   "id": "5483aea3-f19c-4180-b73d-a693559a8b7f",
   "metadata": {},
   "outputs": [
    {
     "name": "stderr",
     "output_type": "stream",
     "text": [
      "1:41: E211 whitespace before '['\n"
     ]
    }
   ],
   "source": [
    "previous_application['DAYS_TERMINATION']\\\n",
    "    [previous_application['DAYS_TERMINATION'] == 365243.0] = np.nan"
   ]
  },
  {
   "cell_type": "markdown",
   "id": "74ed7bf2-d18c-4cb5-b337-ba8bcdb318b6",
   "metadata": {},
   "source": [
    "**SELLERPLACE_AREA**"
   ]
  },
  {
   "cell_type": "code",
   "execution_count": 63,
   "id": "393ea376-ee71-42d4-b086-72dcd62cb75c",
   "metadata": {},
   "outputs": [
    {
     "name": "stderr",
     "output_type": "stream",
     "text": [
      "1:41: E211 whitespace before '['\n"
     ]
    }
   ],
   "source": [
    "previous_application['SELLERPLACE_AREA']\\\n",
    "    [previous_application['SELLERPLACE_AREA'] == 4000000] = np.nan"
   ]
  },
  {
   "cell_type": "code",
   "execution_count": 64,
   "id": "367c79a2-1d6a-437a-b1c5-72febce2e2b2",
   "metadata": {},
   "outputs": [
    {
     "name": "stdout",
     "output_type": "stream",
     "text": [
      "previous_application\n",
      "-------------------------------------------------------------------------------\n",
      "Memory usage of dataframe is: 331.31 MB\n",
      "Memory usage after optimization is : 324.94 MB\n",
      "Reduction of 1.9%\n",
      "-------------------------------------------------------------------------------\n"
     ]
    }
   ],
   "source": [
    "# ----------------------------------------------------\n",
    "# Memory improvement by reducing the size of objects\n",
    "# ----------------------------------------------------\n",
    "print(\"previous_application\")\n",
    "previous_application =\\\n",
    "    tools_preprocessing.reduce_mem_usage(previous_application, verbose=True)"
   ]
  },
  {
   "cell_type": "code",
   "execution_count": 65,
   "id": "646dce19-a58b-4c0e-a637-2482dba8e1e7",
   "metadata": {},
   "outputs": [],
   "source": [
    "# Saving bureau_balance after preprocessing\n",
    "path_sav_prev_app_aftproc = \\\n",
    "    '../P7_scoring_credit/preprocessing/previous_application_aftproc.pkl'\n",
    "with open(path_sav_prev_app_aftproc, 'wb') as f:\n",
    "    pickle.dump(previous_application, f, pickle.HIGHEST_PROTOCOL)"
   ]
  },
  {
   "cell_type": "markdown",
   "id": "c22ba7bd-24ad-4cb3-acdc-bb7a96043540",
   "metadata": {
    "id": "UjzpPUhyDxT8"
   },
   "source": [
    "<a id='previous_application_feat_eng'></a>\n",
    "\n",
    "### <span style='background:#0075bc'><span style='color:white'>previous_application feature engineering</span></span>"
   ]
  },
  {
   "cell_type": "code",
   "execution_count": 66,
   "id": "9a745661-650a-467e-8e79-13b5f025dc1c",
   "metadata": {
    "tags": []
   },
   "outputs": [
    {
     "data": {
      "text/plain": [
       "SK_ID_PREV                       int32\n",
       "SK_ID_CURR                       int32\n",
       "NAME_CONTRACT_TYPE              object\n",
       "AMT_ANNUITY                    float32\n",
       "AMT_APPLICATION                float32\n",
       "AMT_CREDIT                     float32\n",
       "AMT_DOWN_PAYMENT               float32\n",
       "AMT_GOODS_PRICE                float32\n",
       "WEEKDAY_APPR_PROCESS_START      object\n",
       "HOUR_APPR_PROCESS_START           int8\n",
       "FLAG_LAST_APPL_PER_CONTRACT     object\n",
       "NFLAG_LAST_APPL_IN_DAY            int8\n",
       "RATE_DOWN_PAYMENT              float32\n",
       "RATE_INTEREST_PRIMARY          float32\n",
       "RATE_INTEREST_PRIVILEGED       float32\n",
       "NAME_CASH_LOAN_PURPOSE          object\n",
       "NAME_CONTRACT_STATUS            object\n",
       "DAYS_DECISION                    int16\n",
       "NAME_PAYMENT_TYPE               object\n",
       "CODE_REJECT_REASON              object\n",
       "NAME_TYPE_SUITE                 object\n",
       "NAME_CLIENT_TYPE                object\n",
       "NAME_GOODS_CATEGORY             object\n",
       "NAME_PORTFOLIO                  object\n",
       "NAME_PRODUCT_TYPE               object\n",
       "CHANNEL_TYPE                    object\n",
       "SELLERPLACE_AREA               float32\n",
       "NAME_SELLER_INDUSTRY            object\n",
       "CNT_PAYMENT                    float32\n",
       "NAME_YIELD_GROUP                object\n",
       "PRODUCT_COMBINATION             object\n",
       "DAYS_FIRST_DRAWING             float32\n",
       "DAYS_FIRST_DUE                 float32\n",
       "DAYS_LAST_DUE_1ST_VERSION      float32\n",
       "DAYS_LAST_DUE                  float32\n",
       "DAYS_TERMINATION               float32\n",
       "NFLAG_INSURED_ON_APPROVAL      float32\n",
       "dtype: object"
      ]
     },
     "execution_count": 66,
     "metadata": {},
     "output_type": "execute_result"
    }
   ],
   "source": [
    "previous_application.dtypes"
   ]
  },
  {
   "cell_type": "code",
   "execution_count": 67,
   "id": "4b056cd2-5db2-455f-b4ba-849505cf38a0",
   "metadata": {},
   "outputs": [
    {
     "name": "stdout",
     "output_type": "stream",
     "text": [
      "########################################################\n",
      "#        Pre-processing previous_application        #\n",
      "########################################################\n",
      "\n",
      "Loading the DataFrame, previous_application, into memory...\n",
      "Loaded previous_application.csv\n",
      "Time Taken to load = 0:00:01.132505\n",
      "\n",
      "Performing Preprocessing and Feature Engineering...\n",
      "Done.\n",
      "Time taken = 0:00:05.723450\n",
      "\n",
      "Aggregating previous applications over SK_ID_CURR...\n",
      "Done aggregations.\n",
      "\n",
      "Initial Size of previous_application: (1670214, 37)\n",
      "Size of previous_application after Pre-Processing, Feature Engineering and Aggregation: (338857, 399)\n",
      "\n",
      "Total Time Taken = 0:00:15.052492\n",
      "\n",
      "Pickling pre-processed previous_application to previous_application_afteng.pkl\n",
      "Done.\n",
      "----------------------------------------------------------------------------------------------------\n"
     ]
    }
   ],
   "source": [
    "previous_application = \\\n",
    "    tools_feat_engineering.feat_eng_previous_application(dump_to_pickle=True)\\\n",
    "    .main()"
   ]
  },
  {
   "cell_type": "code",
   "execution_count": 68,
   "id": "1fa8e4f4-4908-4cc9-a955-57b6e733b160",
   "metadata": {},
   "outputs": [],
   "source": [
    "# Saving bureau_balance after feature_engineering\n",
    "path_sav_prev_app_afteng = \\\n",
    "    '../P7_scoring_credit/preprocessing/previous_application_afteng.pkl'"
   ]
  },
  {
   "cell_type": "markdown",
   "id": "430c52a2-5405-43b0-a0a1-51f77e7bdbbb",
   "metadata": {
    "id": "UjzpPUhyDxT8"
   },
   "source": [
    "<a id='previous_application_missing_values'></a>\n",
    "\n",
    "### <span style='background:#0075bc'><span style='color:white'>previous_application assignment missing values</span></span>"
   ]
  },
  {
   "cell_type": "markdown",
   "id": "516fd766-f36e-47fb-a26a-0d382bb1f6c3",
   "metadata": {},
   "source": [
    "* The **missing values** of the **continuous variables** will be therefore imputed by the **median** of each of these variables.\n",
    "* The **missing values** of the **categorical variables** will be therefore imputed by the **mode** of each of these variables."
   ]
  },
  {
   "cell_type": "code",
   "execution_count": 69,
   "id": "bb6d2a6f-81c5-4908-8747-857d3be9d0e4",
   "metadata": {},
   "outputs": [],
   "source": [
    "# Load de dataset after feature engineering\n",
    "with open(path_sav_prev_app_afteng, 'rb') as f:\n",
    "    previous_application_afteng = pickle.load(f)"
   ]
  },
  {
   "cell_type": "markdown",
   "id": "1658ada9-a611-4a11-9190-5023c790e950",
   "metadata": {},
   "source": [
    "\n",
    "**Continuous variables**"
   ]
  },
  {
   "cell_type": "code",
   "execution_count": 70,
   "id": "0df9be07-0ceb-4e3f-8dd4-1ff120d7bb23",
   "metadata": {
    "run_control": {
     "marked": false
    }
   },
   "outputs": [],
   "source": [
    "# Continous variables\n",
    "cols_num_prevapp = previous_application_afteng\\\n",
    "    .select_dtypes(include=[np.number])\\\n",
    "    .columns.to_list()"
   ]
  },
  {
   "cell_type": "code",
   "execution_count": 71,
   "id": "bb88cce7-411d-46c4-9061-f6350a49bde0",
   "metadata": {
    "run_control": {
     "marked": false
    }
   },
   "outputs": [
    {
     "name": "stdout",
     "output_type": "stream",
     "text": [
      "Number of nan in previous_application_afteng before median assignment : 11855599\n"
     ]
    },
    {
     "name": "stderr",
     "output_type": "stream",
     "text": [
      "3:80: E501 line too long (97 > 79 characters)\n",
      "4:80: E501 line too long (80 > 79 characters)\n",
      "10:80: E501 line too long (96 > 79 characters)\n"
     ]
    },
    {
     "name": "stdout",
     "output_type": "stream",
     "text": [
      "Number of nan in previous_application_afteng after median assignment : 0\n"
     ]
    }
   ],
   "source": [
    "nb_nan_median = previous_application_afteng[cols_num_prevapp]\\\n",
    "                .isna().sum().sum()\n",
    "print(f'Number of nan in previous_application_afteng before median assignment : {nb_nan_median}')\n",
    "previous_application_afteng.fillna(previous_application_afteng[cols_num_prevapp]\n",
    "                                   .median(), inplace=True)\n",
    "\n",
    "# Validation\n",
    "nb_nan_median = previous_application_afteng[cols_num_prevapp]\\\n",
    "                .isna().sum().sum()\n",
    "print(f'Number of nan in previous_application_afteng after median assignment : {nb_nan_median}')"
   ]
  },
  {
   "cell_type": "markdown",
   "id": "9cafab5d-93ab-4e24-b9f7-89fd9122e488",
   "metadata": {
    "id": "UjzpPUhyDxT8"
   },
   "source": [
    "<a id='previous_application_strong_correl'></a>\n",
    "\n",
    "### <span style='background:#0075bc'><span style='color:white'>previous_application remove strong correlations</span></span>"
   ]
  },
  {
   "cell_type": "markdown",
   "id": "373ecfe9-9e48-42cc-a505-3d7d38de3ebd",
   "metadata": {},
   "source": [
    "In this section:\n",
    " * The correlation between the numerical variables, Pearson's coefficient, is calculated.\n",
    " * The maximum accepted correlation threshold is set at 0.8.\n",
    " * The variables whose correlation exceeds the maximum threshold are drop."
   ]
  },
  {
   "cell_type": "code",
   "execution_count": 72,
   "id": "a09ee5ec-aacb-4488-a1ba-ffeeb4ccac9f",
   "metadata": {},
   "outputs": [
    {
     "name": "stdout",
     "output_type": "stream",
     "text": [
      "previous_application_afteng\n",
      "-------------------------------------------------------------------------------\n",
      "Memory usage of dataframe is: 672.49 MB\n",
      "Memory usage after optimization is : 450.81 MB\n",
      "Reduction of 33.0%\n",
      "-------------------------------------------------------------------------------\n"
     ]
    }
   ],
   "source": [
    "# ----------------------------------------------------\n",
    "# Memory improvement by reducing the size of objects\n",
    "# ----------------------------------------------------\n",
    "print(\"previous_application_afteng\")\n",
    "previous_application_afteng =\\\n",
    "    tools_preprocessing.reduce_mem_usage(previous_application_afteng,\n",
    "                                         verbose=True)"
   ]
  },
  {
   "cell_type": "code",
   "execution_count": 73,
   "id": "ec311082-58cf-4168-859b-ee67858c8d05",
   "metadata": {
    "tags": []
   },
   "outputs": [
    {
     "name": "stderr",
     "output_type": "stream",
     "text": [
      "2:17: E225 missing whitespace around operator\n"
     ]
    },
    {
     "name": "stdout",
     "output_type": "stream",
     "text": [
      "There are 339 variables with strong correlation to be removed.\n",
      "\n",
      "Original shape : (338857, 399)\n",
      "Post correlation managing shape : (338857, 60)\n"
     ]
    }
   ],
   "source": [
    "# Managing strong correlations in train dataset\n",
    "cols_corr_a_supp=[]\n",
    "previous_application_afteng, cols_corr_a_supp = tools_dataframe\\\n",
    "    .managing_correlations(previous_application_afteng)"
   ]
  },
  {
   "cell_type": "code",
   "execution_count": 74,
   "id": "cda5fc73-c894-49aa-8082-dc0a7894a2c9",
   "metadata": {},
   "outputs": [],
   "source": [
    "# Saving previous_application_afteng ready for ML\n",
    "path_sav_prev_app_ML = \\\n",
    "    '../P7_scoring_credit/preprocessing/previous_application_ML.pkl'\n",
    "with open(path_sav_prev_app_ML, 'wb') as f:\n",
    "    pickle.dump(previous_application_afteng, f, pickle.HIGHEST_PROTOCOL)"
   ]
  },
  {
   "cell_type": "markdown",
   "id": "da8895af-af97-455e-b6cd-4ae2a7bb4c59",
   "metadata": {},
   "source": [
    "**Loading previous_application data after pre-processing and feature engineering**"
   ]
  },
  {
   "cell_type": "code",
   "execution_count": 75,
   "id": "298081e3-dd77-4e51-8d0b-247d15bba40c",
   "metadata": {},
   "outputs": [
    {
     "data": {
      "text/plain": [
       "(338857, 60)"
      ]
     },
     "execution_count": 75,
     "metadata": {},
     "output_type": "execute_result"
    }
   ],
   "source": [
    "# Loading previous_application\n",
    "with open(path_sav_prev_app_ML, 'rb') as df_previous_application_ML:\n",
    "    previous_application_ML = pickle.load(df_previous_application_ML)\n",
    "previous_application_ML.shape"
   ]
  },
  {
   "cell_type": "markdown",
   "id": "02660327-18e5-427f-951e-b945f455d152",
   "metadata": {},
   "source": [
    "**Freeing up the memory**"
   ]
  },
  {
   "cell_type": "code",
   "execution_count": 76,
   "id": "841e3bd2-ca59-4cb8-913e-27ac9514acfe",
   "metadata": {
    "tags": []
   },
   "outputs": [],
   "source": [
    "path_processing = '../P7_scoring_credit/preprocessing/'\n",
    "files_to_remove = ['previous_application_aftproc.pkl',\n",
    "                   'previous_application_afteng.pkl']\n",
    "\n",
    "for file in files_to_remove:\n",
    "    os.remove(path_processing+file)"
   ]
  },
  {
   "cell_type": "code",
   "execution_count": 77,
   "id": "74191577-b730-4c93-9dae-6e2d360b633d",
   "metadata": {},
   "outputs": [],
   "source": [
    "del previous_application, previous_application_afteng"
   ]
  },
  {
   "cell_type": "markdown",
   "id": "8543f51e-e70b-473e-9bb8-3a650dc9c51a",
   "metadata": {
    "id": "UjzpPUhyDxT8",
    "tags": []
   },
   "source": [
    "<a id='POS_CASH_balance_preprocessing'></a>\n",
    "\n",
    "## <span style='background:#0085dd'><span style='color:white'>POS_CASH_balance</span></span>"
   ]
  },
  {
   "cell_type": "markdown",
   "id": "1264c1a3-193d-4582-89b5-f1cfc51f73bf",
   "metadata": {},
   "source": [
    "This table contains the Monthly Balance Snapshots of previous Point of Sales and Cash Loans that the applicant had with Home Credit Group. The table contains columns like the status of contract, the number of installments left, etc.\n",
    "\n",
    "<ol><li>Similar to bureau_balance table, this table also has time based features. So we start off by computing the EDAs on CNT_INSTALMENT and CNT_INSTALMENT_FUTURE features. </li>\n",
    "    <li>We create some domain based features next.</li>\n",
    "    <li>We then aggregate the data over SK_ID_PREV. For this aggregation, we do it in 3 ways. Firstly we aggregate the whole data over SK_ID_PREV. We also aggregate the data for last 2 years separately and rest of the years separately. Finally, we also aggregate the data different Contract types, i.e. Active and Completed.</li>\n",
    "    <li>Next, we aggregate the data over SK_ID_CURR, for it to be merged with main table.</li></ol>"
   ]
  },
  {
   "cell_type": "code",
   "execution_count": 78,
   "id": "dfeed5c5-1f20-44b2-94cc-e7ddcc1100bf",
   "metadata": {
    "tags": []
   },
   "outputs": [],
   "source": [
    "# -----------------------------\n",
    "# Files upload:\n",
    "# -----------------------------\n",
    "# Data from previous loans at Home Credit\n",
    "POS_CASH_balance = pd.read_csv('POS_CASH_balance.csv',\n",
    "                               low_memory=False, encoding='utf-8')"
   ]
  },
  {
   "cell_type": "code",
   "execution_count": 79,
   "id": "4fc77a43-80ed-4257-b4df-97423677dad4",
   "metadata": {},
   "outputs": [
    {
     "name": "stdout",
     "output_type": "stream",
     "text": [
      "POS_CASH_balance\n",
      "-------------------------------------------------------------------------------\n",
      "Memory usage of dataframe is: 610.43 MB\n",
      "Memory usage after optimization is : 276.60 MB\n",
      "Reduction of 54.7%\n",
      "-------------------------------------------------------------------------------\n"
     ]
    }
   ],
   "source": [
    "# ----------------------------------------------------\n",
    "# Memory improvement by reducing the size of objects\n",
    "# ----------------------------------------------------\n",
    "print(\"POS_CASH_balance\")\n",
    "POS_CASH_balance =\\\n",
    "    tools_preprocessing.reduce_mem_usage(POS_CASH_balance, verbose=True)"
   ]
  },
  {
   "cell_type": "markdown",
   "id": "5572b54a-24fb-4a86-91fe-41576af866cd",
   "metadata": {},
   "source": [
    "No outliers were found for this file during the exploratory analysis."
   ]
  },
  {
   "cell_type": "code",
   "execution_count": 80,
   "id": "888f0948-d907-4702-9c5c-9f98bd692c95",
   "metadata": {},
   "outputs": [],
   "source": [
    "# Saving bureau_balance after preprocessing\n",
    "path_sav_POS_CASH_aftproc = \\\n",
    "    '../P7_scoring_credit/preprocessing/POS_CASH_aftproc.pkl'\n",
    "with open(path_sav_POS_CASH_aftproc, 'wb') as f:\n",
    "    pickle.dump(POS_CASH_balance, f, pickle.HIGHEST_PROTOCOL)"
   ]
  },
  {
   "cell_type": "markdown",
   "id": "8a3cabee-1d07-45ee-adfd-e1a76b6e03b3",
   "metadata": {
    "id": "UjzpPUhyDxT8"
   },
   "source": [
    "<a id='POS_CASH_balance_feat_eng'></a>\n",
    "\n",
    "### <span style='background:#0075bc'><span style='color:white'>POS_CASH_balance feature engineering</span></span>"
   ]
  },
  {
   "cell_type": "code",
   "execution_count": 81,
   "id": "20eea4c3-375b-4c85-b593-3add24bfe5ea",
   "metadata": {
    "tags": []
   },
   "outputs": [
    {
     "name": "stdout",
     "output_type": "stream",
     "text": [
      "#########################################################\n",
      "#          Pre-processing POS_CASH_balance          #\n",
      "#########################################################\n",
      "\n",
      "Loading the DataFrame, POS_CASH_balance, into memory...\n",
      "Loaded POS_CASH_balance.csv\n",
      "Time Taken to load = 0:00:00.510156\n",
      "\n",
      "Starting Data Cleaning and Feature Engineering...\n",
      "Done.\n",
      "Time Taken = 0:03:19.547942\n",
      "\n",
      "Aggregations over SK_ID_PREV...\n",
      "Done.\n",
      "Time Taken = 0:00:17.172034\n",
      "\n",
      "Aggregation over SK_ID_CURR...\n",
      "\n",
      "Done preprocessing POS_CASH_balance.\n",
      "\n",
      "Initial Size of POS_CASH_balance: (10001358, 8)\n",
      "Size of POS_CASH_balance after Pre-Processing, Feature Engineering and Aggregation: (337252, 188)\n",
      "\n",
      "Total Time Taken = 0:03:41.864547\n",
      "\n",
      "Pickling pre-processed POS_CASH_balance to POS_CASH_balance_afteng.pkl\n",
      "Done.\n",
      "----------------------------------------------------------------------------------------------------\n"
     ]
    }
   ],
   "source": [
    "POS_CASH_balance = tools_feat_engineering\\\n",
    "    .feat_eng_POS_CASH_balance(dump_to_pickle=True).main()"
   ]
  },
  {
   "cell_type": "markdown",
   "id": "aec8bc6b-3381-4d4f-a664-3770330d8fcc",
   "metadata": {
    "id": "UjzpPUhyDxT8"
   },
   "source": [
    "<a id='POS_CASH_balance_missing_values'></a>\n",
    "\n",
    "### <span style='background:#0075bc'><span style='color:white'>POS_CASH_balance assignment missing values</span></span>"
   ]
  },
  {
   "cell_type": "markdown",
   "id": "4c136cf8-1e64-4405-9049-a0f5ddad27a2",
   "metadata": {},
   "source": [
    "* The **missing values** of the **continuous variables** will be therefore imputed by the **median** of each of these variables.\n",
    "* The **missing values** of the **categorical variables** will be therefore imputed by the **mode** of each of these variables."
   ]
  },
  {
   "cell_type": "code",
   "execution_count": 82,
   "id": "78e742bd-d379-47dd-91d3-a556c5bc4a01",
   "metadata": {},
   "outputs": [
    {
     "name": "stderr",
     "output_type": "stream",
     "text": [
      "2:80: E501 line too long (99 > 79 characters)\n"
     ]
    }
   ],
   "source": [
    "# Load de dataset after feature engineering\n",
    "path_sav_POS_CASH_balance_afteng = '../P7_scoring_credit/preprocessing/POS_CASH_balance_afteng.pkl'\n",
    "\n",
    "with open(path_sav_POS_CASH_balance_afteng, 'rb') as f:\n",
    "    POS_CASH_balance_afteng = pickle.load(f)"
   ]
  },
  {
   "cell_type": "markdown",
   "id": "0bc6157d-5e84-4b53-a093-4c946e71a4e3",
   "metadata": {},
   "source": [
    "\n",
    "**Continuous variables**"
   ]
  },
  {
   "cell_type": "code",
   "execution_count": 83,
   "id": "e312256c-b09b-4fae-8712-37ab2994ced1",
   "metadata": {
    "run_control": {
     "marked": false
    }
   },
   "outputs": [],
   "source": [
    "# Continous variables\n",
    "cols_num_poscash = POS_CASH_balance_afteng.select_dtypes(include=[np.number])\\\n",
    "                                    .columns.to_list()"
   ]
  },
  {
   "cell_type": "code",
   "execution_count": 84,
   "id": "10844f66-c49e-4f0c-ae9e-a5c2d46b8bc6",
   "metadata": {
    "run_control": {
     "marked": false
    }
   },
   "outputs": [
    {
     "name": "stdout",
     "output_type": "stream",
     "text": [
      "Number of nan in POS_CASH_balance_afteng before median assignment : 12465974\n"
     ]
    },
    {
     "name": "stderr",
     "output_type": "stream",
     "text": [
      "3:80: E501 line too long (93 > 79 characters)\n",
      "10:80: E501 line too long (92 > 79 characters)\n"
     ]
    },
    {
     "name": "stdout",
     "output_type": "stream",
     "text": [
      "Number of nan in POS_CASH_balance_afteng after median assignment : 0\n"
     ]
    }
   ],
   "source": [
    "nb_nan_median = POS_CASH_balance_afteng[cols_num_poscash]\\\n",
    "                .isna().sum().sum()\n",
    "print(f'Number of nan in POS_CASH_balance_afteng before median assignment : {nb_nan_median}')\n",
    "POS_CASH_balance_afteng.fillna(POS_CASH_balance_afteng[cols_num_poscash]\n",
    "                               .median(), inplace=True)\n",
    "\n",
    "# Validation\n",
    "nb_nan_median = POS_CASH_balance_afteng[cols_num_poscash]\\\n",
    "                  .isna().sum().sum()\n",
    "print(f'Number of nan in POS_CASH_balance_afteng after median assignment : {nb_nan_median}')"
   ]
  },
  {
   "cell_type": "code",
   "execution_count": 85,
   "id": "169cebc7-18df-49e7-bd7c-0bd5b47bff50",
   "metadata": {},
   "outputs": [],
   "source": [
    "# Saving POS_CASH_balance_afteng\n",
    "with open(path_sav_POS_CASH_balance_afteng, 'wb') as f:\n",
    "    pickle.dump(POS_CASH_balance_afteng, f, pickle.HIGHEST_PROTOCOL)"
   ]
  },
  {
   "cell_type": "markdown",
   "id": "2cd1d3e0-91a5-4ffb-9df3-1507068e9d60",
   "metadata": {
    "id": "UjzpPUhyDxT8"
   },
   "source": [
    "<a id='POS_CASH_balance_strong_correl'></a>\n",
    "\n",
    "### <span style='background:#0075bc'><span style='color:white'>POS_CASH_balance remove strong correlations</span></span>"
   ]
  },
  {
   "cell_type": "markdown",
   "id": "b02306b9-c21e-4a7a-ba29-10c632a5e376",
   "metadata": {},
   "source": [
    "In this section:\n",
    " * The correlation between the numerical variables, Pearson's coefficient, is calculated.\n",
    " * The maximum accepted correlation threshold is set at 0.8.\n",
    " * The variables whose correlation exceeds the maximum threshold are drop."
   ]
  },
  {
   "cell_type": "code",
   "execution_count": 86,
   "id": "059d4e8d-e867-49d2-bd90-ae26368f0a26",
   "metadata": {},
   "outputs": [],
   "source": [
    "# Load file\n",
    "with open(path_sav_POS_CASH_balance_afteng, 'rb') as f:\n",
    "    POS_CASH_balance_afteng = pickle.load(f)"
   ]
  },
  {
   "cell_type": "code",
   "execution_count": 87,
   "id": "71d1777b-7789-4dad-92e6-9cc41ffbf499",
   "metadata": {},
   "outputs": [
    {
     "name": "stdout",
     "output_type": "stream",
     "text": [
      "POS_CASH_balance_afteng\n",
      "-------------------------------------------------------------------------------\n",
      "Memory usage of dataframe is: 358.94 MB\n",
      "Memory usage after optimization is : 244.44 MB\n",
      "Reduction of 31.9%\n",
      "-------------------------------------------------------------------------------\n"
     ]
    }
   ],
   "source": [
    "# ----------------------------------------------------\n",
    "# Memory improvement by reducing the size of objects\n",
    "# ----------------------------------------------------\n",
    "print(\"POS_CASH_balance_afteng\")\n",
    "POS_CASH_balance_afteng =\\\n",
    "    tools_preprocessing.reduce_mem_usage(POS_CASH_balance_afteng, verbose=True)"
   ]
  },
  {
   "cell_type": "code",
   "execution_count": 88,
   "id": "e3f9711e-7a16-4ff3-b587-b71ece3e8ecf",
   "metadata": {
    "tags": []
   },
   "outputs": [
    {
     "name": "stderr",
     "output_type": "stream",
     "text": [
      "2:17: E225 missing whitespace around operator\n"
     ]
    },
    {
     "name": "stdout",
     "output_type": "stream",
     "text": [
      "There are 167 variables with strong correlation to be removed.\n",
      "\n",
      "Original shape : (337252, 188)\n",
      "Post correlation managing shape : (337252, 21)\n"
     ]
    }
   ],
   "source": [
    "# Managing strong correlations in train dataset\n",
    "cols_corr_a_supp=[]\n",
    "POS_CASH_balance_afteng, cols_corr_a_supp = tools_dataframe\\\n",
    "    .managing_correlations(POS_CASH_balance_afteng)"
   ]
  },
  {
   "cell_type": "code",
   "execution_count": 89,
   "id": "b80d3a27-2a62-4bb0-92db-1cd8a3936fa1",
   "metadata": {},
   "outputs": [],
   "source": [
    "# Saving POS_CASH_balance_afteng ready for ML\n",
    "path_sav_POS_CASH_balance_ML = \\\n",
    "    '../P7_scoring_credit/preprocessing/POS_CASH_balance_ML.pkl'\n",
    "with open(path_sav_POS_CASH_balance_ML, 'wb') as f:\n",
    "    pickle.dump(POS_CASH_balance_afteng, f, pickle.HIGHEST_PROTOCOL)"
   ]
  },
  {
   "cell_type": "markdown",
   "id": "44ab4acb-e91e-44b4-8c7f-6610ec0e25a0",
   "metadata": {},
   "source": [
    "**Loading POS_CASH_balance data after pre-processing and feature engineering**"
   ]
  },
  {
   "cell_type": "code",
   "execution_count": 90,
   "id": "2925f479-e17a-496a-a831-5de093c87433",
   "metadata": {},
   "outputs": [
    {
     "data": {
      "text/plain": [
       "(337252, 21)"
      ]
     },
     "execution_count": 90,
     "metadata": {},
     "output_type": "execute_result"
    }
   ],
   "source": [
    "# Loading POS_CASH_balance after pre-processing and feature enfineering\n",
    "with open(path_sav_POS_CASH_balance_ML, 'rb') as df_POS_CASH_balance_ML:\n",
    "    POS_CASH_balance_ML = pickle.load(df_POS_CASH_balance_ML)\n",
    "POS_CASH_balance_ML.shape"
   ]
  },
  {
   "cell_type": "markdown",
   "id": "23bec7a6-70b1-4917-af67-a52c17991f8c",
   "metadata": {},
   "source": [
    "**Freeing up the memory**"
   ]
  },
  {
   "cell_type": "code",
   "execution_count": 91,
   "id": "a748df9c-1a4d-4e77-8d5b-842fe93c991f",
   "metadata": {
    "tags": []
   },
   "outputs": [],
   "source": [
    "path_processing = '../P7_scoring_credit/preprocessing/'\n",
    "files_to_remove = ['POS_CASH_aftproc.pkl', 'POS_CASH_balance_afteng.pkl']\n",
    "\n",
    "for file in files_to_remove:\n",
    "    os.remove(path_processing+file)"
   ]
  },
  {
   "cell_type": "code",
   "execution_count": 92,
   "id": "37b2c6ad-220a-4c3e-83e6-c4c46f0be03a",
   "metadata": {},
   "outputs": [],
   "source": [
    "del POS_CASH_balance, POS_CASH_balance_afteng"
   ]
  },
  {
   "cell_type": "markdown",
   "id": "9fc10034-4a89-43fc-8b06-10d395e2dc6d",
   "metadata": {
    "id": "UjzpPUhyDxT8",
    "tags": []
   },
   "source": [
    "<a id='installments_payments_preprocessing'></a>\n",
    "\n",
    "## <span style='background:#0085dd'><span style='color:white'>installments_payments</span></span>"
   ]
  },
  {
   "cell_type": "markdown",
   "id": "6962c383-ada5-4f92-9f9d-3e20eb79ccb4",
   "metadata": {},
   "source": [
    "This table contains the details about each installment of client's previous credits with Home Credit Group.\n",
    "<ol><li>We start by sorting the data first by SK_ID_CURR and SK_ID_PREV, and then by NUM_INSTALMENT_NUMBER. This brings the latest installments in the end.</li>\n",
    "    <li>We create some features, such as the number of days the payment was delayed, the difference in amount of payment required vs paid, etc.</li>\n",
    "    <li>Next we aggregate these rows over SK_ID_PREV, such that each client's previous loan gets one row. These aggregations are done in three ways, first overall aggregations, second we aggregate only those installments which were in the last 365 days, and lastly, we aggregate the first 5 installments of every loan. This will help us to capture the starting behaviour, the latest behaviour and the overall behaviour of the client's installments payments.</li>\n",
    "    <li>Now to merge this table with main table, we aggregate the data over SK_ID_CURR.</li>\n",
    "    </ol>"
   ]
  },
  {
   "cell_type": "code",
   "execution_count": 93,
   "id": "9aceff18-5b1f-4b6a-b248-a425be910983",
   "metadata": {},
   "outputs": [],
   "source": [
    "# -----------------------------\n",
    "# Files upload:\n",
    "# -----------------------------\n",
    "# Data from previous loans at Home Credit\n",
    "installments_payments = pd.read_csv('installments_payments.csv',\n",
    "                                    low_memory=False, encoding='utf-8')"
   ]
  },
  {
   "cell_type": "code",
   "execution_count": 94,
   "id": "c5176b67-b93b-430d-9423-b43f32a411e5",
   "metadata": {},
   "outputs": [
    {
     "name": "stdout",
     "output_type": "stream",
     "text": [
      "installments_payments\n",
      "-------------------------------------------------------------------------------\n",
      "Memory usage of dataframe is: 830.41 MB\n",
      "Memory usage after optimization is : 389.25 MB\n",
      "Reduction of 53.1%\n",
      "-------------------------------------------------------------------------------\n"
     ]
    }
   ],
   "source": [
    "# ----------------------------------------------------\n",
    "# Memory improvement by reducing the size of objects\n",
    "# ----------------------------------------------------\n",
    "print(\"installments_payments\")\n",
    "installments_payments =\\\n",
    "    tools_preprocessing.reduce_mem_usage(installments_payments, verbose=True)"
   ]
  },
  {
   "cell_type": "markdown",
   "id": "5972e66b-ab22-4f94-801a-77f9c1d77154",
   "metadata": {},
   "source": [
    "No outliers were found for this file during the exploratory analysis."
   ]
  },
  {
   "cell_type": "code",
   "execution_count": 95,
   "id": "73b85c65-114a-4793-8090-b7c8b00eced4",
   "metadata": {},
   "outputs": [],
   "source": [
    "# Saving bureau_balance after preprocessing\n",
    "path_sav_instpay_aftproc = \\\n",
    "    '../P7_scoring_credit/preprocessing/installments_payments_aftproc.pkl'\n",
    "with open(path_sav_instpay_aftproc, 'wb') as f:\n",
    "    pickle.dump(installments_payments, f, pickle.HIGHEST_PROTOCOL)"
   ]
  },
  {
   "cell_type": "markdown",
   "id": "b657f5b3-547e-410b-a93c-9232acc58f58",
   "metadata": {
    "id": "UjzpPUhyDxT8"
   },
   "source": [
    "<a id='installments_payments_feat_eng'></a>\n",
    "\n",
    "### <span style='background:#0075bc'><span style='color:white'>installments_payments feature engineering</span></span>"
   ]
  },
  {
   "cell_type": "code",
   "execution_count": 96,
   "id": "ae3b84b0-f7bc-43d6-8c64-dcd122fc8b08",
   "metadata": {
    "tags": []
   },
   "outputs": [
    {
     "name": "stdout",
     "output_type": "stream",
     "text": [
      "#####################################################\n",
      "#        Pre-processing installments_payments       #\n",
      "#####################################################\n",
      "\n",
      "Loading the DataFrame installments_payments into memory...\n",
      "Loaded installments_payments.csv\n",
      "Time Taken to load = 0:00:00.140796\n",
      "\n",
      "Starting Data Pre-processing and Feature Engineering...\n",
      "Done.\n",
      "Time Taken = 0:00:12.296481\n",
      "\n",
      "Performing Aggregations over SK_ID_PREV...\n",
      "Done.\n",
      "Time Taken = 0:00:16.071969\n",
      "\n",
      "Aggregations over SK_ID_CURR...\n",
      "\n",
      "Done preprocessing installments_payments.\n",
      "\n",
      "Initial Size of installments_payments: (13605401, 8)\n",
      "Size of installments_payments after Pre-Processing, Feature Engineering and Aggregation: (339587, 101)\n",
      "\n",
      "Total Time Taken = 0:00:31.349135\n",
      "\n",
      "Pickling pre-processed installments_payments to install_pay_afteng.pkl\n",
      "Done.\n",
      "----------------------------------------------------------------------------------------------------\n"
     ]
    }
   ],
   "source": [
    "installments_payments = tools_feat_engineering\\\n",
    "    .feat_eng_installments_payments(dump_to_pickle=True).main()"
   ]
  },
  {
   "cell_type": "markdown",
   "id": "f77f2103-938f-4ce2-8bf9-80c938d8b02f",
   "metadata": {
    "id": "UjzpPUhyDxT8"
   },
   "source": [
    "<a id='installments_payments_missing_values'></a>\n",
    "\n",
    "### <span style='background:#0075bc'><span style='color:white'>installments_payments assignment missing values</span></span>"
   ]
  },
  {
   "cell_type": "markdown",
   "id": "10f4f9c6-b976-45ea-8592-1f5e69d17e6c",
   "metadata": {},
   "source": [
    "* The **missing values** of the **continuous variables** will be therefore imputed by the **median** of each of these variables.\n",
    "* The **missing values** of the **categorical variables** will be therefore imputed by the **mode** of each of these variables."
   ]
  },
  {
   "cell_type": "code",
   "execution_count": 97,
   "id": "dd215ea0-911d-4389-ba5c-908f1a06e68a",
   "metadata": {},
   "outputs": [],
   "source": [
    "# Load de dataset after feature engineering\n",
    "path_sav_install_pay_afteng = \\\n",
    "    '../P7_scoring_credit/preprocessing/install_pay_afteng.pkl'\n",
    "\n",
    "with open(path_sav_install_pay_afteng, 'rb') as f:\n",
    "    install_pay_afteng = pickle.load(f)"
   ]
  },
  {
   "cell_type": "markdown",
   "id": "7fd6f417-a220-48c8-8a68-e2a4a0a05ee2",
   "metadata": {},
   "source": [
    "\n",
    "**Continuous variables**"
   ]
  },
  {
   "cell_type": "code",
   "execution_count": 98,
   "id": "d9b91639-58e5-464f-adc6-b4a14373e4d0",
   "metadata": {
    "run_control": {
     "marked": false
    }
   },
   "outputs": [
    {
     "name": "stderr",
     "output_type": "stream",
     "text": [
      "4:22: E131 continuation line unaligned for hanging indent\n"
     ]
    }
   ],
   "source": [
    "# Continous variables\n",
    "cols_num_poscash = install_pay_afteng\\\n",
    "                    .select_dtypes(include=[np.number])\\\n",
    "                     .columns.to_list()"
   ]
  },
  {
   "cell_type": "code",
   "execution_count": 99,
   "id": "8322dcfd-09d8-4eb1-bd10-4d9f8d1bf437",
   "metadata": {
    "run_control": {
     "marked": false
    }
   },
   "outputs": [
    {
     "name": "stdout",
     "output_type": "stream",
     "text": [
      "Number of nan in installments_payments before median assignment : 2089073\n"
     ]
    },
    {
     "name": "stderr",
     "output_type": "stream",
     "text": [
      "3:80: E501 line too long (91 > 79 characters)\n",
      "4:80: E501 line too long (86 > 79 characters)\n",
      "7:80: E501 line too long (87 > 79 characters)\n"
     ]
    },
    {
     "name": "stdout",
     "output_type": "stream",
     "text": [
      "Number of nan in install_pay_afteng after median assignment : 0\n"
     ]
    }
   ],
   "source": [
    "nb_nan_median = install_pay_afteng[cols_num_poscash]\\\n",
    "                .isna().sum().sum()\n",
    "print(f'Number of nan in installments_payments before median assignment : {nb_nan_median}')\n",
    "install_pay_afteng.fillna(install_pay_afteng[cols_num_poscash].median(), inplace=True)\n",
    "# Validation\n",
    "nb_nan_median = install_pay_afteng[cols_num_poscash].isna().sum().sum()\n",
    "print(f'Number of nan in install_pay_afteng after median assignment : {nb_nan_median}')"
   ]
  },
  {
   "cell_type": "code",
   "execution_count": 100,
   "id": "4cc35c7d-3b70-493a-917b-899c110de48d",
   "metadata": {},
   "outputs": [],
   "source": [
    "# Saving install_pay_afteng\n",
    "with open(path_sav_install_pay_afteng, 'wb') as f:\n",
    "    pickle.dump(install_pay_afteng, f, pickle.HIGHEST_PROTOCOL)"
   ]
  },
  {
   "cell_type": "markdown",
   "id": "36a3a3b7-226b-47a4-9d4d-71bcbf9f9d9b",
   "metadata": {
    "id": "UjzpPUhyDxT8"
   },
   "source": [
    "<a id='installments_payments_strong_correl'></a>\n",
    "\n",
    "### <span style='background:#0075bc'><span style='color:white'>installments_payments remove strong correlations</span></span>"
   ]
  },
  {
   "cell_type": "markdown",
   "id": "5ee2252c-e4d5-4545-bea8-38da9dfb3f0d",
   "metadata": {},
   "source": [
    "In this section:\n",
    " * The correlation between the numerical variables, Pearson's coefficient, is calculated.\n",
    " * The maximum accepted correlation threshold is set at 0.8.\n",
    " * The variables whose correlation exceeds the maximum threshold are drop."
   ]
  },
  {
   "cell_type": "code",
   "execution_count": 101,
   "id": "b3a0a1aa-5454-4b02-adb3-b5d3d29e60ba",
   "metadata": {},
   "outputs": [],
   "source": [
    "# Load file\n",
    "with open(path_sav_install_pay_afteng, 'rb') as f:\n",
    "    install_pay_afteng = pickle.load(f)"
   ]
  },
  {
   "cell_type": "code",
   "execution_count": 102,
   "id": "ad26a74a-00c3-4661-bdc0-5ba1d31acd31",
   "metadata": {},
   "outputs": [
    {
     "name": "stdout",
     "output_type": "stream",
     "text": [
      "install_pay_afteng\n",
      "-------------------------------------------------------------------------------\n",
      "Memory usage of dataframe is: 151.56 MB\n",
      "Memory usage after optimization is : 131.16 MB\n",
      "Reduction of 13.5%\n",
      "-------------------------------------------------------------------------------\n"
     ]
    }
   ],
   "source": [
    "# ----------------------------------------------------\n",
    "# Memory improvement by reducing the size of objects\n",
    "# ----------------------------------------------------\n",
    "print(\"install_pay_afteng\")\n",
    "install_pay_afteng =\\\n",
    "    tools_preprocessing.reduce_mem_usage(install_pay_afteng, verbose=True)"
   ]
  },
  {
   "cell_type": "code",
   "execution_count": 103,
   "id": "08dc0552-1175-4fcb-9359-3c684e69d163",
   "metadata": {
    "tags": []
   },
   "outputs": [
    {
     "name": "stderr",
     "output_type": "stream",
     "text": [
      "2:17: E225 missing whitespace around operator\n",
      "3:80: E501 line too long (96 > 79 characters)\n"
     ]
    },
    {
     "name": "stdout",
     "output_type": "stream",
     "text": [
      "There are 73 variables with strong correlation to be removed.\n",
      "\n",
      "Original shape : (339587, 101)\n",
      "Post correlation managing shape : (339587, 28)\n"
     ]
    }
   ],
   "source": [
    "# Managing strong correlations in train dataset\n",
    "cols_corr_a_supp=[]\n",
    "install_pay_afteng, cols_corr_a_supp = tools_dataframe.managing_correlations(install_pay_afteng)"
   ]
  },
  {
   "cell_type": "code",
   "execution_count": 104,
   "id": "b9689771-f18d-4e03-81e2-2b91f8d6de7d",
   "metadata": {},
   "outputs": [],
   "source": [
    "# Saving install_pay_afteng ready for ML\n",
    "path_sav_installments_payments_ML = \\\n",
    "    '../P7_scoring_credit/preprocessing/installments_payments_ML.pkl'\n",
    "with open(path_sav_installments_payments_ML, 'wb') as f:\n",
    "    pickle.dump(install_pay_afteng, f, pickle.HIGHEST_PROTOCOL)"
   ]
  },
  {
   "cell_type": "markdown",
   "id": "81cbd2ff-e0b2-4169-8949-ea8aa5b22eb5",
   "metadata": {},
   "source": [
    "**Loading installments_payments data after pre-processing and feature engineering**"
   ]
  },
  {
   "cell_type": "code",
   "execution_count": 105,
   "id": "cb55d0b0-af2d-4d90-ab34-bc352943d0a0",
   "metadata": {},
   "outputs": [
    {
     "data": {
      "text/plain": [
       "(339587, 28)"
      ]
     },
     "execution_count": 105,
     "metadata": {},
     "output_type": "execute_result"
    },
    {
     "name": "stderr",
     "output_type": "stream",
     "text": [
      "2:80: E501 line too long (82 > 79 characters)\n"
     ]
    }
   ],
   "source": [
    "# Loading bureau_merged\n",
    "with open(path_sav_installments_payments_ML, 'rb') as df_installments_payments_ML:\n",
    "    installments_payments_ML = pickle.load(df_installments_payments_ML)\n",
    "installments_payments_ML.shape"
   ]
  },
  {
   "cell_type": "markdown",
   "id": "3e273d2f-0182-4268-baf5-ea8ba057d358",
   "metadata": {},
   "source": [
    "**Freeing up the memory**"
   ]
  },
  {
   "cell_type": "code",
   "execution_count": 106,
   "id": "a4d10167-98d8-4415-88a8-9d5b5f0a1039",
   "metadata": {
    "tags": []
   },
   "outputs": [],
   "source": [
    "path_processing = '../P7_scoring_credit/preprocessing/'\n",
    "files_to_remove = ['installments_payments_aftproc.pkl',\n",
    "                   'install_pay_afteng.pkl']\n",
    "\n",
    "for file in files_to_remove:\n",
    "    os.remove(path_processing+file)"
   ]
  },
  {
   "cell_type": "code",
   "execution_count": 107,
   "id": "cb768570-5ad3-4c41-bb8b-4c26ea19c0b4",
   "metadata": {},
   "outputs": [],
   "source": [
    "del installments_payments, install_pay_afteng"
   ]
  },
  {
   "cell_type": "markdown",
   "id": "8f1107b0-70c5-4efb-93e4-ce8022937aaa",
   "metadata": {
    "id": "UjzpPUhyDxT8",
    "tags": []
   },
   "source": [
    "<a id='cc_balance_preprocessing'></a>\n",
    "\n",
    "## <span style='background:#0085dd'><span style='color:white'>credit_card_balance</span></span>"
   ]
  },
  {
   "cell_type": "markdown",
   "id": "07053bab-e6a5-426e-8002-b3ddc76ecd61",
   "metadata": {},
   "source": [
    "This table contains information about the previous credit cards that the client had with Home Credit Group.\n",
    "\n",
    "<ol><li>We start off with removing an erroneous value, and then we proceed to feature engineering.</li>\n",
    "    <li>We create some domain based features such as total drawings, number of drawings, balance to limit ratio, payment done to minimum payment required difference, etc.</li>\n",
    "    <li>This table also contains all these data monthwise, so we calculate the EDAs for some of the features of this table too.</li>\n",
    "    <li>For aggregations, we first aggregate over SK_ID_PREV. Here we aggregate on three bases. Firstly, we do overall aggregations. We also do aggregations for last 2 years separately and the rest of the years. Finally we aggregate over SK_ID_PREV for categorical variable NAME_CONTRACT_TYPE. </li>\n",
    "    <li>For aggregation over SK_ID_CURR, we saw from the EDA that most of the current clients just had 1 credit card previously, so we do simple mean aggregations over SK_ID_CURR.</li></ol>"
   ]
  },
  {
   "cell_type": "code",
   "execution_count": 108,
   "id": "2886981c-20d4-4f14-a0ef-65d178e2a98a",
   "metadata": {},
   "outputs": [],
   "source": [
    "# -----------------------------\n",
    "# Files upload:\n",
    "# -----------------------------\n",
    "# Data from previous loans at Home Credit\n",
    "cc_balance = pd.read_csv('credit_card_balance.csv',\n",
    "                         low_memory=False, encoding='utf-8')"
   ]
  },
  {
   "cell_type": "code",
   "execution_count": 109,
   "id": "d8eaa0a7-8719-4d25-9d82-4b7ac496fdec",
   "metadata": {},
   "outputs": [
    {
     "name": "stdout",
     "output_type": "stream",
     "text": [
      "cc_balance\n",
      "-------------------------------------------------------------------------------\n",
      "Memory usage of dataframe is: 673.88 MB\n",
      "Memory usage after optimization is : 318.63 MB\n",
      "Reduction of 52.7%\n",
      "-------------------------------------------------------------------------------\n"
     ]
    }
   ],
   "source": [
    "# ----------------------------------------------------\n",
    "# Memory improvement by reducing the size of objects\n",
    "# ----------------------------------------------------\n",
    "print(\"cc_balance\")\n",
    "cc_balance =\\\n",
    "    tools_preprocessing.reduce_mem_usage(cc_balance, verbose=True)"
   ]
  },
  {
   "cell_type": "code",
   "execution_count": 110,
   "id": "7d081140-18b3-4023-b36a-9ba0e0096e06",
   "metadata": {
    "colab": {
     "base_uri": "https://localhost:8080/",
     "height": 300
    },
    "id": "HRTp5goApIcW",
    "outputId": "87a80077-c5b1-43e0-9fa3-7dd2eb67dc3c",
    "tags": []
   },
   "outputs": [
    {
     "data": {
      "image/png": "[encoded data removed]",
      "text/plain": [
       "<Figure size 640x480 with 1 Axes>"
      ]
     },
     "metadata": {},
     "output_type": "display_data"
    }
   ],
   "source": [
    "# --------------------\n",
    "# Variable types\n",
    "# --------------------\n",
    "info_cc_balance =\\\n",
    "    tools_dataframe.complet_description(cc_balance)\n",
    "tools_dataframe.visu_dataTypes(info_cc_balance)"
   ]
  },
  {
   "cell_type": "markdown",
   "id": "840d7a6a-06f2-4286-867b-5f01038898a2",
   "metadata": {
    "id": "UjzpPUhyDxT8"
   },
   "source": [
    "<a id='cc_balance_preproc'></a>\n",
    "\n",
    "### <span style='background:#0075bc'><span style='color:white'>credit_card_balance preprocessing</span></span>"
   ]
  },
  {
   "cell_type": "markdown",
   "id": "e6a026bf-d257-4b32-b1ea-f2378ee692fd",
   "metadata": {},
   "source": [
    "**DAYS_FIRST_DRAWING**"
   ]
  },
  {
   "cell_type": "code",
   "execution_count": 111,
   "id": "5ca30ea3-8f9d-4710-830b-ed4725ad689c",
   "metadata": {},
   "outputs": [
    {
     "name": "stderr",
     "output_type": "stream",
     "text": [
      "2:34: E211 whitespace before '['\n"
     ]
    }
   ],
   "source": [
    "# there is one abruptly large value for AMT_PAYMENT_CURRENT\n",
    "cc_balance['AMT_PAYMENT_CURRENT']\\\n",
    "    [cc_balance['AMT_PAYMENT_CURRENT'] > 4000000] = np.nan"
   ]
  },
  {
   "cell_type": "markdown",
   "id": "623e1668-c9ec-4b5c-b00f-48019abaf165",
   "metadata": {},
   "source": [
    "**MISSING_VALS_TOTAL_CC**"
   ]
  },
  {
   "cell_type": "code",
   "execution_count": 112,
   "id": "4f12928a-f858-4e92-ac94-ce658301a46a",
   "metadata": {},
   "outputs": [],
   "source": [
    "cc_balance['MISSING_VALS_TOTAL_CC'] = cc_balance.isna().sum(axis=1)"
   ]
  },
  {
   "cell_type": "markdown",
   "id": "ccd3b1f0-bcef-478b-9658-c54e01442ca5",
   "metadata": {},
   "source": [
    "**DAYS_FIRST_DRAWING**"
   ]
  },
  {
   "cell_type": "code",
   "execution_count": 113,
   "id": "3be63144-fe09-4109-a9d5-37fbe85b24d6",
   "metadata": {},
   "outputs": [],
   "source": [
    "# making the MONTHS_BALANCE Positive\n",
    "cc_balance['MONTHS_BALANCE'] = np.abs(cc_balance['MONTHS_BALANCE'])"
   ]
  },
  {
   "cell_type": "code",
   "execution_count": 114,
   "id": "71aabf96-c5e2-4e00-8f44-ad6a4c2e40bb",
   "metadata": {},
   "outputs": [
    {
     "name": "stdout",
     "output_type": "stream",
     "text": [
      "cc_balance\n",
      "-------------------------------------------------------------------------------\n",
      "Memory usage of dataframe is: 347.93 MB\n",
      "Memory usage after optimization is : 322.29 MB\n",
      "Reduction of 7.4%\n",
      "-------------------------------------------------------------------------------\n"
     ]
    }
   ],
   "source": [
    "# ----------------------------------------------------\n",
    "# Memory improvement by reducing the size of objects\n",
    "# ----------------------------------------------------\n",
    "print(\"cc_balance\")\n",
    "cc_balance =\\\n",
    "    tools_preprocessing.reduce_mem_usage(cc_balance, verbose=True)"
   ]
  },
  {
   "cell_type": "code",
   "execution_count": 115,
   "id": "d1ce0263-e774-45fd-ba58-bfec86e016bc",
   "metadata": {},
   "outputs": [],
   "source": [
    "# Saving cc_balance after preprocessing\n",
    "path_sav_cc_balance_aftproc = \\\n",
    "    '../P7_scoring_credit/preprocessing/cc_balance_aftproc.pkl'\n",
    "with open(path_sav_cc_balance_aftproc, 'wb') as f:\n",
    "    pickle.dump(cc_balance, f, pickle.HIGHEST_PROTOCOL)"
   ]
  },
  {
   "cell_type": "markdown",
   "id": "463dd075-e97e-4aac-ad8f-9c4e43b99f4b",
   "metadata": {
    "id": "UjzpPUhyDxT8"
   },
   "source": [
    "<a id='cc_balance_feat_eng'></a>\n",
    "\n",
    "### <span style='background:#0075bc'><span style='color:white'>credit_card_balance feature engineering</span></span>"
   ]
  },
  {
   "cell_type": "code",
   "execution_count": 116,
   "id": "4730a30f-6b4e-44b6-9fc4-fa6435bd0a1a",
   "metadata": {},
   "outputs": [
    {
     "name": "stdout",
     "output_type": "stream",
     "text": [
      "#########################################################\n",
      "#        Pre-processing credit_card_balance.csv         #\n",
      "#########################################################\n",
      "\n",
      "Loading the DataFrame, credit_card_balance.csv, into memory...\n",
      "Loaded credit_card_balance.csv\n",
      "Time Taken to load = 0:00:00.263265\n",
      "\n",
      "Starting Preprocessing and Feature Engineering...\n",
      "Done.\n",
      "Time Taken = 0:00:49.841144\n",
      "\n",
      "Aggregating the DataFrame, first over SK_ID_PREv, then over SK_ID_CURR\n",
      "\n",
      "Done preprocessing credit_card_balance.\n",
      "\n",
      "Initial Size of credit_card_balance: (3840312, 24)\n",
      "Size of credit_card_balance after Pre-Processing, Feature Engineering and Aggregation: (103558, 249)\n",
      "\n",
      "Total Time Taken = 0:01:00.084939\n",
      "\n",
      "Pickling pre-processed credit_card_balance to cc_balance_afteng.pkl\n",
      "Done.\n",
      "----------------------------------------------------------------------------------------------------\n"
     ]
    }
   ],
   "source": [
    "cc_balance = tools_feat_engineering\\\n",
    "    .feat_eng_cc_balance(dump_to_pickle=True).main()"
   ]
  },
  {
   "cell_type": "markdown",
   "id": "62617b02-70bf-4ac9-a804-b40e156d045d",
   "metadata": {
    "id": "UjzpPUhyDxT8"
   },
   "source": [
    "<a id='cc_balance_missing_values'></a>\n",
    "\n",
    "### <span style='background:#0075bc'><span style='color:white'>credit_card_balance assignment missing values</span></span>"
   ]
  },
  {
   "cell_type": "markdown",
   "id": "2b1709b5-c6d0-4147-bece-49316bc93886",
   "metadata": {},
   "source": [
    "* The **missing values** of the **continuous variables** will be therefore imputed by the **median** of each of these variables.\n",
    "* The **missing values** of the **categorical variables** will be therefore imputed by the **mode** of each of these variables."
   ]
  },
  {
   "cell_type": "code",
   "execution_count": 117,
   "id": "7623d415-6e70-441f-befb-3ce9903f4495",
   "metadata": {},
   "outputs": [],
   "source": [
    "# Load de dataset after feature engineering\n",
    "path_sav_cc_balance_afteng = \\\n",
    "    '../P7_scoring_credit/preprocessing/cc_balance_afteng.pkl'\n",
    "\n",
    "with open(path_sav_cc_balance_afteng, 'rb') as f:\n",
    "    cc_balance_afteng = pickle.load(f)"
   ]
  },
  {
   "cell_type": "markdown",
   "id": "7f16a682-bec8-4c13-8965-3b50bf3014b1",
   "metadata": {},
   "source": [
    "\n",
    "**Continuous variables**"
   ]
  },
  {
   "cell_type": "code",
   "execution_count": 118,
   "id": "ceb6225c-8cd1-452d-bc3d-dcc5fde7cb38",
   "metadata": {
    "run_control": {
     "marked": false
    }
   },
   "outputs": [],
   "source": [
    "# Continous variables\n",
    "cols_num_cc_bal = cc_balance_afteng.select_dtypes(include=[np.number])\\\n",
    "                                    .columns.to_list()"
   ]
  },
  {
   "cell_type": "code",
   "execution_count": 119,
   "id": "17527da9-d35f-4106-8384-2c8ec9e33545",
   "metadata": {
    "run_control": {
     "marked": false
    }
   },
   "outputs": [
    {
     "name": "stdout",
     "output_type": "stream",
     "text": [
      "Number of nan in cc_balance_afteng before median assignment : 8503730\n"
     ]
    },
    {
     "name": "stderr",
     "output_type": "stream",
     "text": [
      "2:80: E501 line too long (87 > 79 characters)\n",
      "8:80: E501 line too long (86 > 79 characters)\n"
     ]
    },
    {
     "name": "stdout",
     "output_type": "stream",
     "text": [
      "Number of nan in cc_balance_afteng after median assignment : 0\n"
     ]
    }
   ],
   "source": [
    "nb_nan_median = cc_balance_afteng[cols_num_cc_bal].isna().sum().sum()\n",
    "print(f'Number of nan in cc_balance_afteng before median assignment : {nb_nan_median}')\n",
    "cc_balance_afteng.fillna(cc_balance_afteng[cols_num_cc_bal].median(),\n",
    "                         inplace=True)\n",
    "\n",
    "# Validation\n",
    "nb_nan_median = cc_balance_afteng[cols_num_cc_bal].isna().sum().sum()\n",
    "print(f'Number of nan in cc_balance_afteng after median assignment : {nb_nan_median}')"
   ]
  },
  {
   "cell_type": "code",
   "execution_count": 120,
   "id": "7b55a639-574c-4c1e-b4a6-e10fbdb56556",
   "metadata": {},
   "outputs": [],
   "source": [
    "# Saving cc_balance_afteng\n",
    "with open(path_sav_cc_balance_afteng, 'wb') as f:\n",
    "    pickle.dump(cc_balance_afteng, f, pickle.HIGHEST_PROTOCOL)"
   ]
  },
  {
   "cell_type": "markdown",
   "id": "f9f9ab04-0f59-41c9-8ae7-dd18cae839fd",
   "metadata": {
    "id": "UjzpPUhyDxT8"
   },
   "source": [
    "<a id='cc_balance_strong_correl'></a>\n",
    "\n",
    "### <span style='background:#0075bc'><span style='color:white'>credit_card_balance remove strong correlations</span></span>"
   ]
  },
  {
   "cell_type": "markdown",
   "id": "5cc3ba88-c791-4fb6-a108-863e696fcbe3",
   "metadata": {},
   "source": [
    "In this section:\n",
    " * The correlation between the numerical variables, Pearson's coefficient, is calculated.\n",
    " * The maximum accepted correlation threshold is set at 0.8.\n",
    " * The variables whose correlation exceeds the maximum threshold are drop."
   ]
  },
  {
   "cell_type": "code",
   "execution_count": 121,
   "id": "c32dc4be-bcd5-4d8e-96d8-dfd097ba000e",
   "metadata": {},
   "outputs": [],
   "source": [
    "# Load file\n",
    "with open(path_sav_cc_balance_afteng, 'rb') as f:\n",
    "    cc_balance_afteng = pickle.load(f)"
   ]
  },
  {
   "cell_type": "code",
   "execution_count": 122,
   "id": "e667179a-97c6-442f-a893-17dc4381d1af",
   "metadata": {},
   "outputs": [
    {
     "name": "stdout",
     "output_type": "stream",
     "text": [
      "cc_balance_afteng\n",
      "-------------------------------------------------------------------------------\n",
      "Memory usage of dataframe is: 152.88 MB\n",
      "Memory usage after optimization is : 98.37 MB\n",
      "Reduction of 35.7%\n",
      "-------------------------------------------------------------------------------\n"
     ]
    }
   ],
   "source": [
    "# ----------------------------------------------------\n",
    "# Memory improvement by reducing the size of objects\n",
    "# ----------------------------------------------------\n",
    "print(\"cc_balance_afteng\")\n",
    "cc_balance_afteng =\\\n",
    "    tools_preprocessing.reduce_mem_usage(cc_balance_afteng, verbose=True)"
   ]
  },
  {
   "cell_type": "code",
   "execution_count": 123,
   "id": "d51f4da0-312f-4d7a-ac13-0cf332be7105",
   "metadata": {
    "tags": []
   },
   "outputs": [
    {
     "name": "stderr",
     "output_type": "stream",
     "text": [
      "2:17: E225 missing whitespace around operator\n"
     ]
    },
    {
     "name": "stdout",
     "output_type": "stream",
     "text": [
      "There are 182 variables with strong correlation to be removed.\n",
      "\n",
      "Original shape : (103558, 249)\n",
      "Post correlation managing shape : (103558, 67)\n"
     ]
    }
   ],
   "source": [
    "# Managing strong correlations in train dataset\n",
    "cols_corr_a_supp=[]\n",
    "cc_balance_afteng, cols_corr_a_supp = tools_dataframe\\\n",
    "    .managing_correlations(cc_balance_afteng)"
   ]
  },
  {
   "cell_type": "code",
   "execution_count": 124,
   "id": "e5c6f0e1-f870-4a64-9e69-ecce972123dd",
   "metadata": {},
   "outputs": [],
   "source": [
    "# Saving cc_balance_afteng ready for ML\n",
    "path_sav_cc_balance_ML = \\\n",
    "    '../P7_scoring_credit/preprocessing/cc_balance_ML.pkl'\n",
    "with open(path_sav_cc_balance_ML, 'wb') as f:\n",
    "    pickle.dump(cc_balance_afteng, f, pickle.HIGHEST_PROTOCOL)"
   ]
  },
  {
   "cell_type": "markdown",
   "id": "ea953977-1444-4764-ad6c-e14730a1c601",
   "metadata": {},
   "source": [
    "**Loading cc_balance_afteng data after pre-processing and feature engineering**"
   ]
  },
  {
   "cell_type": "code",
   "execution_count": 125,
   "id": "0bb47e58-19b6-47f2-ad26-951e9587e59f",
   "metadata": {},
   "outputs": [
    {
     "data": {
      "text/plain": [
       "(103558, 67)"
      ]
     },
     "execution_count": 125,
     "metadata": {},
     "output_type": "execute_result"
    }
   ],
   "source": [
    "# Loading credit_card balance ready for ML\n",
    "with open(path_sav_cc_balance_ML, 'rb') as df_cc_balance_ML:\n",
    "    cc_balance_ML = pickle.load(df_cc_balance_ML)\n",
    "cc_balance_ML.shape"
   ]
  },
  {
   "cell_type": "markdown",
   "id": "0422bafd-9082-4ed3-8914-98a0b8ac5db0",
   "metadata": {},
   "source": [
    "**Freeing up the memory**"
   ]
  },
  {
   "cell_type": "code",
   "execution_count": 126,
   "id": "d1295c0b-ece8-4012-b4bc-b5bf146315f4",
   "metadata": {
    "tags": []
   },
   "outputs": [],
   "source": [
    "path_processing = '../P7_scoring_credit/preprocessing/'\n",
    "files_to_remove = ['cc_balance_aftproc.pkl', 'cc_balance_afteng.pkl']\n",
    "\n",
    "for file in files_to_remove:\n",
    "    os.remove(path_processing+file)"
   ]
  },
  {
   "cell_type": "code",
   "execution_count": 127,
   "id": "30e77172-dc05-4076-aebb-082d29e597e8",
   "metadata": {},
   "outputs": [],
   "source": [
    "del cc_balance, cc_balance_afteng"
   ]
  },
  {
   "cell_type": "markdown",
   "id": "7aac2289-8e4b-434a-920c-a01f9f230eb7",
   "metadata": {
    "id": "2f3cf119-1479-4a49-b958-bb22d513aa1f",
    "tags": []
   },
   "source": [
    "<a id='previous_loans_other_than_Home_Credit'></a>\n",
    "\n",
    "---\n",
    "---\n",
    "\n",
    "# <span style='background:#2994ff'><span style='color:white'>**Data from previous loans in financial organisations other than Home Credit Group** </span></span>\n"
   ]
  },
  {
   "cell_type": "markdown",
   "id": "033a7ace-f654-43ad-b86b-2c9d2c7dafa4",
   "metadata": {},
   "source": [
    "\n",
    "The 2 files concerned by previous loans in financial organisations other than Home Credit Group are :\n",
    "* **bureau_balance.csv**\n",
    "* **bureau.csv**\n"
   ]
  },
  {
   "cell_type": "markdown",
   "id": "b49f4404-35d7-45c0-999a-54a2a6c9f3a9",
   "metadata": {},
   "source": [
    "These tables contain the information related to the client's previous credits which were not with Home Credit Group, and were reported by Credit Bureau Department. \n",
    "<ol><li><b>bureau_balance</b>\n",
    "    <ol><li>First off, the bureau_balance table contains three fields, i.e. SK_ID_BUREAU, MONTHS_BALANCE and STATUS.</li>\n",
    "        <li>Since the Status follows somewhat ordinal behaviour, we start by label encoding it.</li>\n",
    "        <li>Next, some features are created such as weighted status, which is obtained by dividing the status by the MONTHS_BALANCE.</li>\n",
    "        <li>Since the data contains the timeseries, we also calculate the Exponential Weighted Moving Average of the Status and Weighted Status fields.</li>\n",
    "        <li>Finally, we aggregate the data over SK_ID_BUREAU, in such a way that we first aggregate it over all the data, and after that we also aggregate over the last 2 years. These 2 years would depict the more recent behaviour of the clients.</li>\n",
    "        <li>The aggregations performed are based on Domain Knowledge, such as mean, min, max, sum, count, etc. For EDA features, we only take the last/most recent values, as they somewhat contain the trend of all the previous values.</li></ol>\n",
    "    <li><b>bureau</b>\n",
    "    <ol><li>Firstly, we merge the bureau table with the aggregated bureau_balance table from previous step, on SK_ID_BUREAU.</li>\n",
    "        <li>We replace some erroneous values with NaN values. We saw some loans dating back to as long as 100 years ago. We believe they wouldn't really tell much about client's recent behaviour, so we remove them and only keep the loans in the period of 50 years.</li>\n",
    "        <li>We create some features by multiplications, divisions, subtractions of raw features, based on domain knowledge, such as Credit duration, annutiy to credit ratio, etc.</li>\n",
    "        <li>The categorical features are one-hot encoded.\n",
    "        <li>To merge these to main table, i.e. application_train, we aggregate this table over SK_ID_CURR. We perform the aggregations again in two ways. We aggregate the credits based on the CREDIT_ACTIVE category, where we aggregate for two most popular categories separately, i.e. Active, and Closed. Later we aggregate for the remaining categories too, and merge these. We aggregated the whole data overall too. The aggregations performed are sum, mean, min, max, last, etc.</li>\n",
    "        </ol></li></ol>"
   ]
  },
  {
   "cell_type": "code",
   "execution_count": 128,
   "id": "2c4670a8-053c-403e-8817-390aafe41d76",
   "metadata": {},
   "outputs": [],
   "source": [
    "# -----------------------------\n",
    "# Files upload:\n",
    "# -----------------------------\n",
    "\n",
    "# Data from previous loans in financial organisations other than Home Credit\n",
    "bureau_balance = pd.read_csv('bureau_balance.csv', low_memory=False,\n",
    "                             encoding='utf-8')\n",
    "bureau = pd.read_csv('bureau.csv', low_memory=False, encoding='utf-8')"
   ]
  },
  {
   "cell_type": "markdown",
   "id": "b2c10a64-6935-42b3-9c16-59184ef2f89d",
   "metadata": {
    "id": "UjzpPUhyDxT8",
    "tags": []
   },
   "source": [
    "<a id='bureau_balance_preprocessing'></a>\n",
    "\n",
    "## <span style='background:#0085dd'><span style='color:white'>bureau_balance</span></span>"
   ]
  },
  {
   "cell_type": "markdown",
   "id": "be8fc664-9aab-4bab-a1f0-e153731e1fe6",
   "metadata": {},
   "source": [
    "This file contains information about monthly balances of previous loans in the Credit Bureau.\n",
    "This table has one row for each month of history of each previous credit reported to the Credit Bureau - i.e. the table has (#loans in sample * # of relative previous credits * # of months where we have an observable history for previous credits) rows."
   ]
  },
  {
   "cell_type": "code",
   "execution_count": 129,
   "id": "e349b1fb-a6da-46a0-b382-1490231a98d7",
   "metadata": {},
   "outputs": [
    {
     "name": "stdout",
     "output_type": "stream",
     "text": [
      "bureau_balance\n",
      "-------------------------------------------------------------------------------\n",
      "Memory usage of dataframe is: 624.85 MB\n",
      "Memory usage after optimization is : 338.46 MB\n",
      "Reduction of 45.8%\n",
      "-------------------------------------------------------------------------------\n"
     ]
    }
   ],
   "source": [
    "# ----------------------------------------------------\n",
    "# Memory improvement by reducing the size of objects\n",
    "# ----------------------------------------------------\n",
    "print(\"bureau_balance\")\n",
    "bureau_balance =\\\n",
    "    tools_preprocessing.reduce_mem_usage(bureau_balance, verbose=True)"
   ]
  },
  {
   "cell_type": "markdown",
   "id": "3ad87921-fa32-4658-a218-4c31b5b738c6",
   "metadata": {
    "id": "UjzpPUhyDxT8"
   },
   "source": [
    "<a id='bureau_balance_preproc'></a>\n",
    "\n",
    "### <span style='background:#0075bc'><span style='color:white'>bureau_balance preprocessing</span></span>"
   ]
  },
  {
   "cell_type": "markdown",
   "id": "ce83bf21-4e88-47b2-94cb-091aa424e30f",
   "metadata": {},
   "source": [
    "Statut du prêt du Credit Bureau durant le mois (actif ou fermé ou DPD0-30...) :\n",
    "- C => fermé\n",
    "- X => statut inconnu\n",
    "- 0 => pas de DPD\n",
    "- 1 => DPD maximal durant le mois entre 1-30\n",
    "- 2 signifie DPD 31-60\n",
    "- ../.\n",
    "- 5 ==> DPD 120+ ou vendu ou amorti ]\n",
    "\n",
    "L'encodage consistera à donner à la valeur 0 puis d'incrémenter les valeurs, en plaçant X, la valeur inconnue au milieu du tableau des valeurs en lui donnant le bénéfice du doute et 0 pour 0 pas de défaillance."
   ]
  },
  {
   "cell_type": "code",
   "execution_count": 130,
   "id": "9332a848-bc46-4bf8-b889-b69cbd5eef47",
   "metadata": {
    "run_control": {
     "marked": false
    }
   },
   "outputs": [],
   "source": [
    "# as we saw from EDA, bureau_balance has a variable called STATUS,\n",
    "# which describes about the status of loan.\n",
    "# it has 7 labels, we will label encode them\n",
    "# so we give C as 0, and rest increasing\n",
    "# also we will give X the benefit of doubt and keep it as middle value\n",
    "dict_for_status = {'C': 0, '0': 1, '1': 2, '2': 3, 'X': 4, '3': 5, '4': 6,\n",
    "                   '5': 7}\n",
    "bureau_balance['STATUS'] = bureau_balance['STATUS'].map(dict_for_status)"
   ]
  },
  {
   "cell_type": "code",
   "execution_count": 131,
   "id": "eaa9a4cc-aad5-490d-9711-d9a7e4af39fb",
   "metadata": {},
   "outputs": [],
   "source": [
    "# converting months to positive\n",
    "bureau_balance['MONTHS_BALANCE'] = np.abs(bureau_balance['MONTHS_BALANCE'])\n",
    "# weighing the status with the months_balance\n",
    "bureau_balance['WEIGHTED_STATUS'] = \\\n",
    "    bureau_balance.STATUS / (bureau_balance.MONTHS_BALANCE + 1)"
   ]
  },
  {
   "cell_type": "code",
   "execution_count": 132,
   "id": "37fa0f96-2d79-4ad3-a275-16180dc1aa96",
   "metadata": {},
   "outputs": [
    {
     "name": "stdout",
     "output_type": "stream",
     "text": [
      "bureau_balance\n",
      "-------------------------------------------------------------------------------\n",
      "Memory usage of dataframe is: 546.74 MB\n",
      "Memory usage after optimization is : 260.35 MB\n",
      "Reduction of 52.4%\n",
      "-------------------------------------------------------------------------------\n"
     ]
    }
   ],
   "source": [
    "# ----------------------------------------------------\n",
    "# Memory improvement by reducing the size of objects\n",
    "# ----------------------------------------------------\n",
    "print(\"bureau_balance\")\n",
    "bureau_balance =\\\n",
    "    tools_preprocessing.reduce_mem_usage(bureau_balance, verbose=True)"
   ]
  },
  {
   "cell_type": "code",
   "execution_count": 133,
   "id": "105bb860-06a8-4510-a7e9-a94ed7262e8d",
   "metadata": {},
   "outputs": [],
   "source": [
    "# Saving bureau_balance after preprocessing\n",
    "path_sav_bureaubal_aftproc = \\\n",
    "    '../P7_scoring_credit/preprocessing/bureaubal_aftproc.pkl'\n",
    "with open(path_sav_bureaubal_aftproc, 'wb') as f:\n",
    "    pickle.dump(bureau_balance, f, pickle.HIGHEST_PROTOCOL)"
   ]
  },
  {
   "cell_type": "markdown",
   "id": "4c584e03-b497-4bea-b565-bc18c9da0245",
   "metadata": {
    "id": "UjzpPUhyDxT8"
   },
   "source": [
    "<a id='bureau_balance_feat_eng'></a>\n",
    "\n",
    "### <span style='background:#0075bc'><span style='color:white'>bureau_balance feature engineering</span></span>"
   ]
  },
  {
   "cell_type": "code",
   "execution_count": 134,
   "id": "2022f2f8-23e3-4609-a68b-ef426c7159da",
   "metadata": {},
   "outputs": [
    {
     "name": "stdout",
     "output_type": "stream",
     "text": [
      "########################################################\n",
      "#          Feature engineering bureau_balance          #\n",
      "########################################################\n",
      "\n",
      "Loading the DataFrame, bureau_balance, into memory...\n",
      "Loaded bureau_balance.csv\n",
      "Time Taken to load = 0:00:00.097550\n",
      "\n",
      "Starting Feature Engineering...\n",
      "Halfway through. A little bit more patience...\n",
      "Total Time Elapsed = 0:05:01.490651\n",
      "\n",
      "Pickling bureau_balance after feature engineering to bureau_balance_aft_feat_eng.pkl\n",
      "Done.\n"
     ]
    }
   ],
   "source": [
    "bureau_balance = tools_feat_engineering.feat_eng_bureau_balance(\n",
    "    dump_to_pickle=True).main()"
   ]
  },
  {
   "cell_type": "markdown",
   "id": "ef752d42-79ec-4fb7-af51-8a1ad5d51e63",
   "metadata": {
    "id": "UjzpPUhyDxT8"
   },
   "source": [
    "<a id='bureau_balance_assing_missing_values'></a>\n",
    "\n",
    "### <span style='background:#0075bc'><span style='color:white'>bureau_balance assignment missing values</span></span>"
   ]
  },
  {
   "cell_type": "markdown",
   "id": "41f247ea-33f6-453f-8e92-15c35cf31868",
   "metadata": {},
   "source": [
    "* The **missing values** of the **continuous variables** will be therefore imputed by the **median** of each of these variables.\n",
    "* The **missing values** of the **categorical variables** will be therefore imputed by the **mode** of each of these variables."
   ]
  },
  {
   "cell_type": "code",
   "execution_count": 135,
   "id": "1321d52f-314a-4f6e-b144-03a70059181f",
   "metadata": {},
   "outputs": [],
   "source": [
    "# Load de dataset after feature engineering\n",
    "path_sav_bureaubal_aft_feateng = \\\n",
    "    '../P7_scoring_credit/preprocessing/bureau_balance_aft_feat_eng.pkl'\n",
    "\n",
    "with open(path_sav_bureaubal_aft_feateng, 'rb') as f:\n",
    "    aggr_bureau_balance = pickle.load(f)"
   ]
  },
  {
   "cell_type": "markdown",
   "id": "ac09acc3-77fb-4f51-8896-825cee5352fb",
   "metadata": {},
   "source": [
    "\n",
    "**Continuous variables**"
   ]
  },
  {
   "cell_type": "code",
   "execution_count": 136,
   "id": "17bad114-0be6-4a74-9b4e-af6954a759ec",
   "metadata": {
    "run_control": {
     "marked": false
    }
   },
   "outputs": [],
   "source": [
    "# Continous variables\n",
    "cols_num_bureaub = aggr_bureau_balance.select_dtypes(include=[np.number])\\\n",
    "                                    .columns.to_list()"
   ]
  },
  {
   "cell_type": "code",
   "execution_count": 137,
   "id": "7b0cfa9f-48c1-488d-a45a-6135ae039328",
   "metadata": {
    "run_control": {
     "marked": false
    }
   },
   "outputs": [
    {
     "name": "stdout",
     "output_type": "stream",
     "text": [
      "Number of nan in aggr_bureau_balance before median assignment : 6829060\n"
     ]
    },
    {
     "name": "stderr",
     "output_type": "stream",
     "text": [
      "2:80: E501 line too long (89 > 79 characters)\n",
      "8:80: E501 line too long (88 > 79 characters)\n"
     ]
    },
    {
     "name": "stdout",
     "output_type": "stream",
     "text": [
      "Number of nan in aggr_bureau_balance after median assignment : 0\n"
     ]
    }
   ],
   "source": [
    "nb_nan_median = aggr_bureau_balance[cols_num_bureaub].isna().sum().sum()\n",
    "print(f'Number of nan in aggr_bureau_balance before median assignment : {nb_nan_median}')\n",
    "aggr_bureau_balance.fillna(aggr_bureau_balance[cols_num_bureaub].median(),\n",
    "                           inplace=True)\n",
    "\n",
    "# Validation\n",
    "nb_nan_median = aggr_bureau_balance[cols_num_bureaub].isna().sum().sum()\n",
    "print(f'Number of nan in aggr_bureau_balance after median assignment : {nb_nan_median}')"
   ]
  },
  {
   "cell_type": "code",
   "execution_count": 138,
   "id": "d254322f-2d3f-4385-9f0d-71367b19a47a",
   "metadata": {},
   "outputs": [],
   "source": [
    "# Saving aggr_bureau_balance\n",
    "with open(path_sav_bureaubal_aft_feateng, 'wb') as f:\n",
    "    pickle.dump(aggr_bureau_balance, f, pickle.HIGHEST_PROTOCOL)"
   ]
  },
  {
   "cell_type": "markdown",
   "id": "5850cf61-902c-481c-baf6-8f7ef37d017d",
   "metadata": {},
   "source": [
    "**Freeing up the memory**"
   ]
  },
  {
   "cell_type": "code",
   "execution_count": 139,
   "id": "36553b51-2ec6-4942-ab6f-401b51048ad0",
   "metadata": {
    "tags": []
   },
   "outputs": [],
   "source": [
    "path_processing = '../P7_scoring_credit/preprocessing/'\n",
    "files_to_remove = ['bureaubal_aftproc.pkl']\n",
    "\n",
    "for file in files_to_remove:\n",
    "    os.remove(path_processing+file)"
   ]
  },
  {
   "cell_type": "code",
   "execution_count": 140,
   "id": "1c613cca-c21c-46d5-af64-bea7cad7a46d",
   "metadata": {},
   "outputs": [],
   "source": [
    "del bureau_balance, aggr_bureau_balance"
   ]
  },
  {
   "cell_type": "markdown",
   "id": "2d8a931e-9f50-4ba7-94c6-851970e7475e",
   "metadata": {
    "id": "UjzpPUhyDxT8",
    "tags": []
   },
   "source": [
    "<a id='bureau_preprocessing_feat_eng'></a>\n",
    "\n",
    "## <span style='background:#0085dd'><span style='color:white'>bureau</span></span>"
   ]
  },
  {
   "cell_type": "code",
   "execution_count": 141,
   "id": "b29d1eeb-a263-4d7b-a63f-70480e52b910",
   "metadata": {},
   "outputs": [
    {
     "name": "stdout",
     "output_type": "stream",
     "text": [
      "bureau\n",
      "-------------------------------------------------------------------------------\n",
      "Memory usage of dataframe is: 222.62 MB\n",
      "Memory usage after optimization is : 119.49 MB\n",
      "Reduction of 46.3%\n",
      "-------------------------------------------------------------------------------\n"
     ]
    }
   ],
   "source": [
    "# ----------------------------------------------------\n",
    "# Memory improvement by reducing the size of objects\n",
    "# ----------------------------------------------------\n",
    "print(\"bureau\")\n",
    "bureau =\\\n",
    "    tools_preprocessing.reduce_mem_usage(bureau, verbose=True)"
   ]
  },
  {
   "cell_type": "markdown",
   "id": "a3c22467-4dec-41b4-bc98-e7545fbad24f",
   "metadata": {
    "id": "UjzpPUhyDxT8"
   },
   "source": [
    "<a id='bureau'></a>\n",
    "\n",
    "### <span style='background:#0075bc'><span style='color:white'>bureau preprocessing</span></span>"
   ]
  },
  {
   "cell_type": "markdown",
   "id": "01ac1e8f-be5c-4309-b090-6904ea06c29f",
   "metadata": {},
   "source": [
    "<a id='bureau_outliers'></a>\n",
    "\n",
    "---\n",
    "#### <span style='background:#0075bc'><span style='color:white'>bureau outliers</span></span>"
   ]
  },
  {
   "cell_type": "markdown",
   "id": "188b627b-0af6-447b-8d18-c7ff06f4d13f",
   "metadata": {},
   "source": [
    "From the EDA we saw some erroneous values in DAYS Fields, we will remove those there are some loans which ended about very long ago, around 100 years ago.\n",
    "Only those loans which have ended in past 50 years will be retained."
   ]
  },
  {
   "cell_type": "markdown",
   "id": "47439542-9c4a-44c3-a6cd-7a827f10d56b",
   "metadata": {},
   "source": [
    "**DAYS_CREDIT_ENDDATE**"
   ]
  },
  {
   "cell_type": "code",
   "execution_count": 142,
   "id": "8bf681cd-7b2b-40c3-a700-c50dfc35d1a4",
   "metadata": {},
   "outputs": [],
   "source": [
    "# Remove information related to loans that ended more than 50 years ago\n",
    "bureau['DAYS_CREDIT_ENDDATE'][bureau['DAYS_CREDIT_ENDDATE'] > -50*365] = np.nan"
   ]
  },
  {
   "cell_type": "markdown",
   "id": "f61caea2-e781-424d-9198-7d2ac1452838",
   "metadata": {},
   "source": [
    "**DAYS_ENDDATE_FACT**"
   ]
  },
  {
   "cell_type": "code",
   "execution_count": 143,
   "id": "58e9591a-cd5a-43e2-beda-df65e9a83fc0",
   "metadata": {},
   "outputs": [],
   "source": [
    "# Remove information related to loans that ended more than 50 years ago\n",
    "bureau['DAYS_ENDDATE_FACT'][bureau['DAYS_ENDDATE_FACT'] > -50*365] = np.nan"
   ]
  },
  {
   "cell_type": "markdown",
   "id": "411aa503-29c7-40ca-b409-2676f03df880",
   "metadata": {},
   "source": [
    "**DAYS_CREDIT_UPDATE**"
   ]
  },
  {
   "cell_type": "code",
   "execution_count": 144,
   "id": "078d238f-f962-4df4-baa0-3bff5757a239",
   "metadata": {},
   "outputs": [],
   "source": [
    "# Remove information related to loans that ended more than 50 years ago\n",
    "bureau['DAYS_CREDIT_UPDATE'][bureau['DAYS_CREDIT_UPDATE'] > -50*365] = np.nan"
   ]
  },
  {
   "cell_type": "code",
   "execution_count": 145,
   "id": "6f7b3dee-1d2c-4b95-b1c8-6dae9d9e2ab3",
   "metadata": {},
   "outputs": [
    {
     "name": "stdout",
     "output_type": "stream",
     "text": [
      "bureau\n",
      "-------------------------------------------------------------------------------\n",
      "Memory usage of dataframe is: 126.04 MB\n",
      "Memory usage after optimization is : 119.49 MB\n",
      "Reduction of 5.2%\n",
      "-------------------------------------------------------------------------------\n"
     ]
    }
   ],
   "source": [
    "# ----------------------------------------------------\n",
    "# Memory improvement by reducing the size of objects\n",
    "# ----------------------------------------------------\n",
    "print(\"bureau\")\n",
    "bureau = tools_preprocessing.reduce_mem_usage(bureau, verbose=True)"
   ]
  },
  {
   "cell_type": "code",
   "execution_count": 146,
   "id": "6fd3a5ec-8408-4793-aa3f-38b7b4ec9289",
   "metadata": {},
   "outputs": [],
   "source": [
    "# Saving bureau after preprocessing\n",
    "path_sav_bureau_aftproc = \\\n",
    "    '../P7_scoring_credit/preprocessing/bureau_aftproc.pkl'\n",
    "with open(path_sav_bureau_aftproc, 'wb') as f:\n",
    "    pickle.dump(bureau, f, pickle.HIGHEST_PROTOCOL)"
   ]
  },
  {
   "cell_type": "markdown",
   "id": "d6d2d831-88ca-4ecf-80d2-db7dbeedead8",
   "metadata": {
    "id": "UjzpPUhyDxT8"
   },
   "source": [
    "<a id='bureau_feat_eng'></a>\n",
    "\n",
    "### <span style='background:#0075bc'><span style='color:white'>bureau feature engineering</span></span>"
   ]
  },
  {
   "cell_type": "code",
   "execution_count": 147,
   "id": "8f1c550a-c5df-42aa-a09d-eaaec1b5b470",
   "metadata": {},
   "outputs": [
    {
     "name": "stdout",
     "output_type": "stream",
     "text": [
      "###############################################\n",
      "#          Feature engineering bureau         #\n",
      "###############################################\n",
      "\n",
      "Loading the DataFrame, bureau, into memory...\n",
      "Loaded bureau\n",
      "Time Taken to load = 0:00:00.246365\n",
      "\n",
      "Starting Data Cleaning and Feature Engineering...\n",
      "Done preprocessing bureau and bureau_balance.\n",
      "\n",
      "Initial Size of bureau: (1716428, 17)\n",
      "Size of bureau and bureau_balance after Merging, Pre-Processing, Feature Engineering and Aggregation: (305811, 242)\n",
      "\n",
      "Total Time Taken = 0:00:09.355175\n",
      "\n",
      "Pickling pre-processed bureau and bureau_balance to bureau_merged_aggregated.pkl\n",
      "Done.\n",
      "----------------------------------------------------------------------------------------------------\n"
     ]
    }
   ],
   "source": [
    "bureau = tools_feat_engineering.feat_eng_bureau(dump_to_pickle=True).main()"
   ]
  },
  {
   "cell_type": "markdown",
   "id": "72bf35fe-7dff-4ee6-b888-e1df613775d0",
   "metadata": {
    "id": "UjzpPUhyDxT8"
   },
   "source": [
    "<a id='bureau_merged_assing_missing_values'></a>\n",
    "\n",
    "### <span style='background:#0075bc'><span style='color:white'>bureau_merged assignment missing values</span></span>"
   ]
  },
  {
   "cell_type": "markdown",
   "id": "53e5b8a8-9732-4c0c-893c-e679b638d968",
   "metadata": {},
   "source": [
    "* The **missing values** of the **continuous variables** will be therefore imputed by the **median** of each of these variables.\n",
    "* The **missing values** of the **categorical variables** will be therefore imputed by the **mode** of each of these variables."
   ]
  },
  {
   "cell_type": "code",
   "execution_count": 148,
   "id": "2885da12-7d79-4cc5-b6b4-cb4210dfdbdd",
   "metadata": {},
   "outputs": [],
   "source": [
    "# Load de dataset after feature engineering\n",
    "path_sav_bureau_merged_aggregated = \\\n",
    "    '../P7_scoring_credit/preprocessing/bureau_merged_aggregated.pkl'\n",
    "\n",
    "with open(path_sav_bureau_merged_aggregated, 'rb') as f:\n",
    "    bureau_merged_aggregated = pickle.load(f)"
   ]
  },
  {
   "cell_type": "markdown",
   "id": "427299b3-bee6-42b3-a6d4-4b13b5451217",
   "metadata": {},
   "source": [
    "\n",
    "**Continuous variables**"
   ]
  },
  {
   "cell_type": "code",
   "execution_count": 149,
   "id": "beb9e034-89f1-4308-9c35-4cdfd0881d38",
   "metadata": {
    "run_control": {
     "marked": false
    }
   },
   "outputs": [
    {
     "name": "stderr",
     "output_type": "stream",
     "text": [
      "4:26: E131 continuation line unaligned for hanging indent\n"
     ]
    }
   ],
   "source": [
    "# Continous variables\n",
    "cols_num_bureaumerg = bureau_merged_aggregated\\\n",
    "                        .select_dtypes(include=[np.number])\\\n",
    "                         .columns.to_list()"
   ]
  },
  {
   "cell_type": "code",
   "execution_count": 150,
   "id": "cdad8365-d975-456b-9864-12c6336176ff",
   "metadata": {
    "run_control": {
     "marked": false
    }
   },
   "outputs": [
    {
     "name": "stdout",
     "output_type": "stream",
     "text": [
      "Number of nan in bureau_merged_aggregated before median assignment : 42700301\n"
     ]
    },
    {
     "name": "stderr",
     "output_type": "stream",
     "text": [
      "3:80: E501 line too long (94 > 79 characters)\n",
      "4:78: E502 the backslash is redundant between brackets\n",
      "9:80: E501 line too long (93 > 79 characters)\n"
     ]
    },
    {
     "name": "stdout",
     "output_type": "stream",
     "text": [
      "Number of nan in bureau_merged_aggregated after median assignment : 7033653\n"
     ]
    }
   ],
   "source": [
    "nb_nan_median = bureau_merged_aggregated[cols_num_bureaumerg]\\\n",
    "                .isna().sum().sum()\n",
    "print(f'Number of nan in bureau_merged_aggregated before median assignment : {nb_nan_median}')\n",
    "bureau_merged_aggregated.fillna(bureau_merged_aggregated[cols_num_bureaumerg]\\\n",
    "                                .median(), inplace=True)\n",
    "# Validation\n",
    "nb_nan_median = bureau_merged_aggregated[cols_num_bureaumerg]\\\n",
    "                  .isna().sum().sum()\n",
    "print(f'Number of nan in bureau_merged_aggregated after median assignment : {nb_nan_median}')"
   ]
  },
  {
   "cell_type": "markdown",
   "id": "839f32e8-4eac-43ab-8407-64f64c38080c",
   "metadata": {},
   "source": [
    "**Categorical variables**"
   ]
  },
  {
   "cell_type": "code",
   "execution_count": 151,
   "id": "41441e6f-b339-494f-bd14-afac4e31c022",
   "metadata": {
    "run_control": {
     "marked": false
    }
   },
   "outputs": [
    {
     "data": {
      "text/plain": [
       "[]"
      ]
     },
     "execution_count": 151,
     "metadata": {},
     "output_type": "execute_result"
    }
   ],
   "source": [
    "# Categorical variables\n",
    "cols_cat_bureaumerg = bureau_merged_aggregated\\\n",
    "        .select_dtypes(exclude=[np.number])\\\n",
    "        .columns.to_list()\n",
    "cols_cat_bureaumerg"
   ]
  },
  {
   "cell_type": "code",
   "execution_count": 152,
   "id": "3136460d-482c-4c37-90b1-8265ece1cf0d",
   "metadata": {},
   "outputs": [],
   "source": [
    "# Saving bureau_merged_aggregated\n",
    "with open(path_sav_bureaubal_aft_feateng, 'wb') as f:\n",
    "    pickle.dump(bureau_merged_aggregated, f, pickle.HIGHEST_PROTOCOL)"
   ]
  },
  {
   "cell_type": "markdown",
   "id": "26b9bfe6-526d-455d-85a6-0533b3057ab4",
   "metadata": {},
   "source": [
    "**Freeing up the memory**"
   ]
  },
  {
   "cell_type": "code",
   "execution_count": 153,
   "id": "d32be829-8792-4275-a75d-6f570617f59c",
   "metadata": {
    "tags": []
   },
   "outputs": [],
   "source": [
    "path_processing = '../P7_scoring_credit/preprocessing/'\n",
    "files_to_remove = ['bureau_balance_aft_feat_eng.pkl']\n",
    "\n",
    "for file in files_to_remove:\n",
    "    os.remove(path_processing+file)"
   ]
  },
  {
   "cell_type": "markdown",
   "id": "b3e88d13-dc07-4bba-8e8d-2e6e3b2bc3ba",
   "metadata": {
    "id": "UjzpPUhyDxT8"
   },
   "source": [
    "<a id='bureau_balance_bureau_strong_correl'></a>\n",
    "\n",
    "## <span style='background:#0085dd'><span style='color:white'>bureau merged strong correlations</span></span>"
   ]
  },
  {
   "cell_type": "markdown",
   "id": "6cf47519-38f4-47e2-a65c-bc46d535cc86",
   "metadata": {},
   "source": [
    "In this section:\n",
    " * The correlation between the numerical variables, Pearson's coefficient, is calculated.\n",
    " * The maximum accepted correlation threshold is set at 0.8.\n",
    " * The variables whose correlation exceeds the maximum threshold are drop."
   ]
  },
  {
   "cell_type": "code",
   "execution_count": 154,
   "id": "aa0c261e-41ed-457f-be7b-2aa010145549",
   "metadata": {},
   "outputs": [
    {
     "name": "stdout",
     "output_type": "stream",
     "text": [
      "bureau_merged_aggregated\n",
      "-------------------------------------------------------------------------------\n",
      "Memory usage of dataframe is: 383.80 MB\n"
     ]
    },
    {
     "name": "stderr",
     "output_type": "stream",
     "text": [
      "6:80: E501 line too long (80 > 79 characters)\n"
     ]
    },
    {
     "name": "stdout",
     "output_type": "stream",
     "text": [
      "Memory usage after optimization is : 311.48 MB\n",
      "Reduction of 18.8%\n",
      "-------------------------------------------------------------------------------\n"
     ]
    }
   ],
   "source": [
    "# ----------------------------------------------------\n",
    "# Memory improvement by reducing the size of objects\n",
    "# ----------------------------------------------------\n",
    "print(\"bureau_merged_aggregated\")\n",
    "bureau_merged_aggregated =\\\n",
    "    tools_preprocessing.reduce_mem_usage(bureau_merged_aggregated, verbose=True)"
   ]
  },
  {
   "cell_type": "code",
   "execution_count": 155,
   "id": "094f0393-7faa-4dc2-89df-5252aa14d15e",
   "metadata": {
    "tags": []
   },
   "outputs": [
    {
     "name": "stdout",
     "output_type": "stream",
     "text": [
      "There are 114 variables with strong correlation to be removed.\n",
      "\n",
      "Original shape : (305811, 242)\n",
      "Post correlation managing shape : (305811, 128)\n"
     ]
    }
   ],
   "source": [
    "# Managing strong correlations in train dataset\n",
    "cols_corr_a_supp = []\n",
    "bureau_merged_aggregated, cols_corr_a_supp = tools_dataframe\\\n",
    "    .managing_correlations(bureau_merged_aggregated)"
   ]
  },
  {
   "cell_type": "code",
   "execution_count": 156,
   "id": "438c1979-3791-44d4-8b47-edc1bbdb4d5d",
   "metadata": {},
   "outputs": [],
   "source": [
    "# Saving bureau_merged_aggregated ready for ML\n",
    "path_sav_bureau_ML = \\\n",
    "    '../P7_scoring_credit/preprocessing/bureau_ML.pkl'"
   ]
  },
  {
   "cell_type": "code",
   "execution_count": 157,
   "id": "5b60299e-377c-496f-ae85-61ab96d41659",
   "metadata": {},
   "outputs": [],
   "source": [
    "# Saving bureau_merged_aggregated ready for ML\n",
    "\n",
    "with open(path_sav_bureau_ML, 'wb') as f:\n",
    "    pickle.dump(bureau_merged_aggregated, f, pickle.HIGHEST_PROTOCOL)"
   ]
  },
  {
   "cell_type": "markdown",
   "id": "f779d1ef-76cf-49b1-a99d-1cea438b6846",
   "metadata": {},
   "source": [
    "**Loading bureau data after pre-processing and feature engineering**"
   ]
  },
  {
   "cell_type": "code",
   "execution_count": 158,
   "id": "44b3aed8-bb87-4022-9461-4d996eb22b82",
   "metadata": {
    "tags": []
   },
   "outputs": [
    {
     "data": {
      "text/plain": [
       "(305811, 128)"
      ]
     },
     "execution_count": 158,
     "metadata": {},
     "output_type": "execute_result"
    }
   ],
   "source": [
    "# Loading bureau_merged\n",
    "with open(path_sav_bureau_ML, 'rb') as df_bureau_merged_ML:\n",
    "    bureau_ML = pickle.load(df_bureau_merged_ML)\n",
    "bureau_ML.shape"
   ]
  },
  {
   "cell_type": "markdown",
   "id": "295b5a29-d158-4cea-978f-90f1356ac3a2",
   "metadata": {},
   "source": [
    "**Freeing up the memory**"
   ]
  },
  {
   "cell_type": "code",
   "execution_count": 159,
   "id": "4a9169e6-3d9f-459e-be4a-b72a2500c5b5",
   "metadata": {
    "tags": []
   },
   "outputs": [],
   "source": [
    "path_processing = '../P7_scoring_credit/preprocessing/'\n",
    "files_to_remove = ['bureau_aftproc.pkl', 'bureau_merged_aggregated.pkl']\n",
    "\n",
    "for file in files_to_remove:\n",
    "    os.remove(path_processing+file)"
   ]
  },
  {
   "cell_type": "code",
   "execution_count": 160,
   "id": "f1f69765-edc2-45c7-8670-13fc7955419e",
   "metadata": {},
   "outputs": [],
   "source": [
    "del bureau, bureau_merged_aggregated"
   ]
  },
  {
   "cell_type": "markdown",
   "id": "884de1ea-c01e-437a-af3d-5278b19a5280",
   "metadata": {
    "id": "2f3cf119-1479-4a49-b958-bb22d513aa1f",
    "tags": []
   },
   "source": [
    "<a id='merging_tables'></a>\n",
    "\n",
    "---\n",
    "---\n",
    "\n",
    "# <span style='background:#2994ff'><span style='color:white'>**Merging All Tables** </span></span>\n"
   ]
  },
  {
   "cell_type": "markdown",
   "id": "6465149b-c068-4d0c-aba9-813db8261a94",
   "metadata": {},
   "source": [
    "Now we will merge all the preprocessed tables with the application_train and application_test tables. The merges will be Left Outer Joins, such that all the current applications are preserved, as we have to model on them."
   ]
  },
  {
   "cell_type": "raw",
   "id": "5fb7e1aa-b832-44a2-b44e-cfecf2c2b2b9",
   "metadata": {
    "tags": []
   },
   "source": [
    "# Load de datasets after feature engineering\n",
    "path =  '../P7_scoring_credit/preprocessing/'\n",
    "\n",
    "with open(path + 'application_train_ML.pkl', 'rb') as f:\n",
    "    application_train_ML = pickle.load(f)\n",
    "with open(path + 'application_test_ML.pkl', 'rb') as f:\n",
    "    application_test_ML = pickle.load(f)\n",
    "with open(path + 'bureau_ML.pkl', 'rb') as f:\n",
    "    bureau_ML = pickle.load(f)\n",
    "with open(path + 'previous_application_ML.pkl', 'rb') as f:\n",
    "    previous_application_ML = pickle.load(f)\n",
    "with open(path + 'POS_CASH_balance_ML.pkl', 'rb') as f:\n",
    "    POS_CASH_balance_ML = pickle.load(f)\n",
    "with open(path + 'installments_payments_ML.pkl', 'rb') as f:\n",
    "    installments_payments_ML = pickle.load(f)\n",
    "with open(path + 'cc_balance_ML.pkl', 'rb') as f:\n",
    "    cc_balance_ML = pickle.load(f)"
   ]
  },
  {
   "cell_type": "code",
   "execution_count": 162,
   "id": "b01ca6c1-aac0-450f-a6d2-c9ae828271e9",
   "metadata": {},
   "outputs": [
    {
     "name": "stdout",
     "output_type": "stream",
     "text": [
      "Initial size of train_data (307511, 145)\n",
      "\n",
      "Initial size of test_data (48744, 144)\n"
     ]
    }
   ],
   "source": [
    "print(f\"Initial size of train_data {application_train_ML.shape}\")\n",
    "print(f\"\\nInitial size of test_data {application_test_ML.shape}\")"
   ]
  },
  {
   "cell_type": "code",
   "execution_count": 163,
   "id": "fee0d711-299a-44c3-ab7b-288256884a42",
   "metadata": {
    "ExecuteTime": {
     "end_time": "2020-10-23T09:06:40.873978Z",
     "start_time": "2020-10-23T09:04:28.790785Z"
    }
   },
   "outputs": [
    {
     "name": "stdout",
     "output_type": "stream",
     "text": [
      "-------------------------------------------------------------------------------\n",
      "Memory usage of dataframe is: 531.10 MB\n",
      "Memory usage after optimization is : 525.24 MB\n",
      "Reduction of 1.1%\n",
      "-------------------------------------------------------------------------------\n",
      "-------------------------------------------------------------------------------\n",
      "Memory usage of dataframe is: 84.14 MB\n",
      "Memory usage after optimization is : 83.21 MB\n",
      "Reduction of 1.1%\n",
      "-------------------------------------------------------------------------------\n"
     ]
    }
   ],
   "source": [
    "train_data, test_data = \\\n",
    "    tools_preprocessing.merge_all_tables(application_train_ML,\n",
    "                                         application_test_ML,\n",
    "                                         bureau_ML,\n",
    "                                         previous_application_ML,\n",
    "                                         POS_CASH_balance_ML,\n",
    "                                         installments_payments_ML,\n",
    "                                         cc_balance_ML)"
   ]
  },
  {
   "cell_type": "markdown",
   "id": "524d215d-3cf1-42fb-8616-711acec60c11",
   "metadata": {
    "id": "UjzpPUhyDxT8",
    "tags": []
   },
   "source": [
    "<a id='feat_interaction_diff_tables'></a>\n",
    "\n",
    "## <span style='background:#0085dd'><span style='color:white'>Features Based on Interaction Among Different Tables</span></span>"
   ]
  },
  {
   "cell_type": "markdown",
   "id": "1150f8e9-355e-418a-90fa-de221724cccc",
   "metadata": {},
   "source": [
    "We will create some more features based on interactions between different tables. For example, we will calculate the Annuity to income ratio for previous applications, similarly we will calculate Credit to income ratios, and several such features."
   ]
  },
  {
   "cell_type": "code",
   "execution_count": 164,
   "id": "663f3474-c260-4fc6-a2a4-31711904144b",
   "metadata": {},
   "outputs": [
    {
     "name": "stdout",
     "output_type": "stream",
     "text": [
      "Initial size of train_data (307511, 448)\n",
      "\n",
      "Initial size of test_data (48744, 447)\n"
     ]
    }
   ],
   "source": [
    "print(f\"Initial size of train_data {train_data.shape}\")\n",
    "print(f\"\\nInitial size of test_data {test_data.shape}\")"
   ]
  },
  {
   "cell_type": "code",
   "execution_count": 165,
   "id": "f37fc488-19a1-45dd-932e-5c5b79178223",
   "metadata": {
    "ExecuteTime": {
     "end_time": "2020-10-23T09:06:45.235385Z",
     "start_time": "2020-10-23T09:06:40.946783Z"
    },
    "tags": []
   },
   "outputs": [
    {
     "name": "stdout",
     "output_type": "stream",
     "text": [
      "After Pre-processing, aggregation, merging and Feature Engineering,\n",
      "Final Shape of Training Data = (307511, 463)\n",
      "Final Shape of Test Data = (48744, 462)\n"
     ]
    }
   ],
   "source": [
    "tools_feat_engineering.create_new_features(train_data)\n",
    "tools_feat_engineering.create_new_features(test_data)\n",
    "\n",
    "print(\"After Pre-processing, aggregation, merging and Feature Engineering,\")\n",
    "print(f\"Final Shape of Training Data = {train_data.shape}\")\n",
    "print(f\"Final Shape of Test Data = {test_data.shape}\")"
   ]
  },
  {
   "cell_type": "code",
   "execution_count": 166,
   "id": "d0f0a98f-4cc8-4ffa-931a-bc71fecdffdb",
   "metadata": {
    "ExecuteTime": {
     "end_time": "2020-10-23T09:06:45.235385Z",
     "start_time": "2020-10-23T09:06:40.946783Z"
    },
    "tags": []
   },
   "outputs": [],
   "source": [
    "# freeing up the memory\n",
    "del application_train_ML, application_test_ML, bureau_ML, \\\n",
    "    previous_application_ML, installments_payments_ML, \\\n",
    "    POS_CASH_balance_ML, cc_balance_ML"
   ]
  },
  {
   "cell_type": "markdown",
   "id": "d25f7ad5-2a80-4188-9e0d-46a7983c3f87",
   "metadata": {
    "id": "UjzpPUhyDxT8"
   },
   "source": [
    "<a id='dataset_merged_assing_missing_values'></a>\n",
    "\n",
    "### <span style='background:#0075bc'><span style='color:white'>Merged tables assignment missing values</span></span>"
   ]
  },
  {
   "cell_type": "markdown",
   "id": "9f178159-4489-4bc2-a4c9-f1fc1859b865",
   "metadata": {},
   "source": [
    "* The **missing values** of the **continuous variables** will be therefore imputed by the **median** of each of these variables.\n",
    "* The **missing values** of the **categorical variables** will be therefore imputed by the **mode** of each of these variables."
   ]
  },
  {
   "cell_type": "markdown",
   "id": "b5cd7efc-c4f2-449e-ac5a-bd7faf560d6f",
   "metadata": {},
   "source": [
    "\n",
    "**Continuous variables**"
   ]
  },
  {
   "cell_type": "code",
   "execution_count": 167,
   "id": "d78c0d23-86c8-4708-9edd-d9c7399d2c55",
   "metadata": {
    "run_control": {
     "marked": false
    }
   },
   "outputs": [],
   "source": [
    "# Continous variables\n",
    "cols_num_train = train_data.select_dtypes(include=[np.number])\\\n",
    "                                    .columns.to_list()\n",
    "cols_num_test = test_data.select_dtypes(include=[np.number])\\\n",
    "                                    .columns.to_list()"
   ]
  },
  {
   "cell_type": "code",
   "execution_count": 168,
   "id": "454d5f2e-9f97-4e71-9ebb-70ea71734811",
   "metadata": {
    "run_control": {
     "marked": false
    }
   },
   "outputs": [
    {
     "name": "stdout",
     "output_type": "stream",
     "text": [
      "Number of nan in train_data before median assignment : 28670968\n"
     ]
    },
    {
     "name": "stderr",
     "output_type": "stream",
     "text": [
      "2:80: E501 line too long (80 > 79 characters)\n"
     ]
    },
    {
     "name": "stdout",
     "output_type": "stream",
     "text": [
      "Number of nan in train_data after median assignment : 7072753\n"
     ]
    }
   ],
   "source": [
    "nb_nan_median = train_data[cols_num_train].isna().sum().sum()\n",
    "print(f'Number of nan in train_data before median assignment : {nb_nan_median}')\n",
    "train_data.fillna(train_data[cols_num_train].median(), inplace=True)\n",
    "# Validation\n",
    "nb_nan_median = train_data[cols_num_train].isna().sum().sum()\n",
    "print(f'Number of nan in train_data after median assignment : {nb_nan_median}')"
   ]
  },
  {
   "cell_type": "code",
   "execution_count": 169,
   "id": "f4803f5f-3a5b-43c6-a826-2c256587ec18",
   "metadata": {
    "run_control": {
     "marked": false
    }
   },
   "outputs": [
    {
     "name": "stdout",
     "output_type": "stream",
     "text": [
      "Number of nan in test_data before median assignment : 4098108\n",
      "Number of nan in test_data after median assignment : 1121112\n"
     ]
    }
   ],
   "source": [
    "nb_nan_median = test_data[cols_num_test].isna().sum().sum()\n",
    "print(f'Number of nan in test_data before median assignment : {nb_nan_median}')\n",
    "test_data.fillna(test_data[cols_num_test].median(), inplace=True)\n",
    "# Validation\n",
    "nb_nan_median = test_data[cols_num_test].isna().sum().sum()\n",
    "print(f'Number of nan in test_data after median assignment : {nb_nan_median}')"
   ]
  },
  {
   "cell_type": "markdown",
   "id": "1efdc404-91ff-494d-9236-8ccb2eb3db79",
   "metadata": {},
   "source": [
    "**Identify Strong Correlations**"
   ]
  },
  {
   "cell_type": "code",
   "execution_count": 170,
   "id": "c4ab01d9-f05c-435d-901f-2cd0e350d564",
   "metadata": {
    "tags": []
   },
   "outputs": [
    {
     "name": "stdout",
     "output_type": "stream",
     "text": [
      "There are 21 variables with strong correlation to be removed.\n",
      "\n",
      "Original shape : (307511, 463)\n",
      "Post correlation managing shape : (307511, 442)\n"
     ]
    }
   ],
   "source": [
    "# Managing strong correlations in train dataset\n",
    "cols_corr_a_supp = []\n",
    "train_data, cols_corr_a_supp = tools_dataframe\\\n",
    "    .managing_correlations(train_data)"
   ]
  },
  {
   "cell_type": "code",
   "execution_count": 171,
   "id": "0f101672-8a1e-4047-8c2f-a5a0002650e3",
   "metadata": {
    "run_control": {
     "marked": false
    },
    "tags": []
   },
   "outputs": [
    {
     "name": "stdout",
     "output_type": "stream",
     "text": [
      "application_test : (48744, 462)\n",
      "application_test : (48744, 441)\n"
     ]
    }
   ],
   "source": [
    "# Drop vairables with strong correlation from test dataset\n",
    "print(f'application_test : {test_data.shape}')\n",
    "test_data.drop(columns=cols_corr_a_supp,  inplace=True)\n",
    "print(f'application_test : {test_data.shape}')"
   ]
  },
  {
   "cell_type": "markdown",
   "id": "d2bc4151-0ca3-4021-99bd-081655872f71",
   "metadata": {},
   "source": [
    "**Look for empty columns**"
   ]
  },
  {
   "cell_type": "code",
   "execution_count": 172,
   "id": "28939dbe-e71e-4f1c-8e75-38b4d1a67d72",
   "metadata": {},
   "outputs": [
    {
     "data": {
      "text/html": [
       "<div>\n",
       "<style scoped>\n",
       "    .dataframe tbody tr th:only-of-type {\n",
       "        vertical-align: middle;\n",
       "    }\n",
       "\n",
       "    .dataframe tbody tr th {\n",
       "        vertical-align: top;\n",
       "    }\n",
       "\n",
       "    .dataframe thead th {\n",
       "        text-align: right;\n",
       "    }\n",
       "</style>\n",
       "<table border=\"1\" class=\"dataframe\">\n",
       "  <thead>\n",
       "    <tr style=\"text-align: right;\">\n",
       "      <th></th>\n",
       "      <th>Variable</th>\n",
       "      <th>Type</th>\n",
       "      <th>null</th>\n",
       "      <th>Duplicated</th>\n",
       "      <th>Filling percentage</th>\n",
       "      <th>count</th>\n",
       "      <th>mean</th>\n",
       "      <th>std</th>\n",
       "      <th>min</th>\n",
       "      <th>25%</th>\n",
       "      <th>50%</th>\n",
       "      <th>75%</th>\n",
       "      <th>max</th>\n",
       "    </tr>\n",
       "  </thead>\n",
       "  <tbody>\n",
       "    <tr>\n",
       "      <th>179</th>\n",
       "      <td>CONTRACT_APPROVED_MEAN</td>\n",
       "      <td>float32</td>\n",
       "      <td>0</td>\n",
       "      <td>307249</td>\n",
       "      <td>100.0</td>\n",
       "      <td>307511.0</td>\n",
       "      <td>0.0006</td>\n",
       "      <td>0.0085</td>\n",
       "      <td>0.0</td>\n",
       "      <td>0.0</td>\n",
       "      <td>0.0</td>\n",
       "      <td>0.0</td>\n",
       "      <td>1.0</td>\n",
       "    </tr>\n",
       "    <tr>\n",
       "      <th>333</th>\n",
       "      <td>EXT_SOURCE_3_MAX_AGG_FLAG_OWN_CAR_FLAG_OWN_REALTY_NAME_INCOME_TYPE</td>\n",
       "      <td>float32</td>\n",
       "      <td>0</td>\n",
       "      <td>307496</td>\n",
       "      <td>100.0</td>\n",
       "      <td>307511.0</td>\n",
       "      <td>0.8865</td>\n",
       "      <td>0.0065</td>\n",
       "      <td>0.5353</td>\n",
       "      <td>0.8825</td>\n",
       "      <td>0.8855</td>\n",
       "      <td>0.8877</td>\n",
       "      <td>0.896</td>\n",
       "    </tr>\n",
       "    <tr>\n",
       "      <th>299</th>\n",
       "      <td>FLAG_OWN_REALTY</td>\n",
       "      <td>int8</td>\n",
       "      <td>0</td>\n",
       "      <td>307509</td>\n",
       "      <td>100.0</td>\n",
       "      <td>307511.0</td>\n",
       "      <td>0.3063</td>\n",
       "      <td>0.461</td>\n",
       "      <td>0.0</td>\n",
       "      <td>0.0</td>\n",
       "      <td>0.0</td>\n",
       "      <td>1.0</td>\n",
       "      <td>1.0</td>\n",
       "    </tr>\n",
       "    <tr>\n",
       "      <th>296</th>\n",
       "      <td>AMT_CREDIT</td>\n",
       "      <td>float32</td>\n",
       "      <td>0</td>\n",
       "      <td>301908</td>\n",
       "      <td>100.0</td>\n",
       "      <td>307511.0</td>\n",
       "      <td>599025.9375</td>\n",
       "      <td>402479.5312</td>\n",
       "      <td>45000.0</td>\n",
       "      <td>270000.0</td>\n",
       "      <td>513531.0</td>\n",
       "      <td>808650.0</td>\n",
       "      <td>4050000.0</td>\n",
       "    </tr>\n",
       "    <tr>\n",
       "      <th>241</th>\n",
       "      <td>CREDIT_GOODS_RATIO</td>\n",
       "      <td>float32</td>\n",
       "      <td>0</td>\n",
       "      <td>305552</td>\n",
       "      <td>100.0</td>\n",
       "      <td>307511.0</td>\n",
       "      <td>1.1225</td>\n",
       "      <td>0.1256</td>\n",
       "      <td>0.15</td>\n",
       "      <td>1.0</td>\n",
       "      <td>1.1188</td>\n",
       "      <td>1.198</td>\n",
       "      <td>6.0</td>\n",
       "    </tr>\n",
       "  </tbody>\n",
       "</table>\n",
       "</div>"
      ],
      "text/plain": [
       "                                                               Variable     Type null Duplicated Filling percentage     count         mean          std      min       25%       50%       75%        max\n",
       "179                                              CONTRACT_APPROVED_MEAN  float32    0     307249              100.0  307511.0       0.0006       0.0085      0.0       0.0       0.0       0.0        1.0\n",
       "333  EXT_SOURCE_3_MAX_AGG_FLAG_OWN_CAR_FLAG_OWN_REALTY_NAME_INCOME_TYPE  float32    0     307496              100.0  307511.0       0.8865       0.0065   0.5353    0.8825    0.8855    0.8877      0.896\n",
       "299                                                     FLAG_OWN_REALTY     int8    0     307509              100.0  307511.0       0.3063        0.461      0.0       0.0       0.0       1.0        1.0\n",
       "296                                                          AMT_CREDIT  float32    0     301908              100.0  307511.0  599025.9375  402479.5312  45000.0  270000.0  513531.0  808650.0  4050000.0\n",
       "241                                                  CREDIT_GOODS_RATIO  float32    0     305552              100.0  307511.0       1.1225       0.1256     0.15       1.0    1.1188     1.198        6.0"
      ]
     },
     "execution_count": 172,
     "metadata": {},
     "output_type": "execute_result"
    }
   ],
   "source": [
    "# --------------------\n",
    "# Column description\n",
    "# --------------------\n",
    "info_train_data = tools_dataframe.complet_description(train_data)\n",
    "info_train_data.sample(5)"
   ]
  },
  {
   "cell_type": "code",
   "execution_count": 173,
   "id": "798f4654-ad86-440b-b9c5-ee4d9829c88a",
   "metadata": {},
   "outputs": [
    {
     "name": "stdout",
     "output_type": "stream",
     "text": [
      "There are 23 empty columns\n"
     ]
    }
   ],
   "source": [
    "# Identify empty columns\n",
    "to_remove = info_train_data.loc[info_train_data['Filling percentage'] < 1]\n",
    "cols_to_remove = to_remove['Variable'].tolist()\n",
    "print(f'There are {len(cols_to_remove)} empty columns')"
   ]
  },
  {
   "cell_type": "code",
   "execution_count": 174,
   "id": "96151480-f359-4736-8d9d-98fe5ebc51a2",
   "metadata": {},
   "outputs": [],
   "source": [
    "# Remove empty columns\n",
    "train_data = \\\n",
    "    train_data[train_data.columns[~train_data.columns.isin(cols_to_remove)]]\n",
    "test_data = \\\n",
    "    test_data[test_data.columns[~test_data.columns.isin(cols_to_remove)]]"
   ]
  },
  {
   "cell_type": "markdown",
   "id": "eb1cceb9-693b-4117-9962-c34e86699247",
   "metadata": {},
   "source": [
    "**Save final datasets**"
   ]
  },
  {
   "cell_type": "code",
   "execution_count": 175,
   "id": "b533f852-203b-445b-95a2-04fa56f1ae35",
   "metadata": {},
   "outputs": [],
   "source": [
    "# Saving final dataset for train data\n",
    "path_sav_alldata_train_merged = \\\n",
    "    '../P7_scoring_credit/preprocessing/final_train_data.pkl'\n",
    "with open(path_sav_alldata_train_merged, 'wb') as f:\n",
    "    pickle.dump(train_data, f, pickle.HIGHEST_PROTOCOL)"
   ]
  },
  {
   "cell_type": "code",
   "execution_count": 176,
   "id": "1bdb3b2a-b74a-431e-b613-342d26e75d1a",
   "metadata": {},
   "outputs": [],
   "source": [
    "# Saving final dataset for test data\n",
    "path_sav_alldata_test_merged = \\\n",
    "    '../P7_scoring_credit/preprocessing/final_test_data.pkl'\n",
    "with open(path_sav_alldata_test_merged, 'wb') as f:\n",
    "    pickle.dump(test_data, f, pickle.HIGHEST_PROTOCOL)"
   ]
  },
  {
   "cell_type": "code",
   "execution_count": 177,
   "id": "54ded499-f67c-451f-9054-bcde34646c58",
   "metadata": {
    "tags": []
   },
   "outputs": [],
   "source": [
    "path_processing = '../P7_scoring_credit/preprocessing/'\n",
    "files_to_remove = ['application_train_ML.pkl', 'application_test_ML.pkl',\n",
    "                   'bureau_ML.pkl', 'previous_application_ML.pkl',\n",
    "                   'POS_CASH_balance_ML.pkl', 'installments_payments_ML.pkl',\n",
    "                   'cc_balance_ML.pkl']\n",
    "\n",
    "for file in files_to_remove:\n",
    "    os.remove(path_processing+file)"
   ]
  },
  {
   "cell_type": "code",
   "execution_count": null,
   "id": "29df0e88-b106-422a-a7f4-2f131f3a7a34",
   "metadata": {},
   "outputs": [],
   "source": []
  }
 ],
 "metadata": {
  "kernelspec": {
   "display_name": "Python 3 (ipykernel)",
   "language": "python",
   "name": "python3"
  },
  "language_info": {
   "codemirror_mode": {
    "name": "ipython",
    "version": 3
   },
   "file_extension": ".py",
   "mimetype": "text/x-python",
   "name": "python",
   "nbconvert_exporter": "python",
   "pygments_lexer": "ipython3",
   "version": "3.11.3"
  },
  "toc-autonumbering": true
 },
 "nbformat": 4,
 "nbformat_minor": 5
}
