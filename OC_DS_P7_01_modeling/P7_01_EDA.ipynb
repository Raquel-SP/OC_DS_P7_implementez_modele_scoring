{
 "cells": [
  {
   "cell_type": "markdown",
   "id": "d5d1b46d-b460-4973-9291-567056063733",
   "metadata": {
    "id": "376c512c-b7fd-49c0-b147-8c42d1be918c"
   },
   "source": [
    "\n",
    "\n",
    "# <font size=\"+3\"><span style='color:#2994ff'> **P7 - Implémentez un modèle de scoring** </span></font>\n"
   ]
  },
  {
   "cell_type": "markdown",
   "id": "43254369-b01a-4fa6-8d8f-f41118a13675",
   "metadata": {
    "id": "967cb3e2-cb54-4c6c-b5b7-411bb3559d31"
   },
   "source": [
    "---\n",
    "\n",
    "---\n",
    "\n",
    "<font size=\"+1\"> **LOADING THE LIBRARIES** </font>\n",
    "\n",
    "---"
   ]
  },
  {
   "cell_type": "code",
   "execution_count": 7,
   "id": "59c330b6-7fa2-4ee1-a871-f70758c36830",
   "metadata": {},
   "outputs": [
    {
     "name": "stderr",
     "output_type": "stream",
     "text": [
      "31:1: E402 module level import not at top of file\n",
      "32:1: E402 module level import not at top of file\n"
     ]
    },
    {
     "name": "stdout",
     "output_type": "stream",
     "text": [
      "The pycodestyle_magic extension is already loaded. To reload it, use:\n",
      "  %reload_ext pycodestyle_magic\n",
      "Version of used libraries :\n",
      "Python                : 3.10.6 (main, May 29 2023, 11:10:38) [GCC 11.3.0]\n",
      "NumPy                 : 1.21.4\n",
      "Pandas                : 2.0.3\n",
      "Dataframe tools      : 0.0.0\n",
      "EDA KERNEL KAGGLE     : 0.0.0\n",
      "\n",
      "Launched on : 2023-08-07T10:29:27.930553\n"
     ]
    }
   ],
   "source": [
    "# ----------------\n",
    "# Packages Update\n",
    "# ----------------\n",
    "\n",
    "# General libraries\n",
    "import sys\n",
    "import os\n",
    "import glob\n",
    "import pandas as pd\n",
    "import numpy as np\n",
    "import csv\n",
    "import time\n",
    "import datetime\n",
    "import tools_dataframe\n",
    "import EDA_kernel_kaggle\n",
    "\n",
    "\n",
    "# Data visualisation\n",
    "import matplotlib as mpl\n",
    "import matplotlib.pyplot as plt\n",
    "import seaborn as sns\n",
    "from plotly.subplots import make_subplots\n",
    "import plotly.graph_objects as go\n",
    "\n",
    "\n",
    "# Validation code PEP8\n",
    "%load_ext pycodestyle_magic\n",
    "%pycodestyle_on\n",
    "\n",
    "# Warnings\n",
    "import warnings\n",
    "from warnings import simplefilter\n",
    "warnings.filterwarnings(action='once')\n",
    "simplefilter(action='ignore', category=FutureWarning)\n",
    "simplefilter(action='ignore', category=ValueError)\n",
    "simplefilter(action='ignore', category=UserWarning)\n",
    "\n",
    "# Versions\n",
    "print('Version of used libraries :')\n",
    "\n",
    "print('Python                : ' + sys.version)\n",
    "print('NumPy                 : ' + np.version.full_version)\n",
    "print('Pandas                : ' + pd.__version__)\n",
    "print('Dataframe tools      : ' + tools_dataframe.__version__)\n",
    "print('EDA KERNEL KAGGLE     : ' + EDA_kernel_kaggle.__version__)\n",
    "now = datetime.datetime.now().isoformat()\n",
    "print('\\nLaunched on : ' + now)"
   ]
  },
  {
   "cell_type": "markdown",
   "id": "89b505be-9abf-4b90-b5ae-e5fbb3db26a1",
   "metadata": {
    "id": "9f040c98-873f-4cb4-9917-6cf6775b1399"
   },
   "source": [
    "\n",
    "<a id='USED_PARAMETERS'></a>\n",
    "\n",
    "\n",
    "<br>\n",
    "\n",
    "\n",
    "---\n",
    "---\n",
    "\n",
    "<font size=\"+1\"> **PARAMETERS USED IN THIS NOTEBOOK** </font>\n",
    "\n",
    "---\n"
   ]
  },
  {
   "cell_type": "code",
   "execution_count": 8,
   "id": "5b64c983-4598-4705-9064-0620e22ccca0",
   "metadata": {},
   "outputs": [],
   "source": [
    "# Parameters used in this notebook\n",
    "seed = 84"
   ]
  },
  {
   "cell_type": "markdown",
   "id": "9c327979-a288-435b-a6c1-4c8af3bdae39",
   "metadata": {},
   "source": [
    "\n",
    "<font size=\"+3\"><span style='color:#2994ff'> **P7 - Implémentez un modèle de scoring** </span></font>"
   ]
  },
  {
   "cell_type": "markdown",
   "id": "a61c5494-2509-47a3-af1c-658d817ee0e1",
   "metadata": {},
   "source": [
    "Loans are an important part of people’s lives. Each individual has different reasons for borrowing a loan. It could be to buy a dream car or a home, to set up a business, or to buy some products. Even wealthy people prefer taking loans overspending their cash so as to get tax benefits and to keep the cash available for future unexpected and unconventional expenses.\n",
    "\n",
    "Loans are also as important to Lenders as they are for Borrowers. Almost all Banking Organizations make most of their revenues from the interests generated through loans. However, the caveat here is that the lenders make a profit only if the loan gets repaid. The Lending Organizations are faced with the tough task of analyzing the risk associated with each client. Therefore, it is important to identify the risky behaviors of clients and make educated decisions."
   ]
  },
  {
   "cell_type": "markdown",
   "id": "d0e538fc-7ec6-47ac-99c9-c2b7ad036769",
   "metadata": {},
   "source": [
    "\n",
    "<center><img src=\"./img/logo_projet.png\" style=\"height: 250px;\"/></center>\n",
    "\n",
    "**Prêt à dépenser** wants to implement a **credit scoring tool to calculate the probability of a customer repaying their loan**, and then **classify the application as either granted or refused credit**. It therefore wants to develop a classification algorithm based on a variety of data sources (behavioural data, data from other financial institutions, etc.)."
   ]
  },
  {
   "cell_type": "markdown",
   "id": "c80c60db-2281-49df-9109-8f39c6c1b8ee",
   "metadata": {
    "id": "e65763f7-7793-4e19-a2bd-dde068573d9b"
   },
   "source": [
    "In addition, customer relationship managers have pointed out that customers are increasingly demanding transparency in credit granting decisions. This demand for transparency from customers is entirely in line with the values that the company wishes to embody.\n",
    "\n",
    "Prêt à dépenser therefore decided to **develop an interactive dashboard** so that customer relations managers could explain credit granting decisions as transparently as possible, but also allow their customers to access and explore their personal information easily.\n",
    "\n",
    "**Objectives:**\n",
    "* The main objective is to **identify the potential Defaulters** based on the given data about the applicants.\n",
    "* The **probability of classification** is essential because we want to be very sure when we classify someone as a Non-Defaulter, as the cost of making a mistake can be very high to the company.\n",
    "\n",
    "**Constraints:**\n",
    "* **Interpretability is important** for classifying someone as a Defaulter or not.\n",
    "* **No strict latency constraint**, as the objective is more about making the right decision rather than a quick decision. It would be fine and acceptable if the model takes few seconds to make a prediction.\n",
    "* The **cost of making an error** can be very high. This is due to the large amounts of funds associated with each loan. We do not want the model to miss out on potential defaulters which could incur huge financial losses to the organization.\n",
    "\n",
    "\n",
    "---\n",
    "---\n",
    "\n",
    "**This notebook** includes **data cleaning and exploratory analysis**.<br>\n"
   ]
  },
  {
   "cell_type": "markdown",
   "id": "eeadcf5d-1609-47d5-9070-8787825a2164",
   "metadata": {
    "id": "e8622ccb-75b5-4c07-8685-4efcc75630bc",
    "tags": []
   },
   "source": [
    "\n",
    "## <font color = '#0085dd'>**Table of content**</font>\n",
    "\n",
    "\n",
    "---\n",
    "[**Introduction**](#introduction)\n",
    "\n",
    "[**Datasets description**](#datasets)\n",
    " * [Dataset HomeCredit_columns_description](#HomeCredit_columns_description_dataset)\n",
    " * [Dataset application_train](#application_train_dataset)\n",
    "   * [Plotting categorical variables](#app_train_plot_categ_vari)\n",
    "   * [Plotting continous variables](#app_train_plot_conti_vari)\n",
    "   * [Phi-K matrix](#app_train_phik_matrix)\n",
    "   * [Correlation matrix](#app_train_correlation_matrix)\n",
    " * [Dataset application_test](#application_test_dataset)\n",
    " * [Dataset bureau](#bureau_dataset)\n",
    "   * [Plotting categorical variables](#bureau_plot_categ_vari)\n",
    "   * [Plotting continous variables](#bureau_plot_conti_vari)\n",
    "   * [Phi-K matrix](#bureau_phik_matrix)\n",
    "   * [Correlation matrix](#bureau_correlation_matrix)\n",
    " * [Dataset bureau_balance](#bureau_balance_dataset)\n",
    " * [Dataset previous_application](#previous_application_dataset)\n",
    "   * [Plotting categorical variables](#previous_application_plot_categ_vari)\n",
    "   * [Plotting continous variables](#previous_application_plot_conti_vari)\n",
    "   * [Phi-K matrix](#previous_application_phik_matrix)\n",
    "   * [Correlation matrix](#previous_application_correlation_matrix)\n",
    " * [Dataset POS_CASH_balance](#POS_CASH_balance_dataset)\n",
    "   * [Plotting continous variables](#POS_CASH_balance_plot_conti_vari)\n",
    "   * [Correlation matrix](#POS_CASH_balance_correlation_matrix)\n",
    " * [Dataset installments_payments](#installments_payments_dataset)\n",
    "   * [Plotting continous variables](#installments_payments_plot_conti_vari)\n",
    "   * [Correlation matrix](#installments_payments_correlation_matrix)\n",
    " * [Dataset credit_card_balance](#credit_card_balance_dataset)\n",
    "   * [Plotting continous variables](#cc_balance_plot_conti_vari)\n",
    "   * [Correlation matrix](#credit_card_balance_correlation_matrix)\n",
    " * [Conclusions from EDA](#conclusions_EDA)\n",
    "\n",
    "---"
   ]
  },
  {
   "cell_type": "markdown",
   "id": "fa591fde-b2eb-4c04-8c60-b0abf3021a02",
   "metadata": {
    "id": "2f3cf119-1479-4a49-b958-bb22d513aa1f",
    "tags": []
   },
   "source": [
    "<a id='introduction'></a>\n",
    "\n",
    "---\n",
    "---\n",
    "\n",
    "# <span style='background:#2994ff'><span style='color:white'>**Introduction** </span></span>\n"
   ]
  },
  {
   "cell_type": "markdown",
   "id": "ad80578d-5b29-4129-9887-335e27557151",
   "metadata": {},
   "source": [
    "*****\n",
    "**Mission**\n",
    "*****\n",
    "**Développer un modèle de scoring de la probabilité de défaut de paiement du client** pour étayer la décision d'accorder ou non un prêt à un client potentiel en s’appuyant sur des sources de données variées (données comportementales, données provenant d'autres institutions financières...).\n",
    "\n",
    "*****\n",
    "**Objectifs**\n",
    "*****\n",
    "- analyser le jeu de données,\n",
    "- Construire **un modèle de scoring** qui donnera une prédiction sur la probabilité de faillite d'un client de façon automatique,\n",
    "- réaliser un **dashboard interactif** permettant aux chargés de clientèles d'expliquer de manière transparente la décision d'octroi ou non de crédit\n",
    "\n",
    "*****\n",
    "**Sources**\n",
    "*****\n",
    "- [Jeu de données](https://www.kaggle.com/c/home-credit-default-risk/data)\n",
    "\n",
    "Le **Kernel Kaggle** utilisé pour l'analyse exploratoire ayant l'EDA le plus de commentaires et effectuant une analyse exploratoire complète sur toutes les fichiers csv mis à notre disposition a été livré par **Rishabh Rao** (Student at -Jaipur, Rajasthan, India).\n",
    "- [Kernel Kaggle Rishabh Rao](https://www.kaggle.com/rishabhrao/home-credit-default-risk-extensive-eda)\n",
    "\n",
    "Ce travail est complété par l'auteur par une présentation sur le site medium.com :\n",
    "[Explications](https://medium.com/thecyphy/home-credit-default-risk-part-1-3bfe3c7ddd7a)\n",
    "\n",
    "Les fonctions python utilisées pour l'EDA sont extraites du [github](https://github.com/rishabhrao1997/Home-Credit-Default-Risk) et stockées dans la librairie *EDA_KERNEL_FONCTIONS.py*."
   ]
  },
  {
   "cell_type": "markdown",
   "id": "826c335c-d8df-4706-98ab-9f5bc7defd24",
   "metadata": {
    "id": "2f3cf119-1479-4a49-b958-bb22d513aa1f",
    "tags": []
   },
   "source": [
    "<a id='datasets'></a>\n",
    "\n",
    "---\n",
    "---\n",
    "\n",
    "# <span style='background:#2994ff'><span style='color:white'>**Datasets description** </span></span>\n"
   ]
  },
  {
   "cell_type": "code",
   "execution_count": 10,
   "id": "1ae4e172-350a-40a9-8576-87407e8ea812",
   "metadata": {
    "tags": []
   },
   "outputs": [
    {
     "name": "stderr",
     "output_type": "stream",
     "text": [
      "2:80: E501 line too long (104 > 79 characters)\n"
     ]
    }
   ],
   "source": [
    "# Define the folder containing the files with the project data\n",
    "P7_source = \"/home/raquelsp/Documents/Openclassrooms/P7_implementez_modele_scoring/P7_travail/p7_source\"\n",
    "os.chdir(P7_source)"
   ]
  },
  {
   "cell_type": "code",
   "execution_count": 11,
   "id": "601f591e-d643-4537-bdc0-dce0b84bc0a1",
   "metadata": {
    "colab": {
     "base_uri": "https://localhost:8080/"
    },
    "id": "e70ac540-a82e-4c8e-b941-e7ed4470f315",
    "outputId": "65181089-44bf-4ba5-9bbf-196ea7d4444f"
   },
   "outputs": [
    {
     "name": "stdout",
     "output_type": "stream",
     "text": [
      "The data is divided into : 0 datasets.\n",
      "\n",
      "The available dataset are : []\n"
     ]
    }
   ],
   "source": [
    "# .csv files number and name\n",
    "allFilesCsv = glob.glob('*.csv')\n",
    "\n",
    "print(\"The data is divided into : \" + str(len(allFilesCsv)) + \" datasets.\\n\")\n",
    "print(\"The available dataset are : \" + str(allFilesCsv))"
   ]
  },
  {
   "cell_type": "markdown",
   "id": "bc8b6a6c-75fd-482f-bcc2-60b0b9ecdd27",
   "metadata": {},
   "source": [
    "<font size=\"+1\">**Files are related to each other as shown in the following figure:**</font>\n",
    " <center><img src=\"./img/home_credit_file_tree.png\" style=\"height: 700px;\"/></center>"
   ]
  },
  {
   "cell_type": "markdown",
   "id": "a9531972-3c2f-4f0a-84fe-ae2e2358f128",
   "metadata": {
    "id": "UjzpPUhyDxT8",
    "tags": []
   },
   "source": [
    "<a id='HomeCredit_columns_description_dataset'></a>\n",
    "\n",
    "## <span style='background:#0085dd'><span style='color:white'>Dataset HomeCredit_columns_description</span></span>"
   ]
  },
  {
   "cell_type": "markdown",
   "id": "49205970-0d83-447a-8fbb-86ba5c3cfa6d",
   "metadata": {},
   "source": [
    "This file contains descriptions for the columns in the various data files."
   ]
  },
  {
   "cell_type": "code",
   "execution_count": 19,
   "id": "14c832e6-a51a-4810-826c-fcf4fcaab827",
   "metadata": {
    "colab": {
     "base_uri": "https://localhost:8080/",
     "height": 242
    },
    "id": "wbuxtEb26P3y",
    "outputId": "5162fba7-7db6-4eb4-f3fe-8f38f4b2bd32"
   },
   "outputs": [
    {
     "name": "stdout",
     "output_type": "stream",
     "text": [
      "The dataset 'HomeCredit_columns_description' contains 219 rows and 4 columns.\n",
      "\n"
     ]
    },
    {
     "data": {
      "text/html": [
       "<div>\n",
       "<style scoped>\n",
       "    .dataframe tbody tr th:only-of-type {\n",
       "        vertical-align: middle;\n",
       "    }\n",
       "\n",
       "    .dataframe tbody tr th {\n",
       "        vertical-align: top;\n",
       "    }\n",
       "\n",
       "    .dataframe thead th {\n",
       "        text-align: right;\n",
       "    }\n",
       "</style>\n",
       "<table border=\"1\" class=\"dataframe\">\n",
       "  <thead>\n",
       "    <tr style=\"text-align: right;\">\n",
       "      <th></th>\n",
       "      <th>Table</th>\n",
       "      <th>Row</th>\n",
       "      <th>Description</th>\n",
       "      <th>Special</th>\n",
       "    </tr>\n",
       "  </thead>\n",
       "  <tbody>\n",
       "    <tr>\n",
       "      <th>121</th>\n",
       "      <td>application_{train|test}.csv</td>\n",
       "      <td>AMT_REQ_CREDIT_BUREAU_WEEK</td>\n",
       "      <td>Number of enquiries to Credit Bureau about the...</td>\n",
       "      <td>NaN</td>\n",
       "    </tr>\n",
       "    <tr>\n",
       "      <th>83</th>\n",
       "      <td>application_{train|test}.csv</td>\n",
       "      <td>FLOORSMIN_MEDI</td>\n",
       "      <td>Normalized information about building where th...</td>\n",
       "      <td>normalized</td>\n",
       "    </tr>\n",
       "    <tr>\n",
       "      <th>215</th>\n",
       "      <td>installments_payments.csv</td>\n",
       "      <td>SK_ID_CURR</td>\n",
       "      <td>ID of loan in our sample</td>\n",
       "      <td>hashed</td>\n",
       "    </tr>\n",
       "    <tr>\n",
       "      <th>170</th>\n",
       "      <td>credit_card_balance.csv</td>\n",
       "      <td>CNT_DRAWINGS_OTHER_CURRENT</td>\n",
       "      <td>Number of other drawings during this month on ...</td>\n",
       "      <td>NaN</td>\n",
       "    </tr>\n",
       "    <tr>\n",
       "      <th>182</th>\n",
       "      <td>previous_application.csv</td>\n",
       "      <td>AMT_DOWN_PAYMENT</td>\n",
       "      <td>Down payment on the previous application</td>\n",
       "      <td>NaN</td>\n",
       "    </tr>\n",
       "    <tr>\n",
       "      <th>70</th>\n",
       "      <td>application_{train|test}.csv</td>\n",
       "      <td>LANDAREA_MODE</td>\n",
       "      <td>Normalized information about building where th...</td>\n",
       "      <td>normalized</td>\n",
       "    </tr>\n",
       "    <tr>\n",
       "      <th>190</th>\n",
       "      <td>previous_application.csv</td>\n",
       "      <td>RATE_INTEREST_PRIMARY</td>\n",
       "      <td>Interest rate normalized on previous credit</td>\n",
       "      <td>normalized</td>\n",
       "    </tr>\n",
       "    <tr>\n",
       "      <th>90</th>\n",
       "      <td>application_{train|test}.csv</td>\n",
       "      <td>HOUSETYPE_MODE</td>\n",
       "      <td>Normalized information about building where th...</td>\n",
       "      <td>normalized</td>\n",
       "    </tr>\n",
       "    <tr>\n",
       "      <th>204</th>\n",
       "      <td>previous_application.csv</td>\n",
       "      <td>NAME_SELLER_INDUSTRY</td>\n",
       "      <td>The industry of the seller</td>\n",
       "      <td>NaN</td>\n",
       "    </tr>\n",
       "    <tr>\n",
       "      <th>100</th>\n",
       "      <td>application_{train|test}.csv</td>\n",
       "      <td>FLAG_DOCUMENT_3</td>\n",
       "      <td>Did client provide document 3</td>\n",
       "      <td>NaN</td>\n",
       "    </tr>\n",
       "  </tbody>\n",
       "</table>\n",
       "</div>"
      ],
      "text/plain": [
       "                            Table                         Row  \\\n",
       "121  application_{train|test}.csv  AMT_REQ_CREDIT_BUREAU_WEEK   \n",
       "83   application_{train|test}.csv              FLOORSMIN_MEDI   \n",
       "215     installments_payments.csv                  SK_ID_CURR   \n",
       "170       credit_card_balance.csv  CNT_DRAWINGS_OTHER_CURRENT   \n",
       "182      previous_application.csv            AMT_DOWN_PAYMENT   \n",
       "70   application_{train|test}.csv               LANDAREA_MODE   \n",
       "190      previous_application.csv       RATE_INTEREST_PRIMARY   \n",
       "90   application_{train|test}.csv              HOUSETYPE_MODE   \n",
       "204      previous_application.csv        NAME_SELLER_INDUSTRY   \n",
       "100  application_{train|test}.csv             FLAG_DOCUMENT_3   \n",
       "\n",
       "                                           Description     Special  \n",
       "121  Number of enquiries to Credit Bureau about the...         NaN  \n",
       "83   Normalized information about building where th...  normalized  \n",
       "215                           ID of loan in our sample      hashed  \n",
       "170  Number of other drawings during this month on ...         NaN  \n",
       "182           Down payment on the previous application         NaN  \n",
       "70   Normalized information about building where th...  normalized  \n",
       "190        Interest rate normalized on previous credit  normalized  \n",
       "90   Normalized information about building where th...  normalized  \n",
       "204                         The industry of the seller         NaN  \n",
       "100                      Did client provide document 3         NaN  "
      ]
     },
     "execution_count": 19,
     "metadata": {},
     "output_type": "execute_result"
    }
   ],
   "source": [
    "# -----------------------------\n",
    "# File upload: HomeCredit_columns_description\n",
    "# -----------------------------\n",
    "HomeCredit_columns = pd.read_csv('HomeCredit_columns_description.csv',\n",
    "                                 low_memory=False,\n",
    "                                 encoding='unicode_escape',\n",
    "                                 index_col=0)\n",
    "\n",
    "# --------------\n",
    "# Dataset size\n",
    "# --------------\n",
    "print(\"The dataset 'HomeCredit_columns_description' contains \" +\n",
    "      str(HomeCredit_columns.shape[0]) + \" rows and \" +\n",
    "      str(HomeCredit_columns.shape[1]) + \" columns.\\n\")\n",
    "\n",
    "# ---------------\n",
    "# Data overview\n",
    "# ---------------\n",
    "# pd.options.display.max_rows= None\n",
    "HomeCredit_columns.sample(10)"
   ]
  },
  {
   "cell_type": "code",
   "execution_count": null,
   "id": "cb9985ea-896f-40d8-8cce-92e845ae98f1",
   "metadata": {
    "colab": {
     "base_uri": "https://localhost:8080/",
     "height": 300
    },
    "id": "HRTp5goApIcW",
    "outputId": "87a80077-c5b1-43e0-9fa3-7dd2eb67dc3c"
   },
   "outputs": [],
   "source": [
    "# --------------------\n",
    "# Column description\n",
    "# --------------------\n",
    "# pd.options.display.max_rows = None\n",
    "info_homeCred = tools_dataframe.complet_description(HomeCredit_columns)\n",
    "info_homeCred"
   ]
  },
  {
   "cell_type": "code",
   "execution_count": null,
   "id": "7e93d9ec-b611-4e9b-a153-2aff250cff65",
   "metadata": {},
   "outputs": [],
   "source": [
    "# Visualization column filling\n",
    "tools_dataframe.column_filling_visu(info_homeCred)"
   ]
  },
  {
   "cell_type": "code",
   "execution_count": null,
   "id": "4c61cf5b-6312-4ca5-8745-fbc626913722",
   "metadata": {
    "tags": []
   },
   "outputs": [],
   "source": [
    "# Unique pairs 'Row'/'Description'\n",
    "column_description = HomeCredit_columns[[\"Row\", \"Description\"]]\\\n",
    "                                        .drop_duplicates()\n",
    "\n",
    "pd.set_option('display.max_colwidth', None)\n",
    "column_description.sort_values(\"Row\")"
   ]
  },
  {
   "cell_type": "code",
   "execution_count": null,
   "id": "ed4257a2-1f4e-4009-8000-99109dabd40a",
   "metadata": {},
   "outputs": [],
   "source": [
    "HomeCredit_columns.loc[HomeCredit_columns[\"Row\"] == \"AMT_ANNUITY\"]"
   ]
  },
  {
   "cell_type": "markdown",
   "id": "e8ef46be-1ed7-4e61-b51d-3f0a00affe9d",
   "metadata": {},
   "source": [
    "* Le dataset HomeCredit_columns_description.csv contains 219 rows et 4 variables.\n",
    "* There are 196 unique Row representing the variables available in all other datasets.\n",
    "* Some values of Row variable are asociated to slightly different Descriptions. **It must be verified whether the variables referred to in the Row column are actually the same or not.**\n",
    "<br>"
   ]
  },
  {
   "cell_type": "markdown",
   "id": "2f5e4743-7f88-4e9e-ba66-6d16e7b5a2ae",
   "metadata": {
    "id": "UjzpPUhyDxT8"
   },
   "source": [
    "<a id='application_train_dataset'></a>\n",
    "\n",
    "## <span style='background:#0085dd'><span style='color:white'>Dataset application_train</span></span>"
   ]
  },
  {
   "cell_type": "markdown",
   "id": "19bef069-c988-4720-ae7c-0852d15c35cf",
   "metadata": {},
   "source": [
    "This is the main table, broken into two files for **Train (with TARGET)** and Test (without TARGET). <br>\n",
    "Static data for all applications. One row represents one loan in our data sample."
   ]
  },
  {
   "cell_type": "code",
   "execution_count": null,
   "id": "f821ff29-d4a8-449b-914c-8b68ceb9a02f",
   "metadata": {
    "colab": {
     "base_uri": "https://localhost:8080/",
     "height": 242
    },
    "id": "wbuxtEb26P3y",
    "outputId": "5162fba7-7db6-4eb4-f3fe-8f38f4b2bd32"
   },
   "outputs": [],
   "source": [
    "# -----------------------------\n",
    "# File upload: application_train\n",
    "# -----------------------------\n",
    "# linked by 'SK_ID_CURR' to \"previous_application\", \"credit_card_balance\",\n",
    "# \"bureau\", \"POS_CASH_balance\" and \"installments_payments\"\n",
    "\n",
    "application_train = pd.read_csv('application_train.csv', low_memory=False,\n",
    "                                encoding='utf-8')\n",
    "application_train.name = 'application_train'\n",
    "\n",
    "# --------------\n",
    "# Dataset size\n",
    "# --------------\n",
    "print(\"The dataset 'application_train' contains \" +\n",
    "      str(application_train.shape[0]) + \" rows and \" +\n",
    "      str(application_train.shape[1]) + \" columns.\\n\")"
   ]
  },
  {
   "cell_type": "code",
   "execution_count": null,
   "id": "38794610-8292-4a4d-94d8-f6a92a4036d9",
   "metadata": {
    "colab": {
     "base_uri": "https://localhost:8080/",
     "height": 242
    },
    "id": "wbuxtEb26P3y",
    "outputId": "5162fba7-7db6-4eb4-f3fe-8f38f4b2bd32"
   },
   "outputs": [],
   "source": [
    "# ---------------\n",
    "# Data overview\n",
    "# ---------------\n",
    "pd.options.display.max_columns = None\n",
    "application_train.head(3)"
   ]
  },
  {
   "cell_type": "code",
   "execution_count": null,
   "id": "d04a7dfe-ae96-496c-be68-bc59cd14545b",
   "metadata": {
    "tags": []
   },
   "outputs": [],
   "source": [
    "# Columns name description\n",
    "HomeCredit_columns.loc[HomeCredit_columns[\"Table\"] ==\n",
    "                       \"application_{train|test}.csv\"].sort_values(\"Row\")\\\n",
    "                        .style.hide(axis=0)"
   ]
  },
  {
   "cell_type": "markdown",
   "id": "142ad3aa-8c70-4f43-85d4-2aa46834128c",
   "metadata": {},
   "source": [
    "**Comment:**<br>\n",
    "\n",
    "There are numerous \"FLAG_\" variables, some have coded values of \"Yes\", \"No\" : 1=YES, 0=NO  <br>\n",
    "Check if all values of \"FLAG_\" variables are binary. If so, homogenise and code them : 1=YES, 0=NO.<br>\n",
    "\n",
    "---"
   ]
  },
  {
   "cell_type": "code",
   "execution_count": null,
   "id": "7fa7e64c-4984-4db1-ab57-4f16a621aac1",
   "metadata": {
    "colab": {
     "base_uri": "https://localhost:8080/",
     "height": 300
    },
    "id": "HRTp5goApIcW",
    "outputId": "87a80077-c5b1-43e0-9fa3-7dd2eb67dc3c",
    "tags": []
   },
   "outputs": [],
   "source": [
    "# --------------------\n",
    "# Column description\n",
    "# --------------------\n",
    "pd.options.display.max_rows = None\n",
    "info_train = tools_dataframe.complet_description(application_train)\n",
    "info_train"
   ]
  },
  {
   "cell_type": "markdown",
   "id": "742f41f3-cdc3-4b55-9510-46494625d567",
   "metadata": {},
   "source": [
    "**Comment:**<br>\n",
    "\n",
    "A large part of variables of type int64 have many duplicate values. <br>\n",
    "It should be checked whether they are discrete numerical variables or categorical variables.<br>\n",
    "\n",
    "---"
   ]
  },
  {
   "cell_type": "code",
   "execution_count": null,
   "id": "78dba4a8-7655-42a3-8f56-d587422fb91d",
   "metadata": {},
   "outputs": [],
   "source": [
    "# Visualization data types\n",
    "tools_dataframe.visu_dataTypes(info_train)"
   ]
  },
  {
   "cell_type": "code",
   "execution_count": null,
   "id": "417d718a-5b1c-4162-8d92-ddabbf101183",
   "metadata": {},
   "outputs": [],
   "source": [
    "# Visualization column filling\n",
    "tools_dataframe.column_filling_visu(info_train)"
   ]
  },
  {
   "cell_type": "code",
   "execution_count": null,
   "id": "9b0f7d05-ae7b-42a0-83b3-1ae85c561afb",
   "metadata": {},
   "outputs": [],
   "source": [
    "# TARGET variable\n",
    "HomeCredit_columns.loc[HomeCredit_columns[\"Row\"] ==\n",
    "                       \"TARGET\"].style.hide(axis=0)"
   ]
  },
  {
   "cell_type": "code",
   "execution_count": null,
   "id": "28c57e9b-ba46-4934-8b66-d3b0b8c618d8",
   "metadata": {
    "tags": []
   },
   "outputs": [],
   "source": [
    "application_train.shape"
   ]
  },
  {
   "cell_type": "code",
   "execution_count": null,
   "id": "c5645b6a-cf87-453c-bf56-0ce8977dedf5",
   "metadata": {},
   "outputs": [],
   "source": [
    "tools_dataframe.univ_cate_vari(application_train, \"TARGET\")"
   ]
  },
  {
   "cell_type": "code",
   "execution_count": null,
   "id": "3e1c5597-e0f7-4cce-ad57-c6079eebe021",
   "metadata": {},
   "outputs": [],
   "source": [
    "cols = 1\n",
    "specs = [[{'type': 'domain'}]]\n",
    "titles = [f'Distribution of Target']\n",
    "\n",
    "values_categorical = application_train['TARGET'].value_counts()\n",
    "labels_categorical = ['Non-defaulters', 'Defaulters']\n",
    "\n",
    "fig = make_subplots(rows=1, cols=cols,\n",
    "                    specs=specs,\n",
    "                    subplot_titles=titles)\n",
    "\n",
    "fig.add_trace(go.Pie(values=values_categorical, labels=labels_categorical,\n",
    "                     hole=0,\n",
    "                     textinfo='label+percent', textposition='inside'),\n",
    "              row=1, col=1)\n",
    "fig.update_layout(title=f'Distribution of Target')\n",
    "fig.show()"
   ]
  },
  {
   "cell_type": "markdown",
   "id": "0a267ab0-5b61-4f9f-84d6-c94db03115d2",
   "metadata": {},
   "source": [
    "* Le dataset application_train.csv contains 307511 rows et 122 variables.\n",
    "* These variables contain the personal statistics of a particular applicant, such as age, income, type of loan, flat statistics, etc.\n",
    "* There are 307511 unique SK_ID_CURR representing unique loan applications.\n",
    "* The TARGET valiable illustrates the clients with payment difficulties (he/she had late payment more than X days on at least one of the first Y installments of the loan in our sample) :\n",
    "    * 1 for client with payment difficulties, those are \"Defaulters\"\n",
    "    * 0 for all other cases, those are \"Non-Defaulters\"\n",
    "* The dataset is an **imbalanced dataset**, where the Negative class dominates the Positive class, as there are only a few number of defaulters among all the applicants. This aspect conditions the way the project is approached.\n",
    "    * For imbalanced dataset, during building the model, we cannot feed the data as is to some algorithms, which are imbalance sensitive.\n",
    "    * Similar is the case with the Performance Metrics.\n",
    "    * One more important thing to note here is that there are very few people who actually default, and they tend to show some sort of different behaviour. Thus in such cases of Fraud, Default and Anomaly Detection, we need to focus on outliers too, and we cannot remove them, as they could be the differentiating factor between Defaulter and Non-Defaulter.\n",
    "\n",
    "The **aim of the project** is to implement a credit scoring tool to **calculate the probability of a customer repaying their loan**, and then **classify the application as either granted or refused credit**.<br>\n",
    "We assume the value equivalence between the variable Target and the project objectif.\n",
    "\n",
    "| Target | Meaning | Objectif | Meaning|\n",
    "| --- | --- | --- | --- |\n",
    "| 1 | client with payment difficulties | 1 | refused credit |\n",
    "| 0 | all other cases | 0 | granted credit |\n"
   ]
  },
  {
   "cell_type": "markdown",
   "id": "3b4e1b1f-7c96-42f4-b32d-f5856fb280c6",
   "metadata": {},
   "source": [
    "<a id='app_train_plot_categ_vari'></a>\n",
    "\n",
    "---\n",
    "### <span style='background:#0075bc'><span style='color:white'>Plotting categorical variables</span></span>"
   ]
  },
  {
   "cell_type": "code",
   "execution_count": null,
   "id": "65764142-7e26-4fdd-9fb0-005ca0e93265",
   "metadata": {},
   "outputs": [],
   "source": [
    "# Lis of categorical variables\n",
    "cols_cat_train = \\\n",
    "    application_train.select_dtypes(exclude=[np.number]).columns.to_list()\n",
    "cols_cat_train"
   ]
  },
  {
   "cell_type": "markdown",
   "id": "0aa35524-ac31-461b-87aa-c040e9293c0e",
   "metadata": {},
   "source": [
    "We will now plot some of the Categorical Variables of the table application_train, and see their impact on the Target Variable."
   ]
  },
  {
   "cell_type": "markdown",
   "id": "7b759813-b69e-4417-a01c-99eeacdf7670",
   "metadata": {},
   "source": [
    "---\n",
    "---\n",
    "\n",
    "**NAME_CONTRACT_TYPE**\n",
    "\n",
    "This column contains information about the type of loan for the given applicant. As per the documentation provided by Home Credit, there are two types of loans, i.e. Revolving Loans and Cash Loans."
   ]
  },
  {
   "cell_type": "code",
   "execution_count": null,
   "id": "64753a52-2c25-49ac-b8fe-6f9a194f24cc",
   "metadata": {
    "ExecuteTime": {
     "end_time": "2020-10-30T11:01:31.130344Z",
     "start_time": "2020-10-30T11:01:30.976756Z"
    }
   },
   "outputs": [],
   "source": [
    "# let us first see the unique categories of 'NAME_CONTRACT_TYPE'\n",
    "EDA_kernel_kaggle.print_unique_categories(application_train,\n",
    "                                          'NAME_CONTRACT_TYPE')\n",
    "\n",
    "# plotting the Pie Plot for the column\n",
    "EDA_kernel_kaggle.plot_categorical_variables_pie(application_train,\n",
    "                                                 'NAME_CONTRACT_TYPE',\n",
    "                                                 hole=0.5)"
   ]
  },
  {
   "cell_type": "markdown",
   "id": "168341e2-963f-4ad1-b511-1854fff0051e",
   "metadata": {
    "tags": []
   },
   "source": [
    "**Observations and Conclusions**\n",
    "\n",
    "From the above plot, we can draw following observations and conclusions:\n",
    "<ol><li>From the first subplot, i.e. the overall distribution:\n",
    "        <ul><li>It can be seen that most of the loans that the customers take are Cash Loans.</li>\n",
    "            <li>Only 9.52% of the people have taken Revolving Loans.</li></ul></li>\n",
    "<li>From the second subplot, i.e. Percentage of Defaulters:\n",
    "        <ul><li>We see is that there are more percentage of people who have defaulted with Cash Loans (8.35%) as compared to those who defaulted with Revolving Loans (5.48%).</li></ul></li></ol>"
   ]
  },
  {
   "cell_type": "markdown",
   "id": "22a1bfe3-c049-4543-beb4-49d14a6982cb",
   "metadata": {},
   "source": [
    "---\n",
    "**CODE_GENDER**\n",
    "\n",
    "This column contains information about the Gender of the Client/Applicant.<br>\n",
    "Here <b>M</b> stands for <b>Male</b> and <b>F</b> for <b>Female</b>."
   ]
  },
  {
   "cell_type": "code",
   "execution_count": null,
   "id": "3bc1d9de-0101-401b-97d1-2c7586462c76",
   "metadata": {
    "ExecuteTime": {
     "end_time": "2020-10-30T11:01:34.550580Z",
     "start_time": "2020-10-30T11:01:34.448880Z"
    }
   },
   "outputs": [],
   "source": [
    "# let us first see the unique categories of 'CODE_GENDER'\n",
    "EDA_kernel_kaggle.print_unique_categories(application_train, 'CODE_GENDER',\n",
    "                                          show_counts=True)\n",
    "\n",
    "# plotting the Pie Plot for the Column\n",
    "EDA_kernel_kaggle.plot_categorical_variables_pie(application_train,\n",
    "                                                 'CODE_GENDER', hole=0.5)"
   ]
  },
  {
   "cell_type": "markdown",
   "id": "933b7e7f-f951-41a2-a254-944028df61a8",
   "metadata": {},
   "source": [
    "**Observations and Conclusions:**\n",
    "\n",
    "The Distribution of CODE_GENDER feature seems interesting. Here are some talking points:\n",
    "<ol><li>First point to observe is that there are 4 rows in the application_train table which have 'XNA' genders, which dont make much sense, and can be counted as NaN values. Since they are only 4 in Number and only belong to Non-Defaulter Category. So, we can eliminate those rows without much hesitation.</li>\n",
    "    <li>From the subplot 1 we see that for the given dataset, there are more number of Female applicants (65.8%) than Male applicants (34.2%). </li>\n",
    "    <li>However, contrary to the number of Female applicants, from the second plot we note that it has been seen that Male applicants tend to default more (10.14%) as compared to Female applicants (7%). </li></ol>\n",
    "Thus, it can be said that Male have more tendency to default than Female as per the given dataset."
   ]
  },
  {
   "cell_type": "markdown",
   "id": "62c3dab8-a62e-447a-b9be-3a5ddb1e9377",
   "metadata": {},
   "source": [
    "---\n",
    "**Distribution of Categorical Variable FLAG_OWN_CAR**\n",
    "\n",
    "This column is a boolean column, which tells whether if the client owns a car or not.<br>\n",
    "Here <b>1</b> stands for <b>Yes</b> and <b>0</b> stands for <b>No</b>."
   ]
  },
  {
   "cell_type": "code",
   "execution_count": null,
   "id": "52b64c74-ee70-4e7f-a75b-9c9ff00f314b",
   "metadata": {
    "ExecuteTime": {
     "end_time": "2020-10-30T11:01:37.621821Z",
     "start_time": "2020-10-30T11:01:37.593869Z"
    }
   },
   "outputs": [],
   "source": [
    "# let us first see the unique categories of 'FLAG_OWN_CAR'\n",
    "EDA_kernel_kaggle.print_unique_categories(application_train, 'FLAG_OWN_CAR')\n",
    "\n",
    "# plotting the Pie Plot for the Column\n",
    "EDA_kernel_kaggle.plot_categorical_variables_pie(application_train,\n",
    "                                                 column_name='FLAG_OWN_CAR',\n",
    "                                                 hole=0.5)"
   ]
  },
  {
   "cell_type": "markdown",
   "id": "cf8ff306-35bf-4bdb-9230-7affc430074e",
   "metadata": {},
   "source": [
    "---\n",
    "**Distribution of Categorical Variable FLAG_OWN_REALTY**\n",
    "\n",
    "This column is a boolean column, which tells whether if the client owns a house or flat.<br>\n",
    "Here <b>1</b> stands for <b>Yes</b> and <b>0</b> stands for <b>No</b>."
   ]
  },
  {
   "cell_type": "code",
   "execution_count": null,
   "id": "43858d35-3383-4b86-a8ae-66cc5481611b",
   "metadata": {
    "ExecuteTime": {
     "end_time": "2020-10-30T11:01:37.621821Z",
     "start_time": "2020-10-30T11:01:37.593869Z"
    }
   },
   "outputs": [],
   "source": [
    "# let us first see the unique categories of 'FLAG_OWN_REALTY'\n",
    "EDA_kernel_kaggle.print_unique_categories(application_train,\n",
    "                                          'FLAG_OWN_REALTY')\n",
    "\n",
    "# plotting the Pie Plot for the Column\n",
    "EDA_kernel_kaggle.plot_categorical_variables_pie(application_train,\n",
    "                                                 column_name='FLAG_OWN_REALTY',\n",
    "                                                 hole=0.5)"
   ]
  },
  {
   "cell_type": "markdown",
   "id": "d5ca2551-7561-49c9-839c-5c892a695b7f",
   "metadata": {},
   "source": [
    "---\n",
    "**Distribution of Categorical Variable NAME_TYPE_SUITE**\n",
    "\n",
    "This column is a boolean column, which tells whether if the client owns a house or flat.<br>\n",
    "Here <b>1</b> stands for <b>Yes</b> and <b>0</b> stands for <b>No</b>."
   ]
  },
  {
   "cell_type": "code",
   "execution_count": null,
   "id": "1e1d2837-b2d8-49e0-b3cc-719a2f69636e",
   "metadata": {
    "ExecuteTime": {
     "end_time": "2020-10-30T11:01:37.621821Z",
     "start_time": "2020-10-30T11:01:37.593869Z"
    }
   },
   "outputs": [],
   "source": [
    "# let us first see the unique categories of 'NAME_TYPE_SUITE'\n",
    "EDA_kernel_kaggle.print_unique_categories(application_train,\n",
    "                                          'NAME_TYPE_SUITE')\n",
    "\n",
    "# plotting the Pie Plot for the Column\n",
    "EDA_kernel_kaggle.plot_categorical_variables_pie(application_train,\n",
    "                                                 column_name='NAME_TYPE_SUITE',\n",
    "                                                 hole=0.5)"
   ]
  },
  {
   "cell_type": "markdown",
   "id": "2cf546a8-10ce-4ad8-becf-e74b40c2a865",
   "metadata": {},
   "source": [
    "---\n",
    "**Distribution of Categorical Variable FLAG_EMP_PHONE**\n",
    "\n",
    "This column is a boolean column, which tells whether if the client provided his Work Phone Number or not.<br>\n",
    "Here <b>1</b> stands for <b>Yes</b> and <b>0</b> stands for <b>No</b>."
   ]
  },
  {
   "cell_type": "code",
   "execution_count": null,
   "id": "fbeda5a2-ab87-495b-988a-2ac58775eaac",
   "metadata": {
    "ExecuteTime": {
     "end_time": "2020-10-30T11:01:37.621821Z",
     "start_time": "2020-10-30T11:01:37.593869Z"
    }
   },
   "outputs": [],
   "source": [
    "# let us first see the unique categories of 'FLAG_EMP_PHONE'\n",
    "EDA_kernel_kaggle.print_unique_categories(application_train, 'FLAG_EMP_PHONE')\n",
    "\n",
    "# plotting the Pie Plot for the Column\n",
    "EDA_kernel_kaggle.plot_categorical_variables_pie(application_train,\n",
    "                                                 column_name='FLAG_EMP_PHONE',\n",
    "                                                 hole=0.5)"
   ]
  },
  {
   "cell_type": "markdown",
   "id": "da16df70-c691-4350-9994-4350b828eb29",
   "metadata": {},
   "source": [
    "**Observations and Conclusions:**\n",
    "\n",
    "This feature contains two categories, i.e. if the client had provided his Work Phone Number during registration/application process or not.\n",
    "<ol><li>From the first subplot we see that most of the applicants do not provide their Work Phone Number (82%) and only 18% have provided their Work Phone Number.\n",
    "    <li>It can also be seen that the Default tendency for those who do provide Work Phone Number is more than those who do not provide Work Phone Number.<br>\n",
    "        This is characteristic could be attributed to the fact that the Defaulters might be providing their Work Phone Numbers so that they don't get disturbed on their personal phone."
   ]
  },
  {
   "cell_type": "markdown",
   "id": "fb8c9f4e-9df9-434a-b2a6-27cb5c99867e",
   "metadata": {},
   "source": [
    "---\n",
    "**REGION_RATING_CLIENT_W_CITY**\n",
    "\n",
    "This feature is the rating provided by the Home Credit to each client's region based on the surveys that they might have done. This rating also takes into account the City in which the client lives. <br>\n",
    "Taking City into account is important because even if some regions have a good rating in a particular City, but that City doesn't have high rating, then applicant would be given a medium rating and not a high rating.<br>\n",
    "It contains values in the range from 1 to 3."
   ]
  },
  {
   "cell_type": "code",
   "execution_count": null,
   "id": "960aefdf-deea-4d40-a885-12d3a278069f",
   "metadata": {
    "ExecuteTime": {
     "end_time": "2020-10-30T11:01:38.865392Z",
     "start_time": "2020-10-30T11:01:38.836454Z"
    }
   },
   "outputs": [],
   "source": [
    "# let us first see the unique categories of 'REGION_RATING_CLIENT_W_CITY'\n",
    "EDA_kernel_kaggle.print_unique_categories(application_train,\n",
    "                                          'REGION_RATING_CLIENT_W_CITY')\n",
    "\n",
    "# plotting the Pie Plot for the Column\n",
    "EDA_kernel_kaggle.plot_categorical_variables_pie(application_train,\n",
    "                                    column_name='REGION_RATING_CLIENT_W_CITY')"
   ]
  },
  {
   "cell_type": "markdown",
   "id": "e0a746ab-15d2-43a1-a2d7-760da7476550",
   "metadata": {},
   "source": [
    "**Observations and Conclusions:**\n",
    "\n",
    "From the above plots, we can draw following insights:\n",
    "<ol><li>From the first subplot, we see that most of the clients (74.6%) have a region rating of 2. This is the middle value which is for most of the applicants.<br>Very few applicants have a region rating of 1 (only 11.1%) and some have a rating of 3 (14.3%).</li>\n",
    "    <li>Among the Defaulters, it is seen that most of the defaulters have a region rating of 3 (11.4%) which is comparably higher to the other two ratings, i.e. clients with rating of 1 have a Defaulting percentage of just 4.84% and with rating 2 have a percentage of 7.92%.</li>\n",
    "    </ol>\n",
    "This shows that the rating 3 could be an important attribute for making a decision on Defaulting Characteristics."
   ]
  },
  {
   "cell_type": "markdown",
   "id": "f0b679f0-4844-4b6d-8c90-04ab029c3a00",
   "metadata": {},
   "source": [
    "---\n",
    "**NAME_EDUCAtION_TYPE**\n",
    "\n",
    "This feature descibes/enlists the Highest Education that the client had achieved."
   ]
  },
  {
   "cell_type": "code",
   "execution_count": null,
   "id": "3cac2358-afcb-4406-ae81-86c7062d933d",
   "metadata": {
    "ExecuteTime": {
     "end_time": "2020-10-30T10:20:01.215757Z",
     "start_time": "2020-10-30T10:19:59.388865Z"
    }
   },
   "outputs": [],
   "source": [
    "# let us first see the unique categories of 'NAME_EDUCATION_TYPE'\n",
    "EDA_kernel_kaggle.print_unique_categories(application_train,\n",
    "                                          'NAME_EDUCATION_TYPE',\n",
    "                                          show_counts=True)\n",
    "\n",
    "# plotting the Bar Plot for the Column\n",
    "EDA_kernel_kaggle.plot_categorical_variables_bar(application_train,\n",
    "                                            column_name='NAME_EDUCATION_TYPE',\n",
    "                                                 rotation=45,\n",
    "                                                 horizontal_adjust=0.25)"
   ]
  },
  {
   "cell_type": "markdown",
   "id": "2b1dfb3c-03fb-4f5d-b68f-b2106dd36944",
   "metadata": {},
   "source": [
    "**Observations and Conclusions:**\n",
    "\n",
    "Looking at the above plots, we can conclude the following:\n",
    "<ol><li>About 71% of people have had their education only till Secondary/Secondary Special, along with 24.34% clients having done Higher Education. This suggests that most of the clients/borrowers don't have a high education level.</li>\n",
    "    <li>From the second plot, we see that the people who have had their studies till only Lower Secondary have the highest Defaulting Characterists, with Secondary and Incomplete higher having similar defaulting tendencies.</li>\n",
    "    <li>The group of people with Higher Education have comparably lower defaulting tendency, which is logical too. Also, people with Academic Degree show the least Defaulting Rate. However, the Academic Degree group are very few in numbers, so it might not be very useful.</li></ol>\n",
    "   "
   ]
  },
  {
   "cell_type": "markdown",
   "id": "5cef58f0-b75a-4ae4-9bbd-14e4f9921ff2",
   "metadata": {},
   "source": [
    "---\n",
    "**OCCUPATION_TYPE**\n",
    "\n",
    "This feature tells about the type of Occupation that the client has. This can be a very important feature which could describe the Defaulting Characteristics of a client. Let us see the plots for them."
   ]
  },
  {
   "cell_type": "code",
   "execution_count": null,
   "id": "0988061c-256d-4bdb-a4f5-d11d038d9ea3",
   "metadata": {
    "ExecuteTime": {
     "end_time": "2020-10-28T13:07:33.619009Z",
     "start_time": "2020-10-28T13:07:32.817183Z"
    }
   },
   "outputs": [],
   "source": [
    "# let us first see the unique categories of 'OCCUPATION_TYPE'\n",
    "EDA_kernel_kaggle.print_unique_categories(application_train,\n",
    "                                          'OCCUPATION_TYPE')\n",
    "\n",
    "# plotting the Bar Plot for the Column\n",
    "EDA_kernel_kaggle.plot_categorical_variables_bar(application_train,\n",
    "                                                 column_name='OCCUPATION_TYPE',\n",
    "                                                 figsize=(20, 6),\n",
    "                                                 rotation=90)"
   ]
  },
  {
   "cell_type": "markdown",
   "id": "5d57c32d-7471-40b5-ad44-54d38886091d",
   "metadata": {},
   "source": [
    "**Observations and Conclusions:**\n",
    "\n",
    "From the plots of Occupation Type, we can draw following observations:\n",
    "<ol><li>Among the applicants, the most common type of Occupation is Laborers contributing to close to 26% applications. The next most frequent occupation is Sales Staff, followed by Core Staff and Managers.</li>\n",
    "    <li>The Defaulting Rate for Low-Skill Laborers is the highest among all the occupation types (~17.5%). This is followed by Drivers, Waiters, Security Staff, Laborers, Cooking Staff, etc. All the jobs are low-level jobs. This shows that low-level Jobs people tend to have higher default rate.</li>\n",
    "    <li>The lowest Defaulting Rate are among Accountants, Core Staff, Managers, High skill tech staff, HR staff, etc. which are from medium to high level jobs.</li></ol>\n",
    "\n",
    "Thus it can be concluded that Low-level job workers tend to have a higher defaulting tendency compared to medium-high level jobs."
   ]
  },
  {
   "cell_type": "markdown",
   "id": "785aaa1e-971c-46f7-a518-1a23d0c5515d",
   "metadata": {},
   "source": [
    "---\n",
    "**ORGANIZATION_TYPE**\n",
    "\n",
    "Similar to Occupation Type, Organization Type that the client belongs to could also be an important feature for predicting the Default Risk of that client. Let us visualize this feature in more detail."
   ]
  },
  {
   "cell_type": "code",
   "execution_count": null,
   "id": "20363997-e31e-4a5d-817d-629a178a6a6c",
   "metadata": {
    "ExecuteTime": {
     "end_time": "2020-10-07T23:11:42.048922Z",
     "start_time": "2020-10-07T23:11:39.625970Z"
    }
   },
   "outputs": [],
   "source": [
    "print(f\"Total Number of categories of ORGANIZATION_TYPE = \"\n",
    "      \"{len(application_train.ORGANIZATION_TYPE.unique())}\")\n",
    "\n",
    "plt.figure(figsize=(25, 16))\n",
    "sns.set(style='whitegrid', font_scale=1.2)\n",
    "plt.subplots_adjust(wspace=0.25)\n",
    "\n",
    "plt.subplot(1, 2, 1)\n",
    "count_organization = application_train.ORGANIZATION_TYPE.value_counts()\\\n",
    "                    .sort_values(ascending=False)\n",
    "sns.barplot(x=count_organization, y=count_organization.index)\n",
    "plt.title('Distribution of ORGANIZATION_TYPE', pad=20)\n",
    "plt.xlabel('Counts')\n",
    "plt.ylabel('ORGANIZATION_TYPE')\n",
    "\n",
    "plt.subplot(1, 2, 2)\n",
    "percentage_default_per_organization = \\\n",
    "      application_train[application_train.TARGET == 1] \\\n",
    "      .ORGANIZATION_TYPE.value_counts() * 100 / count_organization\n",
    "percentage_default_per_organization = \\\n",
    "      percentage_default_per_organization.dropna()\\\n",
    "      .sort_values(ascending=False)\n",
    "sns.barplot(x=percentage_default_per_organization,\n",
    "            y=percentage_default_per_organization.index)\n",
    "plt.title('Percentage of Defaulters for each category of ORGANIZATION_TYPE',\n",
    "          pad=20)\n",
    "plt.xlabel('Percentage of Defaulters per category')\n",
    "plt.ylabel('ORGANIZATION_TYPE')\n",
    "\n",
    "plt.show()"
   ]
  },
  {
   "cell_type": "markdown",
   "id": "db3beb34-a17a-4a63-bb98-ae51089cd967",
   "metadata": {},
   "source": [
    "**Observations and Conclusions:**\n",
    "\n",
    "There are a lots of organization types which the client belongs to, 58 to be precise. The plots above give the following observations:\n",
    "<ol><li>From the first plot we see that most of the applicants work in Organizations of Type 'Business Entity Type3', 'XNA' or 'Self Employed'. The Organization Type 'XNA' could probably denote unclassified Organization TYpe.</li>\n",
    "    <li>From the second plot, we notice that the applicants belonging to 'Transport: type 3' have the highest defaulting tendency as compared to the rest. They are followed by organizations of types: 'Industry: type 13', 'Industry: type 8', 'Restaurant', 'Construction', etc.</li>\n",
    "    <li>The organizations which show lowest default rates are 'Trade: type 4', 'Industry: type 12', etc.</li>\n",
    "</ol>\n",
    "These type numbers also would say something more about the Organization, however, we don't have any information related to that, so we will stick with the naming provided to us only."
   ]
  },
  {
   "cell_type": "markdown",
   "id": "51a99f86-c685-4918-bbdf-28a8c124798a",
   "metadata": {},
   "source": [
    "---\n",
    "**REG_CITY_NOT_LIVE_CITY, REG_CITY_NOT_WORK_CITY, LIVE_CITY_NOT_WORK_CITY**\n",
    "<br><br>\n",
    "<i>REG_CITY_NOT_LIVE_CITY, REG_CITY_NOT_WORK_CITY:</i><br>\n",
    "These columns include flags whether if the the client's permanent address matches with his Contact Address or Work Address or not at region level <br><br>\n",
    "<i>LIVE_CITY_NOT_WORK_CITY</i>\n",
    "This column indicates whether if the client's permanent address matches with his Contact Address at city level or not.<br><br>\n",
    "Here 1 indicates different addresses and 0 indicates same addresses."
   ]
  },
  {
   "cell_type": "code",
   "execution_count": null,
   "id": "2ea5e1fc-d2b5-4db4-a390-df98126eada1",
   "metadata": {
    "ExecuteTime": {
     "end_time": "2020-10-07T23:11:42.864516Z",
     "start_time": "2020-10-07T23:11:42.050889Z"
    }
   },
   "outputs": [],
   "source": [
    "EDA_kernel_kaggle.plot_categorical_variables_bar(application_train,\n",
    "                                    column_name='REG_CITY_NOT_LIVE_CITY',\n",
    "                                                 figsize=(14, 4),\n",
    "                                                 horizontal_adjust=0.33)\n",
    "print('-'*140)\n",
    "print()\n",
    "\n",
    "EDA_kernel_kaggle.plot_categorical_variables_bar(application_train,\n",
    "                                    column_name='REG_CITY_NOT_WORK_CITY',\n",
    "                                                 figsize=(14, 4),\n",
    "                                                 horizontal_adjust=0.33)\n",
    "print('-'*140)\n",
    "print()\n",
    "\n",
    "EDA_kernel_kaggle.plot_categorical_variables_bar(application_train,\n",
    "                                    column_name='LIVE_CITY_NOT_WORK_CITY',\n",
    "                                                 figsize=(14, 4),\n",
    "                                                 horizontal_adjust=0.33)\n",
    "print('-'*140)\n",
    "print()"
   ]
  },
  {
   "cell_type": "markdown",
   "id": "59c5cfc9-39f7-40c9-86d7-51884d8a7d62",
   "metadata": {},
   "source": [
    "**Observations and Conclusions:**\n",
    "\n",
    "From the above 3 plots, following insights can be drawn:\n",
    "<ol><li>Of all the applicants there are only a minority of applicants whose addresses do not match.\n",
    "    <ul><li>Firstly, there are only 7.52% people who have different permanent address from their contact address at region level.</li>\n",
    "        <li>Secondly, there are around 23.05% people who have different permanent address from their work address at region level. This higher number is explainable, because it is possible that they work in different region as compared to their permanent address.</li>\n",
    "        <li>Lastly, there are around 17.96% people who have different permanent address from their contact address at city level.</li>\n",
    "    </ul>\n",
    "    <li>\n",
    "        <ul><li>If we look at the defaulting characteristics, we find that there is maximum defaulting tendency of those people who have their permanent and contact addresses different at region level, which is followed by different permanent and work address and lastly different permanent and contact address at city level.</li>\n",
    "            <li>For all the cases it is seen that the Defaulting tendency of those people who have different addresses is higher than those who have same address. This means that somewhere, this difference in address may suggest Defaulting Risk.</li>\n",
    "        </ul>\n",
    "    </li>\n",
    "    </ol>"
   ]
  },
  {
   "cell_type": "markdown",
   "id": "276e2318-0b6d-4adf-9e2f-0767d63544eb",
   "metadata": {},
   "source": [
    "---\n",
    "**FLAG_DOCUMENT_3**\n"
   ]
  },
  {
   "cell_type": "markdown",
   "id": "6dd56df8-648d-45ad-bab6-bd0fd1ac5987",
   "metadata": {},
   "source": [
    "This columns contains the flag about a document that was to be submitted by the applicant. It's value is 0 if the client had provided the document and 1 if not."
   ]
  },
  {
   "cell_type": "code",
   "execution_count": null,
   "id": "b2018280-61e4-4d7d-965f-216f9cb094b8",
   "metadata": {
    "ExecuteTime": {
     "end_time": "2020-10-07T23:11:43.069948Z",
     "start_time": "2020-10-07T23:11:42.866492Z"
    }
   },
   "outputs": [],
   "source": [
    "EDA_kernel_kaggle.plot_categorical_variables_bar(application_train,\n",
    "                                                 column_name='FLAG_DOCUMENT_3',\n",
    "                                                 figsize=(14, 4),\n",
    "                                                 horizontal_adjust=0.33)"
   ]
  },
  {
   "cell_type": "markdown",
   "id": "9d6c8c2a-5706-416e-9f39-e709c6eb810c",
   "metadata": {},
   "source": [
    "**Observations and Conclusions:**\n",
    "\n",
    "From the above plot, we see that:\n",
    "<ol><li>From the first subplot, we see that most of the clients hadn't provided this document (~71%) and only 29% did. </li>\n",
    "    <li>From the second subplot, we see that those who had provided this document had a higher defaulting rate than those who didn't. This means that the applicants who had provided the Document_3 tend to default more than those who don't. </li>\n",
    "    <li>Perhaps this could be something related to BPL certificate or something, but we haven't been provided with that information, so we cannot say anything about the kind of document it could have been.</li>\n",
    "</ol>"
   ]
  },
  {
   "cell_type": "markdown",
   "id": "6a5bdd12-317a-406f-bc27-46334bb5c92a",
   "metadata": {},
   "source": [
    "<a id='app_train_plot_conti_vari'></a>\n",
    "\n",
    "---\n",
    "### <span style='background:#0075bc'><span style='color:white'>Plotting continous variables</span></span>"
   ]
  },
  {
   "cell_type": "markdown",
   "id": "483fabe1-6da0-4d2a-9a4b-cd36dc225e7c",
   "metadata": {},
   "source": [
    "---\n",
    "**Age of Applicant**\n",
    "For the given dataset, the age is given in Days, which can be harder to interpret. Thus, we will create a latent variable to store the ages in Years, which would be easier to analyse and interpret."
   ]
  },
  {
   "cell_type": "code",
   "execution_count": null,
   "id": "7009a2cb-b9a6-4bfd-96a9-1dec1ab427b5",
   "metadata": {
    "ExecuteTime": {
     "end_time": "2020-10-07T23:11:44.830702Z",
     "start_time": "2020-10-07T23:11:43.071955Z"
    }
   },
   "outputs": [],
   "source": [
    "application_train['AGE_YEARS'] = application_train['DAYS_BIRTH'] * -1 / 365\n",
    "\n",
    "EDA_kernel_kaggle.plot_continuous_variables(application_train, 'AGE_YEARS',\n",
    "                                            plots=['distplot', 'box'])\n",
    "_ = application_train.pop('AGE_YEARS')"
   ]
  },
  {
   "cell_type": "markdown",
   "id": "fe9cdaa9-f9af-4f47-91c2-9726c35d7b28",
   "metadata": {},
   "source": [
    "**Observations and Conclusions:**\n",
    "\n",
    "From the above two plots, we can draw some important insights.\n",
    "<ol><li>From the distplot, we can observe the peak of Age of people who Default to be close to 30 years. Also, at this point, the Non-Defaulters have a quite smaller PDF. One more thing to note is that the PDF of Age for Defaulters starts a bit left from the Non-Defaulters, and also is a bit throughtout the range. This means that the Defaulters are usually younger than Non-Defaulters.</li>\n",
    "    <li>From CDF too we see that the probability\n",
    "    <li>From the box-plot too, we can better visualize the same thing. The Age of Defaulters is usually lesser than the Non-Defaulters. All the quantiles of ages of Defaulters is lesser than Non-Defaulters. The 75th percentile value of Non-Defaulters is around 54 years while for Defaulters it is near to 49 years.</li></ol>\n",
    "These observations imply that the Defaulters are usually younger than Non-Defaulters."
   ]
  },
  {
   "cell_type": "markdown",
   "id": "a3932e9b-e1cf-4588-a5d6-f3da5630a8dd",
   "metadata": {},
   "source": [
    "---\n",
    "---\n",
    "**Distribution of Continuous Variables with DAYS features**\n",
    "\n",
    "---\n",
    "---\n",
    "\n"
   ]
  },
  {
   "cell_type": "markdown",
   "id": "97305bc2-27a5-47a3-85cc-688ad3734d4d",
   "metadata": {
    "ExecuteTime": {
     "end_time": "2020-09-30T12:59:50.226678Z",
     "start_time": "2020-09-30T12:59:50.220667Z"
    }
   },
   "source": [
    "**DAYS_EMPLOYED**\n",
    "\n",
    "This feature tells about the number of days from the day of application the applicant had been employed. For easy interpretation, we will convert the days to years."
   ]
  },
  {
   "cell_type": "code",
   "execution_count": null,
   "id": "32ac9743-cd07-441a-aa81-014aecc45bdc",
   "metadata": {
    "ExecuteTime": {
     "end_time": "2020-10-07T23:11:45.217670Z",
     "start_time": "2020-10-07T23:11:44.831673Z"
    }
   },
   "outputs": [],
   "source": [
    "application_train['YEARS_EMPLOYED'] = application_train.DAYS_EMPLOYED * -1/365\n",
    "\n",
    "EDA_kernel_kaggle.print_percentiles(application_train, 'DAYS_EMPLOYED')\n",
    "\n",
    "EDA_kernel_kaggle.plot_continuous_variables(application_train,\n",
    "                                            'YEARS_EMPLOYED',\n",
    "                                            plots=['box'],\n",
    "                                            scale_limits=[0, 70],\n",
    "                                            figsize=(10, 8))\n",
    "_ = application_train.pop('YEARS_EMPLOYED')"
   ]
  },
  {
   "cell_type": "markdown",
   "id": "c311b6e1-b2be-46f4-b863-93f4d4bbd467",
   "metadata": {
    "tags": []
   },
   "source": [
    "**Observations and Conclusions:**\n",
    "\n",
    "<ol><li>We see that the DAYS_EMPLOYED column contains some erroneous datapoints with values 365243. These seem like some erroneous/non-sensicle values.</li>\n",
    "    <li>From the box plot we observe that the Defaulters seem to have less number of years being employed as compared to Non-Defaulters. All the 25th, 50th and 75th quantile for Defaulters are lesser than those of Non-Defaulters."
   ]
  },
  {
   "cell_type": "markdown",
   "id": "5c4a2d98-70c3-4d76-9069-2d16b23d5208",
   "metadata": {},
   "source": [
    "<b>DAYS_ID_PUBLISH</b><br>\n",
    "\n",
    "This columns tells about how many days ago from the day of registration did the client change his Identity Document with which he applied for loan."
   ]
  },
  {
   "cell_type": "code",
   "execution_count": null,
   "id": "310bf2ad-5fbb-42fb-a9d8-ce684782ca7a",
   "metadata": {
    "ExecuteTime": {
     "end_time": "2020-10-07T23:11:45.481977Z",
     "start_time": "2020-10-07T23:11:45.219635Z"
    }
   },
   "outputs": [],
   "source": [
    "EDA_kernel_kaggle.plot_continuous_variables(application_train,\n",
    "                                            'DAYS_ID_PUBLISH',\n",
    "                                            plots=['box'], figsize=(10, 8))"
   ]
  },
  {
   "cell_type": "markdown",
   "id": "9537eeeb-ffd2-4578-8890-037bdb6810bf",
   "metadata": {},
   "source": [
    "**Observations and Conclusions:**\n",
    "\n",
    "From the above box plot, we see a similar trend as seen with DAYS_REGISTRATION, in which the Defaulters usually had lesser number of days since they changed their identity. The Non-Defaulters show to have more number of days for all the quantiles since they changed their identity document."
   ]
  },
  {
   "cell_type": "markdown",
   "id": "1fafe425-de94-4418-a3e2-05d64fb071b3",
   "metadata": {},
   "source": [
    "<b><u>Distribution of EXT_SOURCES</u></b>"
   ]
  },
  {
   "cell_type": "markdown",
   "id": "37e9169a-27f1-4014-820c-e7f265ecae43",
   "metadata": {},
   "source": [
    "There are three EXT_SOURCES columns, which contain values between 0 and 1. They are normalized scores from different sources"
   ]
  },
  {
   "cell_type": "code",
   "execution_count": null,
   "id": "32cbc06f-18e6-4ae7-83aa-8a6c70c8ce6a",
   "metadata": {
    "ExecuteTime": {
     "end_time": "2020-10-07T23:11:48.469053Z",
     "start_time": "2020-10-07T23:11:45.483928Z"
    }
   },
   "outputs": [],
   "source": [
    "print()\n",
    "EDA_kernel_kaggle.plot_continuous_variables(application_train, 'EXT_SOURCE_1',\n",
    "                                            plots=['distplot', 'box'],\n",
    "                                            figsize=(16, 8))\n",
    "print('-'*100)\n",
    "print()\n",
    "EDA_kernel_kaggle.plot_continuous_variables(application_train, 'EXT_SOURCE_2',\n",
    "                                            plots=['distplot', 'box'],\n",
    "                                            figsize=(16, 8))\n",
    "print('-'*100)\n",
    "print()\n",
    "EDA_kernel_kaggle.plot_continuous_variables(application_train, 'EXT_SOURCE_3',\n",
    "                                            plots=['distplot', 'box'],\n",
    "                                            figsize=(16, 8))"
   ]
  },
  {
   "cell_type": "markdown",
   "id": "c9909536-dcf0-4143-9a15-dfd4fd721107",
   "metadata": {},
   "source": [
    "**Observations and Conclusions:**\n",
    "\n",
    "From the above three plots, we can draw following conclusions:\n",
    "<ol><li>If we look at the box-plots, we can clearly see a similar trend for all three EXT_SOURCE columns, which is that the Defaulters tend to have considerably lower values.\n",
    "    <li>This trend can also be seen with the PDFs. The Non-Defaulters show a higher peak at high EXT_SOURCE values, and the Probability Densities are very low for low values. This implies that Non-Defaulters generally have high values of these scores.\n",
    "    <li>It is interesting to note that the median value for defaulters is almost equal to or lower than 25th percentile values of Non-Defaulters.</li>\n",
    "    <li>EXT_SOURCE_1 and EXT_SOURCE_3 columns tend to show better discrimination/separability as compared to EXT_SOURCE_2.\n",
    "    <li>These 3 features look to be best separating the Defaulters and Non-Defaulters linearly among all the features so far."
   ]
  },
  {
   "cell_type": "markdown",
   "id": "f8d60eac-aee8-4184-b687-d9d87f80e6ad",
   "metadata": {},
   "source": [
    "<b><u>Distribution of FLOORSMAX_AVG and FLOORSMIN_MODE</u></b>\n",
    "\n",
    "These columns describe the normalized scores of Average of Maximum number of Floors and Mode of Minimum number of Floors in applicant's building "
   ]
  },
  {
   "cell_type": "code",
   "execution_count": null,
   "id": "e9b1534c-c962-4a9c-a0be-b3c6d965dc11",
   "metadata": {
    "ExecuteTime": {
     "end_time": "2020-10-07T23:11:48.724360Z",
     "start_time": "2020-10-07T23:11:48.471039Z"
    }
   },
   "outputs": [],
   "source": [
    "EDA_kernel_kaggle.plot_continuous_variables(application_train,\n",
    "                                            'FLOORSMAX_AVG', plots=['box'],\n",
    "                                            figsize=(10, 8))"
   ]
  },
  {
   "cell_type": "code",
   "execution_count": null,
   "id": "3152a60b-442c-4267-a6d2-12b118e46890",
   "metadata": {
    "ExecuteTime": {
     "end_time": "2020-10-07T23:11:48.982670Z",
     "start_time": "2020-10-07T23:11:48.726356Z"
    }
   },
   "outputs": [],
   "source": [
    "EDA_kernel_kaggle.plot_continuous_variables(application_train,\n",
    "                                            'FLOORSMIN_MODE', plots=['box'],\n",
    "                                            figsize=(10, 8))"
   ]
  },
  {
   "cell_type": "markdown",
   "id": "11e1964a-147b-40be-b1af-80d204205916",
   "metadata": {},
   "source": [
    "**Observations and Conclusions**\n",
    "\n",
    "From the above plot, we can draw the following insights:\n",
    "<ol><li>The defaulters have lower median value of FLOORSMAX_AVG feature as compared to Non-Defaulters. The 75th percentile values of both the Defaulters and Non-Defaulters is more or less the same, but the 25th percentile value of Non-Defaulters is almost more than the median of Defaulters, thus this could be an important feature.</li>\n",
    "    <li>The Non-Defaulters also tend to show a higher value of FLLORSMIN_MODE as compared to Defaulters. The 75th percentile value of Non-Defaulters is significantly higher than the 75th percentile value of Defaulters."
   ]
  },
  {
   "cell_type": "markdown",
   "id": "10f78d94-0d89-4ec6-be7c-422c6f2e8c6e",
   "metadata": {},
   "source": [
    "<a id='app_train_phik_matrix'></a>\n",
    "\n",
    "---\n",
    "### <span style='background:#0075bc'><span style='color:white'>Phi-K matrix</span></span>"
   ]
  },
  {
   "cell_type": "markdown",
   "id": "22bfb8a8-f703-4856-b929-9bbd23380267",
   "metadata": {},
   "source": [
    "We will plot a heatmap of the values of Phi-K Correlation Coefficient between each of the feature with the other. <br>\n",
    "The Phi-K coefficient is similar to Correlation Coefficient except that it can be used with a pair of categorical features to check if one feature shows some sort of association with the other categorical feature. It's max value can be 1 which would show a maximum association between two categorical variables."
   ]
  },
  {
   "cell_type": "code",
   "execution_count": null,
   "id": "f14b7b04-4be1-473e-87fc-f9bb64b58de3",
   "metadata": {
    "tags": []
   },
   "outputs": [],
   "source": [
    "categorical_columns = ['TARGET', 'FLAG_MOBIL', 'FLAG_EMP_PHONE',\n",
    "                       'FLAG_WORK_PHONE', 'FLAG_CONT_MOBILE', 'FLAG_PHONE',\n",
    "                       'FLAG_EMAIL', 'REGION_RATING_CLIENT',\n",
    "                       'REGION_RATING_CLIENT_W_CITY',\n",
    "                       'REG_REGION_NOT_LIVE_REGION',\n",
    "                       'REG_REGION_NOT_WORK_REGION',\n",
    "                       'LIVE_REGION_NOT_WORK_REGION',\n",
    "                       'REG_CITY_NOT_LIVE_CITY',\n",
    "                       'REG_CITY_NOT_WORK_CITY', 'LIVE_CITY_NOT_WORK_CITY'] \\\n",
    "            + ['FLAG_DOCUMENT_' + str(i) for i in range(2, 22)] \\\n",
    "            + application_train.dtypes[application_train.dtypes == 'object'] \\\n",
    "            .index.tolist()\n",
    "EDA_kernel_kaggle.plot_phik_matrix(application_train,\n",
    "                                   categorical_columns,\n",
    "                                   figsize=(15, 15), fontsize=8,\n",
    "                                   cmap='coolwarm')"
   ]
  },
  {
   "cell_type": "markdown",
   "id": "b8316cd0-581a-4b78-a066-f17cb682bb26",
   "metadata": {},
   "source": [
    "\n",
    "**Summary**\n",
    "\n",
    "---\n",
    "---\n",
    "\n",
    "\n",
    "* The Phi-K correlation heat map above shows that most of the categorical variables are not correlated with each other, but that some of them are highly correlated.\n",
    "\n",
    "* Some of the highly correlated category pairs are :\n",
    "    * REGION_RATING_CLIENT_W_CITY and REGION_RATING_CLIENT - This is understandable as they more or less tell a similar story.\n",
    "    * LIVE_REGION_NOT_WORK_REGION and REG_REGION_NOT_WORK_REGION\n",
    "    * NAME_INCOME_TYPE, ORGANIZATION_TYPE and FLAG_EMP_PHONE\n",
    "\n",
    "* We can also observe a certain correlation between the type of organisation and the type of income of an applicant.\n",
    "\n",
    "* Similarly, there is a correlation between the type of occupation and the type of organisation.\n",
    "\n",
    "* We note that the categories :\n",
    "    * OCCUPATION_TYPE,\n",
    "    * ORGANISATION_TYPE,\n",
    "    * NAME_INCOME_TYPE,\n",
    "    * and REG_CITY_NOT_WORK_CITY\n",
    "    are among the categories most strongly correlated with the TARGET variable. They may be important in the classification task and would require further EDA analysis."
   ]
  },
  {
   "cell_type": "markdown",
   "id": "51460364-a7d8-447f-91f5-def414fce473",
   "metadata": {},
   "source": [
    "**Observations and Conclusions:**\n",
    "\n",
    "<ol><li>From the above heatmap of Phi-K Correlation, we see that most of the categorical features are not correlated to each other, however some of them show strong correlation.</li>\n",
    "    <li>Some of the highly correlated Category pairs are:\n",
    "        <ul><li>REGION_RATING_CLIENT_W_CITY and REGION_RATING_CLIENT -  This is understandable as they would more or less tell a similar story.</li>\n",
    "            <li>LIVE_REGION_NOT_WORK_REGION and REG_REGION_NOT_WORK_REGION</li>\n",
    "            <li>NAME_INCOME_TYPE, ORGANIZATION_TYPE and FLAG_EMP_PHONE</li>\n",
    "        </ul>\n",
    "    </li>\n",
    "    <li>We can also see some correlation between the Organization type and the income type of a client. Similarly we see a correlation between the Occupation Type and the Organization Type too.</li>\n",
    "    <li>We find that the category OCCUPATION_TYPE, ORGANIZATION_TYPE, NAME_INCOME_TYPE, REG_CITY_NOT_WORK_CITY are some of the highest correlated categories with the TARGET variable. These maybe important in the classification task, and would need further EDA</li></ol>\n",
    "    "
   ]
  },
  {
   "cell_type": "markdown",
   "id": "2c816b61-21f8-4439-8333-cf5536e91539",
   "metadata": {},
   "source": [
    "<a id='app_train_correlation_matrix'></a>\n",
    "\n",
    "---\n",
    "### <span style='background:#0075bc'><span style='color:white'>Correlation matrix</span></span>"
   ]
  },
  {
   "cell_type": "markdown",
   "id": "1c496cd1-221f-4489-ab97-089bd6735570",
   "metadata": {},
   "source": [
    "We will plot a heatmap of the correlation of each numeric feature with respect to other features. We have excluded the column SK_ID_CURR, as it does not have any relevance. This heatmap will help us identify the highly correlated numeric features and will also help us to identify features which are highly correlated with Target Variable."
   ]
  },
  {
   "cell_type": "code",
   "execution_count": null,
   "id": "a5f03366-6518-4060-bedd-eb538a857b66",
   "metadata": {},
   "outputs": [],
   "source": [
    "\n",
    "columns_to_drop = ['SK_ID_CURR'] + list(set(categorical_columns)\n",
    "                                        - set(['TARGET']))\n",
    "corr_mat = EDA_kernel_kaggle.correlation_matrix(application_train,\n",
    "                                                columns_to_drop,\n",
    "                                                figsize=(17, 17),\n",
    "                                                fontsize=8,\n",
    "                                                cmap='coolwarm')\n",
    "corr_mat.plot_correlation_matrix()"
   ]
  },
  {
   "cell_type": "code",
   "execution_count": null,
   "id": "fcf795b6-a871-4c9a-9bbd-c6540f4014e2",
   "metadata": {},
   "outputs": [],
   "source": [
    "# View the columns with the highest phik correlation with the target variable\n",
    "# in the application_train table\n",
    "top_corr_target_df = corr_mat.target_top_corr()\n",
    "print(\"-\" * 79)\n",
    "titre1 = 'The variables with the highest Phik'\n",
    "print(titre1 + '-correlation with the target variable are :')\n",
    "display(top_corr_target_df.style.hide(axis=\"index\"))\n",
    "print(\"-\"*79)"
   ]
  },
  {
   "cell_type": "markdown",
   "id": "2d939c05-25a6-4645-9358-87e06079bdb9",
   "metadata": {},
   "source": [
    "\n",
    "**Summary**\n",
    "\n",
    "---\n",
    "---\n",
    "\n",
    "* The heat map clearly shows the value or level of correlation that each particular variable has with all the other characteristics.\n",
    "\n",
    "* Part of the heat map contains a blue colour, indicating a very low correlation value. This implies that some of the features are effectively uncorrelated with the others.\n",
    "\n",
    "* However, we can see contrasting shades in the middle of the heat map. These shades represent a high correlation value between features. These are the features that are linked to the flat statistics.\n",
    "\n",
    "* If we look at the variables in the train_application, we can clearly see that the flat statistics are given in terms of Mean, Median and Mode, so we can expect the mean, median and mode to be correlated with each other. It should also be noted that variables in a particular category, for example the mean, are also correlated with other mean variables, such as the number of lifts, living area, non-liveable area, basement area, etc.\n",
    "\n",
    "* There is also a strong correlation between :\n",
    "    * AMT_GOODS_PRICE and AMT_CREDIT,\n",
    "    * CNT_FAM_members and CNT_Children\n",
    "    * and between DAYS_EMPLOYED and DAYS_BIRTH.\n",
    "\n",
    "* We do not want highly correlated variables because they increase the temporal complexity of the model without adding much value. As a result, we remove intercorrelated variables.\n",
    "\n",
    "* Among all the variables, we find a high correlation for the EXT_SOURCE variables with respect to the target variable. These may be important for our classification task."
   ]
  },
  {
   "cell_type": "markdown",
   "id": "fb412fe9-9e41-4cb4-9233-56bc26d232b2",
   "metadata": {
    "id": "UjzpPUhyDxT8",
    "tags": []
   },
   "source": [
    "<a id='application_test_dataset'></a>\n",
    "\n",
    "## <span style='background:#0085dd'><span style='color:white'>Dataset application_test</span></span>"
   ]
  },
  {
   "cell_type": "markdown",
   "id": "2131ddc7-f350-4ee2-8c76-5fd46a0e1ee5",
   "metadata": {},
   "source": [
    "This is the main table, broken into two files for Train (with TARGET) and **Test (without TARGET)**. <br>\n",
    "Static data for all applications. One row represents one loan in our data sample."
   ]
  },
  {
   "cell_type": "code",
   "execution_count": null,
   "id": "aa86f861-1802-47d7-8abd-8f737a8b5d04",
   "metadata": {
    "colab": {
     "base_uri": "https://localhost:8080/",
     "height": 242
    },
    "id": "wbuxtEb26P3y",
    "outputId": "5162fba7-7db6-4eb4-f3fe-8f38f4b2bd32"
   },
   "outputs": [],
   "source": [
    "# -----------------------------\n",
    "# File upload: application_test\n",
    "# -----------------------------\n",
    "\n",
    "# linked by 'SK_ID_CURR' to \"previous_application\", \"credit_card_balance\",\n",
    "# \"bureau\", \"POS_CASH_balance\" and \"installments_payments\"\n",
    "\n",
    "application_test = pd.read_csv('application_test.csv', low_memory=False,\n",
    "                               encoding='utf-8')\n",
    "application_test.name = 'application_test'\n",
    "\n",
    "# --------------\n",
    "# Dataset size\n",
    "# --------------\n",
    "print(\"The dataset 'application_test' contains \" +\n",
    "      str(application_test.shape[0]) + \" rows and \" +\n",
    "      str(application_test.shape[1]) + \" columns.\\n\")"
   ]
  },
  {
   "cell_type": "code",
   "execution_count": null,
   "id": "52c9babd-8281-4339-b3ef-b18ca8b112a2",
   "metadata": {
    "colab": {
     "base_uri": "https://localhost:8080/",
     "height": 242
    },
    "id": "wbuxtEb26P3y",
    "outputId": "5162fba7-7db6-4eb4-f3fe-8f38f4b2bd32"
   },
   "outputs": [],
   "source": [
    "# ---------------\n",
    "# Data overview\n",
    "# ---------------\n",
    "pd.options.display.max_columns = None\n",
    "application_test.head(3)"
   ]
  },
  {
   "cell_type": "code",
   "execution_count": null,
   "id": "992298e8-1284-47b5-90df-8286d5d9ab9a",
   "metadata": {
    "tags": []
   },
   "outputs": [],
   "source": [
    "# Columns name description\n",
    "HomeCredit_columns.loc[HomeCredit_columns[\"Table\"] ==\n",
    "                       \"application_{train|test}.csv\"].style.hide(axis=0)"
   ]
  },
  {
   "cell_type": "code",
   "execution_count": null,
   "id": "09d626da-e7d0-4535-88e4-567d8fc2af58",
   "metadata": {
    "colab": {
     "base_uri": "https://localhost:8080/",
     "height": 300
    },
    "id": "HRTp5goApIcW",
    "outputId": "87a80077-c5b1-43e0-9fa3-7dd2eb67dc3c",
    "tags": []
   },
   "outputs": [],
   "source": [
    "# --------------------\n",
    "# Column description\n",
    "# --------------------\n",
    "pd.options.display.max_rows = None\n",
    "info_test = tools_dataframe.complet_description(application_test)\n",
    "info_test"
   ]
  },
  {
   "cell_type": "code",
   "execution_count": null,
   "id": "b8a9e6cb-9fa0-4c1b-9455-4576e9659bdb",
   "metadata": {},
   "outputs": [],
   "source": [
    "# Visualization data types\n",
    "tools_dataframe.visu_dataTypes(info_test)"
   ]
  },
  {
   "cell_type": "code",
   "execution_count": null,
   "id": "134436ed-b7d4-4021-8214-ff95b4d4196a",
   "metadata": {},
   "outputs": [],
   "source": [
    "# Visualization column filling\n",
    "tools_dataframe.column_filling_visu(info_test)"
   ]
  },
  {
   "cell_type": "markdown",
   "id": "4b424f05-3349-4194-a9e4-00e1d8b79990",
   "metadata": {},
   "source": [
    "* The application_test.csv file consists of 48744 rows and 121 variables\n",
    "* The file consist on statistical data relating to loan applicants without the Target label.\n",
    "* Each row represents a loan application.\n",
    "* The application_test.csv dataframe contains the test dataset, and is similar to application_train.csv, except that the TARGET column has been omitted, which must be predicted using statistical and machine learning predictive models.\n",
    "* Since the variables in the application_test are identical to those in application_train, the univariate analysis is not repeated."
   ]
  },
  {
   "cell_type": "markdown",
   "id": "75d9fbfe-1173-4128-8b6d-0623add7605c",
   "metadata": {
    "id": "UjzpPUhyDxT8"
   },
   "source": [
    "<a id='bureau_dataset'></a>\n",
    "\n",
    "## <span style='background:#0085dd'><span style='color:white'>Dataset bureau</span></span>"
   ]
  },
  {
   "cell_type": "markdown",
   "id": "0bb1d1a7-6b1e-44a1-9dad-ac6475a09ada",
   "metadata": {},
   "source": [
    "* All client's previous credits provided by other financial institutions that were reported to Credit Bureau (for clients who have a loan in our sample).\n",
    "* For every loan in our sample, there are as many rows as number of credits the client had in Credit Bureau before the application date."
   ]
  },
  {
   "cell_type": "code",
   "execution_count": null,
   "id": "620f7af3-4e2a-4e55-aa1c-7d264889b172",
   "metadata": {
    "colab": {
     "base_uri": "https://localhost:8080/",
     "height": 178
    },
    "id": "Fle1NTmG6cRn",
    "outputId": "16388b37-99ec-498d-bb08-2f30f11916b9"
   },
   "outputs": [],
   "source": [
    "# -------------------------------\n",
    "# File upload: bureau\n",
    "# -------------------------------\n",
    "# linked to application_{train|test} by 'SK_ID_CURR'\n",
    "# linked to bureau_balance by 'SK_ID_BUREAU'\n",
    "bureau = pd.read_csv('bureau.csv', low_memory=False, encoding='utf-8')\n",
    "bureau.name = 'bureau'\n",
    "\n",
    "# --------------\n",
    "# Dataset size\n",
    "# --------------\n",
    "print(\"The dataset 'bureau.csv' contains \" +\n",
    "      str(bureau.shape[0]) + \" rows and \" +\n",
    "      str(bureau.shape[1]) + \" columns.\\n\")\n",
    "\n",
    "# ---------------\n",
    "# Data overview\n",
    "# ---------------\n",
    "bureau.head(3)"
   ]
  },
  {
   "cell_type": "code",
   "execution_count": null,
   "id": "c845d5dc-b826-4513-ac5a-ca7a584d9c8e",
   "metadata": {},
   "outputs": [],
   "source": [
    "# Columns name description\n",
    "HomeCredit_columns.loc[HomeCredit_columns[\"Table\"] ==\n",
    "                       \"bureau.csv\"].style.hide(axis=0)"
   ]
  },
  {
   "cell_type": "code",
   "execution_count": null,
   "id": "d6fe44c7-5d2c-4ffb-839b-5bf0d6e48ce0",
   "metadata": {
    "colab": {
     "base_uri": "https://localhost:8080/",
     "height": 288
    },
    "id": "JysQFtqdvzUE",
    "outputId": "b3f1118a-4077-47ad-a74b-716669f57edd",
    "tags": []
   },
   "outputs": [],
   "source": [
    "# --------------------\n",
    "# Column description\n",
    "# --------------------\n",
    "info_bureau = tools_dataframe.complet_description(bureau)\n",
    "info_bureau"
   ]
  },
  {
   "cell_type": "code",
   "execution_count": null,
   "id": "0417857a-d244-4803-96df-7a315e6edc8e",
   "metadata": {},
   "outputs": [],
   "source": [
    "# Visualization data types\n",
    "tools_dataframe.visu_dataTypes(info_bureau)"
   ]
  },
  {
   "cell_type": "code",
   "execution_count": null,
   "id": "7ccebbc8-46f9-4828-a13c-d208dee6d635",
   "metadata": {},
   "outputs": [],
   "source": [
    "# Visualization column filling\n",
    "tools_dataframe.column_filling_visu(info_bureau)"
   ]
  },
  {
   "cell_type": "code",
   "execution_count": null,
   "id": "e7281c8b-6d96-42c4-bd70-4df4344a5703",
   "metadata": {},
   "outputs": [],
   "source": [
    "# Analysis of common and unique values of SK_ID_BUREAU\n",
    "EDA_kernel_kaggle.common_values_dataframes(bureau, application_train,\n",
    "                                           application_test, 'SK_ID_BUREAU')"
   ]
  },
  {
   "cell_type": "markdown",
   "id": "22399d61-14cd-48fc-9d45-e89d27887131",
   "metadata": {},
   "source": [
    "**Observations and Conclusions:**\n",
    "\n",
    "<ol><li>The bureau.csv file contains close to 1.7M datapoints, with 17 features. Out of these 17 features, two are SK_ID_CURR and SK_ID_BUREAU.\n",
    "    <ul><li>SK_ID_BUREAU is the loan ID of the client's previous loan from other financial institutions. There may be multiple previous loans corresponding to a single SK_ID_CURR which depends on client's borrowing pattern.\n",
    "    <li>SK_ID_CURR is the loan ID of client's current loan with Home Credit.\n",
    "    <li>The rest of the features contain other stats such as DAYS_CREDIT, AMT_CREDIT_SUM, CREDIT_TYPE, etc.\n",
    "    </ul></li>\n",
    "    <li>There are 305k unique SK_ID_CURR in bureau out of which:\n",
    "        <ul><li>There are 263k SK_ID_CURR in bureau which are present in application_train out of total of total 307k of application_train's unique SK_ID_CURR. This means that some of the applicants in current loan application with Home Credit Group do not have any previous Credit history with Credit Bureau Department.<br>\n",
    "        <li>Similarly, there are 42.3k SK_ID_CURR in bureau which are present in application_test, out of total 48k of application_test's unique SK_ID_CURR.</ul>"
   ]
  },
  {
   "cell_type": "markdown",
   "id": "b4d2481e-0cea-41dd-b5b9-6cc0c2a4e6ed",
   "metadata": {},
   "source": [
    "<b>Merging the TARGETS from application_train to bureau table.</b>"
   ]
  },
  {
   "cell_type": "code",
   "execution_count": null,
   "id": "5680c058-b8a2-4d1c-80a0-9a12ce5b7f9f",
   "metadata": {
    "ExecuteTime": {
     "end_time": "2020-10-28T12:28:09.504857Z",
     "start_time": "2020-10-28T12:28:07.843300Z"
    }
   },
   "outputs": [],
   "source": [
    "print(\"-\"*100)\n",
    "print(\"Merging TARGET with bureau Table\")\n",
    "bureau_merged = application_train.iloc[:, :2].merge(bureau, on='SK_ID_CURR',\n",
    "                                                    how='left')\n",
    "print(\"-\"*100)"
   ]
  },
  {
   "cell_type": "markdown",
   "id": "67df25e8-d0a8-4dea-93a0-5324b36ecd20",
   "metadata": {
    "tags": []
   },
   "source": [
    "<a id='bureau_plot_categ_vari'></a>\n",
    "\n",
    "---\n",
    "### <span style='background:#0075bc'><span style='color:white'>Plotting categorical variables</span></span>"
   ]
  },
  {
   "cell_type": "markdown",
   "id": "cba68c1e-9ee4-4308-a767-1c701d1c3bcc",
   "metadata": {},
   "source": [
    "We will now plot some of the Categorical Variables of the table bureau, and see their impact on the Target Variable."
   ]
  },
  {
   "cell_type": "markdown",
   "id": "a6c366a0-03c5-4251-b53b-8b03a3f6c92f",
   "metadata": {},
   "source": [
    "<b><u>Distribution of Categorical Variable CREDIT_ACTIVE</u></b>"
   ]
  },
  {
   "cell_type": "markdown",
   "id": "2d237af8-b8ad-4c16-b668-2285310bb683",
   "metadata": {},
   "source": [
    "This column describes the Status of the previous loan reported from Credit Bureau."
   ]
  },
  {
   "cell_type": "code",
   "execution_count": null,
   "id": "f43868b5-da25-4f9b-8556-162c08e3b00d",
   "metadata": {
    "ExecuteTime": {
     "end_time": "2020-10-07T23:11:59.682924Z",
     "start_time": "2020-10-07T23:11:58.829181Z"
    }
   },
   "outputs": [],
   "source": [
    "# let us first see the unique categories of 'CREDIT_ACTIVE'\n",
    "EDA_kernel_kaggle.print_unique_categories(bureau_merged, 'CREDIT_ACTIVE',\n",
    "                                          show_counts=True)\n",
    "\n",
    "# plotting the Bar Plot for the Column\n",
    "EDA_kernel_kaggle.plot_categorical_variables_bar(bureau_merged,\n",
    "                                                 column_name='CREDIT_ACTIVE',\n",
    "                                                 horizontal_adjust=0.3,\n",
    "                                                 fontsize_percent='x-small')"
   ]
  },
  {
   "cell_type": "markdown",
   "id": "cc82ad50-9407-44d3-a1f5-506f0311d43f",
   "metadata": {},
   "source": [
    "**Observations and Conclusions:**\n",
    "\n",
    "From the above plot, we can draw the following insights:\n",
    "<ol><li>From the first subplot, we see that a majority of the previous loans from other financial institutions are Closed Loans (62.63%), followed by 36.98% active loans. The sold and Bad-Debt Loans are very less in number.</li>\n",
    "    <li>If we look at the Defaulters Percentage per category, we see that about 20% of people from Bad-Debt defaulted, which is the highest default rate. This is followed by Sold loans and Active Loans. The lowest default rate is for Closed Loans, which show a good history about a client. Thus the patten observed here is quite logical and expected."
   ]
  },
  {
   "cell_type": "markdown",
   "id": "a9d9d249-7514-4cab-9a99-4d3bff5797b9",
   "metadata": {},
   "source": [
    "<a id='bureau_plot_conti_vari'></a>\n",
    "\n",
    "---\n",
    "### <span style='background:#0075bc'><span style='color:white'>Plotting continous variables</span></span>"
   ]
  },
  {
   "cell_type": "markdown",
   "id": "88501b51-f0ef-4af4-8cdc-4713a21091ee",
   "metadata": {},
   "source": [
    "<u><b>Distribution of Continuous Variable with DAYS Features</b></u>"
   ]
  },
  {
   "cell_type": "markdown",
   "id": "f1440698-7c77-4e86-8c5b-f5c33166a385",
   "metadata": {},
   "source": [
    "<b>DAYS_CREDIT</b>\n",
    "\n",
    "This column describes about the number of days before current application when the client applied for Credit Bureau Credit. For ease of interpretability, we will convert these days to years."
   ]
  },
  {
   "cell_type": "code",
   "execution_count": null,
   "id": "a91f218e-ca77-4ab3-85f8-335a7b9cfd7c",
   "metadata": {
    "ExecuteTime": {
     "end_time": "2020-10-07T23:12:08.850384Z",
     "start_time": "2020-10-07T23:11:59.684892Z"
    }
   },
   "outputs": [],
   "source": [
    "bureau_merged['YEARS_CREDIT'] = bureau_merged['DAYS_CREDIT'] / -365\n",
    "\n",
    "EDA_kernel_kaggle.plot_continuous_variables(bureau_merged, 'YEARS_CREDIT',\n",
    "                                            plots=['distplot', 'box'],\n",
    "                                            figsize=(15, 8))\n",
    "_ = bureau_merged.pop('YEARS_CREDIT')"
   ]
  },
  {
   "cell_type": "markdown",
   "id": "8e3414b1-de19-4a4b-8da0-19ea219055f9",
   "metadata": {},
   "source": [
    "**Observations and Conclusions:**\n",
    "\n",
    "From the above plots, we see that:\n",
    "<ol><li>From the PDF, we see that the Defaulters tend to have higher peaks compared to Non-Defaulters when the number of years are less.. This implies that the applicants who had applied for loans from Credit Bureau recently showed more defaulting tendency than those who had applied long ago. The PDF of Defaulters is also a bit towards left as compared to Non-Defaulters.</li>\n",
    "    <li>Fro the box-plot as well, we see that Defaulters usually had less YEARS_CREDIT as compared to Non-Defaulters."
   ]
  },
  {
   "cell_type": "markdown",
   "id": "d4cab980-8c5e-482f-811b-a42b064eac11",
   "metadata": {},
   "source": [
    "<b>DAYS_CREDIT_ENDDATE</b>\n",
    "\n",
    "This column tells about the remaining duration of Credit Bureau credit at the time of application for loan in Home Credit."
   ]
  },
  {
   "cell_type": "code",
   "execution_count": null,
   "id": "e4969f3b-9245-40c5-9937-ace9643263ca",
   "metadata": {
    "ExecuteTime": {
     "end_time": "2020-10-07T23:12:15.154493Z",
     "start_time": "2020-10-07T23:12:08.852380Z"
    }
   },
   "outputs": [],
   "source": [
    "EDA_kernel_kaggle.print_percentiles(bureau_merged, 'DAYS_CREDIT_ENDDATE',\n",
    "                                    percentiles=list(range(0, 11, 2)) +\n",
    "                                    [25, 50, 75, 100])\n",
    "EDA_kernel_kaggle.plot_continuous_variables(bureau_merged,\n",
    "                                            'DAYS_CREDIT_ENDDATE', \n",
    "                                            plots=['box'], figsize=(8, 6))"
   ]
  },
  {
   "cell_type": "markdown",
   "id": "2b4f89b6-116a-4626-9bd0-7a8b90113911",
   "metadata": {},
   "source": [
    "**Observations and Conclusions:**\n",
    "\n",
    "From the above percentile values, and looking at the box-plot, we see that there seems to be erroneous value for DAYS_CREDIT_ENDDATE, where the 0th percentile value dates back to as long as 42060 days or 115 years. This does not make much sense as this implies that the previous loan the client had dates back to 115 years ago. This could be inherited loan too, but we cannot comment so surely about that. We would try to remove these values in the data preprocessing stage."
   ]
  },
  {
   "cell_type": "markdown",
   "id": "e3b8df2f-a6e8-4b3f-aff3-00859595aab7",
   "metadata": {},
   "source": [
    "<b>DAYS_ENDDATE_FACT</b>\n",
    "\n",
    "This column tells about the the number of days ago that the Credit Bureau credit had ended at the time of application for loan in Home Credit. These values are only for Closed Credits."
   ]
  },
  {
   "cell_type": "code",
   "execution_count": null,
   "id": "037e97f8-9795-405e-a457-72d21faee1a7",
   "metadata": {
    "ExecuteTime": {
     "end_time": "2020-10-07T23:12:21.334157Z",
     "start_time": "2020-10-07T23:12:15.156487Z"
    }
   },
   "outputs": [],
   "source": [
    "EDA_kernel_kaggle.print_percentiles(bureau_merged, 'DAYS_ENDDATE_FACT',\n",
    "                                    percentiles=list(range(0, 11, 2)) +\n",
    "                                    [25, 50, 75, 100])\n",
    "EDA_kernel_kaggle.plot_continuous_variables(bureau_merged, 'DAYS_ENDDATE_FACT',\n",
    "                                            plots=['box'], figsize=(8, 8),\n",
    "                                            scale_limits=[-40000, 0])"
   ]
  },
  {
   "cell_type": "markdown",
   "id": "46190817-d287-4634-ae9f-f44059108600",
   "metadata": {},
   "source": [
    "**Observations and Conclusions:**\n",
    "\n",
    "<ol><li>Just like previous column, we see that the 0th percentile for this column also seems erroneous, which is 42023 days or ~115 years. We would have to remove these values, as they don't make much sense.</li>\n",
    "    <li>Looking at the box-plot, we see that the Defaulters tend to have lesser number of days since their Credit Bureau credit had ended. The Non-Defaulters usually have their previous credits ended longer before than Defaulters."
   ]
  },
  {
   "cell_type": "markdown",
   "id": "9cc20dd6-2680-4039-bfbb-3c91a254dd93",
   "metadata": {},
   "source": [
    "<b>DAYS_CREDIT_UPDATE</b>\n",
    "\n",
    "This column tells about the the number of days ago that the information from Credit Bureau credit had come at the time of application for loan in Home Credit."
   ]
  },
  {
   "cell_type": "code",
   "execution_count": null,
   "id": "c45810a7-5f3a-4aa4-8d39-e31f50ddc5da",
   "metadata": {
    "ExecuteTime": {
     "end_time": "2020-10-07T23:12:27.614356Z",
     "start_time": "2020-10-07T23:12:21.337150Z"
    }
   },
   "outputs": [],
   "source": [
    "EDA_kernel_kaggle.print_percentiles(bureau_merged, 'DAYS_CREDIT_UPDATE',\n",
    "                                    percentiles=list(range(0, 11, 2)) +\n",
    "                                    [25, 50, 75, 100])\n",
    "EDA_kernel_kaggle.plot_continuous_variables(bureau_merged,\n",
    "                                            'DAYS_CREDIT_UPDATE',\n",
    "                                            plots=['box'], figsize=(8, 8),\n",
    "                                            scale_limits=[-40000, 400])"
   ]
  },
  {
   "cell_type": "markdown",
   "id": "bafd19da-640e-41f9-a1b0-9af422ad2bcd",
   "metadata": {},
   "source": [
    "**Observations and Conclusions:**\n",
    "\n",
    "<ol><li>The trend of erroneious values is again very similar to the other days column where this 0th percentile value seems to be erroneous. Also since only the 0th percentile value is so odd, and the rest seem to be fine, thus this value is definitely erroneous. We will be removing this value too. \n",
    "    <li>From the box-plot, we can say that the Defaulters tend to have a lesser number of days since their Information about the Credit Bureau Credit were received. Their median, 75th percentile values all are lesser than those for Non-Defaulters.</ol>"
   ]
  },
  {
   "cell_type": "markdown",
   "id": "f16aff6e-6a95-472a-8a0a-333e3c0c96cc",
   "metadata": {},
   "source": [
    "<a id='bureau_phik_matrix'></a>\n",
    "\n",
    "---\n",
    "### <span style='background:#0075bc'><span style='color:white'>Phi-K matrix</span></span>"
   ]
  },
  {
   "cell_type": "code",
   "execution_count": null,
   "id": "cf35bf7b-9bf7-4d70-8a87-6b8351790f7c",
   "metadata": {
    "ExecuteTime": {
     "end_time": "2020-10-28T12:28:13.877222Z",
     "start_time": "2020-10-28T12:28:10.136386Z"
    }
   },
   "outputs": [],
   "source": [
    "cols_for_phik = ['TARGET', 'CREDIT_ACTIVE', 'CREDIT_CURRENCY', 'CREDIT_TYPE']\n",
    "EDA_kernel_kaggle.plot_phik_matrix(bureau_merged, cols_for_phik,\n",
    "                                   figsize=(5, 5))"
   ]
  },
  {
   "cell_type": "markdown",
   "id": "6b7c8ca6-c0af-4599-af1f-2fe65fd5abfb",
   "metadata": {},
   "source": [
    "***Observations and Conclusions:***\n",
    "\n",
    "The above heatmap shows the Phi-K Correlation values between categorical values.\n",
    "<ol>\n",
    "<li>From the Phi-K Correlation Coefficient, we see that the variable CREDIT_TYPE shows some association with the variable CREDIT_ACTIVE.</li>\n",
    "<li>We see that the Categorical Variables don't really have a high association with TARGET variable, especially the CREDIT_CURRENCY feature.</li>\n",
    "    </ol>"
   ]
  },
  {
   "cell_type": "markdown",
   "id": "cd0db039-890b-4bfc-acea-790192229769",
   "metadata": {},
   "source": [
    "<a id='bureau_correlation_matrix'></a>\n",
    "\n",
    "---\n",
    "### <span style='background:#0075bc'><span style='color:white'>Correlation matrix</span></span>"
   ]
  },
  {
   "cell_type": "code",
   "execution_count": null,
   "id": "23ab2f7d-1c04-4653-8a3f-451a1f6d6a50",
   "metadata": {
    "ExecuteTime": {
     "end_time": "2020-10-28T12:28:15.558734Z",
     "start_time": "2020-10-28T12:28:13.879216Z"
    }
   },
   "outputs": [],
   "source": [
    "cols_to_drop = bureau_merged.select_dtypes(include=['int64', 'object'])\\\n",
    "                .columns.tolist()\n",
    "\n",
    "corr_mat = EDA_kernel_kaggle.correlation_matrix(bureau_merged,\n",
    "                                                cols_to_drop,\n",
    "                                                cmap='Blues',\n",
    "                                                figsize=(8, 6))\n",
    "corr_mat.plot_correlation_matrix()"
   ]
  },
  {
   "cell_type": "code",
   "execution_count": null,
   "id": "6cba75b0-ff9c-4b33-8a51-1e245d819817",
   "metadata": {
    "ExecuteTime": {
     "end_time": "2020-10-27T12:45:40.566452Z",
     "start_time": "2020-10-27T12:45:40.555508Z"
    }
   },
   "outputs": [],
   "source": [
    "# Seeing the top columns with highest phik-correlation with\n",
    "# the target variable in bureau table\n",
    "top_corr_target_df = corr_mat.target_top_corr()\n",
    "print(\"-\" * 100)\n",
    "print(\"Columns with highest values of Phik-correlation\" \n",
    "      \"with Target Variable are:\")\n",
    "display(top_corr_target_df)\n",
    "print(\"-\"*100)"
   ]
  },
  {
   "cell_type": "markdown",
   "id": "c1dfcc5c-610b-414e-9613-398c0d0d4835",
   "metadata": {},
   "source": [
    "**Observations and Conclusions:**\n",
    "\n",
    "<ol>\n",
    "    <li>The heatmap above shows the correlation between each feature in bureau table with the rest of the features.</li>\n",
    "    <li>It can be observed that most of the heatmap has light colors, which shows little to no correlation.</li>\n",
    "    <li>However, we can see some dark shades which represent high correlation.</li>\n",
    "    <li>The high correlation is particularly observed for features:\n",
    "        <ol><li>DAYS_CREDIT and DAYS_CREDIT_UPDATE</li>\n",
    "            <li>DAYS_ENDDATE_FACT and DAYS_CREDIT_UPDATE</li>\n",
    "            <li>AMT_CREDIT_SUM and AMT_CREDIT_SUM_DEBT</li>\n",
    "            <li>DAYS_ENDDATE_FACT and DAYS_CREDIT</li></ol></li>\n",
    "    <li>We can also see that the features don't particularly show good/high correlation with Target as such, except for DAYS_CREDIT feature. This implies that there isn't a direct linear relation between Target and the features.</li></ol>"
   ]
  },
  {
   "cell_type": "markdown",
   "id": "d7fa2557-3aff-4490-bc0c-29e5b5058e6d",
   "metadata": {
    "id": "UjzpPUhyDxT8",
    "tags": []
   },
   "source": [
    "<a id='bureau_balance_dataset'></a>\n",
    "\n",
    "## <span style='background:#0085dd'><span style='color:white'>Dataset bureau_balance</span></span>"
   ]
  },
  {
   "cell_type": "markdown",
   "id": "21d82306-8915-4a7a-9c88-766c6f3c6ba0",
   "metadata": {},
   "source": [
    "* Monthly balances of previous credits in Credit Bureau.\n",
    "* This table has one row for each month of history of every previous credit reported to Credit Bureau – i.e the table has (#loans in sample * # of relative previous credits * # of months where we have some history observable for the previous credits) rows."
   ]
  },
  {
   "cell_type": "code",
   "execution_count": null,
   "id": "c4d131be-26ab-40a6-80bd-089973f6bf61",
   "metadata": {
    "colab": {
     "base_uri": "https://localhost:8080/",
     "height": 178
    },
    "id": "Fle1NTmG6cRn",
    "outputId": "16388b37-99ec-498d-bb08-2f30f11916b9"
   },
   "outputs": [],
   "source": [
    "# -------------------------------\n",
    "# File upload: bureau_balance\n",
    "# -------------------------------\n",
    "# linked to bureau by 'SK_ID_BUREAU'\n",
    "bureau_balance = pd.read_csv('bureau_balance.csv', low_memory=False,\n",
    "                             encoding='utf-8')\n",
    "bureau_balance.name = 'bureau_balance'\n",
    "\n",
    "# --------------\n",
    "# Dataset size\n",
    "# --------------\n",
    "print(\"The dataset 'bureau_balance.csv' contains \" +\n",
    "      str(bureau_balance.shape[0]) + \" rows and \" +\n",
    "      str(bureau_balance.shape[1]) + \" columns.\\n\")\n",
    "\n",
    "# ---------------\n",
    "# Data overview\n",
    "# ---------------\n",
    "bureau_balance.head(3)"
   ]
  },
  {
   "cell_type": "code",
   "execution_count": null,
   "id": "a381bc1b-70c0-4a2c-ba9d-f14e08af1df0",
   "metadata": {},
   "outputs": [],
   "source": [
    "# Columns name description\n",
    "HomeCredit_columns.loc[HomeCredit_columns[\"Table\"] ==\n",
    "                       \"bureau_balance.csv\"].style.hide(axis=0)"
   ]
  },
  {
   "cell_type": "code",
   "execution_count": null,
   "id": "ee3ba71c-25a0-4f83-bd1f-3d66d5ee2317",
   "metadata": {
    "colab": {
     "base_uri": "https://localhost:8080/",
     "height": 288
    },
    "id": "JysQFtqdvzUE",
    "outputId": "b3f1118a-4077-47ad-a74b-716669f57edd"
   },
   "outputs": [],
   "source": [
    "# --------------------\n",
    "# Column description\n",
    "# --------------------\n",
    "info_bureau_balance = tools_dataframe.complet_description(bureau_balance)\n",
    "info_bureau_balance"
   ]
  },
  {
   "cell_type": "code",
   "execution_count": null,
   "id": "0fc79c60-75cf-4163-8d85-e486b4f0a569",
   "metadata": {},
   "outputs": [],
   "source": [
    "print(\"-\"*79)\n",
    "val = len(bureau_balance.SK_ID_BUREAU.unique())\n",
    "print(f'Nombre de valeurs uniques SK_ID_BUREAU : {val}')\n",
    "print('-'*79)\n",
    "val1 = len(bureau_balance.STATUS.unique())\n",
    "val2 = bureau_balance.STATUS.unique()\n",
    "print(f'Nombre de valeurs uniques STATUS : {val1}')\n",
    "print(f\"Liste des valeurs uniques de STATUS :\\n{val2}\")\n",
    "print('-'*79)\n",
    "val3 = np.abs(bureau_balance.MONTHS_BALANCE.min())\n",
    "print(f\"Nombre maximal de mois pour le solde des mois : {val3}\")\n",
    "print('-'*79)"
   ]
  },
  {
   "cell_type": "code",
   "execution_count": null,
   "id": "53925ea5-1d79-4722-808b-19b03a9ea26a",
   "metadata": {},
   "outputs": [],
   "source": [
    "# Visualization data types\n",
    "tools_dataframe.visu_dataTypes(info_bureau_balance)"
   ]
  },
  {
   "cell_type": "code",
   "execution_count": null,
   "id": "f7559529-6c5a-4751-b1bc-2773a6e07b02",
   "metadata": {},
   "outputs": [],
   "source": [
    "# Visualization column filling\n",
    "tools_dataframe.column_filling_visu(info_bureau_balance)"
   ]
  },
  {
   "cell_type": "markdown",
   "id": "31380c87-4a88-4952-ad2f-59dcb5fad187",
   "metadata": {},
   "source": [
    "**Observations and Conclusions**\n",
    "\n",
    "<ol><li>The bureau_balance.csv table contains approximately 27.29M rows, and 3 columns.</li>\n",
    "    <li>This table contains the monthly status for each of the previous loan for a particular applicant reported by the Credit Bureau Department.\n",
    "    <li>There are 8 unique values for the STATUS which are encoded. Each of them have a special meaning. <br>\n",
    "        C means closed, X means status unknown, 0 means no DPD, 1 means maximal did during month between 1-30, 2 means DPD 31-60,… 5 means DPD 120+ or sold or written off.\n",
    "     <li>The most earliest month's balance that we have is the 96 months back status, i.e. the Status has been provided upto 8 years of history for loans for which those exist."
   ]
  },
  {
   "cell_type": "markdown",
   "id": "2b6d7658-ebe8-45a1-a85f-b0b9cde9ca61",
   "metadata": {
    "id": "UjzpPUhyDxT8",
    "tags": []
   },
   "source": [
    "<a id='previous_application_dataset'></a>\n",
    "\n",
    "## <span style='background:#0085dd'><span style='color:white'>Dataset previous_application</span></span>"
   ]
  },
  {
   "cell_type": "markdown",
   "id": "ee726e2a-f242-4605-a39d-e1f7250e00c9",
   "metadata": {},
   "source": [
    "* All previous applications for Home Credit loans of clients who have loans in our sample.\n",
    "* There is one row for each previous application related to loans in our data sample."
   ]
  },
  {
   "cell_type": "code",
   "execution_count": null,
   "id": "0c90bfea-5768-4845-9448-fd2688874b5a",
   "metadata": {
    "colab": {
     "base_uri": "https://localhost:8080/",
     "height": 178
    },
    "id": "Fle1NTmG6cRn",
    "outputId": "16388b37-99ec-498d-bb08-2f30f11916b9"
   },
   "outputs": [],
   "source": [
    "# -------------------------------\n",
    "# File upload: previous_application\n",
    "# -------------------------------\n",
    "# linked to application_{train|test} by 'SK_ID_BUREAU'\n",
    "# linked by 'SK_ID_BUREAU' to POS_CASH_balance, instalments_payments\n",
    "# and credit_card_balance\n",
    "previous_application = pd.read_csv('previous_application.csv',\n",
    "                                   low_memory=False, encoding='utf-8')\n",
    "previous_application.name = 'previous_application'\n",
    "\n",
    "# --------------\n",
    "# Dataset size\n",
    "# --------------\n",
    "print(\"The dataset 'previous_application.csv' contains \" +\n",
    "      str(previous_application.shape[0]) + \" rows and \" +\n",
    "      str(previous_application.shape[1]) + \" columns.\\n\")\n",
    "\n",
    "# ---------------\n",
    "# Data overview\n",
    "# ---------------\n",
    "previous_application.head(3)"
   ]
  },
  {
   "cell_type": "code",
   "execution_count": null,
   "id": "302670f1-bfa1-4714-bed0-ee0b56c11051",
   "metadata": {
    "tags": []
   },
   "outputs": [],
   "source": [
    "# Columns name description\n",
    "HomeCredit_columns.loc[HomeCredit_columns[\"Table\"] ==\n",
    "                       \"previous_application.csv\"].style.hide(axis=0)"
   ]
  },
  {
   "cell_type": "code",
   "execution_count": null,
   "id": "baf84b0f-9d6f-49f7-af50-fa6fb8179982",
   "metadata": {
    "colab": {
     "base_uri": "https://localhost:8080/",
     "height": 288
    },
    "id": "JysQFtqdvzUE",
    "outputId": "b3f1118a-4077-47ad-a74b-716669f57edd",
    "tags": []
   },
   "outputs": [],
   "source": [
    "# --------------------\n",
    "# Column description\n",
    "# --------------------\n",
    "info_previous_appli = tools_dataframe.complet_description(previous_application)\n",
    "info_previous_appli"
   ]
  },
  {
   "cell_type": "code",
   "execution_count": null,
   "id": "d529905e-e7bb-4146-8f4a-d2766f6c5f9a",
   "metadata": {},
   "outputs": [],
   "source": [
    "# Visualization data types\n",
    "tools_dataframe.visu_dataTypes(info_previous_appli)"
   ]
  },
  {
   "cell_type": "code",
   "execution_count": null,
   "id": "9df88e8b-9243-47c7-a52b-5c4e4e69e5f5",
   "metadata": {},
   "outputs": [],
   "source": [
    "# Visualization column filling\n",
    "tools_dataframe.column_filling_visu(info_previous_appli)"
   ]
  },
  {
   "cell_type": "code",
   "execution_count": null,
   "id": "c62d8adf-cb52-48f9-9c29-f145e9082cfe",
   "metadata": {},
   "outputs": [],
   "source": [
    "# Analysis of common and unique values of SK_ID_PREV\n",
    "EDA_kernel_kaggle.common_values_dataframes(previous_application,\n",
    "                                           application_train,\n",
    "                                           application_test,\n",
    "                                           'SK_ID_PREV')"
   ]
  },
  {
   "cell_type": "markdown",
   "id": "2a3c07fb-a60e-4256-aade-362cfedb527c",
   "metadata": {},
   "source": [
    "**Observations and Conclusions:**\n",
    "\n",
    "<ol><li>The table previous_application.csv consists of 1.67M rows in total. Each row corresponds to each of the previous loan that the client had with previously with Home Credit Group. It is possible for a single client of current application to have multiple previous loans with Home Credit Group.</li>\n",
    "    <li>There are 37 columns in previous_application.csv, which contain the details about the previous loan.</li>\n",
    "    <li>There are 338k unique SK_ID_CURR in previous_application, of which 291k correspond to the application_train SK_ID_CURRs and 47.8k correspond to application_test SK_ID_CURRs.</li></ol>\n",
    "    \n",
    "<ol><li>There are 16 columns out of the 37 columns which contain NaN values.</li>\n",
    "    <li>Two of these columns have 99.64% missing values, which is very high, and we will have to come up with some smart way to handle such high NaN values. We cannot directly discard any feature at this point.</li>\n",
    "    <li>Other than these two columns, rest of the columns also contain > 40% NaN values, except for 5 columns. </li></ol>"
   ]
  },
  {
   "cell_type": "markdown",
   "id": "c2ac97d2-02f1-418d-b598-1190aaf2e43c",
   "metadata": {},
   "source": [
    "<b>Merging the TARGETS from application_train to previous_application table.</b>"
   ]
  },
  {
   "cell_type": "code",
   "execution_count": null,
   "id": "749a12ea-327e-4543-9e25-32dfa80d1522",
   "metadata": {
    "ExecuteTime": {
     "end_time": "2020-10-28T12:31:03.771638Z",
     "start_time": "2020-10-28T12:30:52.874819Z"
    }
   },
   "outputs": [],
   "source": [
    "print(\"Merging TARGET with previous_application Table\")\n",
    "prev_merged = application_train.iloc[:, :2].merge(previous_application,\n",
    "                                                  on='SK_ID_CURR',\n",
    "                                                  how='left')"
   ]
  },
  {
   "cell_type": "markdown",
   "id": "09e1551e-dd93-40ac-9084-44702df73d31",
   "metadata": {},
   "source": [
    "<a id='previous_application_plot_categ_vari'></a>\n",
    "\n",
    "---\n",
    "### <span style='background:#0075bc'><span style='color:white'>Plotting categorical variables</span></span>"
   ]
  },
  {
   "cell_type": "markdown",
   "id": "3bc0881d-5ec1-4e0b-8bb8-3552564fe16f",
   "metadata": {},
   "source": [
    "Let us now plot some of the Categorical Variables of table previous_application and see how they impact the Target Variable."
   ]
  },
  {
   "cell_type": "markdown",
   "id": "3cbef5ac-8c3f-4b35-a64d-16e7bb01d2f0",
   "metadata": {},
   "source": [
    "<b><u>Distribution of Categorical Variable NAME_CONTRACT_TYPE</u></b>"
   ]
  },
  {
   "cell_type": "markdown",
   "id": "39e724a6-f5fc-4dc4-adf3-1895e147ba40",
   "metadata": {},
   "source": [
    "This column descibes the type of the Contract of the previous loan with the Home Credit Group."
   ]
  },
  {
   "cell_type": "code",
   "execution_count": null,
   "id": "f19f4b10-22b1-4763-b8c6-b84cc2db5d02",
   "metadata": {
    "ExecuteTime": {
     "end_time": "2020-10-07T23:13:35.243621Z",
     "start_time": "2020-10-07T23:13:34.366940Z"
    }
   },
   "outputs": [],
   "source": [
    "# let us first see the unique categories of 'NAME_CONTRACT_TYPE'\n",
    "EDA_kernel_kaggle.print_unique_categories(prev_merged, 'NAME_CONTRACT_TYPE',\n",
    "                                          show_counts=True)\n",
    "\n",
    "# plotting the Bar Plot for the Column\n",
    "EDA_kernel_kaggle.plot_categorical_variables_bar(prev_merged,\n",
    "                                                 'NAME_CONTRACT_TYPE',\n",
    "                                                 horizontal_adjust=0.3,\n",
    "                                                 figsize=(20, 6))"
   ]
  },
  {
   "cell_type": "markdown",
   "id": "104bee4b-6b1b-4fd4-8917-ad428ea10824",
   "metadata": {},
   "source": [
    "**Observations and Conclusions:**\n",
    "\n",
    "From the above plots, we can observe the following:\n",
    "<ol><li>From the first subplot, we see that most of the previous loans have been either Cash Loans or Consumer Loans, which correspond to roughly 44% of loans each. The remaining 11.41% corresponds to Revolving Loans, and there are some loans named XNA whose types are actually not known, but they are very few in numbers.</li>\n",
    "    <li>Looking at the second subplot, we see that the Percentage of Defaulters for XNA type of loan are the highest, at 20% Default rate. The next highest Default Rate is among Revolving Loans, which is close to 10.5%.</li>\n",
    "    <li>The Cash Loans have lesser default rates, roughly 9% while the consumer loans tend to have the lowest Percentage of Defaulters, which is close to 7.5%.</li></ol>"
   ]
  },
  {
   "cell_type": "markdown",
   "id": "ac8f9f99-79f8-4649-9152-1d4d13a92fc0",
   "metadata": {},
   "source": [
    "<b><u>Distribution of Categorical Variable NAME_CONTRACT_STATUS</u></b>\n",
    "\n",
    "This column describes the status of the contract of the previous loan with Home Credit, i.e. whether it is active or closed, etc."
   ]
  },
  {
   "cell_type": "code",
   "execution_count": null,
   "id": "32b662a2-18de-4843-8401-4c576d8e282a",
   "metadata": {
    "ExecuteTime": {
     "end_time": "2020-10-07T23:13:35.955716Z",
     "start_time": "2020-10-07T23:13:35.245616Z"
    }
   },
   "outputs": [],
   "source": [
    "# let us first see the unique categories of 'NAME_CONTRACT_STATUS'\n",
    "EDA_kernel_kaggle.print_unique_categories(prev_merged, 'NAME_CONTRACT_STATUS')\n",
    "\n",
    "# plotting the Bar Plot for the Column\n",
    "EDA_kernel_kaggle.plot_categorical_variables_bar(prev_merged,\n",
    "                                                 'NAME_CONTRACT_STATUS',\n",
    "                                                 horizontal_adjust=0.25,\n",
    "                                                 figsize=(20, 6),\n",
    "                                                 fontsize_percent='small')"
   ]
  },
  {
   "cell_type": "markdown",
   "id": "e2b85644-ce24-452c-af6c-1e170b6b5d91",
   "metadata": {},
   "source": [
    "**Observations and Conclusions:**\n",
    "\n",
    "From the above plots, we see that:\n",
    "<ol><li>The most common type of Contract Status is the Approved Status. About 63% of the previous Credits have an Approved Status. The next two common status are Canceled and Refused, which both correspond to about 18% of the loans. This implies that most of the loans get approved and only some fraction of them do not. The least occurring type of contract status is Unused Offer which corresponds to just 1.61% of all the loans.</li>\n",
    "    <li>Looking at the second subplot for percentage of defaulters, we see that the those loans which previously had Refused Status tend to have defaulted the highest in the current loans. They correspond to about 12% of Defaulters from that category. These are followed by Canceled Status which correspond to close to 9% of Default Rate. This behavious is quite expected logically, as these people must have been refused due to not having adequate profile. The least default rate is observed for Contract Status of Approved.</li></ol>"
   ]
  },
  {
   "cell_type": "markdown",
   "id": "7d01dc9c-a346-4602-8321-a333e8b3f0a7",
   "metadata": {},
   "source": [
    "<b><u>Distribution of Categorical Variable CODE_REJECT_REASON</u></b>\n",
    "\n",
    "This column describes the reason of the rejection of previously applied loan in Home Credit Group."
   ]
  },
  {
   "cell_type": "code",
   "execution_count": null,
   "id": "8fa6b9a0-96f7-4d31-90ed-531b9e06ebf3",
   "metadata": {
    "ExecuteTime": {
     "end_time": "2020-10-07T23:13:37.061351Z",
     "start_time": "2020-10-07T23:13:35.957684Z"
    }
   },
   "outputs": [],
   "source": [
    "# let us first see the unique categories of 'CODE_REJECT_REASON'\n",
    "EDA_kernel_kaggle.print_unique_categories(prev_merged, 'CODE_REJECT_REASON',\n",
    "                                          show_counts=True)\n",
    "\n",
    "# plotting the Bar Plot for the Column\n",
    "EDA_kernel_kaggle.plot_categorical_variables_bar(prev_merged,\n",
    "                                                 'CODE_REJECT_REASON',\n",
    "                                                 horizontal_adjust=0.18,\n",
    "                                                 figsize=(20, 6))"
   ]
  },
  {
   "cell_type": "markdown",
   "id": "7134c206-5292-4167-99a4-9c91db19ba7e",
   "metadata": {},
   "source": [
    "**Observations and Conclusions:**\n",
    "\n",
    "The above plot shows the distribution of the Categorical variable CODE_REJECT_REASON. Following insights can be generated from the above plot:\n",
    "<ol><li>The most common type of reason of rejection is XAP, which is about ~81%. The other reasons form only a small part of the rejection reasons. HC is the second highest rejection reason with just 10.33% of occurrences.</li>\n",
    "    <li>The distribution of percentage of defaulters for each category of CODE_REJECT_REASON in quite interesting. Those applicants who had their previous applications rejected by Code SCOFT have the highest percentage of Defaulters among them (~21%). This is followed by LIMIT and HC which have around 12.5% and 12% of Defaulters.</li>\n",
    "    <li>The most common occurring rejection reason XAP corresponds to only 7.5% of Defaulters of all, and is the second lowest percentage of Defaulters after SYSTEM code.</li></ol>"
   ]
  },
  {
   "cell_type": "markdown",
   "id": "a1c8e986-7210-4829-8a7e-93fa77efb435",
   "metadata": {},
   "source": [
    "<b><u>Distribution of Categorical Variable CHANNEL_TYPE</u></b>\n",
    "\n",
    "This column describes the channel through which the client was acquired for the previous loan in Home Credit."
   ]
  },
  {
   "cell_type": "code",
   "execution_count": null,
   "id": "6c3a9ec0-7848-4ec4-ba8f-c97ceb0242e8",
   "metadata": {
    "ExecuteTime": {
     "end_time": "2020-10-07T23:13:37.891110Z",
     "start_time": "2020-10-07T23:13:37.063318Z"
    }
   },
   "outputs": [],
   "source": [
    "# let us first see the unique categories of 'CHANNEL_TYPE'\n",
    "EDA_kernel_kaggle.print_unique_categories(prev_merged, 'CHANNEL_TYPE')\n",
    "\n",
    "# plotting the Bar Plot for the Column\n",
    "EDA_kernel_kaggle.plot_categorical_variables_bar(prev_merged, 'CHANNEL_TYPE',\n",
    "                                                 horizontal_adjust=0.15,\n",
    "                                                 rotation=45,\n",
    "                                                 figsize=(20, 6),\n",
    "                                                 fontsize_percent='x-small')"
   ]
  },
  {
   "cell_type": "markdown",
   "id": "a85a90da-d2f4-4ca3-b020-bb39cf0285cc",
   "metadata": {
    "tags": []
   },
   "source": [
    "**Observations and Conclusions**\n",
    "\n",
    "The above two plots show the distribution of CHANNEL_TYPE for previous loans in Home Credit.\n",
    "<ol><li>From the first subplot we see that most of the applications were acquired through the Credit and cash offices which were roughly 42.47% applications, which were followed by Country-wide channel corresponding to 29.93% applications. Rest of the channel types corresponded to only a select number of applications.</li>\n",
    "    <li>The highest Defaulting Percentage was seen among applications who had a channel type of AP+ (Cash loan) which corresponded to about 13% defaulters in that category. The rest of the channels had lower default percentages than this one. The channel Car Dealer showed a lowest Percentage of Defaulters in that category (only 5%)."
   ]
  },
  {
   "cell_type": "markdown",
   "id": "d025e48a-a45a-4e3a-a1f3-78370eccdb73",
   "metadata": {},
   "source": [
    "<b><u>Distribution of Categorical Variable PRODUCT_COMBINATION</u></b>\n",
    "\n",
    "This column gives details about the product combination of the previous applications."
   ]
  },
  {
   "cell_type": "code",
   "execution_count": null,
   "id": "8e63ddac-a3be-4811-a44b-024b7bb270e9",
   "metadata": {
    "ExecuteTime": {
     "end_time": "2020-10-07T23:13:39.101885Z",
     "start_time": "2020-10-07T23:13:37.893104Z"
    }
   },
   "outputs": [],
   "source": [
    "# let us first see the unique categories of 'PRODUCT_COMBINATION'\n",
    "EDA_kernel_kaggle.print_unique_categories(prev_merged, 'PRODUCT_COMBINATION')\n",
    "\n",
    "# plotting the Bar Plot for the Column\n",
    "EDA_kernel_kaggle.plot_categorical_variables_bar(prev_merged,\n",
    "                                                 'PRODUCT_COMBINATION',\n",
    "                                                 rotation=90,\n",
    "                                                 figsize=(20, 6))"
   ]
  },
  {
   "cell_type": "markdown",
   "id": "dd645fa2-d363-4adb-82a4-83da5cce13f1",
   "metadata": {},
   "source": [
    "<b><u>Distribution of Categorical Variable PRODUCT_COMBINATION</u></b>\n",
    "\n",
    "This column gives details about the product combination of the previous applications."
   ]
  },
  {
   "cell_type": "code",
   "execution_count": null,
   "id": "11095506-c908-4349-ba9b-529814958c4d",
   "metadata": {
    "ExecuteTime": {
     "end_time": "2020-10-07T23:13:39.101885Z",
     "start_time": "2020-10-07T23:13:37.893104Z"
    }
   },
   "outputs": [],
   "source": [
    "# let us first see the unique categories of 'PRODUCT_COMBINATION'\n",
    "EDA_kernel_kaggle.print_unique_categories(prev_merged, 'PRODUCT_COMBINATION')\n",
    "\n",
    "# plotting the Bar Plot for the Column\n",
    "EDA_kernel_kaggle.plot_categorical_variables_bar(prev_merged,\n",
    "                                                 'PRODUCT_COMBINATION',\n",
    "                                                 rotation=90,\n",
    "                                                 figsize=(20, 6))\n",
    "print('-'*100)"
   ]
  },
  {
   "cell_type": "markdown",
   "id": "425bbd83-a606-4569-a991-3e7c22fb866f",
   "metadata": {},
   "source": [
    "**Observations and Conclusions**\n",
    "\n",
    "From the distribution of PRODUCT_COMBINATION, we can generate following insights:\n",
    "<ol><li>The 3 most common types of Product Combination are Cash, POS household with interest and POS mobile with interest. They correspond to roughly 50% of all the applications. </li>\n",
    "    <li>Looking at the Percentage of Defaulters per category plot, we see a highest defaulting tendency among Cash Street: mobile category, Cash X-sell: high, Cash Street: high and Card Street which all are near about 11-11.5% defaulters per category. The lowest Percentage of Defaulters are in the POS Industry without interest Category, which correspond to about 4.5% Defaulters."
   ]
  },
  {
   "cell_type": "markdown",
   "id": "3f193581-fa81-4361-a699-6e382f432505",
   "metadata": {},
   "source": [
    "<a id='previous_application_plot_conti_vari'></a>\n",
    "\n",
    "---\n",
    "### <span style='background:#0075bc'><span style='color:white'>Plotting continous variables</span></span>"
   ]
  },
  {
   "cell_type": "markdown",
   "id": "95a9bb18-791c-4982-ac65-5e8e06322a4a",
   "metadata": {
    "ExecuteTime": {
     "end_time": "2020-10-01T00:19:44.023767Z",
     "start_time": "2020-10-01T00:19:44.018779Z"
    }
   },
   "source": [
    "<u><b>Distribution of Continuous Variable with DAYS Features</b></u>"
   ]
  },
  {
   "cell_type": "markdown",
   "id": "8eb78dd0-4e97-46d9-9e44-7f6c872bda68",
   "metadata": {},
   "source": [
    "<b>DAYS_DECISION</b>\n",
    "\n",
    "This column tells about the number of days relative to the current application when the decision was made about previous application."
   ]
  },
  {
   "cell_type": "code",
   "execution_count": null,
   "id": "5f87cde4-1802-40d9-b47f-db9c13be0681",
   "metadata": {
    "ExecuteTime": {
     "end_time": "2020-10-07T23:13:48.279345Z",
     "start_time": "2020-10-07T23:13:39.103865Z"
    }
   },
   "outputs": [],
   "source": [
    "EDA_kernel_kaggle.plot_continuous_variables(prev_merged, 'DAYS_DECISION',\n",
    "                                            plots=['distplot', 'box'],\n",
    "                                            figsize=(15, 8))"
   ]
  },
  {
   "cell_type": "markdown",
   "id": "136a330f-85b2-4eb1-8cb5-920ce8126606",
   "metadata": {},
   "source": [
    "**Observations and Conclusions**\n",
    "\n",
    "From the above plot, we notice that for Defaulters, the number of days back when the decision was made is a bit lesser than that for Non-Defaulters. This implies that the Defaulters usually had the decision on their previous applications made more recently as compared to Non-Defaulters."
   ]
  },
  {
   "cell_type": "markdown",
   "id": "54dece8c-e408-42d0-988b-7c72a40b62dd",
   "metadata": {},
   "source": [
    "<b>DAYS_FIRST_DRAWING</b>\n",
    "\n",
    "This column tells about the number of days back from current application that the first disbursement of the previous application was made."
   ]
  },
  {
   "cell_type": "code",
   "execution_count": null,
   "id": "72b13502-3115-4832-b9c3-5514e9ba9d66",
   "metadata": {
    "ExecuteTime": {
     "end_time": "2020-10-07T23:13:54.485637Z",
     "start_time": "2020-10-07T23:13:48.281313Z"
    }
   },
   "outputs": [],
   "source": [
    "EDA_kernel_kaggle.print_percentiles(prev_merged, 'DAYS_FIRST_DRAWING',\n",
    "                                    percentiles=list(range(0, 11))\n",
    "                                    + list(range(20, 101, 20)))\n",
    "EDA_kernel_kaggle.plot_continuous_variables(prev_merged, 'DAYS_FIRST_DRAWING',\n",
    "                                            plots=['box'], figsize=(8, 6),\n",
    "                                            scale_limits=[-3000, 0])"
   ]
  },
  {
   "cell_type": "markdown",
   "id": "128fd601-fd7a-4aaa-90d3-586e5305e63f",
   "metadata": {},
   "source": [
    "**Observations and Conclusions:**\n",
    "\n",
    "<ol><li>Looking at the percentile values of DAYS_FIRST_DRAWING, it seems like most of the values are erroneous, starting from 7th percentile values itself. These erroneous values will needed to be dopped.<li>\n",
    "    <li>If we try to analyze the distribution of this column by removing the erroneous ponts, we see that most of the Defaulters had their First Drawing on previous credit more recently as compared to Non-Defaulters. The 75th percentile value for Defaulters is also significantly lesser than that of Non-Defaulters."
   ]
  },
  {
   "cell_type": "markdown",
   "id": "d979cc7c-d23f-4488-9239-6a9dae16ef36",
   "metadata": {},
   "source": [
    "<b>DAYS_FIRST_DUE, DAYS_LAST_DUE_1ST_VERSION, DAYS_LAST_DUE, and DAYS_TERMINATION</b>\n",
    "\n",
    "These columns also decribe about the number of days ago from the current application that certain activities happened. "
   ]
  },
  {
   "cell_type": "code",
   "execution_count": null,
   "id": "99587c0f-8890-4da6-8f2d-547cfd9c06ed",
   "metadata": {
    "ExecuteTime": {
     "end_time": "2020-10-07T23:13:55.875965Z",
     "start_time": "2020-10-07T23:13:54.487644Z"
    }
   },
   "outputs": [],
   "source": [
    "print('-'*100)\n",
    "print(\"Percentile Values for DAYS_FIRST_DUE\")\n",
    "EDA_kernel_kaggle.print_percentiles(prev_merged, 'DAYS_FIRST_DUE',\n",
    "                                    percentiles=list(range(0, 11, 2))\n",
    "                                    + [20, 40, 60, 80, 100])\n",
    "\n",
    "print(\"Percentile Values for DAYS_LAST_DUE_1ST_VERSION\")\n",
    "EDA_kernel_kaggle.print_percentiles(prev_merged, 'DAYS_LAST_DUE_1ST_VERSION',\n",
    "                                    percentiles=list(range(0, 11, 2))\n",
    "                                    + [20, 40, 60, 80, 100])\n",
    "\n",
    "print(\"Percentile Values for DAYS_LAST_DUE\")\n",
    "EDA_kernel_kaggle.print_percentiles(prev_merged, 'DAYS_LAST_DUE',\n",
    "                                    percentiles=list(range(0, 11, 2))\n",
    "                                    + [20, 40, 60, 80, 100])\n",
    "\n",
    "print(\"Percentile Values for DAYS_TERMINATION\")\n",
    "EDA_kernel_kaggle.print_percentiles(prev_merged, 'DAYS_TERMINATION',\n",
    "                                    percentiles=list(range(0, 11, 2))\n",
    "                                    + [20, 40, 60, 80, 100])"
   ]
  },
  {
   "cell_type": "markdown",
   "id": "8edfd1b8-742b-450a-bbb8-2e6c0c4e5cad",
   "metadata": {},
   "source": [
    "**Observations and Conclusions**\n",
    "\n",
    "From all of the above percentile values, we realise that all the Days columns have these erroneous values somewhere or the other. Thus these values need to be replaced so that our model doesn't get affected by these."
   ]
  },
  {
   "cell_type": "markdown",
   "id": "ef16cc8f-bb50-4612-a212-526abbee8e91",
   "metadata": {},
   "source": [
    "<a id='previous_application_phik_matrix'></a>\n",
    "\n",
    "---\n",
    "### <span style='background:#0075bc'><span style='color:white'>Phi-K matrix</span></span>"
   ]
  },
  {
   "cell_type": "code",
   "execution_count": null,
   "id": "5e2e660b-7348-43aa-aa10-9e1027c18627",
   "metadata": {
    "ExecuteTime": {
     "end_time": "2020-10-28T12:31:44.287063Z",
     "start_time": "2020-10-28T12:31:03.774629Z"
    }
   },
   "outputs": [],
   "source": [
    "cols_for_phik = ['TARGET'] + prev_merged.dtypes[prev_merged.dtypes == 'object']\\\n",
    "                .index.tolist()\\\n",
    "                + ['NFLAG_INSURED_ON_APPROVAL']\n",
    "EDA_kernel_kaggle.plot_phik_matrix(prev_merged, cols_for_phik, cmap='Blues',\n",
    "                                   figsize=(11, 9), fontsize=9)"
   ]
  },
  {
   "cell_type": "markdown",
   "id": "94500494-4160-422a-842c-63eb88656aa5",
   "metadata": {},
   "source": [
    "**Observations and Conclusions:**\n",
    "\n",
    "From the above heatmap of values of Phi-K Coefficient for Categorical Features, we observe that:\n",
    "\n",
    "<ol><li>The feature PRODUCT_COMBINATION shows association with lots of other features such as NAME_CONTRACT_TYPE, NAME_PRODUCT_TYPE, NAME_PORTFOLIO, etc.</li>\n",
    "    <li>The feature NAME_GOODS_CATEGORY is also highly associated with NAME_SELLER_INDUSTRY</li>\n",
    "    <li>If we look at the association with TARGET variable, we see that the features NAME_CONTRACT_STATUS, PRODUCT_COMBINATION, CODE_REJECT_REASON are some of the highest associated features, and would need further investigation</li></ol>\n",
    "   "
   ]
  },
  {
   "cell_type": "markdown",
   "id": "24b55800-4ac1-4406-83d5-bd22cf2934bf",
   "metadata": {},
   "source": [
    "<a id='previous_application_correlation_matrix'></a>\n",
    "\n",
    "---\n",
    "### <span style='background:#0075bc'><span style='color:white'>Correlation matrix</span></span>"
   ]
  },
  {
   "cell_type": "code",
   "execution_count": 13,
   "id": "a88e9698-0e8a-4524-a584-50272c15a6f8",
   "metadata": {
    "ExecuteTime": {
     "end_time": "2020-10-28T12:31:47.576254Z",
     "start_time": "2020-10-28T12:31:44.289031Z"
    }
   },
   "outputs": [
    {
     "ename": "NameError",
     "evalue": "name 'prev_merged' is not defined",
     "output_type": "error",
     "traceback": [
      "\u001b[0;31m---------------------------------------------------------------------------\u001b[0m",
      "\u001b[0;31mNameError\u001b[0m                                 Traceback (most recent call last)",
      "Cell \u001b[0;32mIn[13], line 1\u001b[0m\n\u001b[0;32m----> 1\u001b[0m cols_to_drop \u001b[38;5;241m=\u001b[39m \u001b[43mprev_merged\u001b[49m\u001b[38;5;241m.\u001b[39mselect_dtypes(include\u001b[38;5;241m=\u001b[39m[\u001b[38;5;124m'\u001b[39m\u001b[38;5;124mint64\u001b[39m\u001b[38;5;124m'\u001b[39m, \u001b[38;5;124m'\u001b[39m\u001b[38;5;124mobject\u001b[39m\u001b[38;5;124m'\u001b[39m])\\\n\u001b[1;32m      2\u001b[0m                 \u001b[38;5;241m.\u001b[39mcolumns\u001b[38;5;241m.\u001b[39mtolist()\n\u001b[1;32m      4\u001b[0m corr_mat \u001b[38;5;241m=\u001b[39m EDA_kernel_kaggle\u001b[38;5;241m.\u001b[39mcorrelation_matrix(prev_merged,\n\u001b[1;32m      5\u001b[0m                                                 cols_to_drop,\n\u001b[1;32m      6\u001b[0m                                                 cmap\u001b[38;5;241m=\u001b[39m\u001b[38;5;124m'\u001b[39m\u001b[38;5;124mBlues\u001b[39m\u001b[38;5;124m'\u001b[39m,\n\u001b[1;32m      7\u001b[0m                                                 figsize\u001b[38;5;241m=\u001b[39m(\u001b[38;5;241m14\u001b[39m, \u001b[38;5;241m12\u001b[39m))\n\u001b[1;32m      8\u001b[0m corr_mat\u001b[38;5;241m.\u001b[39mplot_correlation_matrix()\n",
      "\u001b[0;31mNameError\u001b[0m: name 'prev_merged' is not defined"
     ]
    }
   ],
   "source": [
    "cols_to_drop = prev_merged.select_dtypes(include=['int64', 'object'])\\\n",
    "                .columns.tolist()\n",
    "\n",
    "corr_mat = EDA_kernel_kaggle.correlation_matrix(prev_merged,\n",
    "                                                cols_to_drop,\n",
    "                                                cmap='Blues',\n",
    "                                                figsize=(14, 12))\n",
    "corr_mat.plot_correlation_matrix()"
   ]
  },
  {
   "cell_type": "code",
   "execution_count": null,
   "id": "32260d02-a8bf-4b98-ad19-22b8e5c06d5d",
   "metadata": {
    "ExecuteTime": {
     "end_time": "2020-10-27T12:47:54.109512Z",
     "start_time": "2020-10-27T12:47:54.099539Z"
    }
   },
   "outputs": [],
   "source": [
    "# Seeing the top columns with highest phik-correlation with\n",
    "# the target variable in previous_applications table\n",
    "top_corr_target_df = corr_mat.target_top_corr()\n",
    "print(\"-\" * 100)\n",
    "print(\"Columns with highest values of Phik-correlation with\"\n",
    "      \"Target Variable are:\")\n",
    "display(top_corr_target_df)"
   ]
  },
  {
   "cell_type": "markdown",
   "id": "4b17577d-104c-49ba-9196-4a648469a1f9",
   "metadata": {
    "jp-MarkdownHeadingCollapsed": true,
    "tags": []
   },
   "source": [
    "**Observations and Conclusions:**\n",
    "\n",
    "<ol>\n",
    "    <li>The heatmap above shows the correlation between each feature in previous_application table with the rest of the features.</li>\n",
    "    <li>From the heatmap, we can see some highly correlated features which have a darker colour.</li>\n",
    "    <li>The high correlation is particularly observed for features:\n",
    "        <ol><li>DAYS_TERMINATION and DAYS_LAST_DUE</li>\n",
    "            <li>AMT_CREDIT and AMT_APPLICATION</li>\n",
    "            <li>AMT_APPLICATION and AMT_GOODS_PRICE</li>\n",
    "            <li>AMT_CREDIT and AMT_ANNUITY</li>\n",
    "            <li>AMT_ANNUITY and AMT_CREDIT</li>\n",
    "            <li>AMT_CREDIT and AMT_GOODS_PRICE</li></ol></li>\n",
    "    <li>We can also see that the features don't particularly show good/high correlation with Target as such. This implies that there isn't much of a direct linear relation between Target and the features.</li></ol>"
   ]
  },
  {
   "cell_type": "markdown",
   "id": "e0863497-98c5-42d0-ab23-b95f503932a9",
   "metadata": {
    "id": "UjzpPUhyDxT8",
    "tags": []
   },
   "source": [
    "<a id='POS_CASH_balance_dataset'></a>\n",
    "\n",
    "## <span style='background:#0085dd'><span style='color:white'>Dataset POS_CASH_balance</span></span>"
   ]
  },
  {
   "cell_type": "markdown",
   "id": "ade61294-40d0-4d22-9699-20ea979216c9",
   "metadata": {},
   "source": [
    "* Monthly balance snapshots of previous **POS (point of sales)** and cash loans that the applicant had with Home Credit.\n",
    "* This table has one row for each month of history of every previous credit in Home Credit (consumer credit and cash loans) related to loans in our sample – i.e. the table has (loans in sample\n",
    "    * of relative previous credits\n",
    "    * of months in which we have some history observable for the previous credits) rows."
   ]
  },
  {
   "cell_type": "code",
   "execution_count": null,
   "id": "661c05cd-3836-4558-8d4a-762031e5a376",
   "metadata": {
    "colab": {
     "base_uri": "https://localhost:8080/",
     "height": 178
    },
    "id": "Fle1NTmG6cRn",
    "outputId": "16388b37-99ec-498d-bb08-2f30f11916b9"
   },
   "outputs": [],
   "source": [
    "# -------------------------------\n",
    "# File upload: POS_CASH_balance\n",
    "# -------------------------------\n",
    "# linked by 'SK_ID_CURR' to application_{train|test}\n",
    "# and to installments_payments\n",
    "# linked by 'SK_ID_PREV' to previous_application\n",
    "POS_CASH_balance = pd.read_csv('POS_CASH_balance.csv',\n",
    "                               low_memory=False, encoding='utf-8')\n",
    "POS_CASH_balance.name = 'POS_CASH_balance'\n",
    "\n",
    "# --------------\n",
    "# Dataset size\n",
    "# --------------\n",
    "print(\"The dataset 'POS_CASH_balance.csv' contains \" +\n",
    "      str(POS_CASH_balance.shape[0]) + \" rows and \" +\n",
    "      str(POS_CASH_balance.shape[1]) + \" columns.\\n\")\n",
    "\n",
    "# ---------------\n",
    "# Data overview\n",
    "# ---------------\n",
    "POS_CASH_balance.head(3)"
   ]
  },
  {
   "cell_type": "code",
   "execution_count": null,
   "id": "5e10554e-d8ca-4bef-963d-5fa80649ac7a",
   "metadata": {},
   "outputs": [],
   "source": [
    "# Columns name description\n",
    "HomeCredit_columns.loc[HomeCredit_columns[\"Table\"] ==\n",
    "                       \"POS_CASH_balance.csv\"].style.hide(axis=0)"
   ]
  },
  {
   "cell_type": "code",
   "execution_count": 14,
   "id": "b2b10ff3-667b-4e3a-b8ce-9239136c0071",
   "metadata": {
    "colab": {
     "base_uri": "https://localhost:8080/",
     "height": 288
    },
    "id": "JysQFtqdvzUE",
    "outputId": "b3f1118a-4077-47ad-a74b-716669f57edd"
   },
   "outputs": [
    {
     "ename": "NameError",
     "evalue": "name 'POS_CASH_balance' is not defined",
     "output_type": "error",
     "traceback": [
      "\u001b[0;31m---------------------------------------------------------------------------\u001b[0m",
      "\u001b[0;31mNameError\u001b[0m                                 Traceback (most recent call last)",
      "Cell \u001b[0;32mIn[14], line 4\u001b[0m\n\u001b[1;32m      1\u001b[0m \u001b[38;5;66;03m# --------------------\u001b[39;00m\n\u001b[1;32m      2\u001b[0m \u001b[38;5;66;03m# Column description\u001b[39;00m\n\u001b[1;32m      3\u001b[0m \u001b[38;5;66;03m# --------------------\u001b[39;00m\n\u001b[0;32m----> 4\u001b[0m info_POS_CASH \u001b[38;5;241m=\u001b[39m tools_dataframe\u001b[38;5;241m.\u001b[39mcomplet_description(\u001b[43mPOS_CASH_balance\u001b[49m)\n\u001b[1;32m      5\u001b[0m info_POS_CASH\n",
      "\u001b[0;31mNameError\u001b[0m: name 'POS_CASH_balance' is not defined"
     ]
    }
   ],
   "source": [
    "# --------------------\n",
    "# Column description\n",
    "# --------------------\n",
    "info_POS_CASH = tools_dataframe.complet_description(POS_CASH_balance)\n",
    "info_POS_CASH"
   ]
  },
  {
   "cell_type": "code",
   "execution_count": null,
   "id": "875fe5e0-9b6b-4147-b8ae-1723ed45091c",
   "metadata": {},
   "outputs": [],
   "source": [
    "# Visualization data types\n",
    "tools_dataframe.visu_dataTypes(info_POS_CASH)"
   ]
  },
  {
   "cell_type": "code",
   "execution_count": null,
   "id": "3aef36c1-78b4-4a8e-a0d7-c83f22bff6eb",
   "metadata": {},
   "outputs": [],
   "source": [
    "# Visualization column filling\n",
    "tools_dataframe.column_filling_visu(info_POS_CASH)"
   ]
  },
  {
   "cell_type": "markdown",
   "id": "ec193d02-f7b1-4466-a994-f2eaeebd7c2c",
   "metadata": {},
   "source": [
    "**Observations and Conclusions**\n",
    "\n",
    "<ol><li>This table contains around 10M datapoints, where each row corresponds to the monthly snapshot of the status of the previous POS and Cash Loan that the client had with Home Credit Group. It consists of 8 columns, two of which are SK_ID_CURR and SK_ID_PREV.</li>\n",
    "    <li>There are 936k unique previous loan IDs in the table, which correspond to 337k unique current applicants (SK_ID_CURR).</li>\n",
    "    <li>Out of these 337k SK_ID_CURR, 289k belong to training set and 47.8k belong to test set.</li></ol>\n",
    "\n",
    "<ol><li>There are only 2 columns which contain NaN values of the 8 columns from POS_CASH_balance. These columns are the Counts of Installments remaining and the term of the loan.</li>\n",
    "    <li>These columns also contain very minimal proportion of NaN values, i.e only 0.26%%, so it is also not of much concern.</li></ol>"
   ]
  },
  {
   "cell_type": "markdown",
   "id": "e59db644-3e4f-4579-9582-88102daa2d08",
   "metadata": {},
   "source": [
    "<b>Merging the TARGETS from application_train to POS_CASH_balance table.</b>"
   ]
  },
  {
   "cell_type": "code",
   "execution_count": null,
   "id": "7a9fc0c8-d81e-46ce-a3ef-de53538016a0",
   "metadata": {
    "ExecuteTime": {
     "end_time": "2020-10-28T12:35:15.269366Z",
     "start_time": "2020-10-28T12:35:10.302366Z"
    }
   },
   "outputs": [],
   "source": [
    "print(\"Merging TARGET with POS_CASH_balance Table\")\n",
    "pos_cash_merged = application_train.iloc[:, :2].merge(POS_CASH_balance,\n",
    "                                                      on='SK_ID_CURR',\n",
    "                                                      how='left')"
   ]
  },
  {
   "cell_type": "markdown",
   "id": "3fd51828-824b-4414-918a-3c6919ba439d",
   "metadata": {},
   "source": [
    "<a id='POS_CASH_balance_plot_conti_vari'></a>\n",
    "\n",
    "---\n",
    "### <span style='background:#0075bc'><span style='color:white'>Plotting continous variables</span></span>"
   ]
  },
  {
   "cell_type": "markdown",
   "id": "7c77d229-c0d0-45a9-a12b-04ba71576bce",
   "metadata": {},
   "source": [
    "Firstly we will group by the 'SK_ID_PREV' field and aggregate with mean, so that we get an averaged row for each of the previous loan that the client had."
   ]
  },
  {
   "cell_type": "code",
   "execution_count": null,
   "id": "a918aafe-de9a-4352-a1bb-1c44b4bb0991",
   "metadata": {
    "ExecuteTime": {
     "end_time": "2020-10-07T23:14:53.300151Z",
     "start_time": "2020-10-07T23:14:51.982676Z"
    },
    "tags": []
   },
   "outputs": [],
   "source": [
    "pos_cash_merged_conti = pos_cash_merged.select_dtypes(exclude=['object'])\\\n",
    "                        .groupby('SK_ID_PREV').mean()"
   ]
  },
  {
   "cell_type": "markdown",
   "id": "3c9656a1-97a8-4a9d-a469-ed7d4faaff9b",
   "metadata": {},
   "source": [
    "<b><u>Distribution of Continuous Vairable CNT_INSTALMENT_FUTURE</u></b>\n",
    "\n",
    "This column describes the number of installments left to pay on the previous credit."
   ]
  },
  {
   "cell_type": "code",
   "execution_count": null,
   "id": "e35d490e-8652-4e26-8bdf-f076919e04b4",
   "metadata": {
    "ExecuteTime": {
     "end_time": "2020-10-07T23:15:02.688035Z",
     "start_time": "2020-10-07T23:14:53.302147Z"
    }
   },
   "outputs": [],
   "source": [
    "\n",
    "EDA_kernel_kaggle.plot_continuous_variables(pos_cash_merged_conti,\n",
    "                                            'CNT_INSTALMENT_FUTURE',\n",
    "                                            plots=['box'], figsize=(8, 8))"
   ]
  },
  {
   "cell_type": "markdown",
   "id": "fe338f0f-e54b-470c-8f69-0dd91f0dbc10",
   "metadata": {},
   "source": [
    "**Observations and Conclusions**\n",
    "\n",
    "Looking at the above box-plot for CNT_INSTALMENT_FUTURE, we see that the percentile values>50% for Defaulters are usually higher than those of Non-Defaulters. Even the upper limit whisker for Defaulters is higher than that of Non-Defaulters. This suggests that the Defaulters tend to have more number of Installments remaining on their previous credits as compared to Non-Defaulters."
   ]
  },
  {
   "cell_type": "markdown",
   "id": "e7a4b00e-37fc-4663-9116-49e9536ed7da",
   "metadata": {},
   "source": [
    "<a id='POS_CASH_balance_correlation_matrix'></a>\n",
    "\n",
    "---\n",
    "### <span style='background:#0075bc'><span style='color:white'>Correlation matrix</span></span>"
   ]
  },
  {
   "cell_type": "code",
   "execution_count": null,
   "id": "524d2cc6-70e9-4e63-ad7a-e811db3d53f8",
   "metadata": {
    "ExecuteTime": {
     "end_time": "2020-10-28T12:35:16.870048Z",
     "start_time": "2020-10-28T12:35:15.271326Z"
    }
   },
   "outputs": [],
   "source": [
    "cols_to_drop = pos_cash_merged_conti.select_dtypes(include=['int64', 'object'])\\\n",
    "                .columns.tolist()\n",
    "corr_mat = EDA_kernel_kaggle.correlation_matrix(pos_cash_merged_conti,\n",
    "                                                cols_to_drop,\n",
    "                                                figsize=(7, 6))\n",
    "corr_mat.plot_correlation_matrix()"
   ]
  },
  {
   "cell_type": "code",
   "execution_count": 15,
   "id": "b27fc8a8-fbe8-436b-987c-8b89d33441a9",
   "metadata": {
    "ExecuteTime": {
     "end_time": "2020-10-27T12:52:37.045007Z",
     "start_time": "2020-10-27T12:52:37.036086Z"
    }
   },
   "outputs": [
    {
     "ename": "NameError",
     "evalue": "name 'corr_mat' is not defined",
     "output_type": "error",
     "traceback": [
      "\u001b[0;31m---------------------------------------------------------------------------\u001b[0m",
      "\u001b[0;31mNameError\u001b[0m                                 Traceback (most recent call last)",
      "Cell \u001b[0;32mIn[15], line 3\u001b[0m\n\u001b[1;32m      1\u001b[0m \u001b[38;5;66;03m# Seeing the top columns with highest phik-correlation with\u001b[39;00m\n\u001b[1;32m      2\u001b[0m \u001b[38;5;66;03m# the target variable in POS_CASH_balance table\u001b[39;00m\n\u001b[0;32m----> 3\u001b[0m top_corr_target_df \u001b[38;5;241m=\u001b[39m \u001b[43mcorr_mat\u001b[49m\u001b[38;5;241m.\u001b[39mtarget_top_corr()\n\u001b[1;32m      4\u001b[0m \u001b[38;5;28mprint\u001b[39m(\u001b[38;5;124m\"\u001b[39m\u001b[38;5;124m-\u001b[39m\u001b[38;5;124m\"\u001b[39m \u001b[38;5;241m*\u001b[39m \u001b[38;5;241m100\u001b[39m)\n\u001b[1;32m      5\u001b[0m \u001b[38;5;28mprint\u001b[39m(\u001b[38;5;124m\"\u001b[39m\u001b[38;5;124mColumns with highest values of Phik-correlation with\u001b[39m\u001b[38;5;124m\"\u001b[39m\n\u001b[1;32m      6\u001b[0m       \u001b[38;5;124m\"\u001b[39m\u001b[38;5;124mTarget Variable are:\u001b[39m\u001b[38;5;124m\"\u001b[39m)\n",
      "\u001b[0;31mNameError\u001b[0m: name 'corr_mat' is not defined"
     ]
    }
   ],
   "source": [
    "# Seeing the top columns with highest phik-correlation with\n",
    "# the target variable in POS_CASH_balance table\n",
    "top_corr_target_df = corr_mat.target_top_corr()\n",
    "print(\"-\" * 100)\n",
    "print(\"Columns with highest values of Phik-correlation with\"\n",
    "      \"Target Variable are:\")\n",
    "display(top_corr_target_df)"
   ]
  },
  {
   "cell_type": "markdown",
   "id": "33e1a096-e4fd-4275-b87f-dbe9b3727b87",
   "metadata": {
    "jp-MarkdownHeadingCollapsed": true,
    "tags": []
   },
   "source": [
    "**Observations and Conclusions:**\n",
    "\n",
    "<ol>\n",
    "    <li>The above heatmap shows the correlation between the fetures</li>\n",
    "    <li>From the heatmap of correlation matrix, we one set of moderately correlated features, which are: CNT_INSTALMENT and CNT_INSTALMENT_FUTURE.</li>\n",
    "    <li>The correlation of features with Target is very low, this shows the absence of a linear relationship between the feature and the target variable.</li></ol>"
   ]
  },
  {
   "cell_type": "code",
   "execution_count": null,
   "id": "a55fca62-678e-46de-b5ab-b54781255ebf",
   "metadata": {},
   "outputs": [],
   "source": [
    "del pos_cash_merged"
   ]
  },
  {
   "cell_type": "markdown",
   "id": "2fe98986-e5a4-4526-90a9-a1682f6199d7",
   "metadata": {
    "id": "UjzpPUhyDxT8",
    "tags": []
   },
   "source": [
    "<a id='installments_payments_dataset'></a>\n",
    "\n",
    "## <span style='background:#0085dd'><span style='color:white'>Dataset installments_payments</span></span>"
   ]
  },
  {
   "cell_type": "markdown",
   "id": "28a7e745-2aa1-41c1-bdd0-55be84325295",
   "metadata": {},
   "source": [
    "* Repayment history for the previously disbursed credits in Home Credit related to the loans in our sample.\n",
    "* There is \n",
    "    * a) one row for every payment that was made\n",
    "    * b) one row each for missed payment.\n",
    "* One row is equivalent to one payment of one installment OR one installment corresponding to one payment of one previous Home Credit credit related to loans in our sample."
   ]
  },
  {
   "cell_type": "code",
   "execution_count": null,
   "id": "d9255b00-28ce-44f1-aa89-8656961f3234",
   "metadata": {
    "colab": {
     "base_uri": "https://localhost:8080/",
     "height": 178
    },
    "id": "Fle1NTmG6cRn",
    "outputId": "16388b37-99ec-498d-bb08-2f30f11916b9"
   },
   "outputs": [],
   "source": [
    "# -------------------------------\n",
    "# File upload: installments_payments\n",
    "# -------------------------------\n",
    "# linked by 'SK_ID_PREV' to previous_application\n",
    "installments_payments = pd.read_csv('installments_payments.csv',\n",
    "                                    low_memory=False, encoding='utf-8')\n",
    "installments_payments.name = 'installments_payments'\n",
    "\n",
    "# --------------\n",
    "# Dataset size\n",
    "# --------------\n",
    "print(\"The dataset 'installments_payments.csv' contains \" +\n",
    "      str(installments_payments.shape[0]) + \" rows and \" +\n",
    "      str(installments_payments.shape[1]) + \" columns.\\n\")\n",
    "\n",
    "# ---------------\n",
    "# Data overview\n",
    "# ---------------\n",
    "installments_payments.head(3)"
   ]
  },
  {
   "cell_type": "code",
   "execution_count": null,
   "id": "3f91e717-b550-4360-86d4-4421705cee31",
   "metadata": {},
   "outputs": [],
   "source": [
    "# Columns name description\n",
    "HomeCredit_columns.loc[HomeCredit_columns[\"Table\"] ==\n",
    "                       \"installments_payments.csv\"].style.hide(axis=0)"
   ]
  },
  {
   "cell_type": "code",
   "execution_count": 16,
   "id": "8dc66828-0703-4beb-a729-5dade1cf62de",
   "metadata": {
    "colab": {
     "base_uri": "https://localhost:8080/",
     "height": 288
    },
    "id": "JysQFtqdvzUE",
    "outputId": "b3f1118a-4077-47ad-a74b-716669f57edd"
   },
   "outputs": [
    {
     "ename": "NameError",
     "evalue": "name 'installments_payments' is not defined",
     "output_type": "error",
     "traceback": [
      "\u001b[0;31m---------------------------------------------------------------------------\u001b[0m",
      "\u001b[0;31mNameError\u001b[0m                                 Traceback (most recent call last)",
      "Cell \u001b[0;32mIn[16], line 4\u001b[0m\n\u001b[1;32m      1\u001b[0m \u001b[38;5;66;03m# --------------------\u001b[39;00m\n\u001b[1;32m      2\u001b[0m \u001b[38;5;66;03m# Column description\u001b[39;00m\n\u001b[1;32m      3\u001b[0m \u001b[38;5;66;03m# --------------------\u001b[39;00m\n\u001b[0;32m----> 4\u001b[0m info_install_paym \u001b[38;5;241m=\u001b[39m tools_dataframe\u001b[38;5;241m.\u001b[39mcomplet_description(\u001b[43minstallments_payments\u001b[49m)\n\u001b[1;32m      5\u001b[0m info_install_paym\n",
      "\u001b[0;31mNameError\u001b[0m: name 'installments_payments' is not defined"
     ]
    }
   ],
   "source": [
    "# --------------------\n",
    "# Column description\n",
    "# --------------------\n",
    "info_install_paym = tools_dataframe.complet_description(installments_payments)\n",
    "info_install_paym"
   ]
  },
  {
   "cell_type": "code",
   "execution_count": null,
   "id": "a7932c66-8fc8-4c93-b3d0-5414733619d4",
   "metadata": {},
   "outputs": [],
   "source": [
    "# Visualization data types\n",
    "tools_dataframe.visu_dataTypes(info_install_paym)"
   ]
  },
  {
   "cell_type": "code",
   "execution_count": null,
   "id": "ca4d124e-feef-4f6f-8434-0e6a965ebbf9",
   "metadata": {},
   "outputs": [],
   "source": [
    "# Visualization column filling\n",
    "tools_dataframe.column_filling_visu(info_install_paym)"
   ]
  },
  {
   "cell_type": "markdown",
   "id": "21796dc5-bd4d-4b03-8f2e-c8b9d834d3c6",
   "metadata": {},
   "source": [
    "**Observations and Conclusions**\n",
    "\n",
    "<ol><li>There are about 13.6M datapoints in the table installments_payments.csv. Each row represents each installment history related to the a particular loan that the client previously had with Home Credit Group.</li>\n",
    "    <li>There are 997k unique previous loans in the installments_payments. These belong to 339k unique SK_ID_CURR, which are ID of applicants of current loan.</li>\n",
    "    <li>Out of these 339k SK_ID_CURR, 291k belong to the training dataset, and 47.9k belong to the test dataset. This implies that almost out of 307k unique SK_ID_CURR in application_train, 291k previously had some form of loan with Home Credit. Similarly for 48.7k of those in test dataset, 47.9k had loan previously with Home Credit.</li>\n",
    "    <li>The table has 8 unique features, 6 of which describe the statistics of each installment for previous loan. </li></ol>\n",
    "\n",
    "<ol><li>There are only 2 columns which contain NaN values of the 8 columns from installments_payments.</li>\n",
    "    <li>These columns also contain very minimal proportion of NaN values, i.e only 0.02%, so it is not of much concern.</li></ol>"
   ]
  },
  {
   "cell_type": "markdown",
   "id": "492d8cf1-aa05-43bd-bea3-1994456f1e41",
   "metadata": {},
   "source": [
    "<b>Merging the TARGETS from application_train to installments_payments table.</b>"
   ]
  },
  {
   "cell_type": "code",
   "execution_count": null,
   "id": "b74b7fdf-13c5-416d-8ff6-cfae0a2cfdf8",
   "metadata": {
    "ExecuteTime": {
     "end_time": "2020-10-28T12:34:59.675420Z",
     "start_time": "2020-10-28T12:34:54.423468Z"
    }
   },
   "outputs": [],
   "source": [
    "print(\"Merging TARGET with installments_payments Table\")\n",
    "installments_merged = application_train.iloc[:, :2]\\\n",
    "                            .merge(installments_payments,\n",
    "                                   on='SK_ID_CURR', how='left')"
   ]
  },
  {
   "cell_type": "markdown",
   "id": "79be0fc1-f7dd-4741-9329-220285ae21cc",
   "metadata": {},
   "source": [
    "<b>Merging the TARGETS from application_train to installments_payments table.</b>"
   ]
  },
  {
   "cell_type": "code",
   "execution_count": null,
   "id": "c4c553e3-077c-4147-9847-45f81f0f15fb",
   "metadata": {
    "ExecuteTime": {
     "end_time": "2020-10-28T12:34:59.675420Z",
     "start_time": "2020-10-28T12:34:54.423468Z"
    }
   },
   "outputs": [],
   "source": [
    "print(\"Merging TARGET with installments_payments Table\")\n",
    "installments_merged = application_train.iloc[:, :2]\\\n",
    "                        .merge(installments_payments, on='SK_ID_CURR',\n",
    "                               how='left')"
   ]
  },
  {
   "cell_type": "markdown",
   "id": "6462782b-2dcf-42ad-90e8-6d10bec07188",
   "metadata": {},
   "source": [
    "<a id='installments_payments_plot_conti_vari'></a>\n",
    "\n",
    "---\n",
    "### <span style='background:#0075bc'><span style='color:white'>Plotting continous variables</span></span>"
   ]
  },
  {
   "cell_type": "markdown",
   "id": "e805bcb7-95e7-44fc-b4fd-336fa865b04c",
   "metadata": {},
   "source": [
    "Firstly we will group by the 'SK_ID_PREV' field and aggregate with mean, so that we get an averaged row for each of the previous loan that the client had."
   ]
  },
  {
   "cell_type": "code",
   "execution_count": null,
   "id": "6c4f978a-33b5-40de-a643-20cb9d488f8c",
   "metadata": {
    "ExecuteTime": {
     "end_time": "2020-10-07T23:14:20.332379Z",
     "start_time": "2020-10-07T23:14:18.745326Z"
    }
   },
   "outputs": [],
   "source": [
    "installments_merged = installments_merged.groupby('SK_ID_PREV').mean()"
   ]
  },
  {
   "cell_type": "markdown",
   "id": "9a7ab5c2-bb13-437e-877a-2189d7110cc7",
   "metadata": {},
   "source": [
    "<b><u>Distribution of Continuous Vairable DAYS_INSTALMENT</u></b>\n",
    "\n",
    "This column lists the days when the installment of previous credit was to be paid."
   ]
  },
  {
   "cell_type": "code",
   "execution_count": null,
   "id": "3dc97f99-110c-4e21-b59a-25261f385e4b",
   "metadata": {
    "ExecuteTime": {
     "end_time": "2020-10-07T23:14:30.162055Z",
     "start_time": "2020-10-07T23:14:20.334347Z"
    }
   },
   "outputs": [],
   "source": [
    "EDA_kernel_kaggle.plot_continuous_variables(installments_merged,\n",
    "                                            'DAYS_INSTALMENT',\n",
    "                                            plots=['box'], figsize=(8, 8))"
   ]
  },
  {
   "cell_type": "markdown",
   "id": "94d98e87-97d3-4c55-8536-bf589c0d4f71",
   "metadata": {},
   "source": [
    "<b><u>Distribution of Continuous Vairable DAYS_ENTRY_PAYMENT</u></b>\n",
    "\n",
    "This column lists the days when the installment of previous credit was actually paid."
   ]
  },
  {
   "cell_type": "code",
   "execution_count": null,
   "id": "7c546644-718c-4497-acbe-916ae1c16f9f",
   "metadata": {
    "ExecuteTime": {
     "end_time": "2020-10-07T23:14:39.954855Z",
     "start_time": "2020-10-07T23:14:30.168066Z"
    }
   },
   "outputs": [],
   "source": [
    "EDA_kernel_kaggle.plot_continuous_variables(installments_merged,\n",
    "                                            'DAYS_ENTRY_PAYMENT',\n",
    "                                            plots=['box'], figsize=(8, 8))"
   ]
  },
  {
   "cell_type": "markdown",
   "id": "158d4b6e-0889-41aa-ae60-4cb8adcf1b42",
   "metadata": {},
   "source": [
    "**Observations and Conclusions**\n",
    "\n",
    "From the above two plots, we can see a similar pattern, where the Defaulters tend to have lesser number of days since their last payment, while Non-Defaulters have more number of days since their last payments. All quantiles of Defaulters have more recent days than those of Non-Defaulters. Thus, Non-Defaulters usually have more gap in their payments from the day of application as compared to Defaulters."
   ]
  },
  {
   "cell_type": "markdown",
   "id": "7721f562-7c82-4926-8efe-9044198444ec",
   "metadata": {},
   "source": [
    "<a id='installments_payments_correlation_matrix'></a>\n",
    "\n",
    "---\n",
    "### <span style='background:#0075bc'><span style='color:white'>Correlation matrix</span></span>"
   ]
  },
  {
   "cell_type": "code",
   "execution_count": null,
   "id": "ee36d4b2-d2fa-4c62-bd73-91e7c91f1f23",
   "metadata": {
    "ExecuteTime": {
     "end_time": "2020-10-28T12:35:02.306378Z",
     "start_time": "2020-10-28T12:34:59.677411Z"
    }
   },
   "outputs": [],
   "source": [
    "cols_to_drop = installments_merged.select_dtypes(include=['int64', 'object'])\\\n",
    "                .columns.tolist()\n",
    "corr_mat = EDA_kernel_kaggle.correlation_matrix(installments_merged,\n",
    "                                                cols_to_drop,\n",
    "                                                figsize=(8, 7))\n",
    "corr_mat.plot_correlation_matrix()"
   ]
  },
  {
   "cell_type": "code",
   "execution_count": 17,
   "id": "30830e12-7612-4800-bdd2-14cd8d9d5064",
   "metadata": {
    "ExecuteTime": {
     "end_time": "2020-10-27T12:50:58.119830Z",
     "start_time": "2020-10-27T12:50:58.110810Z"
    }
   },
   "outputs": [
    {
     "ename": "NameError",
     "evalue": "name 'corr_mat' is not defined",
     "output_type": "error",
     "traceback": [
      "\u001b[0;31m---------------------------------------------------------------------------\u001b[0m",
      "\u001b[0;31mNameError\u001b[0m                                 Traceback (most recent call last)",
      "Cell \u001b[0;32mIn[17], line 3\u001b[0m\n\u001b[1;32m      1\u001b[0m \u001b[38;5;66;03m# Seeing the top columns with highest phik-correlation with\u001b[39;00m\n\u001b[1;32m      2\u001b[0m \u001b[38;5;66;03m# the target variable in installments_payments table\u001b[39;00m\n\u001b[0;32m----> 3\u001b[0m top_corr_target_df \u001b[38;5;241m=\u001b[39m \u001b[43mcorr_mat\u001b[49m\u001b[38;5;241m.\u001b[39mtarget_top_corr()\n\u001b[1;32m      4\u001b[0m \u001b[38;5;28mprint\u001b[39m(\u001b[38;5;124m\"\u001b[39m\u001b[38;5;124m-\u001b[39m\u001b[38;5;124m\"\u001b[39m \u001b[38;5;241m*\u001b[39m \u001b[38;5;241m100\u001b[39m)\n\u001b[1;32m      5\u001b[0m \u001b[38;5;28mprint\u001b[39m(\u001b[38;5;124m\"\u001b[39m\u001b[38;5;124mColumns with highest values of Phik-correlation with\u001b[39m\u001b[38;5;124m\"\u001b[39m\n\u001b[1;32m      6\u001b[0m       \u001b[38;5;124m\"\u001b[39m\u001b[38;5;124mTarget Variable are:\u001b[39m\u001b[38;5;124m\"\u001b[39m)\n",
      "\u001b[0;31mNameError\u001b[0m: name 'corr_mat' is not defined"
     ]
    }
   ],
   "source": [
    "# Seeing the top columns with highest phik-correlation with\n",
    "# the target variable in installments_payments table\n",
    "top_corr_target_df = corr_mat.target_top_corr()\n",
    "print(\"-\" * 100)\n",
    "print(\"Columns with highest values of Phik-correlation with\"\n",
    "      \"Target Variable are:\")\n",
    "display(top_corr_target_df)\n",
    "print(\"-\"*100)"
   ]
  },
  {
   "cell_type": "markdown",
   "id": "467ac112-ecfd-4c46-9afc-1b3e8c8995df",
   "metadata": {
    "jp-MarkdownHeadingCollapsed": true,
    "tags": []
   },
   "source": [
    "**Observations and Conclusions:**\n",
    "\n",
    "<ol>\n",
    "    <li>The heatmap above shows the correlation between each feature in installments_payments table with the rest of the features.</li>\n",
    "    <li>From the heatmap of correlation matrix, we see a couple of highly correlated features. These are:\n",
    "        <ul><li>AMT_INSTALMENT and AMT_PAYMENT</li>\n",
    "            <li>DAYS_INSTALMENT and DAYS_ENTRY_PAYMENT</li>\n",
    "        </ul></li>\n",
    "    <li>These two sets of correlated features are understandable, as they are actually the features as to when the installment was due to be paid vs when it was paid and also the amount that was due vs the amount that was paid.</li>\n",
    "    <li>These features will be useful for creating new sets of completely uncorrelated features.</li>\n",
    "    <li>The correlation of features with Target isn't noticeable, this shows the absence of a linear relationship between the feature and the target variable.</li></ol>"
   ]
  },
  {
   "cell_type": "code",
   "execution_count": null,
   "id": "bfa1c6b5-e33b-40a4-9b8e-2a6066949590",
   "metadata": {},
   "outputs": [],
   "source": [
    "del installments_merged"
   ]
  },
  {
   "cell_type": "markdown",
   "id": "5134f4ce-854f-4006-85be-84cd22767a04",
   "metadata": {
    "id": "UjzpPUhyDxT8",
    "tags": []
   },
   "source": [
    "<a id='credit_card_balance_dataset'></a>\n",
    "\n",
    "## <span style='background:#0085dd'><span style='color:white'>Dataset credit_card_balance</span></span>"
   ]
  },
  {
   "cell_type": "markdown",
   "id": "b1bac46f-02f5-4a60-80fa-960b8641d8fb",
   "metadata": {},
   "source": [
    "* Monthly balance snapshots of previous credit cards that the applicant has with Home Credit.\n",
    "* This table has one row for each month of history of every previous credit in Home Credit (consumer credit and cash loans) related to loans in our sample – i.e. the table has (loans in sample\n",
    "    * of relative previous credit cards\n",
    "    * of months where we have some history observable for the previous credit card) rows."
   ]
  },
  {
   "cell_type": "code",
   "execution_count": null,
   "id": "e964fbaa-d558-4beb-8724-dd9e4cb0af5b",
   "metadata": {
    "colab": {
     "base_uri": "https://localhost:8080/",
     "height": 178
    },
    "id": "Fle1NTmG6cRn",
    "outputId": "16388b37-99ec-498d-bb08-2f30f11916b9"
   },
   "outputs": [],
   "source": [
    "# ---------------------------------\n",
    "# File upload: credit_card_balance\n",
    "# ---------------------------------\n",
    "# linked by 'SK_ID_CURR' to application_{train|test}\n",
    "# linked by 'SK_ID_PREV' to previous_application\n",
    "cc_balance = pd.read_csv('credit_card_balance.csv',\n",
    "                         low_memory=False, encoding='utf-8')\n",
    "cc_balance.name = 'cc_balance'\n",
    "\n",
    "# --------------\n",
    "# Dataset size\n",
    "# --------------\n",
    "print(\"The dataset 'credit_card_balance.csv' contains \" +\n",
    "      str(cc_balance.shape[0]) + \" rows and \" +\n",
    "      str(cc_balance.shape[1]) + \" columns.\\n\")\n",
    "\n",
    "# ---------------\n",
    "# Data overview\n",
    "# ---------------\n",
    "cc_balance.head(3)"
   ]
  },
  {
   "cell_type": "code",
   "execution_count": null,
   "id": "dbf68969-92e0-4fd3-a116-0e9ba233eddc",
   "metadata": {},
   "outputs": [],
   "source": [
    "# Columns name description\n",
    "HomeCredit_columns.loc[HomeCredit_columns[\"Table\"] ==\n",
    "                       \"credit_card_balance.csv\"].style.hide(axis=0)"
   ]
  },
  {
   "cell_type": "code",
   "execution_count": 18,
   "id": "8c501c0d-1d4a-46da-b618-063cfba13ac1",
   "metadata": {
    "colab": {
     "base_uri": "https://localhost:8080/",
     "height": 288
    },
    "id": "JysQFtqdvzUE",
    "outputId": "b3f1118a-4077-47ad-a74b-716669f57edd"
   },
   "outputs": [
    {
     "ename": "NameError",
     "evalue": "name 'cc_balance' is not defined",
     "output_type": "error",
     "traceback": [
      "\u001b[0;31m---------------------------------------------------------------------------\u001b[0m",
      "\u001b[0;31mNameError\u001b[0m                                 Traceback (most recent call last)",
      "Cell \u001b[0;32mIn[18], line 4\u001b[0m\n\u001b[1;32m      1\u001b[0m \u001b[38;5;66;03m# --------------------\u001b[39;00m\n\u001b[1;32m      2\u001b[0m \u001b[38;5;66;03m# Column description\u001b[39;00m\n\u001b[1;32m      3\u001b[0m \u001b[38;5;66;03m# --------------------\u001b[39;00m\n\u001b[0;32m----> 4\u001b[0m info_cred_card_balance \u001b[38;5;241m=\u001b[39m tools_dataframe\u001b[38;5;241m.\u001b[39mcomplet_description(\u001b[43mcc_balance\u001b[49m)\n\u001b[1;32m      5\u001b[0m info_cred_card_balance\n",
      "\u001b[0;31mNameError\u001b[0m: name 'cc_balance' is not defined"
     ]
    }
   ],
   "source": [
    "# --------------------\n",
    "# Column description\n",
    "# --------------------\n",
    "info_cred_card_balance = tools_dataframe.complet_description(cc_balance)\n",
    "info_cred_card_balance"
   ]
  },
  {
   "cell_type": "code",
   "execution_count": null,
   "id": "0c0c6775-4ada-4b47-9b0c-86fbebf9f597",
   "metadata": {},
   "outputs": [],
   "source": [
    "# Visualization data types\n",
    "tools_dataframe.visu_dataTypes(info_cred_card_balance)"
   ]
  },
  {
   "cell_type": "code",
   "execution_count": null,
   "id": "f46038fa-fdad-4a10-8e1a-ddd8012dbef5",
   "metadata": {},
   "outputs": [],
   "source": [
    "# Visualization column filling\n",
    "tools_dataframe.column_filling_visu(info_cred_card_balance)"
   ]
  },
  {
   "cell_type": "markdown",
   "id": "e8c5788e-a20a-4b3a-8895-2d587963e20f",
   "metadata": {
    "jp-MarkdownHeadingCollapsed": true,
    "tags": []
   },
   "source": [
    "**Observations and Conclusions**\n",
    "\n",
    "<ol><li>There are around 3.84M rows in the table credit_card_balance.csv, each of which corresponds to the monthly status of the Credit Card which the applicant had with Home Credit Group. This table contains 23 features which contain the statistics about each month's Credit Card status, such as Balance amount, Amount of Drawings, Number of drawings, status, etc.</li>\n",
    "    <li>There are 104.3k unique Credit Cards whose details are in this table.</li>\n",
    "    <li>Out of these 104.3k there are 103.5k unique SK_ID_CURR. What this means is that most of the applicants had just 1 credit card with them, and only few of them had more than 1. These SK_ID_CURR are the ID of the applicants who have currently applied for loan.</li>\n",
    "    <li>Out of the 103k unique SK_ID_CURR, 86.9k of these applicants belong to the training set, and 16.6k belong to test application set.</li>\n",
    "    <li>Out of 307k applicants in application_train table, only 86.9k of those had a credit card previously with Home Credit Group.\n",
    "\n",
    "<ol><li>Out of the 23 features, 9 of these features contain some NaN values.</li>\n",
    "    <li>If we look at the percentages of NaN values, they are considerably lower than the rest of the tables we have seen so far.</li>\n",
    "    <li>7 of these features have close to 20% NaN values. These features are mostly related to the Amounts of Drawing and Counts of Drawings. Other two of the features are related to the installments statistics.</li></ol>"
   ]
  },
  {
   "cell_type": "markdown",
   "id": "86e72d5b-acde-4e77-ae00-2409af1387d3",
   "metadata": {},
   "source": [
    "<b>Merging the TARGETS from application_train to credit_card_balance table.</b>"
   ]
  },
  {
   "cell_type": "code",
   "execution_count": null,
   "id": "c31082d6-d4b4-4254-8c41-26494a1e4fdd",
   "metadata": {
    "ExecuteTime": {
     "end_time": "2020-10-28T12:35:26.352688Z",
     "start_time": "2020-10-28T12:35:20.114358Z"
    }
   },
   "outputs": [],
   "source": [
    "print(\"Merging TARGET with credit_card_balance Table\")\n",
    "cc_balance_merged = application_train.iloc[:, :2].merge(cc_balance,\n",
    "                                                        on='SK_ID_CURR',\n",
    "                                                        how='left')"
   ]
  },
  {
   "cell_type": "markdown",
   "id": "8ec8aaf1-f301-4bfa-9f1c-ab1080e12915",
   "metadata": {},
   "source": [
    "<a id='cc_balance_plot_conti_vari'></a>\n",
    "\n",
    "---\n",
    "### <span style='background:#0075bc'><span style='color:white'>Plotting continous variables</span></span>"
   ]
  },
  {
   "cell_type": "markdown",
   "id": "ccc9a3a0-5c0e-4e74-baf4-cc56ec60a3a4",
   "metadata": {},
   "source": [
    "Firstly we will group by the 'SK_ID_PREV' field and aggregate with mean, so that we get an averaged row for each of the previous loan that the client had."
   ]
  },
  {
   "cell_type": "code",
   "execution_count": null,
   "id": "d3105746-33b7-4c30-a357-9e5abad1d32d",
   "metadata": {
    "ExecuteTime": {
     "end_time": "2020-10-07T23:15:22.216493Z",
     "start_time": "2020-10-07T23:15:21.481989Z"
    },
    "tags": []
   },
   "outputs": [],
   "source": [
    "cc_balance_merged_conti = cc_balance_merged.select_dtypes(exclude=['object'])\\\n",
    "                            .groupby('SK_ID_PREV').mean()"
   ]
  },
  {
   "cell_type": "markdown",
   "id": "c1964131-557d-492f-8c01-2d56c90ddf4a",
   "metadata": {},
   "source": [
    "<b><u>Distribution of Continuous Vairable AMT_BALANCE</u></b>\n",
    "\n",
    "This column provided the average amount of balance that a person usually had on his credit card loan account for previous loan."
   ]
  },
  {
   "cell_type": "code",
   "execution_count": null,
   "id": "e6a92a14-cec5-4945-aa55-7dd58ab0fa1c",
   "metadata": {
    "ExecuteTime": {
     "end_time": "2020-10-07T23:15:23.381342Z",
     "start_time": "2020-10-07T23:15:22.217455Z"
    }
   },
   "outputs": [],
   "source": [
    "EDA_kernel_kaggle.plot_continuous_variables(cc_balance_merged_conti,\n",
    "                                            'AMT_BALANCE',\n",
    "                                            plots=['box'], figsize=(8, 8))"
   ]
  },
  {
   "cell_type": "markdown",
   "id": "350e6e8d-02f2-48d3-a39f-710a0a865698",
   "metadata": {},
   "source": [
    "**Observations and Conclusions**\n",
    "\n",
    "* From the above plot, it can be seen that the Defaulters have a higher value of AMT_BALANCE as compared to Non-Defaulters. They show a higher values of all the quantiles and even the whiskers. This could imply that the Credit amount for Defaulters could also be relatively higher as compared to Non-Defaulters.\n",
    "* We see that the Defaulters here too appeared to have a higher minimum installment each month as compared to Non-Defaulters. This usually tells about the spending and borrowing habbit of the people. The defaulters show a higher spending and borrowing habits as compared to Non-Defaulters."
   ]
  },
  {
   "cell_type": "markdown",
   "id": "f01294d1-c8fd-40c8-8c00-735beb06b005",
   "metadata": {},
   "source": [
    "<b><u>Distribution of Continuous Vairable AMT_TOTAL_RECEIVABLE</u></b>\n",
    "\n",
    "This column describes the average of total amount receivable on the previous credit."
   ]
  },
  {
   "cell_type": "code",
   "execution_count": null,
   "id": "2e63b00e-cd01-4141-86b5-64c6dea3c140",
   "metadata": {
    "ExecuteTime": {
     "end_time": "2020-10-07T23:15:25.009761Z",
     "start_time": "2020-10-07T23:15:23.384333Z"
    }
   },
   "outputs": [],
   "source": [
    "EDA_kernel_kaggle.plot_continuous_variables(cc_balance_merged_conti,\n",
    "                                            'AMT_TOTAL_RECEIVABLE',\n",
    "                                            plots=['violin'],\n",
    "                                            figsize=(8, 8))"
   ]
  },
  {
   "cell_type": "markdown",
   "id": "96657b24-9af9-48ea-8cae-fe65195b101d",
   "metadata": {},
   "source": [
    "**Observations and Conclusions**\n",
    "\n",
    "Looking at the box plot of AMT_TOTAL_RECEIVABLE, we see a similar behavious as seen with other amounts as well, which is that the Defaulters usually had higher Amount Receivable on their previous credit, which may imply the higher amounts of credits that they may have taken. The PDF also shows a very higher peak at lower amounts for Non-Defaulters as compared to Defaulters."
   ]
  },
  {
   "cell_type": "markdown",
   "id": "b8e81fd4-bf0f-48d0-9544-0c7961a3685b",
   "metadata": {},
   "source": [
    "<b><u>Distribution of Continuous Vairable CNT_INSTALMENT_MATURE_CUM</u></b>\n",
    "\n",
    "The column describes about the average number of installments paid on the previous credits."
   ]
  },
  {
   "cell_type": "code",
   "execution_count": null,
   "id": "47f95eb2-b8e9-4ad8-8917-e6c2710bff82",
   "metadata": {
    "ExecuteTime": {
     "end_time": "2020-10-07T23:15:26.127649Z",
     "start_time": "2020-10-07T23:15:25.011719Z"
    }
   },
   "outputs": [],
   "source": [
    "EDA_kernel_kaggle.plot_continuous_variables(cc_balance_merged_conti,\n",
    "                                            'CNT_INSTALMENT_MATURE_CUM',\n",
    "                                            plots=['box'], figsize=(8, 8))"
   ]
  },
  {
   "cell_type": "markdown",
   "id": "5e14a43b-f6b5-4a27-bf77-47e2c5596d1d",
   "metadata": {},
   "source": [
    "**Observations and Conclusions**\n",
    "\n",
    "From the above plot, we see a very interesting behaviour. This plot shows that the Non-Defaulters usually had higher range of values for the number of installments paid as compared to Defaulters. This might show the defaulting behaviour, where in the defaulters usually would pay fewer number of installments on their previous credit."
   ]
  },
  {
   "cell_type": "markdown",
   "id": "c3675105-a171-44ee-b273-30087a798e52",
   "metadata": {},
   "source": [
    "<a id='credit_card_balance_correlation_matrix'></a>\n",
    "\n",
    "---\n",
    "### <span style='background:#0075bc'><span style='color:white'>Correlation matrix</span></span>"
   ]
  },
  {
   "cell_type": "code",
   "execution_count": null,
   "id": "30472314-56b0-4875-b8a8-7102178ec85b",
   "metadata": {
    "ExecuteTime": {
     "end_time": "2020-10-28T12:35:32.246893Z",
     "start_time": "2020-10-28T12:35:26.354658Z"
    }
   },
   "outputs": [],
   "source": [
    "cols_to_drop = cc_balance_merged.select_dtypes(include=['int64', 'object'])\\\n",
    "                .columns.tolist()\n",
    "\n",
    "corr_mat = EDA_kernel_kaggle.correlation_matrix(cc_balance_merged,\n",
    "                                                cols_to_drop,\n",
    "                                                figsize=(13, 11))\n",
    "corr_mat.plot_correlation_matrix()"
   ]
  },
  {
   "cell_type": "code",
   "execution_count": null,
   "id": "c3e2c92e-833c-4d66-90e1-c34256b152ca",
   "metadata": {
    "ExecuteTime": {
     "end_time": "2020-10-27T12:55:08.880061Z",
     "start_time": "2020-10-27T12:55:08.870367Z"
    }
   },
   "outputs": [],
   "source": [
    "# Seeing the top columns with highest phik-correlation\n",
    "# with the target variable in credit_card_balance table\n",
    "top_corr_target_df = corr_mat.target_top_corr()\n",
    "print(\"-\" * 100)\n",
    "print(\"Columns with highest values of Phik-correlation with\"\n",
    "      \"Target Variable are:\")\n",
    "display(top_corr_target_df)"
   ]
  },
  {
   "cell_type": "markdown",
   "id": "cb5fbfe6-18c4-4074-b0bd-af4babbe20c2",
   "metadata": {},
   "source": [
    "**Observations and Conclusions:**\n",
    "\n",
    "<ol>\n",
    "    <li>The heatmap above shows visually the correlation among features in credit_card_balance table.</li>\n",
    "    <li>From the heatmap of correlation matrix, we see a few couples of highly correlated features. These are:\n",
    "        <ul><li>AMT_RECEIVABLE_PRINCIPLE, AMT_RECIVABLE, AMT_TOTAL_RECEIVABLE and AMT_BALANCE</li>\n",
    "            <li>We also observe high correlation between these 3 AMT_RECEIVABLE columns</li>\n",
    "            <li>AMT_PAYMENT_TOTAL_CURRENT and AMT_PAYMENT_CURRENT</li>\n",
    "        </ul></li>\n",
    "    <li>The sets of 2nd and 3rd correlating features are understandable because they more or less the same tale.</li>\n",
    "    <li>The correlation of features with Target isn't noticeable, this shows the absence of a linear relationship between the feature and the target variable.</li></ol>"
   ]
  },
  {
   "cell_type": "markdown",
   "id": "a2e86372-aead-4d3b-bdcc-852b7a42c85a",
   "metadata": {
    "id": "2f3cf119-1479-4a49-b958-bb22d513aa1f",
    "tags": [],
    "toc-hr-collapsed": true
   },
   "source": [
    "<a id='conclusions_EDA'></a>\n",
    "\n",
    "---\n",
    "---\n",
    "\n",
    "# <span style='background:#2994ff'><span style='color:white'>**Conclusions from EDA** </span></span>\n"
   ]
  },
  {
   "cell_type": "markdown",
   "id": "0c78243e-80fc-4c89-a211-443c8295f865",
   "metadata": {},
   "source": [
    "From the Exhaustive Exporatory Data Analysis that we performed, we can draw some high level conclusions of our given dataset.\n",
    "* Firstly, the whole dataset will need to be merged together with some ingenious way for the merged data to make sense.\n",
    "* All datasets present an important quantity of missing values.\n",
    "* It is imperative to use smart ways of handling missing values as most of the machine learning algorithms cannot inherently handle them, except for Boosting Models, i.e. XGBoost and LightGBM, which treat the NaNs as a separate category.\n",
    "* Some categories are very well discriminatory between the Defaulters and Non-Defaulters, which could be important for the purpose of classification.\n",
    "* There are few Continuous Numerical Variables which contain Erroneous points, we would have to handle those points.\n",
    "* We also noticed some correlated features, which would just be increasing the dimensionality of data, and not add much value. We would want to remove such features.\n",
    "* Overall the dataset is Imbalanced, and we would need to come up with techniques to handle such imbalance.\n",
    "* For Default Risk prediction, the Defaulters usually tend to have some behaviour which is not normal, and thus, we cannot remove outliers or far-off points, as they may suggest some important Defaulting tendency.\n",
    "* With all these insights, we will move to Data Cleaning and Feature Engineering task."
   ]
  }
 ],
 "metadata": {
  "kernelspec": {
   "display_name": "venvP7",
   "language": "python",
   "name": "venvp7"
  },
  "language_info": {
   "codemirror_mode": {
    "name": "ipython",
    "version": 3
   },
   "file_extension": ".py",
   "mimetype": "text/x-python",
   "name": "python",
   "nbconvert_exporter": "python",
   "pygments_lexer": "ipython3",
   "version": "3.10.6"
  },
  "toc-autonumbering": true
 },
 "nbformat": 4,
 "nbformat_minor": 5
}
